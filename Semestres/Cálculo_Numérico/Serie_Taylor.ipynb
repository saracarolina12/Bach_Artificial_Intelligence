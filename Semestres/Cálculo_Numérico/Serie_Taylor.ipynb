{
 "cells": [
  {
   "cell_type": "markdown",
   "metadata": {},
   "source": [
    "### Serie de Taylor"
   ]
  },
  {
   "cell_type": "code",
   "execution_count": 1,
   "metadata": {},
   "outputs": [],
   "source": [
    "import numpy as np\n",
    "from sympy import * #para derivar\n",
    "from sympy.parsing.sympy_parser import parse_expr"
   ]
  },
  {
   "cell_type": "code",
   "execution_count": 2,
   "metadata": {},
   "outputs": [
    {
     "name": "stdout",
     "output_type": "stream",
     "text": [
      "*Derivatives:\n",
      "   ~ 1/x\n",
      "   ~ -1/x**2\n",
      "   ~ 2/x**3\n",
      "   ~ -6/x**4\n",
      "*Función antes de evaluar:\n",
      "   ~f(x)= -1.0*x**3 - 4.0*x**2 - 6.0*x - 4.0\n",
      "*Evaluando en el punto 2.1\n",
      "   ~f( 2.1 ) = -43.5010000000000\n"
     ]
    }
   ],
   "source": [
    "ecu = \"1/x\"\n",
    "n = 3 #orden de la ecuacion\n",
    "g = -1 #alrededor del punto\n",
    "s = \"\"\n",
    "x_evaluate = 2.1 #punto a evaluar\n",
    "derivative = [parse_expr(ecu)]\n",
    "print(\"*Derivatives:\")\n",
    "for i in range(n+1):\n",
    "    if i > 0:\n",
    "        derivative.append(diff(derivative[i-1], \"x\"))\n",
    "        s += \" + \"\n",
    "    print(\"   ~\",derivative[i])\n",
    "    s += str(N(derivative[i].subs(\"x\", g))) + \"*(x - \" + str(g) + \")**\" + str(i) + \"/(\" + str(i) + \"!)\" #subs: sustituye\n",
    "print(\"*Función antes de evaluar:\\n   ~f(x)=\",collect(expand(parse_expr(s)), \"x\")) #antes de evaluar\n",
    "print(\"*Evaluando en el punto\", x_evaluate)\n",
    "f = expand(parse_expr(s))\n",
    "print(\"   ~f(\",x_evaluate,\") =\", N(f.subs(\"x\",2.1)))"
   ]
  },
  {
   "cell_type": "code",
   "execution_count": null,
   "metadata": {},
   "outputs": [],
   "source": []
  }
 ],
 "metadata": {
  "kernelspec": {
   "display_name": "Python 3",
   "language": "python",
   "name": "python3"
  },
  "language_info": {
   "codemirror_mode": {
    "name": "ipython",
    "version": 3
   },
   "file_extension": ".py",
   "mimetype": "text/x-python",
   "name": "python",
   "nbconvert_exporter": "python",
   "pygments_lexer": "ipython3",
   "version": "3.7.4"
  }
 },
 "nbformat": 4,
 "nbformat_minor": 2
}
