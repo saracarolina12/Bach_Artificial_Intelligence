{
 "cells": [
  {
   "cell_type": "markdown",
   "metadata": {},
   "source": [
    "### Serie de Taylor"
   ]
  },
  {
   "cell_type": "code",
   "execution_count": 57,
   "metadata": {},
   "outputs": [],
   "source": [
    "import numpy as np\n",
    "from sympy import * #para derivar"
   ]
  },
  {
   "cell_type": "code",
   "execution_count": 107,
   "metadata": {},
   "outputs": [
    {
     "name": "stdout",
     "output_type": "stream",
     "text": [
      "*Derivatives:\n",
      "   ~ x**3*log(x)\n",
      "   ~ 3*x**2*log(x) + x**2\n",
      "   ~ 6*x*log(x) + 5*x\n",
      "   ~ 6*log(x) + 11\n",
      "*Función antes de evaluar:\n",
      "   ~f(x)= 2.52648051389328*x**3 - 6.00000000000005*x**2 + 6.00000000000011*x - 2.66666666666671\n",
      "*Evaluando en el punto 2.1\n",
      "   ~f( 2.1 )=  6.87106937249899\n"
     ]
    }
   ],
   "source": [
    "ecu = \"2*(x*x*x) - 4*log()\"\n",
    "n = 2 #orden de la ecuacion\n",
    "g = 1\n",
    "s = \"\"\n",
    "x_evaluate = 2.1\n",
    "derivative = [parse_expr(ecu)]\n",
    "print(\"*Derivatives:\")\n",
    "for i in range(n+1):\n",
    "    if i > 0:\n",
    "        derivative.append(diff(derivative[i-1], \"x\"))\n",
    "        s += \" + \"\n",
    "    print(\"   ~\",d[i])\n",
    "    s += str(N(d[i].subs(x, g))) + \"*(x - \" + str(g) + \")**\" + str(i) + \"/(\" + str(i) + \"!)\" #subs: sustituye\n",
    "print(\"*Función antes de evaluar:\\n   ~f(x)=\",collect(expand(parse_expr(s)), \"x\")) #antes de evaluar\n",
    "print(\"*Evaluando en el punto\", x_evaluate)\n",
    "print(\"   ~f(\",x_evaluate,\")= \", N(f.subs(\"x\",2.1)))"
   ]
  }
 ],
 "metadata": {
  "kernelspec": {
   "display_name": "Python 3",
   "language": "python",
   "name": "python3"
  },
  "language_info": {
   "codemirror_mode": {
    "name": "ipython",
    "version": 3
   },
   "file_extension": ".py",
   "mimetype": "text/x-python",
   "name": "python",
   "nbconvert_exporter": "python",
   "pygments_lexer": "ipython3",
   "version": "3.7.4"
  }
 },
 "nbformat": 4,
 "nbformat_minor": 2
}
