{
 "cells": [
  {
   "cell_type": "markdown",
   "metadata": {},
   "source": [
    "# **Krilov (polinomio característico)**"
   ]
  },
  {
   "cell_type": "code",
   "execution_count": 1,
   "metadata": {},
   "outputs": [],
   "source": [
    "import numpy as np"
   ]
  },
  {
   "cell_type": "markdown",
   "metadata": {},
   "source": [
    "### Input:"
   ]
  },
  {
   "cell_type": "code",
   "execution_count": 3,
   "metadata": {},
   "outputs": [],
   "source": [
    "mat = np.array([[5,-2,0], [-2,3,-1], [0,-1,1]])\n",
    "y = np.array([1,0,0])"
   ]
  },
  {
   "cell_type": "markdown",
   "metadata": {},
   "source": [
    "### Krilov"
   ]
  },
  {
   "cell_type": "code",
   "execution_count": 4,
   "metadata": {
    "scrolled": true
   },
   "outputs": [
    {
     "name": "stdout",
     "output_type": "stream",
     "text": [
      "*Matriz original:\n",
      " [[ 5 -2  0]\n",
      " [-2  3 -1]\n",
      " [ 0 -1  1]] \n",
      "\n",
      "*Vector:\n",
      " [1 1 1]\n",
      "\n",
      "\n",
      "Sistema de ecuaciones:\n",
      " [[ 1  3 15]\n",
      " [ 1  0 -6]\n",
      " [ 1  0  0]]\n",
      "\n",
      "Vector de la ecuación:\n",
      " [ 87 -48   6]\n",
      "\n",
      "\n",
      "\t*Polinomio característico: \n",
      "\t\t m^3 + -9m^2 + 18m + -6\n"
     ]
    }
   ],
   "source": [
    "y = np.ones(3, dtype=int);\n",
    "size = mat.shape[0] #matrix size\n",
    "dos = np.ones([3,3],dtype=int)\n",
    "#dos = np.empty((size,size))\n",
    "if y.size == 0:\n",
    "    y=np.ones(size)\n",
    "dos[0] = y\n",
    "print(\"*Matriz original:\\n\",mat,\"\\n\\n*Vector:\\n\",y)\n",
    "for x in range(1,size):\n",
    "    dos[x]=mat@dos[x-1] #producto escalar\n",
    "trans = np.transpose(dos)\n",
    "prod = mat@dos[size-1]\n",
    "print(\"\\n\\nSistema de ecuaciones:\\n\",trans)\n",
    "print(\"\\nVector de la ecuación:\\n\",prod)\n",
    "x = np.linalg.solve(trans,prod) #resolver sistema de ecuaciones\n",
    "strr = \"m^\"+str(size)\n",
    "print(\"\\n\\n\\t*Polinomio característico: \")\n",
    "for z in np.flip(x):\n",
    "    size-=1\n",
    "    if(size!=1 and size!=0): strr += \" + \" + str(-1*int(z)) + \"m^\" + str(size)\n",
    "    elif(size==1): strr += \" + \" + str(-1*int(z)) + \"m\"\n",
    "    elif(size==0): strr += \" + \" + str(-1*int(z))\n",
    "print(\"\\t\\t\",strr)"
   ]
  },
  {
   "cell_type": "code",
   "execution_count": null,
   "metadata": {},
   "outputs": [],
   "source": []
  }
 ],
 "metadata": {
  "kernelspec": {
   "display_name": "Python 3",
   "language": "python",
   "name": "python3"
  },
  "language_info": {
   "codemirror_mode": {
    "name": "ipython",
    "version": 3
   },
   "file_extension": ".py",
   "mimetype": "text/x-python",
   "name": "python",
   "nbconvert_exporter": "python",
   "pygments_lexer": "ipython3",
   "version": "3.7.4"
  }
 },
 "nbformat": 4,
 "nbformat_minor": 2
}
