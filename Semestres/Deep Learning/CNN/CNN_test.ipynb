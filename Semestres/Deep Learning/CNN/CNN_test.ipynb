{
 "cells": [
  {
   "cell_type": "markdown",
   "metadata": {
    "id": "BrhfWCI1Mfb4"
   },
   "source": [
    "# Red Convolucional"
   ]
  },
  {
   "cell_type": "code",
   "execution_count": 3,
   "metadata": {
    "id": "cyMZUK_cMAgv"
   },
   "outputs": [],
   "source": [
    "import keras\n",
    "import keras.backend as TF"
   ]
  },
  {
   "cell_type": "code",
   "execution_count": 4,
   "metadata": {
    "id": "UBwfV_PuMkex"
   },
   "outputs": [],
   "source": [
    "flt_type = TF.floatx()"
   ]
  },
  {
   "cell_type": "markdown",
   "metadata": {
    "id": "EUGFm3jENEQy"
   },
   "source": [
    "### Dígitos de la DB MNIST"
   ]
  },
  {
   "cell_type": "markdown",
   "metadata": {
    "id": "p3uiV-XkNeoO"
   },
   "source": [
    "\n",
    "\n",
    "1.   Leer datos\n",
    "2.   Normalizar datos\n",
    "3.   Dimensionarlos adecuadamente\n",
    "\n",
    "Las redes convolucionales de 2D, asumen que los inputs son un set de imágenes con tamaño #de renglones x #de columnas, y varios canales que codifican el color. Los daotos entonces tiene que estar en formato de tensor de dimensión 4 de la forma \n",
    "${(\\#datos*\\#renglones*\\#columnas*\\#canales)}$."
   ]
  },
  {
   "cell_type": "markdown",
   "metadata": {
    "id": "XxZywZypPCYo"
   },
   "source": [
    "Es decir ${(alto\\ de\\ imagen,ancho\\ de\\ imagen,canales\\ de\\ imagen)}$. Ya que las imagenes son en escala de grises (1 canal), hay que agregar una dimensión extra al tensor del numero de canales y debe ser =1"
   ]
  },
  {
   "cell_type": "code",
   "execution_count": 5,
   "metadata": {
    "id": "uUUlWfdyM90B"
   },
   "outputs": [
    {
     "name": "stdout",
     "output_type": "stream",
     "text": [
      "Downloading data from https://storage.googleapis.com/tensorflow/tf-keras-datasets/mnist.npz\n",
      "11490434/11490434 [==============================] - 2s 0us/step\n"
     ]
    }
   ],
   "source": [
    "from keras.datasets import mnist\n",
    "from keras.utils import to_categorical\n",
    "\n",
    "(train_images,train_labels),(test_images,test_labels) = mnist.load_data()\n",
    "train_images = train_images.reshape((60000,28,28,1))\n",
    "train_images = train_images.astype(flt_type)/255\n",
    "\n",
    "test_images = test_images.reshape((10000,28,28,1))\n",
    "test_images = test_images.astype(flt_type)/255"
   ]
  },
  {
   "cell_type": "markdown",
   "metadata": {
    "id": "hIoBDBHwQ1mj"
   },
   "source": [
    "Entonces convertimos las etiquetas (labels) con valores enteros a categóricos (variables indicadoras)"
   ]
  },
  {
   "cell_type": "code",
   "execution_count": 6,
   "metadata": {
    "id": "LWDYPG8VPwrD"
   },
   "outputs": [],
   "source": [
    "train_labels = to_categorical(train_labels)\n",
    "test_labels = to_categorical(test_labels)"
   ]
  },
  {
   "cell_type": "markdown",
   "metadata": {
    "id": "k9UvppfIRP2E"
   },
   "source": [
    "### Extracción de características mediante NN convolucional"
   ]
  },
  {
   "cell_type": "markdown",
   "metadata": {
    "id": "f4FnkM7zRXTl"
   },
   "source": [
    "La red propuesta es secuencial, es decir, los datos se procesan por una capa que alimenta a la siguiente hasta llegar a la capa de output. No hay retroalimentación o recurrencias (que la capa de output se regrese a una capa previa).\n",
    "El objetivo de esta red es diseñar filtros para que dados los parches de la imagen de entrada, reproducir el output conocido.\n",
    "Hay que tomar en cuenta que aunque la red está pensada para realizar diferentes tareas (extraer rasgos y clasificar), la red se va a entrenar en su set. "
   ]
  },
  {
   "cell_type": "code",
   "execution_count": 7,
   "metadata": {
    "id": "ARB8HAZVRJzR"
   },
   "outputs": [],
   "source": [
    "from keras import layers\n",
    "from keras import models\n",
    "\n",
    "convNN = models.Sequential()"
   ]
  },
  {
   "cell_type": "markdown",
   "metadata": {
    "id": "l4SdX2RjUQ-h"
   },
   "source": [
    "La primera capa añadida es *Conv2D* con los siguientes parámetros:\n",
    "\n",
    "\n",
    "keras.layers.Conv2D(filters, kernel_size, strides=(1, 1), padding='valid', data_format=None, dilation_rate=(1, 1), activation=None, use_bias=True, kernel_initializer='glorot_uniform', bias_initializer='zeros', kernel_regularizer=None, bias_regularizer=None, activity_regularizer=None, kernel_constraint=None, bias_constraint=None)\n",
    "\n",
    "\n",
    "*   Filters = dimensión del output space (# de filtros de convolución que implementará la capa)\n",
    "*   kernel_size = dimensiones de los filtros ${H^{(i)}}$. Si se da un solo valor, significa que son iguales en todas las dimensiones.\n",
    "*   strides = entero o tupla de dos enteros con el paso de convolusión en cada dimensión\n",
    "*   padding = {\"valid\",\"same\"} indican si el resultado tendrá los mismos renglones y columnas que el input o si la convolución solo se aplica sobre datos válidos (reduce bordes).\n",
    "*   data_format = {\"channels_last\",\"channels_first\"} indica si los datos estan en formato con los canales al inicio o al final.\n",
    "*   dilation_rate = entero o tupla de dos enteros indicando la dilatación de la salida en cada dimensión.\n",
    "*   activation: función de activación.\n",
    "*   use_bias: boolean que indica si se usa vector de sesgo.\n",
    "*   kernel_initializer = método de inicialización de los pesos del filtro (matriz).\n",
    "*   bias_initializer = método de inicialización de los pesos del vector de sesgo.\n",
    "*   kernel_regularizer = método de regularización de los pesos del filtro.\n",
    "*   bias_regularizer = método de regularización de los pesos del vector de sesgo.\n",
    "*   kernel_constraint= restricción sobre los pesos de la matriz kernel (peso de los filtros)\n",
    "*   bias_constraint= restricción de los pesos del vector de sesgo."
   ]
  },
  {
   "cell_type": "markdown",
   "metadata": {
    "id": "oajcvma-W1Ry"
   },
   "source": [
    "El resultado será de la capa de convolución será de 4 canales, ya que se tiene el batch_size, alto de imagen, ancho de imagen y canales de imagen [filtros]). Con esto se espera lo siguiente:\n",
    "\n",
    "\n",
    "*   La información relevante en forma de relaciones espaciales de la imagen de entrada se codifique en forma de respuesta en algunos canales.\n",
    "*   Los pixeles vecinos tengan respuestas similares.\n",
    "*   Las respuestas altas se asocien con filtros entonados a detectar características relevantes.\n",
    "\n",
    "Por eso, para resaltar la información relevante al output de la CNN aplicamos un proceso de *pooling* o agrupado con la capa *MaxPooling2D*:\n",
    "\n",
    "keras.layers.MaxPooling2D(pool_size=(2, 2), strides=None, padding='valid', data_format=None)\n",
    "\n",
    "*   pool_size= entero o tupla indicando las dimensiones de la ventana sobre el que se seleccionará la máxima respuesta\n",
    "*   strides= entero o tupla indicando el paso (default=pool_size)\n",
    "*   padding = {\"valid\",\"same\"} indican si el resultado tendrá los mismos renglones y columnas que el input o si la convolución solo se aplica sobre datos válidos (reduce bordes).\n",
    "*   data_format= {'channels_last'(default),'channels_first'}\n",
    "\n"
   ]
  },
  {
   "cell_type": "code",
   "execution_count": 8,
   "metadata": {
    "id": "oEbpgvD_YWgu"
   },
   "outputs": [],
   "source": [
    "convNN.add(layers.Conv2D(filters=32,kernel_size=(3,3),activation='relu',input_shape=(28,28,1)))\n",
    "convNN.add(layers.MaxPooling2D(pool_size=(2, 2)))\n",
    "convNN.add(layers.Conv2D(filters=64, kernel_size=(3, 3), activation='relu'))\n",
    "convNN.add(layers.MaxPooling2D(pool_size=(2, 2)))\n",
    "convNN.add(layers.Conv2D(filters=64, kernel_size=(3, 3), activation='relu'))"
   ]
  },
  {
   "cell_type": "code",
   "execution_count": 9,
   "metadata": {
    "colab": {
     "base_uri": "https://localhost:8080/"
    },
    "id": "6_lbsLHIZmT4",
    "outputId": "89846314-2278-4b98-851f-4711c07b1991"
   },
   "outputs": [
    {
     "name": "stdout",
     "output_type": "stream",
     "text": [
      "Model: \"sequential\"\n",
      "_________________________________________________________________\n",
      " Layer (type)                Output Shape              Param #   \n",
      "=================================================================\n",
      " conv2d (Conv2D)             (None, 26, 26, 32)        320       \n",
      "                                                                 \n",
      " max_pooling2d (MaxPooling2D  (None, 13, 13, 32)       0         \n",
      " )                                                               \n",
      "                                                                 \n",
      " conv2d_1 (Conv2D)           (None, 11, 11, 64)        18496     \n",
      "                                                                 \n",
      " max_pooling2d_1 (MaxPooling  (None, 5, 5, 64)         0         \n",
      " 2D)                                                             \n",
      "                                                                 \n",
      " conv2d_2 (Conv2D)           (None, 3, 3, 64)          36928     \n",
      "                                                                 \n",
      "=================================================================\n",
      "Total params: 55,744\n",
      "Trainable params: 55,744\n",
      "Non-trainable params: 0\n",
      "_________________________________________________________________\n"
     ]
    }
   ],
   "source": [
    "convNN.summary()"
   ]
  },
  {
   "cell_type": "markdown",
   "metadata": {
    "id": "PBo3f8oaarO5"
   },
   "source": [
    "La estrategia es transformar la información espacial en detección (respuesta) de filtros. Por lo que las dimensiones del tensor que se procesa se estrechan espacialmente a la vez que se agregan filtros.\n",
    "La respuesta de la última capa se puede entender como las características extraidas del vector de entrada.\n",
    "La siguiente etapa es alimentar, con las características extraidas, una red multicapa para realizar la clasificación."
   ]
  },
  {
   "cell_type": "markdown",
   "metadata": {
    "id": "yww9DtoabIBf"
   },
   "source": [
    "### Clasificación mediante una red multicapa"
   ]
  },
  {
   "cell_type": "markdown",
   "metadata": {
    "id": "3Yamp9vmbxmc"
   },
   "source": [
    "\n",
    "\n",
    "1.   Pasar el tensor de rasgos calculada por la etapa previa a un vector unidimensional. Esto se hace con la capa *Flatten*, cuya definición se da por \n",
    "keras.layers.Flatten(data_format=None) no requiere parámetros.\n",
    "\n"
   ]
  },
  {
   "cell_type": "code",
   "execution_count": null,
   "metadata": {
    "id": "y2YmCf4Wahw1"
   },
   "outputs": [],
   "source": [
    "convNN.add(layers.Flatten())"
   ]
  },
  {
   "cell_type": "markdown",
   "metadata": {
    "id": "q_dXiPYcdqEk"
   },
   "source": [
    "2. Agregamos una red similar con arquitectura similar a la que usamos para clasificar los dígitos del dataset. Esta etapa se compone con dos capas *Dense*, y la de salida es un vector de dimensión 10. En la primera capa oculta pondremos menos neuronas, pues los rasgos relevantes se han conservado y la información no relevante se deshecha."
   ]
  },
  {
   "cell_type": "code",
   "execution_count": null,
   "metadata": {
    "id": "fk9Idv--dnQx"
   },
   "outputs": [],
   "source": [
    "convNN.add(layers.Dense(units=64, activation='relu'))\n",
    "convNN.add(layers.Dense(units=10, activation='softmax'))"
   ]
  },
  {
   "cell_type": "code",
   "execution_count": null,
   "metadata": {
    "colab": {
     "base_uri": "https://localhost:8080/"
    },
    "id": "GVDe9X2seSzW",
    "outputId": "db82da38-f4a4-4f55-a781-0732331927ea"
   },
   "outputs": [
    {
     "name": "stdout",
     "output_type": "stream",
     "text": [
      "Model: \"sequential_1\"\n",
      "_________________________________________________________________\n",
      " Layer (type)                Output Shape              Param #   \n",
      "=================================================================\n",
      " conv2d_6 (Conv2D)           (None, 26, 26, 32)        320       \n",
      "                                                                 \n",
      " max_pooling2d_10 (MaxPoolin  (None, 13, 13, 32)       0         \n",
      " g2D)                                                            \n",
      "                                                                 \n",
      " conv2d_7 (Conv2D)           (None, 11, 11, 64)        18496     \n",
      "                                                                 \n",
      " max_pooling2d_11 (MaxPoolin  (None, 5, 5, 64)         0         \n",
      " g2D)                                                            \n",
      "                                                                 \n",
      " conv2d_8 (Conv2D)           (None, 3, 3, 64)          36928     \n",
      "                                                                 \n",
      " flatten (Flatten)           (None, 576)               0         \n",
      "                                                                 \n",
      " dense (Dense)               (None, 64)                36928     \n",
      "                                                                 \n",
      " dense_1 (Dense)             (None, 10)                650       \n",
      "                                                                 \n",
      "=================================================================\n",
      "Total params: 93,322\n",
      "Trainable params: 93,322\n",
      "Non-trainable params: 0\n",
      "_________________________________________________________________\n"
     ]
    }
   ],
   "source": [
    "convNN.summary()"
   ]
  },
  {
   "cell_type": "markdown",
   "metadata": {
    "id": "pfD3RBTyeit7"
   },
   "source": [
    "El número de parámetros totales a entrenar es menor a la red multicapa. \n",
    "Entonces compilamos en modelo (definimos los parámetros de la etapa de entrenamiento)."
   ]
  },
  {
   "cell_type": "code",
   "execution_count": null,
   "metadata": {
    "id": "oq2EV8fleUPV"
   },
   "outputs": [],
   "source": [
    "convNN.compile(optimizer='rmsprop',loss='categorical_crossentropy',metrics=['accuracy'])"
   ]
  },
  {
   "cell_type": "markdown",
   "metadata": {
    "id": "mqMFrIrIf5Ql"
   },
   "source": [
    "Y procedemos a entrenar."
   ]
  },
  {
   "cell_type": "code",
   "execution_count": null,
   "metadata": {
    "colab": {
     "base_uri": "https://localhost:8080/"
    },
    "id": "rITpZ4Fqf3SV",
    "outputId": "3146dd79-69b3-4b73-a4f2-80f7d635ad64"
   },
   "outputs": [
    {
     "name": "stdout",
     "output_type": "stream",
     "text": [
      "Epoch 1/5\n",
      "938/938 - 58s - loss: 0.1808 - accuracy: 0.9436 - 58s/epoch - 62ms/step\n",
      "Epoch 2/5\n",
      "938/938 - 61s - loss: 0.0476 - accuracy: 0.9858 - 61s/epoch - 65ms/step\n",
      "Epoch 3/5\n",
      "938/938 - 57s - loss: 0.0339 - accuracy: 0.9891 - 57s/epoch - 60ms/step\n",
      "Epoch 4/5\n",
      "938/938 - 55s - loss: 0.0240 - accuracy: 0.9924 - 55s/epoch - 58ms/step\n",
      "Epoch 5/5\n",
      "938/938 - 55s - loss: 0.0188 - accuracy: 0.9938 - 55s/epoch - 58ms/step\n",
      "seconds= 324.59025955200195\n"
     ]
    }
   ],
   "source": [
    "import time\n",
    "tic = time.time()\n",
    "\n",
    "convNN.fit(x=train_images,\n",
    "           y=train_labels,\n",
    "           epochs=5,\n",
    "           batch_size=64,\n",
    "           verbose=2)\n",
    "\n",
    "print('seconds=',time.time()-tic)"
   ]
  },
  {
   "cell_type": "markdown",
   "metadata": {
    "id": "o-BmNyJ9hoNE"
   },
   "source": [
    "### Evaluación del modelo"
   ]
  },
  {
   "cell_type": "code",
   "execution_count": null,
   "metadata": {
    "colab": {
     "base_uri": "https://localhost:8080/"
    },
    "id": "u-JhtfWAgVVP",
    "outputId": "bee55524-fd3e-4995-871b-868dfd45ed0a"
   },
   "outputs": [
    {
     "name": "stdout",
     "output_type": "stream",
     "text": [
      "313/313 [==============================] - 3s 11ms/step - loss: 0.0253 - accuracy: 0.9927\n",
      "Loss:  0.025305161252617836\n",
      "Accuracy:  0.9926999807357788\n"
     ]
    }
   ],
   "source": [
    "test_loss,test_accuracy = convNN.evaluate(test_images,test_labels)\n",
    "print(\"Loss: \",test_loss)\n",
    "print(\"Accuracy: \",test_accuracy)"
   ]
  },
  {
   "cell_type": "markdown",
   "metadata": {
    "id": "SCB0L9hpiDbm"
   },
   "source": [
    "### Confussion Matrix"
   ]
  },
  {
   "cell_type": "code",
   "execution_count": null,
   "metadata": {
    "colab": {
     "base_uri": "https://localhost:8080/"
    },
    "id": "DBUS_l8jhxmO",
    "outputId": "11b614c2-ec2c-4a0a-ed43-c52d0f035894"
   },
   "outputs": [
    {
     "name": "stdout",
     "output_type": "stream",
     "text": [
      "313/313 [==============================] - 4s 11ms/step\n"
     ]
    }
   ],
   "source": [
    "import numpy as np\n",
    "\n",
    "test_predicted_labels = convNN.predict(test_images)\n",
    "test_true_labels = np.argmax(test_labels,axis=1)\n",
    "test_predicted_labels = np.argmax(test_predicted_labels,axis=1)"
   ]
  },
  {
   "cell_type": "code",
   "execution_count": null,
   "metadata": {
    "colab": {
     "base_uri": "https://localhost:8080/",
     "height": 553
    },
    "id": "aglAOuwXiV9O",
    "outputId": "c7a3d926-4c1c-4783-c69f-138beda7de85"
   },
   "outputs": [
    {
     "data": {
      "image/png": "[encoded data removed]",
      "text/plain": [
       "<Figure size 792x648 with 2 Axes>"
      ]
     },
     "metadata": {
      "needs_background": "light"
     },
     "output_type": "display_data"
    }
   ],
   "source": [
    "%matplotlib inline\n",
    "import matplotlib.pyplot as plt\n",
    "from sklearn.metrics import confusion_matrix, precision_score, recall_score \n",
    "from sklearn.metrics import f1_score, cohen_kappa_score\n",
    "import seaborn as sns \n",
    "\n",
    "C = confusion_matrix(test_true_labels,test_predicted_labels)\n",
    "\n",
    "f,ax=plt.subplots(figsize=(11,9))\n",
    "sns.set()\n",
    "cmap = sns.diverging_palette(220, 10, as_cmap=True)\n",
    "ax = sns.heatmap(C, cmap=cmap, square=True,\n",
    "                 annot=True, fmt='d', linewidths=.5)\n",
    "ax.set_title('Matriz de Confusión')\n",
    "plt.show()"
   ]
  },
  {
   "cell_type": "code",
   "execution_count": null,
   "metadata": {
    "id": "TOL_1GrBiyoU"
   },
   "outputs": [],
   "source": []
  }
 ],
 "metadata": {
  "colab": {
   "provenance": []
  },
  "kernelspec": {
   "display_name": "Python 3 (ipykernel)",
   "language": "python",
   "name": "python3"
  },
  "language_info": {
   "codemirror_mode": {
    "name": "ipython",
    "version": 3
   },
   "file_extension": ".py",
   "mimetype": "text/x-python",
   "name": "python",
   "nbconvert_exporter": "python",
   "pygments_lexer": "ipython3",
   "version": "3.9.7"
  }
 },
 "nbformat": 4,
 "nbformat_minor": 1
}
