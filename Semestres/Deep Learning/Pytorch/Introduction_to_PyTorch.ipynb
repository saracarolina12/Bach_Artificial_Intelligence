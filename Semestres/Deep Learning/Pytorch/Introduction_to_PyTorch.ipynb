{
  "cells": [
    {
      "cell_type": "markdown",
      "metadata": {
        "id": "6LnqhWORMEOK"
      },
      "source": [
        "# Tutorial 1: Introduction to PyTorch\n"
      ]
    },
    {
      "cell_type": "markdown",
      "metadata": {
        "id": "z-zIKExuMEOO"
      },
      "source": [
        "Welcome to our PyTorch tutorial for the Deep Learning course 2023 at the Universidad Panamericana! The following notebook is meant to give a short introduction to PyTorch basics, and get you setup for writing your own neural networks. PyTorch is an open source machine learning framework that allows you to write your own neural networks and optimize them efficiently. However, PyTorch is not the only framework of its kind. Alternatives to PyTorch include [TensorFlow](https://www.tensorflow.org/), [JAX](https://github.com/google/jax#quickstart-colab-in-the-cloud) and [Caffe](http://caffe.berkeleyvision.org/). We choose to teach PyTorch at the UP because it is well established, has a huge developer community (originally developed by Facebook), is very flexible and especially used in research. Many current papers publish their code in PyTorch, and thus it is good to be familiar with PyTorch as well. \n",
        "Meanwhile, TensorFlow (developed by Google) is usually known for being a production-grade deep learning library. Still, if you know one machine learning framework in depth, it is very easy to learn another one because many of them use the same concepts and ideas. For instance, TensorFlow's version 2 was heavily inspired by the most popular features of PyTorch, making the frameworks even more similar. \n",
        "If you are already familiar with PyTorch and have created your own neural network projects, feel free to just skim this notebook.\n",
        "\n"
      ]
    },
    {
      "cell_type": "code",
      "execution_count": 1,
      "metadata": {
        "id": "1g1CPPU1MEOP"
      },
      "outputs": [
        {
          "name": "stderr",
          "output_type": "stream",
          "text": [
            "C:\\Users\\scago\\AppData\\Local\\Temp/ipykernel_19896/3937499902.py:11: DeprecationWarning: `set_matplotlib_formats` is deprecated since IPython 7.23, directly use `matplotlib_inline.backend_inline.set_matplotlib_formats()`\n",
            "  set_matplotlib_formats('svg', 'pdf') # For export\n"
          ]
        }
      ],
      "source": [
        "## Standard libraries\n",
        "import os\n",
        "import math\n",
        "import numpy as np \n",
        "import time\n",
        "\n",
        "## Imports for plotting\n",
        "import matplotlib.pyplot as plt\n",
        "%matplotlib inline \n",
        "from IPython.display import set_matplotlib_formats\n",
        "set_matplotlib_formats('svg', 'pdf') # For export\n",
        "from matplotlib.colors import to_rgba\n",
        "import seaborn as sns\n",
        "sns.set()\n",
        "\n",
        "## Progress bar\n",
        "from tqdm.notebook import tqdm"
      ]
    },
    {
      "cell_type": "markdown",
      "metadata": {
        "id": "Ug1A5wRmMEOR"
      },
      "source": [
        "## The Basics of PyTorch\n",
        "\n",
        "We will start with reviewing the very basic concepts of PyTorch. As a prerequisite, we recommend to be familiar with the `numpy` package as most machine learning frameworks are based on very similar concepts. If you are not familiar with numpy yet, don't worry: here is a [tutorial](https://numpy.org/devdocs/user/quickstart.html) to go through. \n",
        "\n",
        "So, let's start with importing PyTorch. The package is called `torch`, based on its original framework [Torch](http://torch.ch/). As a first step, we can check its version:"
      ]
    },
    {
      "cell_type": "code",
      "execution_count": 2,
      "metadata": {
        "colab": {
          "base_uri": "https://localhost:8080/"
        },
        "id": "muJmqoShMEOS",
        "outputId": "828ad89a-99ea-468d-e63e-7d1c982fed8a"
      },
      "outputs": [
        {
          "name": "stdout",
          "output_type": "stream",
          "text": [
            "Using torch 1.13.0\n"
          ]
        }
      ],
      "source": [
        "import torch\n",
        "print(\"Using torch\", torch.__version__)"
      ]
    },
    {
      "cell_type": "markdown",
      "metadata": {
        "id": "AX2433s-MEOS"
      },
      "source": [
        "The current stable version is 1.13. You should therefore see the output `Using torch 1.13.0` or `Using torch 1.12.0`, eventually with some extension for the CUDA version on Colab. In general, it is recommended to keep the PyTorch version updated to the newest one. If you see a lower version number than 1.12, make sure you have installed the correct environment, or ask one of your TAs. In case PyTorch 1.14 or newer will be published during the time of the course, don't worry. The interface between PyTorch versions doesn't change too much, and hence all code should also be runnable with newer versions.\n",
        "\n",
        "As in every machine learning framework, PyTorch provides functions that are stochastic like generating random numbers. However, a very good practice is to setup your code to be reproducible with the exact same random numbers. This is why we set a seed below. "
      ]
    },
    {
      "cell_type": "code",
      "execution_count": 3,
      "metadata": {
        "colab": {
          "base_uri": "https://localhost:8080/"
        },
        "id": "c6Cn7lybMEOT",
        "outputId": "3ef1c641-287a-42ad-b41f-916d87e761e9"
      },
      "outputs": [
        {
          "data": {
            "text/plain": [
              "<torch._C.Generator at 0x22a3fb9f230>"
            ]
          },
          "execution_count": 3,
          "metadata": {},
          "output_type": "execute_result"
        }
      ],
      "source": [
        "torch.manual_seed(42) # Setting the seed"
      ]
    },
    {
      "cell_type": "markdown",
      "metadata": {
        "id": "IW-ySBhjMEOT"
      },
      "source": [
        "### Tensors\n",
        "\n",
        "Tensors are the PyTorch equivalent to Numpy arrays, with the addition to also have support for GPU acceleration (more on that later).\n",
        "The name \"tensor\" is a generalization of concepts you already know. For instance, a vector is a 1-D tensor, and a matrix a 2-D tensor. When working with neural networks, we will use tensors of various shapes and number of dimensions.\n",
        "\n",
        "Most common functions you know from numpy can be used on tensors as well. Actually, since numpy arrays are so similar to tensors, we can convert most tensors to numpy arrays (and back) but we don't need it too often.\n",
        "\n",
        "#### Initialization\n",
        "\n",
        "Let's first start by looking at different ways of creating a tensor. There are many possible options, the simplest one is to call `torch.Tensor` passing the desired shape as input argument:"
      ]
    },
    {
      "cell_type": "code",
      "execution_count": 4,
      "metadata": {
        "colab": {
          "base_uri": "https://localhost:8080/"
        },
        "id": "uwZsyD5CMEOU",
        "outputId": "73779a9d-f0a6-4dc1-e3c6-b2c619b08d62"
      },
      "outputs": [
        {
          "name": "stdout",
          "output_type": "stream",
          "text": [
            "tensor([[[1.0010e-38, 9.1837e-39, 8.9082e-39, 8.9082e-39],\n",
            "         [1.0745e-38, 8.9082e-39, 1.0194e-38, 9.2755e-39],\n",
            "         [8.9082e-39, 9.6429e-39, 1.0102e-38, 9.1836e-39]],\n",
            "\n",
            "        [[2.9389e-39, 9.2755e-39, 9.0000e-39, 1.0194e-38],\n",
            "         [1.0745e-38, 1.0194e-38, 9.1836e-39, 2.9389e-39],\n",
            "         [1.0194e-38, 9.8265e-39, 1.0653e-38, 0.0000e+00]]])\n"
          ]
        }
      ],
      "source": [
        "x = torch.Tensor(2, 3, 4)\n",
        "print(x)"
      ]
    },
    {
      "cell_type": "markdown",
      "metadata": {
        "id": "Nq5blcdOMEOV"
      },
      "source": [
        "The function `torch.Tensor` allocates memory for the desired tensor, but reuses any values that have already been in the memory. To directly assign values to the tensor during initialization, there are many alternatives including:\n",
        "\n",
        "* `torch.zeros`: Creates a tensor filled with zeros\n",
        "* `torch.ones`: Creates a tensor filled with ones\n",
        "* `torch.rand`: Creates a tensor with random values uniformly sampled between 0 and 1\n",
        "* `torch.randn`: Creates a tensor with random values sampled from a normal distribution with mean 0 and variance 1\n",
        "* `torch.arange`: Creates a tensor containing the values $N,N+1,N+2,...,M$\n",
        "* `torch.Tensor` (input list): Creates a tensor from the list elements you provide"
      ]
    },
    {
      "cell_type": "code",
      "execution_count": 5,
      "metadata": {
        "colab": {
          "base_uri": "https://localhost:8080/"
        },
        "id": "YsgM4626MEOV",
        "outputId": "0f8bbff1-8c0d-4772-aae9-e65305a1f583"
      },
      "outputs": [
        {
          "name": "stdout",
          "output_type": "stream",
          "text": [
            "tensor([[1., 2.],\n",
            "        [3., 4.]])\n"
          ]
        }
      ],
      "source": [
        "# Create a tensor from a (nested) list\n",
        "x = torch.Tensor([[1, 2], [3, 4]])\n",
        "print(x)"
      ]
    },
    {
      "cell_type": "code",
      "execution_count": 6,
      "metadata": {
        "colab": {
          "base_uri": "https://localhost:8080/"
        },
        "id": "qifV2go4MEOW",
        "outputId": "f1d2423d-6394-49cb-b633-96c6e4e3aab8"
      },
      "outputs": [
        {
          "name": "stdout",
          "output_type": "stream",
          "text": [
            "tensor([[[0.8823, 0.9150, 0.3829, 0.9593],\n",
            "         [0.3904, 0.6009, 0.2566, 0.7936],\n",
            "         [0.9408, 0.1332, 0.9346, 0.5936]],\n",
            "\n",
            "        [[0.8694, 0.5677, 0.7411, 0.4294],\n",
            "         [0.8854, 0.5739, 0.2666, 0.6274],\n",
            "         [0.2696, 0.4414, 0.2969, 0.8317]]])\n"
          ]
        }
      ],
      "source": [
        "# Create a tensor with random values between 0 and 1 with the shape [2, 3, 4]\n",
        "x = torch.rand(2, 3, 4)\n",
        "print(x)"
      ]
    },
    {
      "cell_type": "markdown",
      "metadata": {
        "id": "Z9WLZbckMEOW"
      },
      "source": [
        "You can obtain the shape of a tensor in the same way as in numpy (`x.shape`), or using the `.size` method:"
      ]
    },
    {
      "cell_type": "code",
      "execution_count": 7,
      "metadata": {
        "colab": {
          "base_uri": "https://localhost:8080/"
        },
        "id": "HubpOEqLMEOW",
        "outputId": "0f969eb3-df80-46a7-f0a8-7de5dcfe3e2d"
      },
      "outputs": [
        {
          "name": "stdout",
          "output_type": "stream",
          "text": [
            "Shape: torch.Size([2, 3, 4])\n",
            "Size: torch.Size([2, 3, 4])\n",
            "Size: 2 3 4\n"
          ]
        }
      ],
      "source": [
        "shape = x.shape\n",
        "print(\"Shape:\", x.shape)\n",
        "\n",
        "size = x.size()\n",
        "print(\"Size:\", size)\n",
        "\n",
        "dim1, dim2, dim3 = x.size()\n",
        "print(\"Size:\", dim1, dim2, dim3)"
      ]
    },
    {
      "cell_type": "markdown",
      "metadata": {
        "id": "K-RBO_mtMEOX"
      },
      "source": [
        "#### Tensor to Numpy, and Numpy to Tensor\n",
        "\n",
        "Tensors can be converted to numpy arrays, and numpy arrays back to tensors. To transform a numpy array into a tensor, we can use the function `torch.from_numpy`:"
      ]
    },
    {
      "cell_type": "code",
      "execution_count": 8,
      "metadata": {
        "colab": {
          "base_uri": "https://localhost:8080/"
        },
        "id": "1NsGm9TqMEOX",
        "outputId": "d773782e-90a1-42da-d58c-fc302c6269eb"
      },
      "outputs": [
        {
          "name": "stdout",
          "output_type": "stream",
          "text": [
            "Numpy array: [[1 2]\n",
            " [3 4]]\n",
            "PyTorch tensor: tensor([[1, 2],\n",
            "        [3, 4]], dtype=torch.int32)\n"
          ]
        }
      ],
      "source": [
        "np_arr = np.array([[1, 2], [3, 4]])\n",
        "tensor = torch.from_numpy(np_arr)\n",
        "\n",
        "print(\"Numpy array:\", np_arr)\n",
        "print(\"PyTorch tensor:\", tensor)"
      ]
    },
    {
      "cell_type": "markdown",
      "metadata": {
        "id": "WyriaDZMMEOY"
      },
      "source": [
        "To transform a PyTorch tensor back to a numpy array, we can use the function `.numpy()` on tensors:"
      ]
    },
    {
      "cell_type": "code",
      "execution_count": 9,
      "metadata": {
        "colab": {
          "base_uri": "https://localhost:8080/"
        },
        "id": "Vrss3MBlMEOY",
        "outputId": "47195254-58f9-4104-8325-9ba7c3c2db31"
      },
      "outputs": [
        {
          "name": "stdout",
          "output_type": "stream",
          "text": [
            "PyTorch tensor: tensor([0, 1, 2, 3])\n",
            "Numpy array: [0 1 2 3]\n"
          ]
        }
      ],
      "source": [
        "tensor = torch.arange(4)\n",
        "np_arr = tensor.numpy()\n",
        "\n",
        "print(\"PyTorch tensor:\", tensor)\n",
        "print(\"Numpy array:\", np_arr)"
      ]
    },
    {
      "cell_type": "markdown",
      "metadata": {
        "id": "4fXuV5k4MEOY"
      },
      "source": [
        "The conversion of tensors to numpy require the tensor to be on the CPU, and not the GPU (more on GPU support in a later section). In case you have a tensor on GPU, you need to call `.cpu()` on the tensor beforehand. Hence, you get a line like `np_arr = tensor.cpu().numpy()`."
      ]
    },
    {
      "cell_type": "markdown",
      "metadata": {
        "id": "OzQpjkmpMEOZ"
      },
      "source": [
        "#### Operations\n",
        "\n",
        "Most operations that exist in numpy, also exist in PyTorch. A full list of operations can be found in the [PyTorch documentation](https://pytorch.org/docs/stable/tensors.html#), but we will review the most important ones here.\n",
        "\n",
        "The simplest operation is to add two tensors:"
      ]
    },
    {
      "cell_type": "code",
      "execution_count": 10,
      "metadata": {
        "colab": {
          "base_uri": "https://localhost:8080/"
        },
        "id": "55t1m9TQMEOZ",
        "outputId": "b37a1ebe-6c3f-4ac7-e83c-30c4a58eb85b"
      },
      "outputs": [
        {
          "name": "stdout",
          "output_type": "stream",
          "text": [
            "X1 tensor([[0.1053, 0.2695, 0.3588],\n",
            "        [0.1994, 0.5472, 0.0062]])\n",
            "X2 tensor([[0.9516, 0.0753, 0.8860],\n",
            "        [0.5832, 0.3376, 0.8090]])\n",
            "Y tensor([[1.0569, 0.3448, 1.2448],\n",
            "        [0.7826, 0.8848, 0.8151]])\n"
          ]
        }
      ],
      "source": [
        "x1 = torch.rand(2, 3)\n",
        "x2 = torch.rand(2, 3)\n",
        "y = x1 + x2\n",
        "\n",
        "print(\"X1\", x1)\n",
        "print(\"X2\", x2)\n",
        "print(\"Y\", y)"
      ]
    },
    {
      "cell_type": "markdown",
      "metadata": {
        "id": "AaYeoSLdMEOZ"
      },
      "source": [
        "Calling `x1 + x2` creates a new tensor containing the sum of the two inputs. However, we can also use in-place operations that are applied directly on the memory of a tensor. We therefore change the values of `x2` without the chance to re-accessing the values of `x2` before the operation. An example is shown below:"
      ]
    },
    {
      "cell_type": "code",
      "execution_count": 11,
      "metadata": {
        "colab": {
          "base_uri": "https://localhost:8080/"
        },
        "id": "L_GRdXVqMEOZ",
        "outputId": "b816c0e5-2685-4d7f-bb72-c251f19a83c1"
      },
      "outputs": [
        {
          "name": "stdout",
          "output_type": "stream",
          "text": [
            "X1 (before) tensor([[0.5779, 0.9040, 0.5547],\n",
            "        [0.3423, 0.6343, 0.3644]])\n",
            "X2 (before) tensor([[0.7104, 0.9464, 0.7890],\n",
            "        [0.2814, 0.7886, 0.5895]])\n",
            "X1 (after) tensor([[0.5779, 0.9040, 0.5547],\n",
            "        [0.3423, 0.6343, 0.3644]])\n",
            "X2 (after) tensor([[1.2884, 1.8504, 1.3437],\n",
            "        [0.6237, 1.4230, 0.9539]])\n"
          ]
        }
      ],
      "source": [
        "x1 = torch.rand(2, 3)\n",
        "x2 = torch.rand(2, 3)\n",
        "print(\"X1 (before)\", x1)\n",
        "print(\"X2 (before)\", x2)\n",
        "\n",
        "x2.add_(x1)\n",
        "print(\"X1 (after)\", x1)\n",
        "print(\"X2 (after)\", x2)"
      ]
    },
    {
      "cell_type": "markdown",
      "metadata": {
        "id": "M76iqp2NMEOa"
      },
      "source": [
        "In-place operations are usually marked with a underscore postfix (e.g. \"add_\" instead of \"add\").\n",
        "\n",
        "Another common operation aims at changing the shape of a tensor. A tensor of size (2,3) can be re-organized to any other shape with the same number of elements (e.g. a tensor of size (6), or (3,2), ...). In PyTorch, this operation is called `view`:"
      ]
    },
    {
      "cell_type": "code",
      "execution_count": 12,
      "metadata": {
        "colab": {
          "base_uri": "https://localhost:8080/"
        },
        "id": "ErVoXjW8MEOa",
        "outputId": "500bf123-cca2-4bec-d38d-c6e1432a423f"
      },
      "outputs": [
        {
          "name": "stdout",
          "output_type": "stream",
          "text": [
            "X tensor([0, 1, 2, 3, 4, 5])\n"
          ]
        }
      ],
      "source": [
        "x = torch.arange(6)\n",
        "print(\"X\", x)"
      ]
    },
    {
      "cell_type": "code",
      "execution_count": 13,
      "metadata": {
        "colab": {
          "base_uri": "https://localhost:8080/"
        },
        "id": "axogOiTYMEOa",
        "outputId": "ae4c2715-2750-4f7c-f4b7-0825818224f8"
      },
      "outputs": [
        {
          "name": "stdout",
          "output_type": "stream",
          "text": [
            "X tensor([[0, 1, 2],\n",
            "        [3, 4, 5]])\n"
          ]
        }
      ],
      "source": [
        "x = x.view(2, 3)\n",
        "print(\"X\", x)"
      ]
    },
    {
      "cell_type": "code",
      "execution_count": 14,
      "metadata": {
        "colab": {
          "base_uri": "https://localhost:8080/"
        },
        "id": "pWSPGJpwMEOa",
        "outputId": "4343a7fb-23ee-4915-ffaf-dafb635d80f4"
      },
      "outputs": [
        {
          "name": "stdout",
          "output_type": "stream",
          "text": [
            "X tensor([[0, 3],\n",
            "        [1, 4],\n",
            "        [2, 5]])\n"
          ]
        }
      ],
      "source": [
        "x = x.permute(1, 0) # Swapping dimension 0 and 1\n",
        "print(\"X\", x)"
      ]
    },
    {
      "cell_type": "markdown",
      "metadata": {
        "id": "xRmYHV1GMEOb"
      },
      "source": [
        "Other commonly used operations include matrix multiplications, which are essential for neural networks. Quite often, we have an input vector $\\mathbf{x}$, which is transformed using a learned weight matrix $\\mathbf{W}$. There are multiple ways and functions to perform matrix multiplication, some of which we list below:\n",
        "\n",
        "* `torch.matmul`: Performs the matrix product over two tensors, where the specific behavior depends on the dimensions. If both inputs are matrices (2-dimensional tensors), it performs the standard matrix product. For higher dimensional inputs, the function supports broadcasting (for details see the [documentation](https://pytorch.org/docs/stable/generated/torch.matmul.html?highlight=matmul#torch.matmul)). Can also be written as `a @ b`, similar to numpy. \n",
        "* `torch.mm`: Performs the matrix product over two matrices, but doesn't support broadcasting (see [documentation](https://pytorch.org/docs/stable/generated/torch.mm.html?highlight=torch%20mm#torch.mm))\n",
        "* `torch.bmm`: Performs the matrix product with a support batch dimension. If the first tensor $T$ is of shape ($b\\times n\\times m$), and the second tensor $R$ ($b\\times m\\times p$), the output $O$ is of shape ($b\\times n\\times p$), and has been calculated by performing $b$ matrix multiplications of the submatrices of $T$ and $R$: $O_i = T_i @ R_i$\n",
        "* `torch.einsum`: Performs matrix multiplications and more (i.e. sums of products) using the Einstein summation convention. \n",
        "\n",
        "Usually, we use `torch.matmul` or `torch.bmm`. We can try a matrix multiplication with `torch.matmul` below."
      ]
    },
    {
      "cell_type": "code",
      "execution_count": 15,
      "metadata": {
        "colab": {
          "base_uri": "https://localhost:8080/"
        },
        "id": "PeeofMtHMEOb",
        "outputId": "3f19efd8-df55-4b12-8607-8b04049e0322"
      },
      "outputs": [
        {
          "name": "stdout",
          "output_type": "stream",
          "text": [
            "X tensor([[0, 1, 2],\n",
            "        [3, 4, 5]])\n"
          ]
        }
      ],
      "source": [
        "x = torch.arange(6)\n",
        "x = x.view(2, 3)\n",
        "print(\"X\", x)"
      ]
    },
    {
      "cell_type": "code",
      "execution_count": 16,
      "metadata": {
        "colab": {
          "base_uri": "https://localhost:8080/"
        },
        "id": "RPvoEmWxMEOb",
        "outputId": "2719fcc9-d7b5-4ebc-883a-11fb6b3db0fb"
      },
      "outputs": [
        {
          "name": "stdout",
          "output_type": "stream",
          "text": [
            "W tensor([[0, 1, 2],\n",
            "        [3, 4, 5],\n",
            "        [6, 7, 8]])\n"
          ]
        }
      ],
      "source": [
        "W = torch.arange(9).view(3, 3) # We can also stack multiple operations in a single line\n",
        "print(\"W\", W)"
      ]
    },
    {
      "cell_type": "code",
      "execution_count": 17,
      "metadata": {
        "colab": {
          "base_uri": "https://localhost:8080/"
        },
        "id": "Mq1UzCsDMEOb",
        "outputId": "75838664-9495-49ca-f086-9812f7758e28"
      },
      "outputs": [
        {
          "name": "stdout",
          "output_type": "stream",
          "text": [
            "h tensor([[15, 18, 21],\n",
            "        [42, 54, 66]])\n"
          ]
        }
      ],
      "source": [
        "h = torch.matmul(x, W) # Verify the result by calculating it by hand too!\n",
        "print(\"h\", h)"
      ]
    },
    {
      "cell_type": "markdown",
      "metadata": {
        "id": "4nkXgqJYMEOb"
      },
      "source": [
        "#### Indexing\n",
        "\n",
        "We often have the situation where we need to select a part of a tensor. Indexing works just like in numpy, so let's try it:"
      ]
    },
    {
      "cell_type": "code",
      "execution_count": 18,
      "metadata": {
        "colab": {
          "base_uri": "https://localhost:8080/"
        },
        "id": "BKCLOlrXMEOc",
        "outputId": "a4178a5e-2a08-4e68-a995-49308a39cbc0"
      },
      "outputs": [
        {
          "name": "stdout",
          "output_type": "stream",
          "text": [
            "X tensor([[ 0,  1,  2,  3],\n",
            "        [ 4,  5,  6,  7],\n",
            "        [ 8,  9, 10, 11]])\n"
          ]
        }
      ],
      "source": [
        "x = torch.arange(12).view(3, 4)\n",
        "print(\"X\", x)"
      ]
    },
    {
      "cell_type": "code",
      "execution_count": 19,
      "metadata": {
        "colab": {
          "base_uri": "https://localhost:8080/"
        },
        "id": "8oAoicCIMEOc",
        "outputId": "0505e146-a426-41a4-bf09-f5d8be058d00"
      },
      "outputs": [
        {
          "name": "stdout",
          "output_type": "stream",
          "text": [
            "tensor([1, 5, 9])\n"
          ]
        }
      ],
      "source": [
        "print(x[:, 1])   # Second column"
      ]
    },
    {
      "cell_type": "code",
      "execution_count": 20,
      "metadata": {
        "colab": {
          "base_uri": "https://localhost:8080/"
        },
        "id": "-qvilVwvMEOc",
        "outputId": "4f5836bb-027e-48d9-a1af-0a8fa03f5f9a"
      },
      "outputs": [
        {
          "name": "stdout",
          "output_type": "stream",
          "text": [
            "tensor([0, 1, 2, 3])\n"
          ]
        }
      ],
      "source": [
        "print(x[0])      # First row"
      ]
    },
    {
      "cell_type": "code",
      "execution_count": 21,
      "metadata": {
        "colab": {
          "base_uri": "https://localhost:8080/"
        },
        "id": "tslXbCUbMEOc",
        "outputId": "21f48d50-9118-4bf5-a000-9e122221a238"
      },
      "outputs": [
        {
          "name": "stdout",
          "output_type": "stream",
          "text": [
            "tensor([3, 7])\n"
          ]
        }
      ],
      "source": [
        "print(x[:2, -1]) # First two rows, last column"
      ]
    },
    {
      "cell_type": "code",
      "execution_count": 22,
      "metadata": {
        "colab": {
          "base_uri": "https://localhost:8080/"
        },
        "id": "cv-_9fH_MEOc",
        "outputId": "138ff479-7507-4dd8-f27a-4f50d8562875"
      },
      "outputs": [
        {
          "name": "stdout",
          "output_type": "stream",
          "text": [
            "tensor([[ 4,  5,  6,  7],\n",
            "        [ 8,  9, 10, 11]])\n"
          ]
        }
      ],
      "source": [
        "print(x[1:3, :]) # Middle two rows"
      ]
    },
    {
      "cell_type": "markdown",
      "metadata": {
        "id": "teh54G4HMEOc"
      },
      "source": [
        "### Dynamic Computation Graph and Backpropagation\n",
        "\n",
        "One of the main reasons for using PyTorch in Deep Learning projects is that we can automatically get **gradients/derivatives** of functions that we define. We will mainly use PyTorch for implementing neural networks, and they are just fancy functions. If we use weight matrices in our function that we want to learn, then those are called the **parameters** or simply the **weights**.\n",
        "\n",
        "If our neural network would output a single scalar value, we would talk about taking the **derivative**, but you will see that quite often we will have **multiple** output variables (\"values\"); in that case we talk about **gradients**. It's a more general term.\n",
        "\n",
        "Given an input $\\mathbf{x}$, we define our function by **manipulating** that input, usually by matrix-multiplications with weight matrices and additions with so-called bias vectors. As we manipulate our input, we are automatically creating a **computational graph**. This graph shows how to arrive at our output from our input. \n",
        "PyTorch is a **define-by-run** framework; this means that we can just do our manipulations, and PyTorch will keep track of that graph for us. Thus, we create a dynamic computation graph along the way.\n",
        "\n",
        "So, to recap: the only thing we have to do is to compute the **output**, and then we can ask PyTorch to automatically get the **gradients**. \n",
        "\n",
        "> **Note:  Why do we want gradients?** Consider that we have defined a function, a neural net, that is supposed to compute a certain output $y$ for an input vector $\\mathbf{x}$. We then define an **error measure** that tells us how wrong our network is; how bad it is in predicting output $y$ from input $\\mathbf{x}$. Based on this error measure, we can use the gradients to **update** the weights $\\mathbf{W}$ that were responsible for the output, so that the next time we present input $\\mathbf{x}$ to our network, the output will be closer to what we want.\n",
        "\n",
        "The first thing we have to do is to specify which tensors require gradients. By default, when we create a tensor, it does not require gradients."
      ]
    },
    {
      "cell_type": "code",
      "execution_count": 23,
      "metadata": {
        "colab": {
          "base_uri": "https://localhost:8080/"
        },
        "id": "HTUqaAbiMEOd",
        "outputId": "020ec4a0-55dc-4d84-f9b3-49808d415a2f"
      },
      "outputs": [
        {
          "name": "stdout",
          "output_type": "stream",
          "text": [
            "False\n"
          ]
        }
      ],
      "source": [
        "x = torch.ones((3,))\n",
        "print(x.requires_grad)"
      ]
    },
    {
      "cell_type": "markdown",
      "metadata": {
        "id": "BwMynVm0MEOd"
      },
      "source": [
        "We can change this for an existing tensor using the function `requires_grad_()` (underscore indicating that this is a in-place operation). Alternatively, when creating a tensor, you can pass the argument `requires_grad=True` to most initializers we have seen above."
      ]
    },
    {
      "cell_type": "code",
      "execution_count": 24,
      "metadata": {
        "colab": {
          "base_uri": "https://localhost:8080/"
        },
        "id": "_OqZMwWaMEOd",
        "outputId": "26d5266a-dbab-40a1-d21b-498c59a40735"
      },
      "outputs": [
        {
          "name": "stdout",
          "output_type": "stream",
          "text": [
            "True\n"
          ]
        }
      ],
      "source": [
        "x.requires_grad_(True)\n",
        "print(x.requires_grad)"
      ]
    },
    {
      "cell_type": "markdown",
      "metadata": {
        "id": "79im1qJZMEOd"
      },
      "source": [
        "In order to get familiar with the concept of a computation graph, we will create one for the following function:\n",
        "\n",
        "$$y = \\frac{1}{|x|}\\sum_i \\left[(x_i + 2)^2 + 3\\right]$$\n",
        "\n",
        "You could imagine that $x$ are our parameters, and we want to optimize (either maximize or minimize) the output $y$. For this, we want to obtain the gradients $\\partial y / \\partial \\mathbf{x}$. For our example, we'll use $\\mathbf{x}=[0,1,2]$ as our input."
      ]
    },
    {
      "cell_type": "code",
      "execution_count": 25,
      "metadata": {
        "colab": {
          "base_uri": "https://localhost:8080/"
        },
        "id": "t-rTBsOlMEOe",
        "outputId": "48cf97b4-d4c7-461e-826f-ec81a6dfc727"
      },
      "outputs": [
        {
          "name": "stdout",
          "output_type": "stream",
          "text": [
            "X tensor([0., 1., 2.], requires_grad=True)\n"
          ]
        }
      ],
      "source": [
        "x = torch.arange(3, dtype=torch.float32, requires_grad=True) # Only float tensors can have gradients\n",
        "print(\"X\", x)"
      ]
    },
    {
      "cell_type": "markdown",
      "metadata": {
        "id": "lhWSm1xnMEOe"
      },
      "source": [
        "Now let's build the computation graph step by step. You can combine multiple operations in a single line, but we will separate them here to get a better understanding of how each operation is added to the computation graph."
      ]
    },
    {
      "cell_type": "code",
      "execution_count": 26,
      "metadata": {
        "colab": {
          "base_uri": "https://localhost:8080/"
        },
        "id": "7jv05EDVMEOe",
        "outputId": "b7276b4b-ee16-49ea-c8ae-572a2284b9b8"
      },
      "outputs": [
        {
          "name": "stdout",
          "output_type": "stream",
          "text": [
            "Y tensor(12.6667, grad_fn=<MeanBackward0>)\n"
          ]
        }
      ],
      "source": [
        "a = x + 2\n",
        "b = a ** 2\n",
        "c = b + 3\n",
        "y = c.mean()\n",
        "print(\"Y\", y)"
      ]
    },
    {
      "cell_type": "markdown",
      "metadata": {
        "id": "VsfOfqAgMEOe"
      },
      "source": [
        "Using the statements above, we have created a computation graph that looks similar to the figure below:\n",
        "\n",
        "<center style=\"width: 100%\"><img src=\"https://github.com/phlippe/uvadlc_notebooks/blob/master/docs/tutorial_notebooks/tutorial2/pytorch_computation_graph.svg?raw=1\" width=\"200px\"></center>\n",
        "\n",
        "We calculate $a$ based on the inputs $x$ and the constant $2$, $b$ is $a$ squared, and so on. The visualization is an abstraction of the dependencies between inputs and outputs of the operations we have applied.\n",
        "Each node of the computation graph has automatically defined a function for calculating the gradients with respect to its inputs, `grad_fn`. You can see this when we printed the output tensor $y$. This is why the computation graph is usually visualized in the reverse direction (arrows point from the result to the inputs). We can perform backpropagation on the computation graph by calling the function `backward()` on the last output, which effectively calculates the gradients for each tensor that has the property `requires_grad=True`:"
      ]
    },
    {
      "cell_type": "code",
      "execution_count": 27,
      "metadata": {
        "id": "dK7rpkxYMEOf"
      },
      "outputs": [],
      "source": [
        "y.backward()"
      ]
    },
    {
      "cell_type": "markdown",
      "metadata": {
        "id": "v4JIX_SmMEOf"
      },
      "source": [
        "`x.grad` will now contain the gradient $\\partial y/ \\partial \\mathcal{x}$, and this gradient indicates how a change in $\\mathbf{x}$ will affect output $y$ given the current input $\\mathbf{x}=[0,1,2]$:"
      ]
    },
    {
      "cell_type": "code",
      "execution_count": 28,
      "metadata": {
        "colab": {
          "base_uri": "https://localhost:8080/"
        },
        "id": "L8TRNLloMEOf",
        "outputId": "987766c7-6619-4c40-fb5d-1e9b91504a37"
      },
      "outputs": [
        {
          "name": "stdout",
          "output_type": "stream",
          "text": [
            "tensor([1.3333, 2.0000, 2.6667])\n"
          ]
        }
      ],
      "source": [
        "print(x.grad)"
      ]
    },
    {
      "cell_type": "markdown",
      "metadata": {
        "id": "G19PoPMDMEOf"
      },
      "source": [
        "We can also verify these gradients by hand. We will calculate the gradients using the chain rule, in the same way as PyTorch did it:\n",
        "\n",
        "$$\\frac{\\partial y}{\\partial x_i} = \\frac{\\partial y}{\\partial c_i}\\frac{\\partial c_i}{\\partial b_i}\\frac{\\partial b_i}{\\partial a_i}\\frac{\\partial a_i}{\\partial x_i}$$\n",
        "\n",
        "Note that we have simplified this equation to index notation, and by using the fact that all operation besides the mean do not combine the elements in the tensor. The partial derivatives are:\n",
        "\n",
        "$$\n",
        "\\frac{\\partial a_i}{\\partial x_i} = 1,\\hspace{1cm}\n",
        "\\frac{\\partial b_i}{\\partial a_i} = 2\\cdot a_i\\hspace{1cm}\n",
        "\\frac{\\partial c_i}{\\partial b_i} = 1\\hspace{1cm}\n",
        "\\frac{\\partial y}{\\partial c_i} = \\frac{1}{3}\n",
        "$$\n",
        "\n",
        "Hence, with the input being $\\mathbf{x}=[0,1,2]$, our gradients are $\\partial y/\\partial \\mathbf{x}=[4/3,2,8/3]$. The previous code cell should have printed the same result."
      ]
    },
    {
      "cell_type": "markdown",
      "metadata": {
        "id": "FtL5DacDMEOf"
      },
      "source": [
        "### GPU support\n",
        "\n",
        "A crucial feature of PyTorch is the support of GPUs, short for Graphics Processing Unit. A GPU can perform many thousands of small operations in parallel, making it very well suitable for performing large matrix operations in neural networks. When comparing GPUs to CPUs, we can list the following main differences (credit: [Kevin Krewell, 2009](https://blogs.nvidia.com/blog/2009/12/16/whats-the-difference-between-a-cpu-and-a-gpu/)) \n",
        "\n",
        "<center style=\"width: 100%\"><img src=\"https://github.com/phlippe/uvadlc_notebooks/blob/master/docs/tutorial_notebooks/tutorial2/comparison_CPU_GPU.png?raw=1\" width=\"700px\"></center>\n",
        "\n",
        "CPUs and GPUs have both different advantages and disadvantages, which is why many computers contain both components and use them for different tasks. In case you are not familiar with GPUs, you can read up more details in this [NVIDIA blog post](https://blogs.nvidia.com/blog/2009/12/16/whats-the-difference-between-a-cpu-and-a-gpu/) or [here](https://www.intel.com/content/www/us/en/products/docs/processors/what-is-a-gpu.html). \n",
        "\n",
        "GPUs can accelerate the training of your network up to a factor of $100$ which is essential for large neural networks. PyTorch implements a lot of functionality for supporting GPUs (mostly those of NVIDIA due to the libraries [CUDA](https://developer.nvidia.com/cuda-zone) and [cuDNN](https://developer.nvidia.com/cudnn)). First, let's check whether you have a GPU available:"
      ]
    },
    {
      "cell_type": "code",
      "execution_count": 29,
      "metadata": {
        "colab": {
          "base_uri": "https://localhost:8080/"
        },
        "id": "wWfUfSRlMEOg",
        "outputId": "97762f67-2448-4dff-a224-663d224fe058"
      },
      "outputs": [
        {
          "name": "stdout",
          "output_type": "stream",
          "text": [
            "Is the GPU available? False\n"
          ]
        }
      ],
      "source": [
        "gpu_avail = torch.cuda.is_available()\n",
        "print(f\"Is the GPU available? {gpu_avail}\")"
      ]
    },
    {
      "cell_type": "markdown",
      "metadata": {
        "id": "NSearXkXMEOg"
      },
      "source": [
        "If you have a GPU on your computer but the command above returns False, make sure you have the correct CUDA-version installed. On Google Colab, make sure that you have selected a GPU in your runtime setup (in the menu, check under `Runtime -> Change runtime type`). \n",
        "\n",
        "By default, all tensors you create are stored on the CPU. We can push a tensor to the GPU by using the function `.to(...)`, or `.cuda()`. However, it is often a good practice to define a `device` object in your code which points to the GPU if you have one, and otherwise to the CPU. Then, you can write your code with respect to this device object, and it allows you to run the same code on both a CPU-only system, and one with a GPU. Let's try it below. We can specify the device as follows: "
      ]
    },
    {
      "cell_type": "code",
      "execution_count": 30,
      "metadata": {
        "colab": {
          "base_uri": "https://localhost:8080/"
        },
        "id": "rFToMCYhMEOg",
        "outputId": "3205ce74-c318-41c7-883f-7e676d110e83"
      },
      "outputs": [
        {
          "name": "stdout",
          "output_type": "stream",
          "text": [
            "Device cpu\n"
          ]
        }
      ],
      "source": [
        "device = torch.device(\"cuda\") if torch.cuda.is_available() else torch.device(\"cpu\")\n",
        "print(\"Device\", device)"
      ]
    },
    {
      "cell_type": "markdown",
      "metadata": {
        "id": "KmVpwyIqMEOg"
      },
      "source": [
        "Now let's create a tensor and push it to the device:"
      ]
    },
    {
      "cell_type": "code",
      "execution_count": 31,
      "metadata": {
        "colab": {
          "base_uri": "https://localhost:8080/"
        },
        "id": "0YPxytbSMEOh",
        "outputId": "8c54fc36-dc7d-46ae-d6e2-a86c526bd3c6"
      },
      "outputs": [
        {
          "name": "stdout",
          "output_type": "stream",
          "text": [
            "X tensor([[0., 0., 0.],\n",
            "        [0., 0., 0.]])\n"
          ]
        }
      ],
      "source": [
        "x = torch.zeros(2, 3)\n",
        "x = x.to(device)\n",
        "print(\"X\", x)"
      ]
    },
    {
      "cell_type": "markdown",
      "metadata": {
        "id": "S3zG6oOuMEOh"
      },
      "source": [
        "In case you have a GPU, you should now see the attribute `device='cuda:0'` being printed next to your tensor. The zero next to cuda indicates that this is the zero-th GPU device on your computer. PyTorch also supports multi-GPU systems, but this you will only need once you have very big networks to train (if interested, see the [PyTorch documentation](https://pytorch.org/docs/stable/distributed.html#distributed-basics)). We can also compare the runtime of a large matrix multiplication on the CPU with a operation on the GPU:"
      ]
    },
    {
      "cell_type": "code",
      "execution_count": 32,
      "metadata": {
        "colab": {
          "base_uri": "https://localhost:8080/",
          "height": 235
        },
        "id": "2WIV0NLrMEOh",
        "outputId": "0d167b6d-e797-4a14-9e72-b5cedeea92c4"
      },
      "outputs": [
        {
          "name": "stdout",
          "output_type": "stream",
          "text": [
            "CPU time: 1.14098s\n",
            "GPU time: 1.22275s\n"
          ]
        }
      ],
      "source": [
        "x = torch.randn(5000, 5000)\n",
        "\n",
        "## CPU version\n",
        "start_time = time.time()\n",
        "_ = torch.matmul(x, x)\n",
        "end_time = time.time()\n",
        "print(\"CPU time: %6.5fs\" % (end_time - start_time))\n",
        "\n",
        "## GPU version\n",
        "x = x.to(device)\n",
        "# The first operation on a CUDA device can be slow as it has to establish a CPU-GPU communication first. \n",
        "# Hence, we run an arbitrary command first without timing it for a fair comparison.\n",
        "if torch.cuda.is_available():\n",
        "    _ = torch.matmul(x*0.0, x)\n",
        "start_time = time.time()\n",
        "_ = torch.matmul(x, x)\n",
        "end_time = time.time()\n",
        "print(\"GPU time: %6.5fs\" % (end_time - start_time))"
      ]
    },
    {
      "cell_type": "markdown",
      "metadata": {
        "id": "KzusLysSMEOh"
      },
      "source": [
        "Depending on the size of the operation and the CPU/GPU in your system, the speedup of this operation can be >50x. As `matmul` operations are very common in neural networks, we can already see the great benefit of training a NN on a GPU. The time estimate can be relatively noisy here because we haven't run it for multiple times. Feel free to extend this, but it also takes longer to run.\n",
        "\n",
        "When generating random numbers, the seed between CPU and GPU is not synchronized. Hence, we need to set the seed on the GPU separately to ensure a reproducible code. Note that due to different GPU architectures, running the same code on different GPUs does not guarantee the same random numbers. Still, we don't want that our code gives us a different output every time we run it on the exact same hardware. Hence, we also set the seed on the GPU:"
      ]
    },
    {
      "cell_type": "code",
      "execution_count": 33,
      "metadata": {
        "id": "yqrAb1RzMEOi"
      },
      "outputs": [],
      "source": [
        "# GPU operations have a separate seed we also want to set\n",
        "if torch.cuda.is_available(): \n",
        "    torch.cuda.manual_seed(42)\n",
        "    torch.cuda.manual_seed_all(42)\n",
        "    \n",
        "# Additionally, some operations on a GPU are implemented stochastic for efficiency\n",
        "# We want to ensure that all operations are deterministic on GPU (if used) for reproducibility\n",
        "torch.backends.cudnn.deterministic = True\n",
        "torch.backends.cudnn.benchmark = False"
      ]
    },
    {
      "cell_type": "markdown",
      "metadata": {
        "id": "pWNuPrGGMEOi"
      },
      "source": [
        "## Learning by example: Continuous XOR\n",
        "\n",
        "If we want to build a neural network in PyTorch, we could specify all our parameters (weight matrices, bias vectors) using `Tensors` (with `requires_grad=True`), ask PyTorch to calculate the gradients and then adjust the parameters. But things can quickly get cumbersome if we have a lot of parameters. In PyTorch, there is a package called `torch.nn` that makes building neural networks more convenient. \n",
        "\n",
        "We will introduce the libraries and all additional parts you might need to train a neural network in PyTorch, using a simple example classifier on a simple yet well known example: XOR. Given two binary inputs $x_1$ and $x_2$, the label to predict is $1$ if either $x_1$ or $x_2$ is $1$ while the other is $0$, or the label is $0$ in all other cases. The example became famous by the fact that a single neuron, i.e. a linear classifier, cannot learn this simple function.\n",
        "Hence, we will learn how to build a small neural network that can learn this function. \n",
        "To make it a little bit more interesting, we move the XOR into continuous space and introduce some gaussian noise on the binary inputs. Our desired separation of an XOR dataset could look as follows:\n",
        "\n",
        "<center style=\"width: 100%\"><img src=\"https://github.com/phlippe/uvadlc_notebooks/blob/master/docs/tutorial_notebooks/tutorial2/continuous_xor.svg?raw=1\" width=\"350px\"></center>"
      ]
    },
    {
      "cell_type": "markdown",
      "metadata": {
        "id": "C5pv7WZuMEOi"
      },
      "source": [
        "### The model\n",
        "\n",
        "The package `torch.nn` defines a series of useful classes like linear networks layers, activation functions, loss functions etc. A full list can be found [here](https://pytorch.org/docs/stable/nn.html). In case you need a certain network layer, check the documentation of the package first before writing the layer yourself as the package likely contains the code for it already. We import it below:"
      ]
    },
    {
      "cell_type": "code",
      "execution_count": 34,
      "metadata": {
        "id": "QRJRTfkTMEOi"
      },
      "outputs": [],
      "source": [
        "import torch.nn as nn"
      ]
    },
    {
      "cell_type": "markdown",
      "metadata": {
        "id": "MSQ0vOGRMEOi"
      },
      "source": [
        "Additionally to `torch.nn`, there is also `torch.nn.functional`. It contains functions that are used in network layers. This is in contrast to `torch.nn` which defines them as `nn.Modules` (more on it below), and `torch.nn` actually uses a lot of functionalities from `torch.nn.functional`. Hence, the functional package is useful in many situations, and so we import it as well here."
      ]
    },
    {
      "cell_type": "code",
      "execution_count": 35,
      "metadata": {
        "id": "QS-u_8f-MEOi"
      },
      "outputs": [],
      "source": [
        "import torch.nn.functional as F"
      ]
    },
    {
      "cell_type": "markdown",
      "metadata": {
        "id": "eyX1aGVUMEOj"
      },
      "source": [
        "#### nn.Module\n",
        "\n",
        "In PyTorch, a neural network is built up out of modules. Modules can contain other modules, and a neural network is considered to be a module itself as well. The basic template of a module is as follows:"
      ]
    },
    {
      "cell_type": "code",
      "execution_count": 36,
      "metadata": {
        "id": "oO9K5Z5nMEOj"
      },
      "outputs": [],
      "source": [
        "class MyModule(nn.Module):\n",
        "    \n",
        "    def __init__(self):\n",
        "        super().__init__()\n",
        "        # Some init for my module\n",
        "        \n",
        "    def forward(self, x):\n",
        "        # Function for performing the calculation of the module.\n",
        "        pass"
      ]
    },
    {
      "cell_type": "markdown",
      "metadata": {
        "id": "s9MvU9YaMEOj"
      },
      "source": [
        "The forward function is where the computation of the module is taken place, and is executed when you call the module (`nn = MyModule(); nn(x)`). In the init function, we usually create the parameters of the module, using `nn.Parameter`, or defining other modules that are used in the forward function. The backward calculation is done automatically, but could be overwritten as well if wanted.\n",
        "\n",
        "#### Simple classifier\n",
        "We can now make use of the pre-defined modules in the `torch.nn` package, and define our own small neural network. We will use a minimal network with a input layer, one hidden layer with tanh as activation function, and a output layer. In other words, our networks should look something like this:\n",
        "\n",
        "<center width=\"100%\"><img src=\"https://github.com/phlippe/uvadlc_notebooks/blob/master/docs/tutorial_notebooks/tutorial2/small_neural_network.svg?raw=1\" width=\"300px\"></center>\n",
        "\n",
        "The input neurons are shown in blue, which represent the coordinates $x_1$ and $x_2$ of a data point. The hidden neurons including a tanh activation are shown in white, and the output neuron in red.\n",
        "In PyTorch, we can define this as follows:"
      ]
    },
    {
      "cell_type": "code",
      "execution_count": 37,
      "metadata": {
        "id": "ul3iz5mbMEOj"
      },
      "outputs": [],
      "source": [
        "class SimpleClassifier(nn.Module):\n",
        "\n",
        "    def __init__(self, num_inputs, num_hidden, num_outputs):\n",
        "        super().__init__()\n",
        "        # Initialize the modules we need to build the network\n",
        "        self.linear1 = nn.Linear(num_inputs, num_hidden)\n",
        "        self.act_fn = nn.Tanh()\n",
        "        self.linear2 = nn.Linear(num_hidden, num_outputs)\n",
        "\n",
        "    def forward(self, x):\n",
        "        # Perform the calculation of the model to determine the prediction\n",
        "        x = self.linear1(x)\n",
        "        x = self.act_fn(x)\n",
        "        x = self.linear2(x)\n",
        "        return x"
      ]
    },
    {
      "cell_type": "markdown",
      "metadata": {
        "id": "vjlIKWeDMEOj"
      },
      "source": [
        "For the examples in this notebook, we will use a tiny neural network with two input neurons and four hidden neurons. As we perform binary classification, we will use a single output neuron. Note that we do not apply a sigmoid on the output yet. This is because other functions, especially the loss, are more efficient and precise to calculate on the original outputs instead of the sigmoid output. We will discuss the detailed reason later."
      ]
    },
    {
      "cell_type": "code",
      "execution_count": 38,
      "metadata": {
        "id": "QkKWqzB2MEOj",
        "outputId": "fa29c598-2445-4f34-990d-8a471af0b0f0"
      },
      "outputs": [
        {
          "name": "stdout",
          "output_type": "stream",
          "text": [
            "SimpleClassifier(\n",
            "  (linear1): Linear(in_features=2, out_features=4, bias=True)\n",
            "  (act_fn): Tanh()\n",
            "  (linear2): Linear(in_features=4, out_features=1, bias=True)\n",
            ")\n"
          ]
        }
      ],
      "source": [
        "model = SimpleClassifier(num_inputs=2, num_hidden=4, num_outputs=1)\n",
        "# Printing a module shows all its submodules\n",
        "print(model)"
      ]
    },
    {
      "cell_type": "markdown",
      "metadata": {
        "id": "XI-AWMXZMEOj"
      },
      "source": [
        "Printing the model lists all submodules it contains. The parameters of a module can be obtained by using its `parameters()` functions, or `named_parameters()` to get a name to each parameter object. For our small neural network, we have the following parameters:"
      ]
    },
    {
      "cell_type": "code",
      "execution_count": 39,
      "metadata": {
        "id": "IHyPwFPcMEOj",
        "outputId": "04bfd8f9-72f1-4ecb-acd0-93d55584cf3d"
      },
      "outputs": [
        {
          "name": "stdout",
          "output_type": "stream",
          "text": [
            "Parameter linear1.weight, shape torch.Size([4, 2])\n",
            "Parameter linear1.bias, shape torch.Size([4])\n",
            "Parameter linear2.weight, shape torch.Size([1, 4])\n",
            "Parameter linear2.bias, shape torch.Size([1])\n"
          ]
        }
      ],
      "source": [
        "for name, param in model.named_parameters():\n",
        "    print(f\"Parameter {name}, shape {param.shape}\")"
      ]
    },
    {
      "cell_type": "markdown",
      "metadata": {
        "id": "-j0MMe-AMEOk"
      },
      "source": [
        "Each linear layer has a weight matrix of the shape `[output, input]`, and a bias of the shape `[output]`. The tanh activation function does not have any parameters. Note that parameters are only registered for `nn.Module` objects that are direct object attributes, i.e. `self.a = ...`. If you define a list of modules, the parameters of those are not registered for the outer module and can cause some issues when you try to optimize your module. There are alternatives, like `nn.ModuleList`, `nn.ModuleDict` and `nn.Sequential`, that allow you to have different data structures of modules. We will use them in a few later tutorials and explain them there. "
      ]
    },
    {
      "cell_type": "markdown",
      "metadata": {
        "id": "_QkE6iJ6MEOk"
      },
      "source": [
        "### The data\n",
        "\n",
        "PyTorch also provides a few functionalities to load the training and test data efficiently, summarized in the package `torch.utils.data`."
      ]
    },
    {
      "cell_type": "code",
      "execution_count": 40,
      "metadata": {
        "id": "-9Wu-etrMEOk"
      },
      "outputs": [],
      "source": [
        "import torch.utils.data as data"
      ]
    },
    {
      "cell_type": "markdown",
      "metadata": {
        "id": "4LmqKt6rMEOk"
      },
      "source": [
        "The data package defines two classes which are the standard interface for handling data in PyTorch: `data.Dataset`, and `data.DataLoader`. The dataset class provides an uniform interface to access the training/test data, while the data loader makes sure to efficiently load and stack the data points from the dataset into batches during training."
      ]
    },
    {
      "cell_type": "markdown",
      "metadata": {
        "id": "rTlEHFB1MEOk"
      },
      "source": [
        "#### The dataset class\n",
        "\n",
        "The dataset class summarizes the basic functionality of a dataset in a natural way. To define a dataset in PyTorch, we simply specify two functions: `__getitem__`, and `__len__`. The get-item function has to return the $i$-th data point in the dataset, while the len function returns the size of the dataset. For the XOR dataset, we can define the dataset class as follows:"
      ]
    },
    {
      "cell_type": "code",
      "execution_count": 41,
      "metadata": {
        "id": "qy5L-vQsMEOk"
      },
      "outputs": [],
      "source": [
        "class XORDataset(data.Dataset):\n",
        "\n",
        "    def __init__(self, size, std=0.1):\n",
        "        \"\"\"\n",
        "        Inputs:\n",
        "            size - Number of data points we want to generate\n",
        "            std - Standard deviation of the noise (see generate_continuous_xor function)\n",
        "        \"\"\"\n",
        "        super().__init__()\n",
        "        self.size = size\n",
        "        self.std = std\n",
        "        self.generate_continuous_xor()\n",
        "\n",
        "    def generate_continuous_xor(self):\n",
        "        # Each data point in the XOR dataset has two variables, x and y, that can be either 0 or 1\n",
        "        # The label is their XOR combination, i.e. 1 if only x or only y is 1 while the other is 0.\n",
        "        # If x=y, the label is 0.\n",
        "        data = torch.randint(low=0, high=2, size=(self.size, 2), dtype=torch.float32)\n",
        "        label = (data.sum(dim=1) == 1).to(torch.long)\n",
        "        # To make it slightly more challenging, we add a bit of gaussian noise to the data points.\n",
        "        data += self.std * torch.randn(data.shape)\n",
        "\n",
        "        self.data = data\n",
        "        self.label = label\n",
        "\n",
        "    def __len__(self):\n",
        "        # Number of data point we have. Alternatively self.data.shape[0], or self.label.shape[0]\n",
        "        return self.size\n",
        "\n",
        "    def __getitem__(self, idx):\n",
        "        # Return the idx-th data point of the dataset\n",
        "        # If we have multiple things to return (data point and label), we can return them as tuple\n",
        "        data_point = self.data[idx]\n",
        "        data_label = self.label[idx]\n",
        "        return data_point, data_label"
      ]
    },
    {
      "cell_type": "markdown",
      "metadata": {
        "id": "f3mc-uGiMEOl"
      },
      "source": [
        "Let's try to create such a dataset and inspect it:"
      ]
    },
    {
      "cell_type": "code",
      "execution_count": 42,
      "metadata": {
        "id": "bZ7MjZaaMEOl",
        "outputId": "bf359344-b04e-4b30-cf3c-603ac589c93c"
      },
      "outputs": [
        {
          "name": "stdout",
          "output_type": "stream",
          "text": [
            "Size of dataset: 200\n",
            "Data point 0: (tensor([0.9632, 0.1117]), tensor(1))\n"
          ]
        }
      ],
      "source": [
        "dataset = XORDataset(size=200)\n",
        "print(\"Size of dataset:\", len(dataset))\n",
        "print(\"Data point 0:\", dataset[0])"
      ]
    },
    {
      "cell_type": "markdown",
      "metadata": {
        "id": "53C1VIe3MEOl"
      },
      "source": [
        "To better relate to the dataset, we visualize the samples below. "
      ]
    },
    {
      "cell_type": "code",
      "execution_count": 43,
      "metadata": {
        "id": "Htvi73J9MEOl"
      },
      "outputs": [],
      "source": [
        "def visualize_samples(data, label):\n",
        "    if isinstance(data, torch.Tensor):\n",
        "        data = data.cpu().numpy()\n",
        "    if isinstance(label, torch.Tensor):\n",
        "        label = label.cpu().numpy()\n",
        "    data_0 = data[label == 0]\n",
        "    data_1 = data[label == 1]\n",
        "    \n",
        "    plt.figure(figsize=(4,4))\n",
        "    plt.scatter(data_0[:,0], data_0[:,1], edgecolor=\"#333\", label=\"Class 0\")\n",
        "    plt.scatter(data_1[:,0], data_1[:,1], edgecolor=\"#333\", label=\"Class 1\")\n",
        "    plt.title(\"Dataset samples\")\n",
        "    plt.ylabel(r\"$x_2$\")\n",
        "    plt.xlabel(r\"$x_1$\")\n",
        "    plt.legend()"
      ]
    },
    {
      "cell_type": "code",
      "execution_count": 44,
      "metadata": {
        "id": "g9kJGU-8MEOm",
        "outputId": "3ef82ae9-460f-4039-8690-2e6d60d7e7c2"
      },
      "outputs": [
        {
          "data": {
            "application/pdf": "[encoded data removed]",
            "image/svg+xml": "<?xml version=\"1.0\" encoding=\"utf-8\" standalone=\"no\"?>\r\n<!DOCTYPE svg PUBLIC \"-//W3C//DTD SVG 1.1//EN\"\r\n  \"http://www.w3.org/Graphics/SVG/1.1/DTD/svg11.dtd\">\r\n<svg height=\"280.963594pt\" version=\"1.1\" viewBox=\"0 0 283.789062 280.963594\" width=\"283.789062pt\" xmlns=\"http://www.w3.org/2000/svg\" xmlns:xlink=\"http://www.w3.org/1999/xlink\">\r\n <metadata>\r\n  <rdf:RDF xmlns:cc=\"http://creativecommons.org/ns#\" xmlns:dc=\"http://purl.org/dc/elements/1.1/\" xmlns:rdf=\"http://www.w3.org/1999/02/22-rdf-syntax-ns#\">\r\n   <cc:Work>\r\n    <dc:type rdf:resource=\"http://purl.org/dc/dcmitype/StillImage\"/>\r\n    <dc:date>2023-02-16T17:59:26.674801</dc:date>\r\n    <dc:format>image/svg+xml</dc:format>\r\n    <dc:creator>\r\n     <cc:Agent>\r\n      <dc:title>Matplotlib v3.4.3, https://matplotlib.org/</dc:title>\r\n     </cc:Agent>\r\n    </dc:creator>\r\n   </cc:Work>\r\n  </rdf:RDF>\r\n </metadata>\r\n <defs>\r\n  <style type=\"text/css\">*{stroke-linecap:butt;stroke-linejoin:round;}</style>\r\n </defs>\r\n <g id=\"figure_1\">\r\n  <g id=\"patch_1\">\r\n   <path d=\"M 0 280.963594 \r\nL 283.789062 280.963594 \r\nL 283.789062 0 \r\nL 0 0 \r\nz\r\n\" style=\"fill:#ffffff;\"/>\r\n  </g>\r\n  <g id=\"axes_1\">\r\n   <g id=\"patch_2\">\r\n    <path d=\"M 53.389062 239.229375 \r\nL 276.589063 239.229375 \r\nL 276.589063 21.789375 \r\nL 53.389062 21.789375 \r\nz\r\n\" style=\"fill:#eaeaf2;\"/>\r\n   </g>\r\n   <g id=\"matplotlib.axis_1\">\r\n    <g id=\"xtick_1\">\r\n     <g id=\"line2d_1\">\r\n      <path clip-path=\"url(#p84c5f7d955)\" d=\"M 98.50043 239.229375 \r\nL 98.50043 21.789375 \r\n\" style=\"fill:none;stroke:#ffffff;stroke-linecap:round;\"/>\r\n     </g>\r\n     <g id=\"text_1\">\r\n      <!-- 0.0 -->\r\n      <g style=\"fill:#262626;\" transform=\"translate(90.85543 256.602969)scale(0.11 -0.11)\">\r\n       <defs>\r\n        <path d=\"M 266 2259 \r\nQ 266 3072 433 3567 \r\nQ 600 4063 929 4331 \r\nQ 1259 4600 1759 4600 \r\nQ 2128 4600 2406 4451 \r\nQ 2684 4303 2865 4023 \r\nQ 3047 3744 3150 3342 \r\nQ 3253 2941 3253 2259 \r\nQ 3253 1453 3087 958 \r\nQ 2922 463 2592 192 \r\nQ 2263 -78 1759 -78 \r\nQ 1097 -78 719 397 \r\nQ 266 969 266 2259 \r\nz\r\nM 844 2259 \r\nQ 844 1131 1108 757 \r\nQ 1372 384 1759 384 \r\nQ 2147 384 2411 759 \r\nQ 2675 1134 2675 2259 \r\nQ 2675 3391 2411 3762 \r\nQ 2147 4134 1753 4134 \r\nQ 1366 4134 1134 3806 \r\nQ 844 3388 844 2259 \r\nz\r\n\" id=\"ArialMT-30\" transform=\"scale(0.015625)\"/>\r\n        <path d=\"M 581 0 \r\nL 581 641 \r\nL 1222 641 \r\nL 1222 0 \r\nL 581 0 \r\nz\r\n\" id=\"ArialMT-2e\" transform=\"scale(0.015625)\"/>\r\n       </defs>\r\n       <use xlink:href=\"#ArialMT-30\"/>\r\n       <use x=\"55.615234\" xlink:href=\"#ArialMT-2e\"/>\r\n       <use x=\"83.398438\" xlink:href=\"#ArialMT-30\"/>\r\n      </g>\r\n     </g>\r\n    </g>\r\n    <g id=\"xtick_2\">\r\n     <g id=\"line2d_2\">\r\n      <path clip-path=\"url(#p84c5f7d955)\" d=\"M 167.852486 239.229375 \r\nL 167.852486 21.789375 \r\n\" style=\"fill:none;stroke:#ffffff;stroke-linecap:round;\"/>\r\n     </g>\r\n     <g id=\"text_2\">\r\n      <!-- 0.5 -->\r\n      <g style=\"fill:#262626;\" transform=\"translate(160.207486 256.602969)scale(0.11 -0.11)\">\r\n       <defs>\r\n        <path d=\"M 266 1200 \r\nL 856 1250 \r\nQ 922 819 1161 601 \r\nQ 1400 384 1738 384 \r\nQ 2144 384 2425 690 \r\nQ 2706 997 2706 1503 \r\nQ 2706 1984 2436 2262 \r\nQ 2166 2541 1728 2541 \r\nQ 1456 2541 1237 2417 \r\nQ 1019 2294 894 2097 \r\nL 366 2166 \r\nL 809 4519 \r\nL 3088 4519 \r\nL 3088 3981 \r\nL 1259 3981 \r\nL 1013 2750 \r\nQ 1425 3038 1878 3038 \r\nQ 2478 3038 2890 2622 \r\nQ 3303 2206 3303 1553 \r\nQ 3303 931 2941 478 \r\nQ 2500 -78 1738 -78 \r\nQ 1113 -78 717 272 \r\nQ 322 622 266 1200 \r\nz\r\n\" id=\"ArialMT-35\" transform=\"scale(0.015625)\"/>\r\n       </defs>\r\n       <use xlink:href=\"#ArialMT-30\"/>\r\n       <use x=\"55.615234\" xlink:href=\"#ArialMT-2e\"/>\r\n       <use x=\"83.398438\" xlink:href=\"#ArialMT-35\"/>\r\n      </g>\r\n     </g>\r\n    </g>\r\n    <g id=\"xtick_3\">\r\n     <g id=\"line2d_3\">\r\n      <path clip-path=\"url(#p84c5f7d955)\" d=\"M 237.204542 239.229375 \r\nL 237.204542 21.789375 \r\n\" style=\"fill:none;stroke:#ffffff;stroke-linecap:round;\"/>\r\n     </g>\r\n     <g id=\"text_3\">\r\n      <!-- 1.0 -->\r\n      <g style=\"fill:#262626;\" transform=\"translate(229.559542 256.602969)scale(0.11 -0.11)\">\r\n       <defs>\r\n        <path d=\"M 2384 0 \r\nL 1822 0 \r\nL 1822 3584 \r\nQ 1619 3391 1289 3197 \r\nQ 959 3003 697 2906 \r\nL 697 3450 \r\nQ 1169 3672 1522 3987 \r\nQ 1875 4303 2022 4600 \r\nL 2384 4600 \r\nL 2384 0 \r\nz\r\n\" id=\"ArialMT-31\" transform=\"scale(0.015625)\"/>\r\n       </defs>\r\n       <use xlink:href=\"#ArialMT-31\"/>\r\n       <use x=\"55.615234\" xlink:href=\"#ArialMT-2e\"/>\r\n       <use x=\"83.398438\" xlink:href=\"#ArialMT-30\"/>\r\n      </g>\r\n     </g>\r\n    </g>\r\n    <g id=\"text_4\">\r\n     <!-- $x_1$ -->\r\n     <g style=\"fill:#262626;\" transform=\"translate(158.569063 271.378594)scale(0.12 -0.12)\">\r\n      <defs>\r\n       <path d=\"M 3841 3500 \r\nL 2234 1784 \r\nL 3219 0 \r\nL 2559 0 \r\nL 1819 1388 \r\nL 531 0 \r\nL -166 0 \r\nL 1556 1844 \r\nL 641 3500 \r\nL 1300 3500 \r\nL 1972 2234 \r\nL 3144 3500 \r\nL 3841 3500 \r\nz\r\n\" id=\"DejaVuSans-Oblique-78\" transform=\"scale(0.015625)\"/>\r\n       <path d=\"M 794 531 \r\nL 1825 531 \r\nL 1825 4091 \r\nL 703 3866 \r\nL 703 4441 \r\nL 1819 4666 \r\nL 2450 4666 \r\nL 2450 531 \r\nL 3481 531 \r\nL 3481 0 \r\nL 794 0 \r\nL 794 531 \r\nz\r\n\" id=\"DejaVuSans-31\" transform=\"scale(0.015625)\"/>\r\n      </defs>\r\n      <use transform=\"translate(0 0.3125)\" xlink:href=\"#DejaVuSans-Oblique-78\"/>\r\n      <use transform=\"translate(59.179688 -16.09375)scale(0.7)\" xlink:href=\"#DejaVuSans-31\"/>\r\n     </g>\r\n    </g>\r\n   </g>\r\n   <g id=\"matplotlib.axis_2\">\r\n    <g id=\"ytick_1\">\r\n     <g id=\"line2d_4\">\r\n      <path clip-path=\"url(#p84c5f7d955)\" d=\"M 53.389062 223.41392 \r\nL 276.589063 223.41392 \r\n\" style=\"fill:none;stroke:#ffffff;stroke-linecap:round;\"/>\r\n     </g>\r\n     <g id=\"text_5\">\r\n      <!-- −0.2 -->\r\n      <g style=\"fill:#262626;\" transform=\"translate(22.174375 227.350717)scale(0.11 -0.11)\">\r\n       <defs>\r\n        <path d=\"M 3381 1997 \r\nL 356 1997 \r\nL 356 2522 \r\nL 3381 2522 \r\nL 3381 1997 \r\nz\r\n\" id=\"ArialMT-2212\" transform=\"scale(0.015625)\"/>\r\n        <path d=\"M 3222 541 \r\nL 3222 0 \r\nL 194 0 \r\nQ 188 203 259 391 \r\nQ 375 700 629 1000 \r\nQ 884 1300 1366 1694 \r\nQ 2113 2306 2375 2664 \r\nQ 2638 3022 2638 3341 \r\nQ 2638 3675 2398 3904 \r\nQ 2159 4134 1775 4134 \r\nQ 1369 4134 1125 3890 \r\nQ 881 3647 878 3216 \r\nL 300 3275 \r\nQ 359 3922 746 4261 \r\nQ 1134 4600 1788 4600 \r\nQ 2447 4600 2831 4234 \r\nQ 3216 3869 3216 3328 \r\nQ 3216 3053 3103 2787 \r\nQ 2991 2522 2730 2228 \r\nQ 2469 1934 1863 1422 \r\nQ 1356 997 1212 845 \r\nQ 1069 694 975 541 \r\nL 3222 541 \r\nz\r\n\" id=\"ArialMT-32\" transform=\"scale(0.015625)\"/>\r\n       </defs>\r\n       <use xlink:href=\"#ArialMT-2212\"/>\r\n       <use x=\"58.398438\" xlink:href=\"#ArialMT-30\"/>\r\n       <use x=\"114.013672\" xlink:href=\"#ArialMT-2e\"/>\r\n       <use x=\"141.796875\" xlink:href=\"#ArialMT-32\"/>\r\n      </g>\r\n     </g>\r\n    </g>\r\n    <g id=\"ytick_2\">\r\n     <g id=\"line2d_5\">\r\n      <path clip-path=\"url(#p84c5f7d955)\" d=\"M 53.389062 195.806867 \r\nL 276.589063 195.806867 \r\n\" style=\"fill:none;stroke:#ffffff;stroke-linecap:round;\"/>\r\n     </g>\r\n     <g id=\"text_6\">\r\n      <!-- 0.0 -->\r\n      <g style=\"fill:#262626;\" transform=\"translate(28.599062 199.743664)scale(0.11 -0.11)\">\r\n       <use xlink:href=\"#ArialMT-30\"/>\r\n       <use x=\"55.615234\" xlink:href=\"#ArialMT-2e\"/>\r\n       <use x=\"83.398438\" xlink:href=\"#ArialMT-30\"/>\r\n      </g>\r\n     </g>\r\n    </g>\r\n    <g id=\"ytick_3\">\r\n     <g id=\"line2d_6\">\r\n      <path clip-path=\"url(#p84c5f7d955)\" d=\"M 53.389062 168.199814 \r\nL 276.589063 168.199814 \r\n\" style=\"fill:none;stroke:#ffffff;stroke-linecap:round;\"/>\r\n     </g>\r\n     <g id=\"text_7\">\r\n      <!-- 0.2 -->\r\n      <g style=\"fill:#262626;\" transform=\"translate(28.599062 172.136611)scale(0.11 -0.11)\">\r\n       <use xlink:href=\"#ArialMT-30\"/>\r\n       <use x=\"55.615234\" xlink:href=\"#ArialMT-2e\"/>\r\n       <use x=\"83.398438\" xlink:href=\"#ArialMT-32\"/>\r\n      </g>\r\n     </g>\r\n    </g>\r\n    <g id=\"ytick_4\">\r\n     <g id=\"line2d_7\">\r\n      <path clip-path=\"url(#p84c5f7d955)\" d=\"M 53.389062 140.59276 \r\nL 276.589063 140.59276 \r\n\" style=\"fill:none;stroke:#ffffff;stroke-linecap:round;\"/>\r\n     </g>\r\n     <g id=\"text_8\">\r\n      <!-- 0.4 -->\r\n      <g style=\"fill:#262626;\" transform=\"translate(28.599062 144.529557)scale(0.11 -0.11)\">\r\n       <defs>\r\n        <path d=\"M 2069 0 \r\nL 2069 1097 \r\nL 81 1097 \r\nL 81 1613 \r\nL 2172 4581 \r\nL 2631 4581 \r\nL 2631 1613 \r\nL 3250 1613 \r\nL 3250 1097 \r\nL 2631 1097 \r\nL 2631 0 \r\nL 2069 0 \r\nz\r\nM 2069 1613 \r\nL 2069 3678 \r\nL 634 1613 \r\nL 2069 1613 \r\nz\r\n\" id=\"ArialMT-34\" transform=\"scale(0.015625)\"/>\r\n       </defs>\r\n       <use xlink:href=\"#ArialMT-30\"/>\r\n       <use x=\"55.615234\" xlink:href=\"#ArialMT-2e\"/>\r\n       <use x=\"83.398438\" xlink:href=\"#ArialMT-34\"/>\r\n      </g>\r\n     </g>\r\n    </g>\r\n    <g id=\"ytick_5\">\r\n     <g id=\"line2d_8\">\r\n      <path clip-path=\"url(#p84c5f7d955)\" d=\"M 53.389062 112.985707 \r\nL 276.589063 112.985707 \r\n\" style=\"fill:none;stroke:#ffffff;stroke-linecap:round;\"/>\r\n     </g>\r\n     <g id=\"text_9\">\r\n      <!-- 0.6 -->\r\n      <g style=\"fill:#262626;\" transform=\"translate(28.599062 116.922504)scale(0.11 -0.11)\">\r\n       <defs>\r\n        <path d=\"M 3184 3459 \r\nL 2625 3416 \r\nQ 2550 3747 2413 3897 \r\nQ 2184 4138 1850 4138 \r\nQ 1581 4138 1378 3988 \r\nQ 1113 3794 959 3422 \r\nQ 806 3050 800 2363 \r\nQ 1003 2672 1297 2822 \r\nQ 1591 2972 1913 2972 \r\nQ 2475 2972 2870 2558 \r\nQ 3266 2144 3266 1488 \r\nQ 3266 1056 3080 686 \r\nQ 2894 316 2569 119 \r\nQ 2244 -78 1831 -78 \r\nQ 1128 -78 684 439 \r\nQ 241 956 241 2144 \r\nQ 241 3472 731 4075 \r\nQ 1159 4600 1884 4600 \r\nQ 2425 4600 2770 4297 \r\nQ 3116 3994 3184 3459 \r\nz\r\nM 888 1484 \r\nQ 888 1194 1011 928 \r\nQ 1134 663 1356 523 \r\nQ 1578 384 1822 384 \r\nQ 2178 384 2434 671 \r\nQ 2691 959 2691 1453 \r\nQ 2691 1928 2437 2201 \r\nQ 2184 2475 1800 2475 \r\nQ 1419 2475 1153 2201 \r\nQ 888 1928 888 1484 \r\nz\r\n\" id=\"ArialMT-36\" transform=\"scale(0.015625)\"/>\r\n       </defs>\r\n       <use xlink:href=\"#ArialMT-30\"/>\r\n       <use x=\"55.615234\" xlink:href=\"#ArialMT-2e\"/>\r\n       <use x=\"83.398438\" xlink:href=\"#ArialMT-36\"/>\r\n      </g>\r\n     </g>\r\n    </g>\r\n    <g id=\"ytick_6\">\r\n     <g id=\"line2d_9\">\r\n      <path clip-path=\"url(#p84c5f7d955)\" d=\"M 53.389062 85.378654 \r\nL 276.589063 85.378654 \r\n\" style=\"fill:none;stroke:#ffffff;stroke-linecap:round;\"/>\r\n     </g>\r\n     <g id=\"text_10\">\r\n      <!-- 0.8 -->\r\n      <g style=\"fill:#262626;\" transform=\"translate(28.599062 89.315451)scale(0.11 -0.11)\">\r\n       <defs>\r\n        <path d=\"M 1131 2484 \r\nQ 781 2613 612 2850 \r\nQ 444 3088 444 3419 \r\nQ 444 3919 803 4259 \r\nQ 1163 4600 1759 4600 \r\nQ 2359 4600 2725 4251 \r\nQ 3091 3903 3091 3403 \r\nQ 3091 3084 2923 2848 \r\nQ 2756 2613 2416 2484 \r\nQ 2838 2347 3058 2040 \r\nQ 3278 1734 3278 1309 \r\nQ 3278 722 2862 322 \r\nQ 2447 -78 1769 -78 \r\nQ 1091 -78 675 323 \r\nQ 259 725 259 1325 \r\nQ 259 1772 486 2073 \r\nQ 713 2375 1131 2484 \r\nz\r\nM 1019 3438 \r\nQ 1019 3113 1228 2906 \r\nQ 1438 2700 1772 2700 \r\nQ 2097 2700 2305 2904 \r\nQ 2513 3109 2513 3406 \r\nQ 2513 3716 2298 3927 \r\nQ 2084 4138 1766 4138 \r\nQ 1444 4138 1231 3931 \r\nQ 1019 3725 1019 3438 \r\nz\r\nM 838 1322 \r\nQ 838 1081 952 856 \r\nQ 1066 631 1291 507 \r\nQ 1516 384 1775 384 \r\nQ 2178 384 2440 643 \r\nQ 2703 903 2703 1303 \r\nQ 2703 1709 2433 1975 \r\nQ 2163 2241 1756 2241 \r\nQ 1359 2241 1098 1978 \r\nQ 838 1716 838 1322 \r\nz\r\n\" id=\"ArialMT-38\" transform=\"scale(0.015625)\"/>\r\n       </defs>\r\n       <use xlink:href=\"#ArialMT-30\"/>\r\n       <use x=\"55.615234\" xlink:href=\"#ArialMT-2e\"/>\r\n       <use x=\"83.398438\" xlink:href=\"#ArialMT-38\"/>\r\n      </g>\r\n     </g>\r\n    </g>\r\n    <g id=\"ytick_7\">\r\n     <g id=\"line2d_10\">\r\n      <path clip-path=\"url(#p84c5f7d955)\" d=\"M 53.389062 57.771601 \r\nL 276.589063 57.771601 \r\n\" style=\"fill:none;stroke:#ffffff;stroke-linecap:round;\"/>\r\n     </g>\r\n     <g id=\"text_11\">\r\n      <!-- 1.0 -->\r\n      <g style=\"fill:#262626;\" transform=\"translate(28.599062 61.708397)scale(0.11 -0.11)\">\r\n       <use xlink:href=\"#ArialMT-31\"/>\r\n       <use x=\"55.615234\" xlink:href=\"#ArialMT-2e\"/>\r\n       <use x=\"83.398438\" xlink:href=\"#ArialMT-30\"/>\r\n      </g>\r\n     </g>\r\n    </g>\r\n    <g id=\"ytick_8\">\r\n     <g id=\"line2d_11\">\r\n      <path clip-path=\"url(#p84c5f7d955)\" d=\"M 53.389062 30.164547 \r\nL 276.589063 30.164547 \r\n\" style=\"fill:none;stroke:#ffffff;stroke-linecap:round;\"/>\r\n     </g>\r\n     <g id=\"text_12\">\r\n      <!-- 1.2 -->\r\n      <g style=\"fill:#262626;\" transform=\"translate(28.599062 34.101344)scale(0.11 -0.11)\">\r\n       <use xlink:href=\"#ArialMT-31\"/>\r\n       <use x=\"55.615234\" xlink:href=\"#ArialMT-2e\"/>\r\n       <use x=\"83.398438\" xlink:href=\"#ArialMT-32\"/>\r\n      </g>\r\n     </g>\r\n    </g>\r\n    <g id=\"text_13\">\r\n     <!-- $x_2$ -->\r\n     <g style=\"fill:#262626;\" transform=\"translate(15.789375 136.929375)rotate(-90)scale(0.12 -0.12)\">\r\n      <defs>\r\n       <path d=\"M 1228 531 \r\nL 3431 531 \r\nL 3431 0 \r\nL 469 0 \r\nL 469 531 \r\nQ 828 903 1448 1529 \r\nQ 2069 2156 2228 2338 \r\nQ 2531 2678 2651 2914 \r\nQ 2772 3150 2772 3378 \r\nQ 2772 3750 2511 3984 \r\nQ 2250 4219 1831 4219 \r\nQ 1534 4219 1204 4116 \r\nQ 875 4013 500 3803 \r\nL 500 4441 \r\nQ 881 4594 1212 4672 \r\nQ 1544 4750 1819 4750 \r\nQ 2544 4750 2975 4387 \r\nQ 3406 4025 3406 3419 \r\nQ 3406 3131 3298 2873 \r\nQ 3191 2616 2906 2266 \r\nQ 2828 2175 2409 1742 \r\nQ 1991 1309 1228 531 \r\nz\r\n\" id=\"DejaVuSans-32\" transform=\"scale(0.015625)\"/>\r\n      </defs>\r\n      <use transform=\"translate(0 0.3125)\" xlink:href=\"#DejaVuSans-Oblique-78\"/>\r\n      <use transform=\"translate(59.179688 -16.09375)scale(0.7)\" xlink:href=\"#DejaVuSans-32\"/>\r\n     </g>\r\n    </g>\r\n   </g>\r\n   <g id=\"PathCollection_1\">\r\n    <defs>\r\n     <path d=\"M 0 3 \r\nC 0.795609 3 1.55874 2.683901 2.12132 2.12132 \r\nC 2.683901 1.55874 3 0.795609 3 0 \r\nC 3 -0.795609 2.683901 -1.55874 2.12132 -2.12132 \r\nC 1.55874 -2.683901 0.795609 -3 0 -3 \r\nC -0.795609 -3 -1.55874 -2.683901 -2.12132 -2.12132 \r\nC -2.683901 -1.55874 -3 -0.795609 -3 0 \r\nC -3 0.795609 -2.683901 1.55874 -2.12132 2.12132 \r\nC -1.55874 2.683901 -0.795609 3 0 3 \r\nz\r\n\" id=\"mfea203411d\" style=\"stroke:#333333;\"/>\r\n    </defs>\r\n    <g clip-path=\"url(#p84c5f7d955)\">\r\n     <use style=\"fill:#4c72b0;stroke:#333333;\" x=\"97.539805\" xlink:href=\"#mfea203411d\" y=\"192.796594\"/>\r\n     <use style=\"fill:#4c72b0;stroke:#333333;\" x=\"233.285782\" xlink:href=\"#mfea203411d\" y=\"61.616299\"/>\r\n     <use style=\"fill:#4c72b0;stroke:#333333;\" x=\"260.207567\" xlink:href=\"#mfea203411d\" y=\"63.251712\"/>\r\n     <use style=\"fill:#4c72b0;stroke:#333333;\" x=\"110.141494\" xlink:href=\"#mfea203411d\" y=\"203.880828\"/>\r\n     <use style=\"fill:#4c72b0;stroke:#333333;\" x=\"102.553933\" xlink:href=\"#mfea203411d\" y=\"204.514265\"/>\r\n     <use style=\"fill:#4c72b0;stroke:#333333;\" x=\"72.211579\" xlink:href=\"#mfea203411d\" y=\"189.031679\"/>\r\n     <use style=\"fill:#4c72b0;stroke:#333333;\" x=\"244.113666\" xlink:href=\"#mfea203411d\" y=\"58.037383\"/>\r\n     <use style=\"fill:#4c72b0;stroke:#333333;\" x=\"233.244834\" xlink:href=\"#mfea203411d\" y=\"50.911771\"/>\r\n     <use style=\"fill:#4c72b0;stroke:#333333;\" x=\"95.207068\" xlink:href=\"#mfea203411d\" y=\"204.021937\"/>\r\n     <use style=\"fill:#4c72b0;stroke:#333333;\" x=\"238.767099\" xlink:href=\"#mfea203411d\" y=\"53.043297\"/>\r\n     <use style=\"fill:#4c72b0;stroke:#333333;\" x=\"104.771234\" xlink:href=\"#mfea203411d\" y=\"199.781085\"/>\r\n     <use style=\"fill:#4c72b0;stroke:#333333;\" x=\"256.783223\" xlink:href=\"#mfea203411d\" y=\"31.673011\"/>\r\n     <use style=\"fill:#4c72b0;stroke:#333333;\" x=\"239.286127\" xlink:href=\"#mfea203411d\" y=\"62.060973\"/>\r\n     <use style=\"fill:#4c72b0;stroke:#333333;\" x=\"233.398186\" xlink:href=\"#mfea203411d\" y=\"57.225703\"/>\r\n     <use style=\"fill:#4c72b0;stroke:#333333;\" x=\"95.492302\" xlink:href=\"#mfea203411d\" y=\"212.097418\"/>\r\n     <use style=\"fill:#4c72b0;stroke:#333333;\" x=\"90.45996\" xlink:href=\"#mfea203411d\" y=\"184.508921\"/>\r\n     <use style=\"fill:#4c72b0;stroke:#333333;\" x=\"252.495546\" xlink:href=\"#mfea203411d\" y=\"90.284942\"/>\r\n     <use style=\"fill:#4c72b0;stroke:#333333;\" x=\"256.043604\" xlink:href=\"#mfea203411d\" y=\"83.224352\"/>\r\n     <use style=\"fill:#4c72b0;stroke:#333333;\" x=\"227.333462\" xlink:href=\"#mfea203411d\" y=\"58.609485\"/>\r\n     <use style=\"fill:#4c72b0;stroke:#333333;\" x=\"83.251017\" xlink:href=\"#mfea203411d\" y=\"208.673493\"/>\r\n     <use style=\"fill:#4c72b0;stroke:#333333;\" x=\"255.201254\" xlink:href=\"#mfea203411d\" y=\"32.09617\"/>\r\n     <use style=\"fill:#4c72b0;stroke:#333333;\" x=\"246.379035\" xlink:href=\"#mfea203411d\" y=\"59.427048\"/>\r\n     <use style=\"fill:#4c72b0;stroke:#333333;\" x=\"115.650112\" xlink:href=\"#mfea203411d\" y=\"175.30868\"/>\r\n     <use style=\"fill:#4c72b0;stroke:#333333;\" x=\"229.885909\" xlink:href=\"#mfea203411d\" y=\"31.807499\"/>\r\n     <use style=\"fill:#4c72b0;stroke:#333333;\" x=\"101.009139\" xlink:href=\"#mfea203411d\" y=\"194.248465\"/>\r\n     <use style=\"fill:#4c72b0;stroke:#333333;\" x=\"229.0353\" xlink:href=\"#mfea203411d\" y=\"50.97616\"/>\r\n     <use style=\"fill:#4c72b0;stroke:#333333;\" x=\"88.109479\" xlink:href=\"#mfea203411d\" y=\"178.963997\"/>\r\n     <use style=\"fill:#4c72b0;stroke:#333333;\" x=\"251.955188\" xlink:href=\"#mfea203411d\" y=\"48.24534\"/>\r\n     <use style=\"fill:#4c72b0;stroke:#333333;\" x=\"247.624405\" xlink:href=\"#mfea203411d\" y=\"60.983995\"/>\r\n     <use style=\"fill:#4c72b0;stroke:#333333;\" x=\"241.407644\" xlink:href=\"#mfea203411d\" y=\"43.16526\"/>\r\n     <use style=\"fill:#4c72b0;stroke:#333333;\" x=\"93.569105\" xlink:href=\"#mfea203411d\" y=\"183.844502\"/>\r\n     <use style=\"fill:#4c72b0;stroke:#333333;\" x=\"105.73424\" xlink:href=\"#mfea203411d\" y=\"209.180969\"/>\r\n     <use style=\"fill:#4c72b0;stroke:#333333;\" x=\"88.588564\" xlink:href=\"#mfea203411d\" y=\"169.096852\"/>\r\n     <use style=\"fill:#4c72b0;stroke:#333333;\" x=\"98.973611\" xlink:href=\"#mfea203411d\" y=\"200.790079\"/>\r\n     <use style=\"fill:#4c72b0;stroke:#333333;\" x=\"113.430582\" xlink:href=\"#mfea203411d\" y=\"200.338872\"/>\r\n     <use style=\"fill:#4c72b0;stroke:#333333;\" x=\"94.61486\" xlink:href=\"#mfea203411d\" y=\"195.173102\"/>\r\n     <use style=\"fill:#4c72b0;stroke:#333333;\" x=\"114.190533\" xlink:href=\"#mfea203411d\" y=\"211.683003\"/>\r\n     <use style=\"fill:#4c72b0;stroke:#333333;\" x=\"215.151649\" xlink:href=\"#mfea203411d\" y=\"39.091573\"/>\r\n     <use style=\"fill:#4c72b0;stroke:#333333;\" x=\"254.637069\" xlink:href=\"#mfea203411d\" y=\"64.076079\"/>\r\n     <use style=\"fill:#4c72b0;stroke:#333333;\" x=\"239.430724\" xlink:href=\"#mfea203411d\" y=\"63.231036\"/>\r\n     <use style=\"fill:#4c72b0;stroke:#333333;\" x=\"94.562884\" xlink:href=\"#mfea203411d\" y=\"204.881855\"/>\r\n     <use style=\"fill:#4c72b0;stroke:#333333;\" x=\"223.92514\" xlink:href=\"#mfea203411d\" y=\"88.563896\"/>\r\n     <use style=\"fill:#4c72b0;stroke:#333333;\" x=\"247.295643\" xlink:href=\"#mfea203411d\" y=\"56.252615\"/>\r\n     <use style=\"fill:#4c72b0;stroke:#333333;\" x=\"99.136481\" xlink:href=\"#mfea203411d\" y=\"211.598331\"/>\r\n     <use style=\"fill:#4c72b0;stroke:#333333;\" x=\"111.837039\" xlink:href=\"#mfea203411d\" y=\"217.149042\"/>\r\n     <use style=\"fill:#4c72b0;stroke:#333333;\" x=\"120.506731\" xlink:href=\"#mfea203411d\" y=\"176.49922\"/>\r\n     <use style=\"fill:#4c72b0;stroke:#333333;\" x=\"230.6594\" xlink:href=\"#mfea203411d\" y=\"71.339329\"/>\r\n     <use style=\"fill:#4c72b0;stroke:#333333;\" x=\"218.336148\" xlink:href=\"#mfea203411d\" y=\"43.829963\"/>\r\n     <use style=\"fill:#4c72b0;stroke:#333333;\" x=\"91.649126\" xlink:href=\"#mfea203411d\" y=\"205.284806\"/>\r\n     <use style=\"fill:#4c72b0;stroke:#333333;\" x=\"231.865739\" xlink:href=\"#mfea203411d\" y=\"67.956937\"/>\r\n     <use style=\"fill:#4c72b0;stroke:#333333;\" x=\"99.870646\" xlink:href=\"#mfea203411d\" y=\"200.504594\"/>\r\n     <use style=\"fill:#4c72b0;stroke:#333333;\" x=\"243.524679\" xlink:href=\"#mfea203411d\" y=\"33.080514\"/>\r\n     <use style=\"fill:#4c72b0;stroke:#333333;\" x=\"96.395169\" xlink:href=\"#mfea203411d\" y=\"188.231284\"/>\r\n     <use style=\"fill:#4c72b0;stroke:#333333;\" x=\"228.888058\" xlink:href=\"#mfea203411d\" y=\"76.047203\"/>\r\n     <use style=\"fill:#4c72b0;stroke:#333333;\" x=\"240.390719\" xlink:href=\"#mfea203411d\" y=\"46.907755\"/>\r\n     <use style=\"fill:#4c72b0;stroke:#333333;\" x=\"72.21366\" xlink:href=\"#mfea203411d\" y=\"190.080253\"/>\r\n     <use style=\"fill:#4c72b0;stroke:#333333;\" x=\"218.212807\" xlink:href=\"#mfea203411d\" y=\"46.668317\"/>\r\n     <use style=\"fill:#4c72b0;stroke:#333333;\" x=\"248.57056\" xlink:href=\"#mfea203411d\" y=\"65.08615\"/>\r\n     <use style=\"fill:#4c72b0;stroke:#333333;\" x=\"84.170637\" xlink:href=\"#mfea203411d\" y=\"196.294339\"/>\r\n     <use style=\"fill:#4c72b0;stroke:#333333;\" x=\"95.838332\" xlink:href=\"#mfea203411d\" y=\"229.345739\"/>\r\n     <use style=\"fill:#4c72b0;stroke:#333333;\" x=\"95.293269\" xlink:href=\"#mfea203411d\" y=\"199.343495\"/>\r\n     <use style=\"fill:#4c72b0;stroke:#333333;\" x=\"77.154625\" xlink:href=\"#mfea203411d\" y=\"199.478787\"/>\r\n     <use style=\"fill:#4c72b0;stroke:#333333;\" x=\"262.790256\" xlink:href=\"#mfea203411d\" y=\"65.223862\"/>\r\n     <use style=\"fill:#4c72b0;stroke:#333333;\" x=\"228.879584\" xlink:href=\"#mfea203411d\" y=\"73.230825\"/>\r\n     <use style=\"fill:#4c72b0;stroke:#333333;\" x=\"254.79415\" xlink:href=\"#mfea203411d\" y=\"39.151107\"/>\r\n     <use style=\"fill:#4c72b0;stroke:#333333;\" x=\"77.718849\" xlink:href=\"#mfea203411d\" y=\"184.792307\"/>\r\n     <use style=\"fill:#4c72b0;stroke:#333333;\" x=\"240.12565\" xlink:href=\"#mfea203411d\" y=\"81.900837\"/>\r\n     <use style=\"fill:#4c72b0;stroke:#333333;\" x=\"250.451214\" xlink:href=\"#mfea203411d\" y=\"89.132839\"/>\r\n     <use style=\"fill:#4c72b0;stroke:#333333;\" x=\"119.616061\" xlink:href=\"#mfea203411d\" y=\"217.774818\"/>\r\n     <use style=\"fill:#4c72b0;stroke:#333333;\" x=\"109.938832\" xlink:href=\"#mfea203411d\" y=\"206.541797\"/>\r\n     <use style=\"fill:#4c72b0;stroke:#333333;\" x=\"96.188484\" xlink:href=\"#mfea203411d\" y=\"189.495096\"/>\r\n     <use style=\"fill:#4c72b0;stroke:#333333;\" x=\"97.03243\" xlink:href=\"#mfea203411d\" y=\"187.182806\"/>\r\n     <use style=\"fill:#4c72b0;stroke:#333333;\" x=\"240.737471\" xlink:href=\"#mfea203411d\" y=\"53.340674\"/>\r\n     <use style=\"fill:#4c72b0;stroke:#333333;\" x=\"228.199143\" xlink:href=\"#mfea203411d\" y=\"87.625356\"/>\r\n     <use style=\"fill:#4c72b0;stroke:#333333;\" x=\"96.144984\" xlink:href=\"#mfea203411d\" y=\"194.992808\"/>\r\n     <use style=\"fill:#4c72b0;stroke:#333333;\" x=\"108.219394\" xlink:href=\"#mfea203411d\" y=\"186.321721\"/>\r\n     <use style=\"fill:#4c72b0;stroke:#333333;\" x=\"109.796082\" xlink:href=\"#mfea203411d\" y=\"193.589053\"/>\r\n     <use style=\"fill:#4c72b0;stroke:#333333;\" x=\"240.455536\" xlink:href=\"#mfea203411d\" y=\"37.061723\"/>\r\n     <use style=\"fill:#4c72b0;stroke:#333333;\" x=\"239.545509\" xlink:href=\"#mfea203411d\" y=\"35.225533\"/>\r\n     <use style=\"fill:#4c72b0;stroke:#333333;\" x=\"98.222624\" xlink:href=\"#mfea203411d\" y=\"207.579594\"/>\r\n     <use style=\"fill:#4c72b0;stroke:#333333;\" x=\"251.260163\" xlink:href=\"#mfea203411d\" y=\"37.172844\"/>\r\n     <use style=\"fill:#4c72b0;stroke:#333333;\" x=\"233.587526\" xlink:href=\"#mfea203411d\" y=\"71.845948\"/>\r\n     <use style=\"fill:#4c72b0;stroke:#333333;\" x=\"249.427841\" xlink:href=\"#mfea203411d\" y=\"33.045119\"/>\r\n     <use style=\"fill:#4c72b0;stroke:#333333;\" x=\"89.657172\" xlink:href=\"#mfea203411d\" y=\"192.42429\"/>\r\n     <use style=\"fill:#4c72b0;stroke:#333333;\" x=\"235.498695\" xlink:href=\"#mfea203411d\" y=\"47.466685\"/>\r\n     <use style=\"fill:#4c72b0;stroke:#333333;\" x=\"99.764129\" xlink:href=\"#mfea203411d\" y=\"211.986675\"/>\r\n     <use style=\"fill:#4c72b0;stroke:#333333;\" x=\"109.028232\" xlink:href=\"#mfea203411d\" y=\"203.781956\"/>\r\n     <use style=\"fill:#4c72b0;stroke:#333333;\" x=\"88.954921\" xlink:href=\"#mfea203411d\" y=\"190.687838\"/>\r\n     <use style=\"fill:#4c72b0;stroke:#333333;\" x=\"214.045123\" xlink:href=\"#mfea203411d\" y=\"53.312601\"/>\r\n     <use style=\"fill:#4c72b0;stroke:#333333;\" x=\"226.396293\" xlink:href=\"#mfea203411d\" y=\"47.312386\"/>\r\n     <use style=\"fill:#4c72b0;stroke:#333333;\" x=\"203.870869\" xlink:href=\"#mfea203411d\" y=\"44.164363\"/>\r\n     <use style=\"fill:#4c72b0;stroke:#333333;\" x=\"88.209656\" xlink:href=\"#mfea203411d\" y=\"191.006099\"/>\r\n     <use style=\"fill:#4c72b0;stroke:#333333;\" x=\"117.915548\" xlink:href=\"#mfea203411d\" y=\"206.446396\"/>\r\n     <use style=\"fill:#4c72b0;stroke:#333333;\" x=\"93.004906\" xlink:href=\"#mfea203411d\" y=\"209.289121\"/>\r\n     <use style=\"fill:#4c72b0;stroke:#333333;\" x=\"227.120221\" xlink:href=\"#mfea203411d\" y=\"90.176684\"/>\r\n     <use style=\"fill:#4c72b0;stroke:#333333;\" x=\"103.315363\" xlink:href=\"#mfea203411d\" y=\"194.774524\"/>\r\n     <use style=\"fill:#4c72b0;stroke:#333333;\" x=\"96.133368\" xlink:href=\"#mfea203411d\" y=\"188.619367\"/>\r\n     <use style=\"fill:#4c72b0;stroke:#333333;\" x=\"90.744113\" xlink:href=\"#mfea203411d\" y=\"199.694644\"/>\r\n     <use style=\"fill:#4c72b0;stroke:#333333;\" x=\"100.395289\" xlink:href=\"#mfea203411d\" y=\"207.677376\"/>\r\n     <use style=\"fill:#4c72b0;stroke:#333333;\" x=\"212.80607\" xlink:href=\"#mfea203411d\" y=\"57.339227\"/>\r\n     <use style=\"fill:#4c72b0;stroke:#333333;\" x=\"221.979538\" xlink:href=\"#mfea203411d\" y=\"40.940845\"/>\r\n     <use style=\"fill:#4c72b0;stroke:#333333;\" x=\"73.365903\" xlink:href=\"#mfea203411d\" y=\"213.916732\"/>\r\n     <use style=\"fill:#4c72b0;stroke:#333333;\" x=\"237.144488\" xlink:href=\"#mfea203411d\" y=\"79.936174\"/>\r\n    </g>\r\n   </g>\r\n   <g id=\"PathCollection_2\">\r\n    <defs>\r\n     <path d=\"M 0 3 \r\nC 0.795609 3 1.55874 2.683901 2.12132 2.12132 \r\nC 2.683901 1.55874 3 0.795609 3 0 \r\nC 3 -0.795609 2.683901 -1.55874 2.12132 -2.12132 \r\nC 1.55874 -2.683901 0.795609 -3 0 -3 \r\nC -0.795609 -3 -1.55874 -2.683901 -2.12132 -2.12132 \r\nC -2.683901 -1.55874 -3 -0.795609 -3 0 \r\nC -3 0.795609 -2.683901 1.55874 -2.12132 2.12132 \r\nC -1.55874 2.683901 -0.795609 3 0 3 \r\nz\r\n\" id=\"mafb1305522\" style=\"stroke:#333333;\"/>\r\n    </defs>\r\n    <g clip-path=\"url(#p84c5f7d955)\">\r\n     <use style=\"fill:#dd8452;stroke:#333333;\" x=\"232.105188\" xlink:href=\"#mafb1305522\" y=\"180.384807\"/>\r\n     <use style=\"fill:#dd8452;stroke:#333333;\" x=\"245.070552\" xlink:href=\"#mafb1305522\" y=\"180.655236\"/>\r\n     <use style=\"fill:#dd8452;stroke:#333333;\" x=\"233.245222\" xlink:href=\"#mafb1305522\" y=\"198.403574\"/>\r\n     <use style=\"fill:#dd8452;stroke:#333333;\" x=\"90.974501\" xlink:href=\"#mafb1305522\" y=\"44.864248\"/>\r\n     <use style=\"fill:#dd8452;stroke:#333333;\" x=\"251.914562\" xlink:href=\"#mafb1305522\" y=\"201.070978\"/>\r\n     <use style=\"fill:#dd8452;stroke:#333333;\" x=\"101.62853\" xlink:href=\"#mafb1305522\" y=\"63.024739\"/>\r\n     <use style=\"fill:#dd8452;stroke:#333333;\" x=\"221.090163\" xlink:href=\"#mafb1305522\" y=\"210.821264\"/>\r\n     <use style=\"fill:#dd8452;stroke:#333333;\" x=\"131.826785\" xlink:href=\"#mafb1305522\" y=\"59.070277\"/>\r\n     <use style=\"fill:#dd8452;stroke:#333333;\" x=\"248.764183\" xlink:href=\"#mafb1305522\" y=\"216.668216\"/>\r\n     <use style=\"fill:#dd8452;stroke:#333333;\" x=\"216.025291\" xlink:href=\"#mafb1305522\" y=\"185.029159\"/>\r\n     <use style=\"fill:#dd8452;stroke:#333333;\" x=\"231.135032\" xlink:href=\"#mafb1305522\" y=\"172.489138\"/>\r\n     <use style=\"fill:#dd8452;stroke:#333333;\" x=\"66.959267\" xlink:href=\"#mafb1305522\" y=\"44.038054\"/>\r\n     <use style=\"fill:#dd8452;stroke:#333333;\" x=\"117.813699\" xlink:href=\"#mafb1305522\" y=\"45.004264\"/>\r\n     <use style=\"fill:#dd8452;stroke:#333333;\" x=\"97.705625\" xlink:href=\"#mafb1305522\" y=\"75.967075\"/>\r\n     <use style=\"fill:#dd8452;stroke:#333333;\" x=\"98.016512\" xlink:href=\"#mafb1305522\" y=\"41.562716\"/>\r\n     <use style=\"fill:#dd8452;stroke:#333333;\" x=\"76.936672\" xlink:href=\"#mafb1305522\" y=\"38.501823\"/>\r\n     <use style=\"fill:#dd8452;stroke:#333333;\" x=\"235.150182\" xlink:href=\"#mafb1305522\" y=\"201.228468\"/>\r\n     <use style=\"fill:#dd8452;stroke:#333333;\" x=\"217.510895\" xlink:href=\"#mafb1305522\" y=\"180.237981\"/>\r\n     <use style=\"fill:#dd8452;stroke:#333333;\" x=\"227.173678\" xlink:href=\"#mafb1305522\" y=\"182.303982\"/>\r\n     <use style=\"fill:#dd8452;stroke:#333333;\" x=\"109.116969\" xlink:href=\"#mafb1305522\" y=\"58.73029\"/>\r\n     <use style=\"fill:#dd8452;stroke:#333333;\" x=\"213.494439\" xlink:href=\"#mafb1305522\" y=\"191.618659\"/>\r\n     <use style=\"fill:#dd8452;stroke:#333333;\" x=\"258.317538\" xlink:href=\"#mafb1305522\" y=\"200.013787\"/>\r\n     <use style=\"fill:#dd8452;stroke:#333333;\" x=\"249.756222\" xlink:href=\"#mafb1305522\" y=\"197.579163\"/>\r\n     <use style=\"fill:#dd8452;stroke:#333333;\" x=\"224.503784\" xlink:href=\"#mafb1305522\" y=\"201.58701\"/>\r\n     <use style=\"fill:#dd8452;stroke:#333333;\" x=\"255.852775\" xlink:href=\"#mafb1305522\" y=\"175.927404\"/>\r\n     <use style=\"fill:#dd8452;stroke:#333333;\" x=\"84.428858\" xlink:href=\"#mafb1305522\" y=\"69.646627\"/>\r\n     <use style=\"fill:#dd8452;stroke:#333333;\" x=\"252.952221\" xlink:href=\"#mafb1305522\" y=\"178.861314\"/>\r\n     <use style=\"fill:#dd8452;stroke:#333333;\" x=\"112.047412\" xlink:href=\"#mafb1305522\" y=\"54.594453\"/>\r\n     <use style=\"fill:#dd8452;stroke:#333333;\" x=\"233.354476\" xlink:href=\"#mafb1305522\" y=\"178.140314\"/>\r\n     <use style=\"fill:#dd8452;stroke:#333333;\" x=\"69.726027\" xlink:href=\"#mafb1305522\" y=\"56.444876\"/>\r\n     <use style=\"fill:#dd8452;stroke:#333333;\" x=\"96.454791\" xlink:href=\"#mafb1305522\" y=\"65.591494\"/>\r\n     <use style=\"fill:#dd8452;stroke:#333333;\" x=\"224.621099\" xlink:href=\"#mafb1305522\" y=\"208.143885\"/>\r\n     <use style=\"fill:#dd8452;stroke:#333333;\" x=\"216.173386\" xlink:href=\"#mafb1305522\" y=\"182.604972\"/>\r\n     <use style=\"fill:#dd8452;stroke:#333333;\" x=\"101.433743\" xlink:href=\"#mafb1305522\" y=\"60.132881\"/>\r\n     <use style=\"fill:#dd8452;stroke:#333333;\" x=\"245.355299\" xlink:href=\"#mafb1305522\" y=\"183.33084\"/>\r\n     <use style=\"fill:#dd8452;stroke:#333333;\" x=\"102.010224\" xlink:href=\"#mafb1305522\" y=\"68.005257\"/>\r\n     <use style=\"fill:#dd8452;stroke:#333333;\" x=\"98.914098\" xlink:href=\"#mafb1305522\" y=\"70.755643\"/>\r\n     <use style=\"fill:#dd8452;stroke:#333333;\" x=\"262.469315\" xlink:href=\"#mafb1305522\" y=\"208.828836\"/>\r\n     <use style=\"fill:#dd8452;stroke:#333333;\" x=\"232.764406\" xlink:href=\"#mafb1305522\" y=\"179.545819\"/>\r\n     <use style=\"fill:#dd8452;stroke:#333333;\" x=\"85.660167\" xlink:href=\"#mafb1305522\" y=\"55.297348\"/>\r\n     <use style=\"fill:#dd8452;stroke:#333333;\" x=\"115.932552\" xlink:href=\"#mafb1305522\" y=\"57.352621\"/>\r\n     <use style=\"fill:#dd8452;stroke:#333333;\" x=\"119.367708\" xlink:href=\"#mafb1305522\" y=\"39.753775\"/>\r\n     <use style=\"fill:#dd8452;stroke:#333333;\" x=\"245.559437\" xlink:href=\"#mafb1305522\" y=\"205.799575\"/>\r\n     <use style=\"fill:#dd8452;stroke:#333333;\" x=\"86.16558\" xlink:href=\"#mafb1305522\" y=\"59.456289\"/>\r\n     <use style=\"fill:#dd8452;stroke:#333333;\" x=\"230.339153\" xlink:href=\"#mafb1305522\" y=\"184.725889\"/>\r\n     <use style=\"fill:#dd8452;stroke:#333333;\" x=\"101.093971\" xlink:href=\"#mafb1305522\" y=\"72.97568\"/>\r\n     <use style=\"fill:#dd8452;stroke:#333333;\" x=\"109.002647\" xlink:href=\"#mafb1305522\" y=\"49.599445\"/>\r\n     <use style=\"fill:#dd8452;stroke:#333333;\" x=\"107.909658\" xlink:href=\"#mafb1305522\" y=\"53.04751\"/>\r\n     <use style=\"fill:#dd8452;stroke:#333333;\" x=\"221.52822\" xlink:href=\"#mafb1305522\" y=\"185.625392\"/>\r\n     <use style=\"fill:#dd8452;stroke:#333333;\" x=\"86.159265\" xlink:href=\"#mafb1305522\" y=\"76.979359\"/>\r\n     <use style=\"fill:#dd8452;stroke:#333333;\" x=\"106.719623\" xlink:href=\"#mafb1305522\" y=\"47.632849\"/>\r\n     <use style=\"fill:#dd8452;stroke:#333333;\" x=\"213.246003\" xlink:href=\"#mafb1305522\" y=\"181.675673\"/>\r\n     <use style=\"fill:#dd8452;stroke:#333333;\" x=\"240.008649\" xlink:href=\"#mafb1305522\" y=\"210.063284\"/>\r\n     <use style=\"fill:#dd8452;stroke:#333333;\" x=\"104.149069\" xlink:href=\"#mafb1305522\" y=\"48.142529\"/>\r\n     <use style=\"fill:#dd8452;stroke:#333333;\" x=\"110.455243\" xlink:href=\"#mafb1305522\" y=\"67.262491\"/>\r\n     <use style=\"fill:#dd8452;stroke:#333333;\" x=\"220.144636\" xlink:href=\"#mafb1305522\" y=\"194.581985\"/>\r\n     <use style=\"fill:#dd8452;stroke:#333333;\" x=\"211.640596\" xlink:href=\"#mafb1305522\" y=\"197.278796\"/>\r\n     <use style=\"fill:#dd8452;stroke:#333333;\" x=\"107.637359\" xlink:href=\"#mafb1305522\" y=\"61.841289\"/>\r\n     <use style=\"fill:#dd8452;stroke:#333333;\" x=\"63.534517\" xlink:href=\"#mafb1305522\" y=\"69.010581\"/>\r\n     <use style=\"fill:#dd8452;stroke:#333333;\" x=\"93.062578\" xlink:href=\"#mafb1305522\" y=\"76.940427\"/>\r\n     <use style=\"fill:#dd8452;stroke:#333333;\" x=\"110.711384\" xlink:href=\"#mafb1305522\" y=\"51.587615\"/>\r\n     <use style=\"fill:#dd8452;stroke:#333333;\" x=\"88.755485\" xlink:href=\"#mafb1305522\" y=\"62.694493\"/>\r\n     <use style=\"fill:#dd8452;stroke:#333333;\" x=\"95.262724\" xlink:href=\"#mafb1305522\" y=\"55.240035\"/>\r\n     <use style=\"fill:#dd8452;stroke:#333333;\" x=\"111.341492\" xlink:href=\"#mafb1305522\" y=\"67.732333\"/>\r\n     <use style=\"fill:#dd8452;stroke:#333333;\" x=\"258.54643\" xlink:href=\"#mafb1305522\" y=\"201.788971\"/>\r\n     <use style=\"fill:#dd8452;stroke:#333333;\" x=\"80.99024\" xlink:href=\"#mafb1305522\" y=\"39.319229\"/>\r\n     <use style=\"fill:#dd8452;stroke:#333333;\" x=\"259.276624\" xlink:href=\"#mafb1305522\" y=\"184.484016\"/>\r\n     <use style=\"fill:#dd8452;stroke:#333333;\" x=\"246.017287\" xlink:href=\"#mafb1305522\" y=\"171.336552\"/>\r\n     <use style=\"fill:#dd8452;stroke:#333333;\" x=\"215.702515\" xlink:href=\"#mafb1305522\" y=\"210.770601\"/>\r\n     <use style=\"fill:#dd8452;stroke:#333333;\" x=\"219.61596\" xlink:href=\"#mafb1305522\" y=\"226.724914\"/>\r\n     <use style=\"fill:#dd8452;stroke:#333333;\" x=\"99.475157\" xlink:href=\"#mafb1305522\" y=\"40.818617\"/>\r\n     <use style=\"fill:#dd8452;stroke:#333333;\" x=\"222.319345\" xlink:href=\"#mafb1305522\" y=\"178.431076\"/>\r\n     <use style=\"fill:#dd8452;stroke:#333333;\" x=\"209.011362\" xlink:href=\"#mafb1305522\" y=\"164.49609\"/>\r\n     <use style=\"fill:#dd8452;stroke:#333333;\" x=\"85.714514\" xlink:href=\"#mafb1305522\" y=\"46.591554\"/>\r\n     <use style=\"fill:#dd8452;stroke:#333333;\" x=\"109.548621\" xlink:href=\"#mafb1305522\" y=\"59.318354\"/>\r\n     <use style=\"fill:#dd8452;stroke:#333333;\" x=\"248.253075\" xlink:href=\"#mafb1305522\" y=\"183.765191\"/>\r\n     <use style=\"fill:#dd8452;stroke:#333333;\" x=\"93.252248\" xlink:href=\"#mafb1305522\" y=\"50.871243\"/>\r\n     <use style=\"fill:#dd8452;stroke:#333333;\" x=\"105.204158\" xlink:href=\"#mafb1305522\" y=\"61.049791\"/>\r\n     <use style=\"fill:#dd8452;stroke:#333333;\" x=\"103.603578\" xlink:href=\"#mafb1305522\" y=\"64.288037\"/>\r\n     <use style=\"fill:#dd8452;stroke:#333333;\" x=\"231.755146\" xlink:href=\"#mafb1305522\" y=\"176.642577\"/>\r\n     <use style=\"fill:#dd8452;stroke:#333333;\" x=\"239.712924\" xlink:href=\"#mafb1305522\" y=\"167.421426\"/>\r\n     <use style=\"fill:#dd8452;stroke:#333333;\" x=\"248.56813\" xlink:href=\"#mafb1305522\" y=\"184.651214\"/>\r\n     <use style=\"fill:#dd8452;stroke:#333333;\" x=\"136.036725\" xlink:href=\"#mafb1305522\" y=\"58.775961\"/>\r\n     <use style=\"fill:#dd8452;stroke:#333333;\" x=\"214.954778\" xlink:href=\"#mafb1305522\" y=\"213.049411\"/>\r\n     <use style=\"fill:#dd8452;stroke:#333333;\" x=\"266.443608\" xlink:href=\"#mafb1305522\" y=\"212.097698\"/>\r\n     <use style=\"fill:#dd8452;stroke:#333333;\" x=\"228.067567\" xlink:href=\"#mafb1305522\" y=\"209.064452\"/>\r\n     <use style=\"fill:#dd8452;stroke:#333333;\" x=\"89.68311\" xlink:href=\"#mafb1305522\" y=\"69.273533\"/>\r\n     <use style=\"fill:#dd8452;stroke:#333333;\" x=\"87.428766\" xlink:href=\"#mafb1305522\" y=\"58.77272\"/>\r\n     <use style=\"fill:#dd8452;stroke:#333333;\" x=\"250.936693\" xlink:href=\"#mafb1305522\" y=\"211.938418\"/>\r\n     <use style=\"fill:#dd8452;stroke:#333333;\" x=\"87.867837\" xlink:href=\"#mafb1305522\" y=\"66.205754\"/>\r\n     <use style=\"fill:#dd8452;stroke:#333333;\" x=\"73.777213\" xlink:href=\"#mafb1305522\" y=\"61.2591\"/>\r\n     <use style=\"fill:#dd8452;stroke:#333333;\" x=\"117.555359\" xlink:href=\"#mafb1305522\" y=\"48.087733\"/>\r\n     <use style=\"fill:#dd8452;stroke:#333333;\" x=\"90.852757\" xlink:href=\"#mafb1305522\" y=\"51.062813\"/>\r\n     <use style=\"fill:#dd8452;stroke:#333333;\" x=\"258.598101\" xlink:href=\"#mafb1305522\" y=\"209.454152\"/>\r\n     <use style=\"fill:#dd8452;stroke:#333333;\" x=\"210.562353\" xlink:href=\"#mafb1305522\" y=\"191.426962\"/>\r\n     <use style=\"fill:#dd8452;stroke:#333333;\" x=\"99.36688\" xlink:href=\"#mafb1305522\" y=\"44.037528\"/>\r\n     <use style=\"fill:#dd8452;stroke:#333333;\" x=\"255.847203\" xlink:href=\"#mafb1305522\" y=\"207.03156\"/>\r\n    </g>\r\n   </g>\r\n   <g id=\"patch_3\">\r\n    <path d=\"M 53.389062 239.229375 \r\nL 53.389062 21.789375 \r\n\" style=\"fill:none;stroke:#ffffff;stroke-linecap:square;stroke-linejoin:miter;stroke-width:1.25;\"/>\r\n   </g>\r\n   <g id=\"patch_4\">\r\n    <path d=\"M 276.589063 239.229375 \r\nL 276.589063 21.789375 \r\n\" style=\"fill:none;stroke:#ffffff;stroke-linecap:square;stroke-linejoin:miter;stroke-width:1.25;\"/>\r\n   </g>\r\n   <g id=\"patch_5\">\r\n    <path d=\"M 53.389063 239.229375 \r\nL 276.589062 239.229375 \r\n\" style=\"fill:none;stroke:#ffffff;stroke-linecap:square;stroke-linejoin:miter;stroke-width:1.25;\"/>\r\n   </g>\r\n   <g id=\"patch_6\">\r\n    <path d=\"M 53.389063 21.789375 \r\nL 276.589062 21.789375 \r\n\" style=\"fill:none;stroke:#ffffff;stroke-linecap:square;stroke-linejoin:miter;stroke-width:1.25;\"/>\r\n   </g>\r\n   <g id=\"text_14\">\r\n    <!-- Dataset samples -->\r\n    <g style=\"fill:#262626;\" transform=\"translate(120.305 15.789375)scale(0.12 -0.12)\">\r\n     <defs>\r\n      <path d=\"M 494 0 \r\nL 494 4581 \r\nL 2072 4581 \r\nQ 2606 4581 2888 4516 \r\nQ 3281 4425 3559 4188 \r\nQ 3922 3881 4101 3404 \r\nQ 4281 2928 4281 2316 \r\nQ 4281 1794 4159 1391 \r\nQ 4038 988 3847 723 \r\nQ 3656 459 3429 307 \r\nQ 3203 156 2883 78 \r\nQ 2563 0 2147 0 \r\nL 494 0 \r\nz\r\nM 1100 541 \r\nL 2078 541 \r\nQ 2531 541 2789 625 \r\nQ 3047 709 3200 863 \r\nQ 3416 1078 3536 1442 \r\nQ 3656 1806 3656 2325 \r\nQ 3656 3044 3420 3430 \r\nQ 3184 3816 2847 3947 \r\nQ 2603 4041 2063 4041 \r\nL 1100 4041 \r\nL 1100 541 \r\nz\r\n\" id=\"ArialMT-44\" transform=\"scale(0.015625)\"/>\r\n      <path d=\"M 2588 409 \r\nQ 2275 144 1986 34 \r\nQ 1697 -75 1366 -75 \r\nQ 819 -75 525 192 \r\nQ 231 459 231 875 \r\nQ 231 1119 342 1320 \r\nQ 453 1522 633 1644 \r\nQ 813 1766 1038 1828 \r\nQ 1203 1872 1538 1913 \r\nQ 2219 1994 2541 2106 \r\nQ 2544 2222 2544 2253 \r\nQ 2544 2597 2384 2738 \r\nQ 2169 2928 1744 2928 \r\nQ 1347 2928 1158 2789 \r\nQ 969 2650 878 2297 \r\nL 328 2372 \r\nQ 403 2725 575 2942 \r\nQ 747 3159 1072 3276 \r\nQ 1397 3394 1825 3394 \r\nQ 2250 3394 2515 3294 \r\nQ 2781 3194 2906 3042 \r\nQ 3031 2891 3081 2659 \r\nQ 3109 2516 3109 2141 \r\nL 3109 1391 \r\nQ 3109 606 3145 398 \r\nQ 3181 191 3288 0 \r\nL 2700 0 \r\nQ 2613 175 2588 409 \r\nz\r\nM 2541 1666 \r\nQ 2234 1541 1622 1453 \r\nQ 1275 1403 1131 1340 \r\nQ 988 1278 909 1158 \r\nQ 831 1038 831 891 \r\nQ 831 666 1001 516 \r\nQ 1172 366 1500 366 \r\nQ 1825 366 2078 508 \r\nQ 2331 650 2450 897 \r\nQ 2541 1088 2541 1459 \r\nL 2541 1666 \r\nz\r\n\" id=\"ArialMT-61\" transform=\"scale(0.015625)\"/>\r\n      <path d=\"M 1650 503 \r\nL 1731 6 \r\nQ 1494 -44 1306 -44 \r\nQ 1000 -44 831 53 \r\nQ 663 150 594 308 \r\nQ 525 466 525 972 \r\nL 525 2881 \r\nL 113 2881 \r\nL 113 3319 \r\nL 525 3319 \r\nL 525 4141 \r\nL 1084 4478 \r\nL 1084 3319 \r\nL 1650 3319 \r\nL 1650 2881 \r\nL 1084 2881 \r\nL 1084 941 \r\nQ 1084 700 1114 631 \r\nQ 1144 563 1211 522 \r\nQ 1278 481 1403 481 \r\nQ 1497 481 1650 503 \r\nz\r\n\" id=\"ArialMT-74\" transform=\"scale(0.015625)\"/>\r\n      <path d=\"M 197 991 \r\nL 753 1078 \r\nQ 800 744 1014 566 \r\nQ 1228 388 1613 388 \r\nQ 2000 388 2187 545 \r\nQ 2375 703 2375 916 \r\nQ 2375 1106 2209 1216 \r\nQ 2094 1291 1634 1406 \r\nQ 1016 1563 777 1677 \r\nQ 538 1791 414 1992 \r\nQ 291 2194 291 2438 \r\nQ 291 2659 392 2848 \r\nQ 494 3038 669 3163 \r\nQ 800 3259 1026 3326 \r\nQ 1253 3394 1513 3394 \r\nQ 1903 3394 2198 3281 \r\nQ 2494 3169 2634 2976 \r\nQ 2775 2784 2828 2463 \r\nL 2278 2388 \r\nQ 2241 2644 2061 2787 \r\nQ 1881 2931 1553 2931 \r\nQ 1166 2931 1000 2803 \r\nQ 834 2675 834 2503 \r\nQ 834 2394 903 2306 \r\nQ 972 2216 1119 2156 \r\nQ 1203 2125 1616 2013 \r\nQ 2213 1853 2448 1751 \r\nQ 2684 1650 2818 1456 \r\nQ 2953 1263 2953 975 \r\nQ 2953 694 2789 445 \r\nQ 2625 197 2315 61 \r\nQ 2006 -75 1616 -75 \r\nQ 969 -75 630 194 \r\nQ 291 463 197 991 \r\nz\r\n\" id=\"ArialMT-73\" transform=\"scale(0.015625)\"/>\r\n      <path d=\"M 2694 1069 \r\nL 3275 997 \r\nQ 3138 488 2766 206 \r\nQ 2394 -75 1816 -75 \r\nQ 1088 -75 661 373 \r\nQ 234 822 234 1631 \r\nQ 234 2469 665 2931 \r\nQ 1097 3394 1784 3394 \r\nQ 2450 3394 2872 2941 \r\nQ 3294 2488 3294 1666 \r\nQ 3294 1616 3291 1516 \r\nL 816 1516 \r\nQ 847 969 1125 678 \r\nQ 1403 388 1819 388 \r\nQ 2128 388 2347 550 \r\nQ 2566 713 2694 1069 \r\nz\r\nM 847 1978 \r\nL 2700 1978 \r\nQ 2663 2397 2488 2606 \r\nQ 2219 2931 1791 2931 \r\nQ 1403 2931 1139 2672 \r\nQ 875 2413 847 1978 \r\nz\r\n\" id=\"ArialMT-65\" transform=\"scale(0.015625)\"/>\r\n      <path id=\"ArialMT-20\" transform=\"scale(0.015625)\"/>\r\n      <path d=\"M 422 0 \r\nL 422 3319 \r\nL 925 3319 \r\nL 925 2853 \r\nQ 1081 3097 1340 3245 \r\nQ 1600 3394 1931 3394 \r\nQ 2300 3394 2536 3241 \r\nQ 2772 3088 2869 2813 \r\nQ 3263 3394 3894 3394 \r\nQ 4388 3394 4653 3120 \r\nQ 4919 2847 4919 2278 \r\nL 4919 0 \r\nL 4359 0 \r\nL 4359 2091 \r\nQ 4359 2428 4304 2576 \r\nQ 4250 2725 4106 2815 \r\nQ 3963 2906 3769 2906 \r\nQ 3419 2906 3187 2673 \r\nQ 2956 2441 2956 1928 \r\nL 2956 0 \r\nL 2394 0 \r\nL 2394 2156 \r\nQ 2394 2531 2256 2718 \r\nQ 2119 2906 1806 2906 \r\nQ 1569 2906 1367 2781 \r\nQ 1166 2656 1075 2415 \r\nQ 984 2175 984 1722 \r\nL 984 0 \r\nL 422 0 \r\nz\r\n\" id=\"ArialMT-6d\" transform=\"scale(0.015625)\"/>\r\n      <path d=\"M 422 -1272 \r\nL 422 3319 \r\nL 934 3319 \r\nL 934 2888 \r\nQ 1116 3141 1344 3267 \r\nQ 1572 3394 1897 3394 \r\nQ 2322 3394 2647 3175 \r\nQ 2972 2956 3137 2557 \r\nQ 3303 2159 3303 1684 \r\nQ 3303 1175 3120 767 \r\nQ 2938 359 2589 142 \r\nQ 2241 -75 1856 -75 \r\nQ 1575 -75 1351 44 \r\nQ 1128 163 984 344 \r\nL 984 -1272 \r\nL 422 -1272 \r\nz\r\nM 931 1641 \r\nQ 931 1000 1190 694 \r\nQ 1450 388 1819 388 \r\nQ 2194 388 2461 705 \r\nQ 2728 1022 2728 1688 \r\nQ 2728 2322 2467 2637 \r\nQ 2206 2953 1844 2953 \r\nQ 1484 2953 1207 2617 \r\nQ 931 2281 931 1641 \r\nz\r\n\" id=\"ArialMT-70\" transform=\"scale(0.015625)\"/>\r\n      <path d=\"M 409 0 \r\nL 409 4581 \r\nL 972 4581 \r\nL 972 0 \r\nL 409 0 \r\nz\r\n\" id=\"ArialMT-6c\" transform=\"scale(0.015625)\"/>\r\n     </defs>\r\n     <use xlink:href=\"#ArialMT-44\"/>\r\n     <use x=\"72.216797\" xlink:href=\"#ArialMT-61\"/>\r\n     <use x=\"127.832031\" xlink:href=\"#ArialMT-74\"/>\r\n     <use x=\"155.615234\" xlink:href=\"#ArialMT-61\"/>\r\n     <use x=\"211.230469\" xlink:href=\"#ArialMT-73\"/>\r\n     <use x=\"261.230469\" xlink:href=\"#ArialMT-65\"/>\r\n     <use x=\"316.845703\" xlink:href=\"#ArialMT-74\"/>\r\n     <use x=\"344.628906\" xlink:href=\"#ArialMT-20\"/>\r\n     <use x=\"372.412109\" xlink:href=\"#ArialMT-73\"/>\r\n     <use x=\"422.412109\" xlink:href=\"#ArialMT-61\"/>\r\n     <use x=\"478.027344\" xlink:href=\"#ArialMT-6d\"/>\r\n     <use x=\"561.328125\" xlink:href=\"#ArialMT-70\"/>\r\n     <use x=\"616.943359\" xlink:href=\"#ArialMT-6c\"/>\r\n     <use x=\"639.160156\" xlink:href=\"#ArialMT-65\"/>\r\n     <use x=\"694.775391\" xlink:href=\"#ArialMT-73\"/>\r\n    </g>\r\n   </g>\r\n   <g id=\"legend_1\">\r\n    <g id=\"patch_7\">\r\n     <path d=\"M 197.010937 147.719219 \r\nL 268.889063 147.719219 \r\nQ 271.089063 147.719219 271.089063 145.519219 \r\nL 271.089063 115.499531 \r\nQ 271.089063 113.299531 268.889063 113.299531 \r\nL 197.010937 113.299531 \r\nQ 194.810937 113.299531 194.810937 115.499531 \r\nL 194.810937 145.519219 \r\nQ 194.810937 147.719219 197.010937 147.719219 \r\nz\r\n\" style=\"fill:#eaeaf2;opacity:0.8;stroke:#cccccc;stroke-linejoin:miter;\"/>\r\n    </g>\r\n    <g id=\"PathCollection_3\">\r\n     <g>\r\n      <use style=\"fill:#4c72b0;stroke:#333333;\" x=\"210.210938\" xlink:href=\"#mfea203411d\" y=\"122.685625\"/>\r\n     </g>\r\n    </g>\r\n    <g id=\"text_15\">\r\n     <!-- Class 0 -->\r\n     <g style=\"fill:#262626;\" transform=\"translate(230.010938 125.573125)scale(0.11 -0.11)\">\r\n      <defs>\r\n       <path d=\"M 3763 1606 \r\nL 4369 1453 \r\nQ 4178 706 3683 314 \r\nQ 3188 -78 2472 -78 \r\nQ 1731 -78 1267 223 \r\nQ 803 525 561 1097 \r\nQ 319 1669 319 2325 \r\nQ 319 3041 592 3573 \r\nQ 866 4106 1370 4382 \r\nQ 1875 4659 2481 4659 \r\nQ 3169 4659 3637 4309 \r\nQ 4106 3959 4291 3325 \r\nL 3694 3184 \r\nQ 3534 3684 3231 3912 \r\nQ 2928 4141 2469 4141 \r\nQ 1941 4141 1586 3887 \r\nQ 1231 3634 1087 3207 \r\nQ 944 2781 944 2328 \r\nQ 944 1744 1114 1308 \r\nQ 1284 872 1643 656 \r\nQ 2003 441 2422 441 \r\nQ 2931 441 3284 734 \r\nQ 3638 1028 3763 1606 \r\nz\r\n\" id=\"ArialMT-43\" transform=\"scale(0.015625)\"/>\r\n      </defs>\r\n      <use xlink:href=\"#ArialMT-43\"/>\r\n      <use x=\"72.216797\" xlink:href=\"#ArialMT-6c\"/>\r\n      <use x=\"94.433594\" xlink:href=\"#ArialMT-61\"/>\r\n      <use x=\"150.048828\" xlink:href=\"#ArialMT-73\"/>\r\n      <use x=\"200.048828\" xlink:href=\"#ArialMT-73\"/>\r\n      <use x=\"250.048828\" xlink:href=\"#ArialMT-20\"/>\r\n      <use x=\"277.832031\" xlink:href=\"#ArialMT-30\"/>\r\n     </g>\r\n    </g>\r\n    <g id=\"PathCollection_4\">\r\n     <g>\r\n      <use style=\"fill:#dd8452;stroke:#333333;\" x=\"210.210938\" xlink:href=\"#mafb1305522\" y=\"138.245469\"/>\r\n     </g>\r\n    </g>\r\n    <g id=\"text_16\">\r\n     <!-- Class 1 -->\r\n     <g style=\"fill:#262626;\" transform=\"translate(230.010938 141.132969)scale(0.11 -0.11)\">\r\n      <use xlink:href=\"#ArialMT-43\"/>\r\n      <use x=\"72.216797\" xlink:href=\"#ArialMT-6c\"/>\r\n      <use x=\"94.433594\" xlink:href=\"#ArialMT-61\"/>\r\n      <use x=\"150.048828\" xlink:href=\"#ArialMT-73\"/>\r\n      <use x=\"200.048828\" xlink:href=\"#ArialMT-73\"/>\r\n      <use x=\"250.048828\" xlink:href=\"#ArialMT-20\"/>\r\n      <use x=\"277.832031\" xlink:href=\"#ArialMT-31\"/>\r\n     </g>\r\n    </g>\r\n   </g>\r\n  </g>\r\n </g>\r\n <defs>\r\n  <clipPath id=\"p84c5f7d955\">\r\n   <rect height=\"217.44\" width=\"223.2\" x=\"53.389062\" y=\"21.789375\"/>\r\n  </clipPath>\r\n </defs>\r\n</svg>\r\n",
            "text/plain": [
              "<Figure size 288x288 with 1 Axes>"
            ]
          },
          "metadata": {},
          "output_type": "display_data"
        }
      ],
      "source": [
        "visualize_samples(dataset.data, dataset.label)\n",
        "plt.show()"
      ]
    },
    {
      "cell_type": "markdown",
      "metadata": {
        "id": "uFJOzQn3MEOm"
      },
      "source": [
        "#### The data loader class\n",
        "\n",
        "The class `torch.utils.data.DataLoader` represents a Python iterable over a dataset with support for automatic batching, multi-process data loading and many more features. The data loader communicates with the dataset using the function `__getitem__`, and stacks its outputs as tensors over the first dimension to form a batch.\n",
        "In contrast to the dataset class, we usually don't have to define our own data loader class, but can just create an object of it with the dataset as input. Additionally, we can configure our data loader with the following input arguments (only a selection, see full list [here](https://pytorch.org/docs/stable/data.html#torch.utils.data.DataLoader)):\n",
        "\n",
        "* `batch_size`: Number of samples to stack per batch\n",
        "* `shuffle`: If True, the data is returned in a random order. This is important during training for introducing stochasticity. \n",
        "* `num_workers`: Number of subprocesses to use for data loading. The default, 0, means that the data will be loaded in the main process which can slow down training for datasets where loading a data point takes a considerable amount of time (e.g. large images). More workers are recommended for those, but can cause issues on Windows computers. For tiny datasets as ours, 0 workers are usually faster.\n",
        "* `pin_memory`: If True, the data loader will copy Tensors into CUDA pinned memory before returning them. This can save some time for large data points on GPUs. Usually a good practice to use for a training set, but not necessarily for validation and test to save memory on the GPU.\n",
        "* `drop_last`: If True, the last batch is dropped in case it is smaller than the specified batch size. This occurs when the dataset size is not a multiple of the batch size. Only potentially helpful during training to keep a consistent batch size.\n",
        "\n",
        "Let's create a simple data loader below:"
      ]
    },
    {
      "cell_type": "code",
      "execution_count": 45,
      "metadata": {
        "id": "JtANaYteMEOm"
      },
      "outputs": [],
      "source": [
        "data_loader = data.DataLoader(dataset, batch_size=8, shuffle=True)"
      ]
    },
    {
      "cell_type": "code",
      "execution_count": 46,
      "metadata": {
        "id": "secze73EMEOm",
        "outputId": "f72c501f-2a4c-4cde-cc4c-04512f5a2db1"
      },
      "outputs": [
        {
          "name": "stdout",
          "output_type": "stream",
          "text": [
            "Data inputs torch.Size([8, 2]) \n",
            " tensor([[-0.0890,  0.8608],\n",
            "        [ 1.0905, -0.0128],\n",
            "        [ 0.7967,  0.2268],\n",
            "        [-0.0688,  0.0371],\n",
            "        [ 0.8732, -0.2240],\n",
            "        [-0.0559, -0.0282],\n",
            "        [ 0.9277,  0.0978],\n",
            "        [ 1.0150,  0.9689]])\n",
            "Data labels torch.Size([8]) \n",
            " tensor([1, 1, 1, 0, 1, 0, 1, 0])\n"
          ]
        }
      ],
      "source": [
        "# next(iter(...)) catches the first batch of the data loader\n",
        "# If shuffle is True, this will return a different batch every time we run this cell\n",
        "# For iterating over the whole dataset, we can simple use \"for batch in data_loader: ...\"\n",
        "data_inputs, data_labels = next(iter(data_loader))\n",
        "\n",
        "# The shape of the outputs are [batch_size, d_1,...,d_N] where d_1,...,d_N are the \n",
        "# dimensions of the data point returned from the dataset class\n",
        "print(\"Data inputs\", data_inputs.shape, \"\\n\", data_inputs)\n",
        "print(\"Data labels\", data_labels.shape, \"\\n\", data_labels)"
      ]
    },
    {
      "cell_type": "markdown",
      "metadata": {
        "id": "5a01UpLwMEOm"
      },
      "source": [
        "### Optimization\n",
        "\n",
        "After defining the model and the dataset, it is time to prepare the optimization of the model. During training, we will perform the following steps:\n",
        "\n",
        "1. Get a batch from the data loader\n",
        "2. Obtain the predictions from the model for the batch\n",
        "3. Calculate the loss based on the difference between predictions and labels\n",
        "4. Backpropagation: calculate the gradients for every parameter with respect to the loss\n",
        "5. Update the parameters of the model in the direction of the gradients\n",
        "\n",
        "We have seen how we can do step 1, 2 and 4 in PyTorch. Now, we will look at step 3 and 5."
      ]
    },
    {
      "cell_type": "markdown",
      "metadata": {
        "id": "vOe0OCe1MEOm"
      },
      "source": [
        "#### Loss modules\n",
        "\n",
        "We can calculate the loss for a batch by simply performing a few tensor operations as those are automatically added to the computation graph. For instance, for binary classification, we can use Binary Cross Entropy (BCE) which is defined as follows:\n",
        "\n",
        "$$\\mathcal{L}_{BCE} = -\\sum_i \\left[ y_i \\log x_i + (1 - y_i) \\log (1 - x_i) \\right]$$\n",
        "\n",
        "where $y$ are our labels, and $x$ our predictions, both in the range of $[0,1]$. However, PyTorch already provides a list of predefined loss functions which we can use (see [here](https://pytorch.org/docs/stable/nn.html#loss-functions) for a full list). For instance, for BCE, PyTorch has two modules: `nn.BCELoss()`, `nn.BCEWithLogitsLoss()`. While `nn.BCELoss` expects the inputs $x$ to be in the range $[0,1]$, i.e. the output of a sigmoid, `nn.BCEWithLogitsLoss` combines a sigmoid layer and the BCE loss in a single class. This version is numerically more stable than using a plain Sigmoid followed by a BCE loss because of the logarithms applied in the loss function. Hence, it is adviced to use loss functions applied on \"logits\" where possible (remember to not apply a sigmoid on the output of the model in this case!). For our model defined above, we therefore use the module `nn.BCEWithLogitsLoss`. "
      ]
    },
    {
      "cell_type": "code",
      "execution_count": 47,
      "metadata": {
        "id": "6FZv3kGjMEOm"
      },
      "outputs": [],
      "source": [
        "loss_module = nn.BCEWithLogitsLoss()"
      ]
    },
    {
      "cell_type": "markdown",
      "metadata": {
        "id": "zjUtPWG0MEOm"
      },
      "source": [
        "#### Stochastic Gradient Descent\n",
        "\n",
        "For updating the parameters, PyTorch provides the package `torch.optim` that has most popular optimizers implemented. We will discuss the specific optimizers and their differences later in the course, but will for now use the simplest of them: `torch.optim.SGD`. Stochastic Gradient Descent updates parameters by multiplying the gradients with a small constant, called learning rate, and subtracting those from the parameters (hence minimizing the loss). Therefore, we slowly move towards the direction of minimizing the loss. A good default value of the learning rate for a small network as ours is 0.1. "
      ]
    },
    {
      "cell_type": "code",
      "execution_count": 48,
      "metadata": {
        "id": "yTcnZT4gMEOn"
      },
      "outputs": [],
      "source": [
        "# Input to the optimizer are the parameters of the model: model.parameters()\n",
        "optimizer = torch.optim.SGD(model.parameters(), lr=0.1)"
      ]
    },
    {
      "cell_type": "markdown",
      "metadata": {
        "id": "iDMl_4ljMEOn"
      },
      "source": [
        "The optimizer provides two useful functions: `optimizer.step()`, and `optimizer.zero_grad()`. The step function updates the parameters based on the gradients as explained above. The function `optimizer.zero_grad()` sets the gradients of all parameters to zero. While this function seems less relevant at first, it is a crucial pre-step before performing backpropagation. If we call the `backward` function on the loss while the parameter gradients are non-zero from the previous batch, the new gradients would actually be added to the previous ones instead of overwriting them. This is done because a parameter might occur multiple times in a computation graph, and we need to sum the gradients in this case instead of replacing them. Hence, remember to call `optimizer.zero_grad()` before calculating the gradients of a batch."
      ]
    },
    {
      "cell_type": "markdown",
      "metadata": {
        "id": "SZF0MjXoMEOn"
      },
      "source": [
        "### Training\n",
        "\n",
        "Finally, we are ready to train our model. As a first step, we create a slightly larger dataset and specify a data loader with a larger batch size. "
      ]
    },
    {
      "cell_type": "code",
      "execution_count": 49,
      "metadata": {
        "id": "xlwqwag5MEOn"
      },
      "outputs": [],
      "source": [
        "train_dataset = XORDataset(size=2500)\n",
        "train_data_loader = data.DataLoader(train_dataset, batch_size=128, shuffle=True)"
      ]
    },
    {
      "cell_type": "markdown",
      "metadata": {
        "id": "rsCdxw1oMEOn"
      },
      "source": [
        "Now, we can write a small training function. Remember our five steps: load a batch, obtain the predictions, calculate the loss, backpropagate, and update. Additionally, we have to push all data and model parameters to the device of our choice (GPU if available). For the tiny neural network we have, communicating the data to the GPU actually takes much more time than we could save from running the operation on GPU. For large networks, the communication time is significantly smaller than the actual runtime making a GPU crucial in these cases. Still, to practice, we will push the data to GPU here. "
      ]
    },
    {
      "cell_type": "code",
      "execution_count": 50,
      "metadata": {
        "id": "fAVIHObvMEOn",
        "outputId": "2d9ff463-3831-4a51-a83c-7fcd38671edf"
      },
      "outputs": [
        {
          "data": {
            "text/plain": [
              "SimpleClassifier(\n",
              "  (linear1): Linear(in_features=2, out_features=4, bias=True)\n",
              "  (act_fn): Tanh()\n",
              "  (linear2): Linear(in_features=4, out_features=1, bias=True)\n",
              ")"
            ]
          },
          "execution_count": 50,
          "metadata": {},
          "output_type": "execute_result"
        }
      ],
      "source": [
        "# Push model to device. Has to be only done once\n",
        "model.to(device)"
      ]
    },
    {
      "cell_type": "markdown",
      "metadata": {
        "id": "rJZikx9EMEOo"
      },
      "source": [
        "In addition, we set our model to training mode. This is done by calling `model.train()`. There exist certain modules that need to perform a different forward step during training than during testing (e.g. BatchNorm and Dropout), and we can switch between them using `model.train()` and `model.eval()`."
      ]
    },
    {
      "cell_type": "code",
      "execution_count": 51,
      "metadata": {
        "id": "3MLdVMYtMEOo"
      },
      "outputs": [],
      "source": [
        "def train_model(model, optimizer, data_loader, loss_module, num_epochs=100):\n",
        "    # Set model to train mode\n",
        "    model.train() \n",
        "    \n",
        "    # Training loop\n",
        "    for epoch in tqdm(range(num_epochs)):\n",
        "        for data_inputs, data_labels in data_loader:\n",
        "            \n",
        "            ## Step 1: Move input data to device (only strictly necessary if we use GPU)\n",
        "            data_inputs = data_inputs.to(device)\n",
        "            data_labels = data_labels.to(device)\n",
        "            \n",
        "            ## Step 2: Run the model on the input data\n",
        "            preds = model(data_inputs)\n",
        "            preds = preds.squeeze(dim=1) # Output is [Batch size, 1], but we want [Batch size]\n",
        "            \n",
        "            ## Step 3: Calculate the loss\n",
        "            loss = loss_module(preds, data_labels.float())\n",
        "            \n",
        "            ## Step 4: Perform backpropagation\n",
        "            # Before calculating the gradients, we need to ensure that they are all zero. \n",
        "            # The gradients would not be overwritten, but actually added to the existing ones.\n",
        "            optimizer.zero_grad() \n",
        "            # Perform backpropagation\n",
        "            loss.backward()\n",
        "            \n",
        "            ## Step 5: Update the parameters\n",
        "            optimizer.step()"
      ]
    },
    {
      "cell_type": "code",
      "execution_count": 52,
      "metadata": {
        "colab": {
          "referenced_widgets": [
            "eb0f1646f5f4459c86c22f0845150144"
          ]
        },
        "id": "SatxmU7KMEOo",
        "outputId": "dd131dcb-fbb9-4553-eef4-07c9995d743a"
      },
      "outputs": [
        {
          "data": {
            "application/vnd.jupyter.widget-view+json": {
              "model_id": "0968f15d0db84a52bb1f6c5de101a462",
              "version_major": 2,
              "version_minor": 0
            },
            "text/plain": [
              "  0%|          | 0/100 [00:00<?, ?it/s]"
            ]
          },
          "metadata": {},
          "output_type": "display_data"
        }
      ],
      "source": [
        "train_model(model, optimizer, train_data_loader, loss_module)"
      ]
    },
    {
      "cell_type": "markdown",
      "metadata": {
        "id": "0taUrXfFMEOo"
      },
      "source": [
        "#### Saving a model\n",
        "\n",
        "After finish training a model, we save the model to disk so that we can load the same weights at a later time. For this, we extract the so-called `state_dict` from the model which contains all learnable parameters. For our simple model, the state dict contains the following entries:"
      ]
    },
    {
      "cell_type": "code",
      "execution_count": 53,
      "metadata": {
        "id": "Y6vwe0yhMEOo",
        "outputId": "93213c34-8c20-4961-8b58-c8c9db7828d1"
      },
      "outputs": [
        {
          "name": "stdout",
          "output_type": "stream",
          "text": [
            "OrderedDict([('linear1.weight', tensor([[-2.6034, -3.3292],\n",
            "        [ 1.9774, -2.4076],\n",
            "        [-2.5968, -1.5908],\n",
            "        [-0.5717, -0.8101]])), ('linear1.bias', tensor([ 1.4459, -1.3992,  2.9882, -0.1375])), ('linear2.weight', tensor([[-4.4623,  3.0885,  4.4030, -0.1377]])), ('linear2.bias', tensor([-1.6853]))])\n"
          ]
        }
      ],
      "source": [
        "state_dict = model.state_dict()\n",
        "print(state_dict)"
      ]
    },
    {
      "cell_type": "markdown",
      "metadata": {
        "id": "IGm5UdulMEOp"
      },
      "source": [
        "To save the state dictionary, we can use `torch.save`:"
      ]
    },
    {
      "cell_type": "code",
      "execution_count": 54,
      "metadata": {
        "id": "aIhPU_pmMEOp"
      },
      "outputs": [],
      "source": [
        "# torch.save(object, filename). For the filename, any extension can be used\n",
        "torch.save(state_dict, \"our_model.tar\")"
      ]
    },
    {
      "cell_type": "markdown",
      "metadata": {
        "id": "1779eT8iMEOp"
      },
      "source": [
        "To load a model from a state dict, we use the function `torch.load` to load the state dict from the disk, and the module function `load_state_dict` to overwrite our parameters with the new values:"
      ]
    },
    {
      "cell_type": "code",
      "execution_count": 55,
      "metadata": {
        "id": "v5p2ImpoMEOp",
        "outputId": "99b0d8e4-8a21-43b5-a756-88ab4556f3fb"
      },
      "outputs": [
        {
          "name": "stdout",
          "output_type": "stream",
          "text": [
            "Original model\n",
            " OrderedDict([('linear1.weight', tensor([[-2.6034, -3.3292],\n",
            "        [ 1.9774, -2.4076],\n",
            "        [-2.5968, -1.5908],\n",
            "        [-0.5717, -0.8101]])), ('linear1.bias', tensor([ 1.4459, -1.3992,  2.9882, -0.1375])), ('linear2.weight', tensor([[-4.4623,  3.0885,  4.4030, -0.1377]])), ('linear2.bias', tensor([-1.6853]))])\n",
            "\n",
            "Loaded model\n",
            " OrderedDict([('linear1.weight', tensor([[-2.6034, -3.3292],\n",
            "        [ 1.9774, -2.4076],\n",
            "        [-2.5968, -1.5908],\n",
            "        [-0.5717, -0.8101]])), ('linear1.bias', tensor([ 1.4459, -1.3992,  2.9882, -0.1375])), ('linear2.weight', tensor([[-4.4623,  3.0885,  4.4030, -0.1377]])), ('linear2.bias', tensor([-1.6853]))])\n"
          ]
        }
      ],
      "source": [
        "# Load state dict from the disk (make sure it is the same name as above)\n",
        "state_dict = torch.load(\"our_model.tar\")\n",
        "\n",
        "# Create a new model and load the state\n",
        "new_model = SimpleClassifier(num_inputs=2, num_hidden=4, num_outputs=1)\n",
        "new_model.load_state_dict(state_dict)\n",
        "\n",
        "# Verify that the parameters are the same\n",
        "print(\"Original model\\n\", model.state_dict())\n",
        "print(\"\\nLoaded model\\n\", new_model.state_dict())"
      ]
    },
    {
      "cell_type": "markdown",
      "metadata": {
        "id": "lTf3E7ofMEOp"
      },
      "source": [
        "A detailed tutorial on saving and loading models in PyTorch can be found [here](https://pytorch.org/tutorials/beginner/saving_loading_models.html)."
      ]
    },
    {
      "cell_type": "markdown",
      "metadata": {
        "id": "fOAF-HC9MEOp"
      },
      "source": [
        "### Evaluation\n",
        "\n",
        "Once we have trained a model, it is time to evaluate it on a held-out test set. As our dataset consist of randomly generated data points, we need to first create a test set with a corresponding data loader."
      ]
    },
    {
      "cell_type": "code",
      "execution_count": 56,
      "metadata": {
        "id": "Xa_PmH4PMEOp"
      },
      "outputs": [],
      "source": [
        "test_dataset = XORDataset(size=500)\n",
        "# drop_last -> Don't drop the last batch although it is smaller than 128\n",
        "test_data_loader = data.DataLoader(test_dataset, batch_size=128, shuffle=False, drop_last=False) "
      ]
    },
    {
      "cell_type": "markdown",
      "metadata": {
        "id": "4o-kAmLYMEOp"
      },
      "source": [
        "As metric, we will use accuracy which is calculated as follows:\n",
        "\n",
        "$$acc = \\frac{\\#\\text{correct predictions}}{\\#\\text{all predictions}} = \\frac{TP+TN}{TP+TN+FP+FN}$$\n",
        "\n",
        "where TP are the true positives, TN true negatives, FP false positives, and FN the fale negatives. \n",
        "\n",
        "When evaluating the model, we don't need to keep track of the computation graph as we don't intend to calculate the gradients. This reduces the required memory and speed up the model. In PyTorch, we can deactivate the computation graph using `with torch.no_grad(): ...`. Remember to additionally set the model to eval mode."
      ]
    },
    {
      "cell_type": "code",
      "execution_count": 57,
      "metadata": {
        "id": "ALu77oNJMEOp"
      },
      "outputs": [],
      "source": [
        "def eval_model(model, data_loader):\n",
        "    model.eval() # Set model to eval mode\n",
        "    true_preds, num_preds = 0., 0.\n",
        "    \n",
        "    with torch.no_grad(): # Deactivate gradients for the following code\n",
        "        for data_inputs, data_labels in data_loader:\n",
        "            \n",
        "            # Determine prediction of model on dev set\n",
        "            data_inputs, data_labels = data_inputs.to(device), data_labels.to(device)\n",
        "            preds = model(data_inputs)\n",
        "            preds = preds.squeeze(dim=1)\n",
        "            preds = torch.sigmoid(preds) # Sigmoid to map predictions between 0 and 1\n",
        "            pred_labels = (preds >= 0.5).long() # Binarize predictions to 0 and 1\n",
        "            \n",
        "            # Keep records of predictions for the accuracy metric (true_preds=TP+TN, num_preds=TP+TN+FP+FN)\n",
        "            true_preds += (pred_labels == data_labels).sum()\n",
        "            num_preds += data_labels.shape[0]\n",
        "            \n",
        "    acc = true_preds / num_preds\n",
        "    print(f\"Accuracy of the model: {100.0*acc:4.2f}%\")"
      ]
    },
    {
      "cell_type": "code",
      "execution_count": 58,
      "metadata": {
        "id": "EC-BDNq9MEOp",
        "outputId": "b14a4c75-1f4c-40ab-9a9c-5dc77930fbd4"
      },
      "outputs": [
        {
          "name": "stdout",
          "output_type": "stream",
          "text": [
            "Accuracy of the model: 100.00%\n"
          ]
        }
      ],
      "source": [
        "eval_model(model, test_data_loader)"
      ]
    },
    {
      "cell_type": "markdown",
      "metadata": {
        "id": "fqYTxQQYMEOq"
      },
      "source": [
        "If we trained our model correctly, we should see a score close to 100% accuracy. However, this is only possible because of our simple task, and unfortunately, we usually don't get such high scores on test sets of more complex tasks."
      ]
    },
    {
      "cell_type": "markdown",
      "metadata": {
        "id": "GX54C9eDMEOq"
      },
      "source": [
        "#### Visualizing classification boundaries\n",
        "\n",
        "To visualize what our model has learned, we can perform a prediction for every data point in a range of $[-0.5, 1.5]$, and visualize the predicted class as in the sample figure at the beginning of this section. This shows where the model has created decision boundaries, and which points would be classified as $0$, and which as $1$. We therefore get a background image out of blue (class 0) and orange (class 1). The spots where the model is uncertain we will see a blurry overlap. The specific code is less relevant compared to the output figure which should hopefully show us a clear separation of classes:"
      ]
    },
    {
      "cell_type": "code",
      "execution_count": 59,
      "metadata": {
        "id": "UxrXZ4sNMEOq",
        "outputId": "a21c310c-6998-4573-f511-4e326fb03885"
      },
      "outputs": [
        {
          "data": {
            "application/pdf": "[encoded data removed]",
            "image/svg+xml": "<?xml version=\"1.0\" encoding=\"utf-8\" standalone=\"no\"?>\r\n<!DOCTYPE svg PUBLIC \"-//W3C//DTD SVG 1.1//EN\"\r\n  \"http://www.w3.org/Graphics/SVG/1.1/DTD/svg11.dtd\">\r\n<svg height=\"280.963594pt\" version=\"1.1\" viewBox=\"0 0 291.791094 280.963594\" width=\"291.791094pt\" xmlns=\"http://www.w3.org/2000/svg\" xmlns:xlink=\"http://www.w3.org/1999/xlink\">\r\n <metadata>\r\n  <rdf:RDF xmlns:cc=\"http://creativecommons.org/ns#\" xmlns:dc=\"http://purl.org/dc/elements/1.1/\" xmlns:rdf=\"http://www.w3.org/1999/02/22-rdf-syntax-ns#\">\r\n   <cc:Work>\r\n    <dc:type rdf:resource=\"http://purl.org/dc/dcmitype/StillImage\"/>\r\n    <dc:date>2023-02-16T17:59:33.078803</dc:date>\r\n    <dc:format>image/svg+xml</dc:format>\r\n    <dc:creator>\r\n     <cc:Agent>\r\n      <dc:title>Matplotlib v3.4.3, https://matplotlib.org/</dc:title>\r\n     </cc:Agent>\r\n    </dc:creator>\r\n   </cc:Work>\r\n  </rdf:RDF>\r\n </metadata>\r\n <defs>\r\n  <style type=\"text/css\">*{stroke-linecap:butt;stroke-linejoin:round;}</style>\r\n </defs>\r\n <g id=\"figure_1\">\r\n  <g id=\"patch_1\">\r\n   <path d=\"M 0 280.963594 \r\nL 291.791094 280.963594 \r\nL 291.791094 0 \r\nL 0 0 \r\nz\r\n\" style=\"fill:#ffffff;\"/>\r\n  </g>\r\n  <g id=\"axes_1\">\r\n   <g id=\"patch_2\">\r\n    <path d=\"M 59.506094 239.229375 \r\nL 276.946094 239.229375 \r\nL 276.946094 21.789375 \r\nL 59.506094 21.789375 \r\nz\r\n\" style=\"fill:#eaeaf2;\"/>\r\n   </g>\r\n   <g clip-path=\"url(#p08fb6f4c38)\">\r\n    <image height=\"217.584\" id=\"image3a3f543050\" transform=\"scale(1 -1)translate(0 -217.584)\" width=\"217.44\" x=\"59.506094\" xlink:href=\"data:image/png;base64,\r\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\" y=\"-21.645375\"/>\r\n   </g>\r\n   <g id=\"matplotlib.axis_1\">\r\n    <g id=\"xtick_1\">\r\n     <g id=\"text_1\">\r\n      <!-- −0.5 -->\r\n      <g style=\"fill:#262626;\" transform=\"translate(48.64875 256.602969)scale(0.11 -0.11)\">\r\n       <defs>\r\n        <path d=\"M 3381 1997 \r\nL 356 1997 \r\nL 356 2522 \r\nL 3381 2522 \r\nL 3381 1997 \r\nz\r\n\" id=\"ArialMT-2212\" transform=\"scale(0.015625)\"/>\r\n        <path d=\"M 266 2259 \r\nQ 266 3072 433 3567 \r\nQ 600 4063 929 4331 \r\nQ 1259 4600 1759 4600 \r\nQ 2128 4600 2406 4451 \r\nQ 2684 4303 2865 4023 \r\nQ 3047 3744 3150 3342 \r\nQ 3253 2941 3253 2259 \r\nQ 3253 1453 3087 958 \r\nQ 2922 463 2592 192 \r\nQ 2263 -78 1759 -78 \r\nQ 1097 -78 719 397 \r\nQ 266 969 266 2259 \r\nz\r\nM 844 2259 \r\nQ 844 1131 1108 757 \r\nQ 1372 384 1759 384 \r\nQ 2147 384 2411 759 \r\nQ 2675 1134 2675 2259 \r\nQ 2675 3391 2411 3762 \r\nQ 2147 4134 1753 4134 \r\nQ 1366 4134 1134 3806 \r\nQ 844 3388 844 2259 \r\nz\r\n\" id=\"ArialMT-30\" transform=\"scale(0.015625)\"/>\r\n        <path d=\"M 581 0 \r\nL 581 641 \r\nL 1222 641 \r\nL 1222 0 \r\nL 581 0 \r\nz\r\n\" id=\"ArialMT-2e\" transform=\"scale(0.015625)\"/>\r\n        <path d=\"M 266 1200 \r\nL 856 1250 \r\nQ 922 819 1161 601 \r\nQ 1400 384 1738 384 \r\nQ 2144 384 2425 690 \r\nQ 2706 997 2706 1503 \r\nQ 2706 1984 2436 2262 \r\nQ 2166 2541 1728 2541 \r\nQ 1456 2541 1237 2417 \r\nQ 1019 2294 894 2097 \r\nL 366 2166 \r\nL 809 4519 \r\nL 3088 4519 \r\nL 3088 3981 \r\nL 1259 3981 \r\nL 1013 2750 \r\nQ 1425 3038 1878 3038 \r\nQ 2478 3038 2890 2622 \r\nQ 3303 2206 3303 1553 \r\nQ 3303 931 2941 478 \r\nQ 2500 -78 1738 -78 \r\nQ 1113 -78 717 272 \r\nQ 322 622 266 1200 \r\nz\r\n\" id=\"ArialMT-35\" transform=\"scale(0.015625)\"/>\r\n       </defs>\r\n       <use xlink:href=\"#ArialMT-2212\"/>\r\n       <use x=\"58.398438\" xlink:href=\"#ArialMT-30\"/>\r\n       <use x=\"114.013672\" xlink:href=\"#ArialMT-2e\"/>\r\n       <use x=\"141.796875\" xlink:href=\"#ArialMT-35\"/>\r\n      </g>\r\n     </g>\r\n    </g>\r\n    <g id=\"xtick_2\">\r\n     <g id=\"text_2\">\r\n      <!-- 0.0 -->\r\n      <g style=\"fill:#262626;\" transform=\"translate(106.221094 256.602969)scale(0.11 -0.11)\">\r\n       <use xlink:href=\"#ArialMT-30\"/>\r\n       <use x=\"55.615234\" xlink:href=\"#ArialMT-2e\"/>\r\n       <use x=\"83.398438\" xlink:href=\"#ArialMT-30\"/>\r\n      </g>\r\n     </g>\r\n    </g>\r\n    <g id=\"xtick_3\">\r\n     <g id=\"text_3\">\r\n      <!-- 0.5 -->\r\n      <g style=\"fill:#262626;\" transform=\"translate(160.581094 256.602969)scale(0.11 -0.11)\">\r\n       <use xlink:href=\"#ArialMT-30\"/>\r\n       <use x=\"55.615234\" xlink:href=\"#ArialMT-2e\"/>\r\n       <use x=\"83.398438\" xlink:href=\"#ArialMT-35\"/>\r\n      </g>\r\n     </g>\r\n    </g>\r\n    <g id=\"xtick_4\">\r\n     <g id=\"text_4\">\r\n      <!-- 1.0 -->\r\n      <g style=\"fill:#262626;\" transform=\"translate(214.941094 256.602969)scale(0.11 -0.11)\">\r\n       <defs>\r\n        <path d=\"M 2384 0 \r\nL 1822 0 \r\nL 1822 3584 \r\nQ 1619 3391 1289 3197 \r\nQ 959 3003 697 2906 \r\nL 697 3450 \r\nQ 1169 3672 1522 3987 \r\nQ 1875 4303 2022 4600 \r\nL 2384 4600 \r\nL 2384 0 \r\nz\r\n\" id=\"ArialMT-31\" transform=\"scale(0.015625)\"/>\r\n       </defs>\r\n       <use xlink:href=\"#ArialMT-31\"/>\r\n       <use x=\"55.615234\" xlink:href=\"#ArialMT-2e\"/>\r\n       <use x=\"83.398438\" xlink:href=\"#ArialMT-30\"/>\r\n      </g>\r\n     </g>\r\n    </g>\r\n    <g id=\"xtick_5\">\r\n     <g id=\"text_5\">\r\n      <!-- 1.5 -->\r\n      <g style=\"fill:#262626;\" transform=\"translate(269.301094 256.602969)scale(0.11 -0.11)\">\r\n       <use xlink:href=\"#ArialMT-31\"/>\r\n       <use x=\"55.615234\" xlink:href=\"#ArialMT-2e\"/>\r\n       <use x=\"83.398438\" xlink:href=\"#ArialMT-35\"/>\r\n      </g>\r\n     </g>\r\n    </g>\r\n    <g id=\"text_6\">\r\n     <!-- $x_1$ -->\r\n     <g style=\"fill:#262626;\" transform=\"translate(161.806094 271.378594)scale(0.12 -0.12)\">\r\n      <defs>\r\n       <path d=\"M 3841 3500 \r\nL 2234 1784 \r\nL 3219 0 \r\nL 2559 0 \r\nL 1819 1388 \r\nL 531 0 \r\nL -166 0 \r\nL 1556 1844 \r\nL 641 3500 \r\nL 1300 3500 \r\nL 1972 2234 \r\nL 3144 3500 \r\nL 3841 3500 \r\nz\r\n\" id=\"DejaVuSans-Oblique-78\" transform=\"scale(0.015625)\"/>\r\n       <path d=\"M 794 531 \r\nL 1825 531 \r\nL 1825 4091 \r\nL 703 3866 \r\nL 703 4441 \r\nL 1819 4666 \r\nL 2450 4666 \r\nL 2450 531 \r\nL 3481 531 \r\nL 3481 0 \r\nL 794 0 \r\nL 794 531 \r\nz\r\n\" id=\"DejaVuSans-31\" transform=\"scale(0.015625)\"/>\r\n      </defs>\r\n      <use transform=\"translate(0 0.3125)\" xlink:href=\"#DejaVuSans-Oblique-78\"/>\r\n      <use transform=\"translate(59.179688 -16.09375)scale(0.7)\" xlink:href=\"#DejaVuSans-31\"/>\r\n     </g>\r\n    </g>\r\n   </g>\r\n   <g id=\"matplotlib.axis_2\">\r\n    <g id=\"ytick_1\">\r\n     <g id=\"text_7\">\r\n      <!-- −0.50 -->\r\n      <g style=\"fill:#262626;\" transform=\"translate(22.174375 243.166172)scale(0.11 -0.11)\">\r\n       <use xlink:href=\"#ArialMT-2212\"/>\r\n       <use x=\"58.398438\" xlink:href=\"#ArialMT-30\"/>\r\n       <use x=\"114.013672\" xlink:href=\"#ArialMT-2e\"/>\r\n       <use x=\"141.796875\" xlink:href=\"#ArialMT-35\"/>\r\n       <use x=\"197.412109\" xlink:href=\"#ArialMT-30\"/>\r\n      </g>\r\n     </g>\r\n    </g>\r\n    <g id=\"ytick_2\">\r\n     <g id=\"text_8\">\r\n      <!-- −0.25 -->\r\n      <g style=\"fill:#262626;\" transform=\"translate(22.174375 215.986172)scale(0.11 -0.11)\">\r\n       <defs>\r\n        <path d=\"M 3222 541 \r\nL 3222 0 \r\nL 194 0 \r\nQ 188 203 259 391 \r\nQ 375 700 629 1000 \r\nQ 884 1300 1366 1694 \r\nQ 2113 2306 2375 2664 \r\nQ 2638 3022 2638 3341 \r\nQ 2638 3675 2398 3904 \r\nQ 2159 4134 1775 4134 \r\nQ 1369 4134 1125 3890 \r\nQ 881 3647 878 3216 \r\nL 300 3275 \r\nQ 359 3922 746 4261 \r\nQ 1134 4600 1788 4600 \r\nQ 2447 4600 2831 4234 \r\nQ 3216 3869 3216 3328 \r\nQ 3216 3053 3103 2787 \r\nQ 2991 2522 2730 2228 \r\nQ 2469 1934 1863 1422 \r\nQ 1356 997 1212 845 \r\nQ 1069 694 975 541 \r\nL 3222 541 \r\nz\r\n\" id=\"ArialMT-32\" transform=\"scale(0.015625)\"/>\r\n       </defs>\r\n       <use xlink:href=\"#ArialMT-2212\"/>\r\n       <use x=\"58.398438\" xlink:href=\"#ArialMT-30\"/>\r\n       <use x=\"114.013672\" xlink:href=\"#ArialMT-2e\"/>\r\n       <use x=\"141.796875\" xlink:href=\"#ArialMT-32\"/>\r\n       <use x=\"197.412109\" xlink:href=\"#ArialMT-35\"/>\r\n      </g>\r\n     </g>\r\n    </g>\r\n    <g id=\"ytick_3\">\r\n     <g id=\"text_9\">\r\n      <!-- 0.00 -->\r\n      <g style=\"fill:#262626;\" transform=\"translate(28.599062 188.806172)scale(0.11 -0.11)\">\r\n       <use xlink:href=\"#ArialMT-30\"/>\r\n       <use x=\"55.615234\" xlink:href=\"#ArialMT-2e\"/>\r\n       <use x=\"83.398438\" xlink:href=\"#ArialMT-30\"/>\r\n       <use x=\"139.013672\" xlink:href=\"#ArialMT-30\"/>\r\n      </g>\r\n     </g>\r\n    </g>\r\n    <g id=\"ytick_4\">\r\n     <g id=\"text_10\">\r\n      <!-- 0.25 -->\r\n      <g style=\"fill:#262626;\" transform=\"translate(28.599062 161.626172)scale(0.11 -0.11)\">\r\n       <use xlink:href=\"#ArialMT-30\"/>\r\n       <use x=\"55.615234\" xlink:href=\"#ArialMT-2e\"/>\r\n       <use x=\"83.398438\" xlink:href=\"#ArialMT-32\"/>\r\n       <use x=\"139.013672\" xlink:href=\"#ArialMT-35\"/>\r\n      </g>\r\n     </g>\r\n    </g>\r\n    <g id=\"ytick_5\">\r\n     <g id=\"text_11\">\r\n      <!-- 0.50 -->\r\n      <g style=\"fill:#262626;\" transform=\"translate(28.599062 134.446172)scale(0.11 -0.11)\">\r\n       <use xlink:href=\"#ArialMT-30\"/>\r\n       <use x=\"55.615234\" xlink:href=\"#ArialMT-2e\"/>\r\n       <use x=\"83.398438\" xlink:href=\"#ArialMT-35\"/>\r\n       <use x=\"139.013672\" xlink:href=\"#ArialMT-30\"/>\r\n      </g>\r\n     </g>\r\n    </g>\r\n    <g id=\"ytick_6\">\r\n     <g id=\"text_12\">\r\n      <!-- 0.75 -->\r\n      <g style=\"fill:#262626;\" transform=\"translate(28.599062 107.266172)scale(0.11 -0.11)\">\r\n       <defs>\r\n        <path d=\"M 303 3981 \r\nL 303 4522 \r\nL 3269 4522 \r\nL 3269 4084 \r\nQ 2831 3619 2401 2847 \r\nQ 1972 2075 1738 1259 \r\nQ 1569 684 1522 0 \r\nL 944 0 \r\nQ 953 541 1156 1306 \r\nQ 1359 2072 1739 2783 \r\nQ 2119 3494 2547 3981 \r\nL 303 3981 \r\nz\r\n\" id=\"ArialMT-37\" transform=\"scale(0.015625)\"/>\r\n       </defs>\r\n       <use xlink:href=\"#ArialMT-30\"/>\r\n       <use x=\"55.615234\" xlink:href=\"#ArialMT-2e\"/>\r\n       <use x=\"83.398438\" xlink:href=\"#ArialMT-37\"/>\r\n       <use x=\"139.013672\" xlink:href=\"#ArialMT-35\"/>\r\n      </g>\r\n     </g>\r\n    </g>\r\n    <g id=\"ytick_7\">\r\n     <g id=\"text_13\">\r\n      <!-- 1.00 -->\r\n      <g style=\"fill:#262626;\" transform=\"translate(28.599062 80.086172)scale(0.11 -0.11)\">\r\n       <use xlink:href=\"#ArialMT-31\"/>\r\n       <use x=\"55.615234\" xlink:href=\"#ArialMT-2e\"/>\r\n       <use x=\"83.398438\" xlink:href=\"#ArialMT-30\"/>\r\n       <use x=\"139.013672\" xlink:href=\"#ArialMT-30\"/>\r\n      </g>\r\n     </g>\r\n    </g>\r\n    <g id=\"ytick_8\">\r\n     <g id=\"text_14\">\r\n      <!-- 1.25 -->\r\n      <g style=\"fill:#262626;\" transform=\"translate(28.599062 52.906172)scale(0.11 -0.11)\">\r\n       <use xlink:href=\"#ArialMT-31\"/>\r\n       <use x=\"55.615234\" xlink:href=\"#ArialMT-2e\"/>\r\n       <use x=\"83.398438\" xlink:href=\"#ArialMT-32\"/>\r\n       <use x=\"139.013672\" xlink:href=\"#ArialMT-35\"/>\r\n      </g>\r\n     </g>\r\n    </g>\r\n    <g id=\"ytick_9\">\r\n     <g id=\"text_15\">\r\n      <!-- 1.50 -->\r\n      <g style=\"fill:#262626;\" transform=\"translate(28.599062 25.726172)scale(0.11 -0.11)\">\r\n       <use xlink:href=\"#ArialMT-31\"/>\r\n       <use x=\"55.615234\" xlink:href=\"#ArialMT-2e\"/>\r\n       <use x=\"83.398438\" xlink:href=\"#ArialMT-35\"/>\r\n       <use x=\"139.013672\" xlink:href=\"#ArialMT-30\"/>\r\n      </g>\r\n     </g>\r\n    </g>\r\n    <g id=\"text_16\">\r\n     <!-- $x_2$ -->\r\n     <g style=\"fill:#262626;\" transform=\"translate(15.789375 136.929375)rotate(-90)scale(0.12 -0.12)\">\r\n      <defs>\r\n       <path d=\"M 1228 531 \r\nL 3431 531 \r\nL 3431 0 \r\nL 469 0 \r\nL 469 531 \r\nQ 828 903 1448 1529 \r\nQ 2069 2156 2228 2338 \r\nQ 2531 2678 2651 2914 \r\nQ 2772 3150 2772 3378 \r\nQ 2772 3750 2511 3984 \r\nQ 2250 4219 1831 4219 \r\nQ 1534 4219 1204 4116 \r\nQ 875 4013 500 3803 \r\nL 500 4441 \r\nQ 881 4594 1212 4672 \r\nQ 1544 4750 1819 4750 \r\nQ 2544 4750 2975 4387 \r\nQ 3406 4025 3406 3419 \r\nQ 3406 3131 3298 2873 \r\nQ 3191 2616 2906 2266 \r\nQ 2828 2175 2409 1742 \r\nQ 1991 1309 1228 531 \r\nz\r\n\" id=\"DejaVuSans-32\" transform=\"scale(0.015625)\"/>\r\n      </defs>\r\n      <use transform=\"translate(0 0.3125)\" xlink:href=\"#DejaVuSans-Oblique-78\"/>\r\n      <use transform=\"translate(59.179688 -16.09375)scale(0.7)\" xlink:href=\"#DejaVuSans-32\"/>\r\n     </g>\r\n    </g>\r\n   </g>\r\n   <g id=\"PathCollection_1\">\r\n    <defs>\r\n     <path d=\"M 0 3 \r\nC 0.795609 3 1.55874 2.683901 2.12132 2.12132 \r\nC 2.683901 1.55874 3 0.795609 3 0 \r\nC 3 -0.795609 2.683901 -1.55874 2.12132 -2.12132 \r\nC 1.55874 -2.683901 0.795609 -3 0 -3 \r\nC -0.795609 -3 -1.55874 -2.683901 -2.12132 -2.12132 \r\nC -2.683901 -1.55874 -3 -0.795609 -3 0 \r\nC -3 0.795609 -2.683901 1.55874 -2.12132 2.12132 \r\nC -1.55874 2.683901 -0.795609 3 0 3 \r\nz\r\n\" id=\"m43b65257e1\" style=\"stroke:#333333;\"/>\r\n    </defs>\r\n    <g clip-path=\"url(#p08fb6f4c38)\">\r\n     <use style=\"fill:#4c72b0;stroke:#333333;\" x=\"113.113131\" xlink:href=\"#m43b65257e1\" y=\"182.49841\"/>\r\n     <use style=\"fill:#4c72b0;stroke:#333333;\" x=\"219.514464\" xlink:href=\"#m43b65257e1\" y=\"79.177554\"/>\r\n     <use style=\"fill:#4c72b0;stroke:#333333;\" x=\"240.616481\" xlink:href=\"#m43b65257e1\" y=\"80.465647\"/>\r\n     <use style=\"fill:#4c72b0;stroke:#333333;\" x=\"122.990672\" xlink:href=\"#m43b65257e1\" y=\"191.228627\"/>\r\n     <use style=\"fill:#4c72b0;stroke:#333333;\" x=\"117.043338\" xlink:href=\"#m43b65257e1\" y=\"191.727538\"/>\r\n     <use style=\"fill:#4c72b0;stroke:#333333;\" x=\"93.260188\" xlink:href=\"#m43b65257e1\" y=\"179.533069\"/>\r\n     <use style=\"fill:#4c72b0;stroke:#333333;\" x=\"228.00165\" xlink:href=\"#m43b65257e1\" y=\"76.358712\"/>\r\n     <use style=\"fill:#4c72b0;stroke:#333333;\" x=\"219.482368\" xlink:href=\"#m43b65257e1\" y=\"70.746403\"/>\r\n     <use style=\"fill:#4c72b0;stroke:#333333;\" x=\"111.284669\" xlink:href=\"#m43b65257e1\" y=\"191.339768\"/>\r\n     <use style=\"fill:#4c72b0;stroke:#333333;\" x=\"223.810868\" xlink:href=\"#m43b65257e1\" y=\"72.425246\"/>\r\n     <use style=\"fill:#4c72b0;stroke:#333333;\" x=\"118.781318\" xlink:href=\"#m43b65257e1\" y=\"187.999568\"/>\r\n     <use style=\"fill:#4c72b0;stroke:#333333;\" x=\"237.932388\" xlink:href=\"#m43b65257e1\" y=\"55.593479\"/>\r\n     <use style=\"fill:#4c72b0;stroke:#333333;\" x=\"224.217696\" xlink:href=\"#m43b65257e1\" y=\"79.527791\"/>\r\n     <use style=\"fill:#4c72b0;stroke:#333333;\" x=\"219.602569\" xlink:href=\"#m43b65257e1\" y=\"75.719413\"/>\r\n     <use style=\"fill:#4c72b0;stroke:#333333;\" x=\"111.508243\" xlink:href=\"#m43b65257e1\" y=\"197.700217\"/>\r\n     <use style=\"fill:#4c72b0;stroke:#333333;\" x=\"107.563758\" xlink:href=\"#m43b65257e1\" y=\"175.970833\"/>\r\n     <use style=\"fill:#4c72b0;stroke:#333333;\" x=\"234.571592\" xlink:href=\"#m43b65257e1\" y=\"101.757689\"/>\r\n     <use style=\"fill:#4c72b0;stroke:#333333;\" x=\"237.352655\" xlink:href=\"#m43b65257e1\" y=\"96.196594\"/>\r\n     <use style=\"fill:#4c72b0;stroke:#333333;\" x=\"214.848877\" xlink:href=\"#m43b65257e1\" y=\"76.809314\"/>\r\n     <use style=\"fill:#4c72b0;stroke:#333333;\" x=\"101.913196\" xlink:href=\"#m43b65257e1\" y=\"195.003449\"/>\r\n     <use style=\"fill:#4c72b0;stroke:#333333;\" x=\"236.692399\" xlink:href=\"#m43b65257e1\" y=\"55.926769\"/>\r\n     <use style=\"fill:#4c72b0;stroke:#333333;\" x=\"229.777307\" xlink:href=\"#m43b65257e1\" y=\"77.453246\"/>\r\n     <use style=\"fill:#4c72b0;stroke:#333333;\" x=\"127.308474\" xlink:href=\"#m43b65257e1\" y=\"168.724494\"/>\r\n     <use style=\"fill:#4c72b0;stroke:#333333;\" x=\"216.849553\" xlink:href=\"#m43b65257e1\" y=\"55.699404\"/>\r\n     <use style=\"fill:#4c72b0;stroke:#333333;\" x=\"115.832488\" xlink:href=\"#m43b65257e1\" y=\"183.641939\"/>\r\n     <use style=\"fill:#4c72b0;stroke:#333333;\" x=\"216.182823\" xlink:href=\"#m43b65257e1\" y=\"70.797118\"/>\r\n     <use style=\"fill:#4c72b0;stroke:#333333;\" x=\"105.721388\" xlink:href=\"#m43b65257e1\" y=\"171.603513\"/>\r\n     <use style=\"fill:#4c72b0;stroke:#333333;\" x=\"234.148045\" xlink:href=\"#m43b65257e1\" y=\"68.646256\"/>\r\n     <use style=\"fill:#4c72b0;stroke:#333333;\" x=\"230.753461\" xlink:href=\"#m43b65257e1\" y=\"78.679537\"/>\r\n     <use style=\"fill:#4c72b0;stroke:#333333;\" x=\"225.880597\" xlink:href=\"#m43b65257e1\" y=\"64.645059\"/>\r\n     <use style=\"fill:#4c72b0;stroke:#333333;\" x=\"110.00079\" xlink:href=\"#m43b65257e1\" y=\"175.447519\"/>\r\n     <use style=\"fill:#4c72b0;stroke:#333333;\" x=\"119.536148\" xlink:href=\"#m43b65257e1\" y=\"195.403149\"/>\r\n     <use style=\"fill:#4c72b0;stroke:#333333;\" x=\"106.096908\" xlink:href=\"#m43b65257e1\" y=\"163.831905\"/>\r\n     <use style=\"fill:#4c72b0;stroke:#333333;\" x=\"114.236986\" xlink:href=\"#m43b65257e1\" y=\"188.794276\"/>\r\n     <use style=\"fill:#4c72b0;stroke:#333333;\" x=\"125.568748\" xlink:href=\"#m43b65257e1\" y=\"188.438894\"/>\r\n     <use style=\"fill:#4c72b0;stroke:#333333;\" x=\"110.82048\" xlink:href=\"#m43b65257e1\" y=\"184.370206\"/>\r\n     <use style=\"fill:#4c72b0;stroke:#333333;\" x=\"126.164417\" xlink:href=\"#m43b65257e1\" y=\"197.373813\"/>\r\n     <use style=\"fill:#4c72b0;stroke:#333333;\" x=\"205.300445\" xlink:href=\"#m43b65257e1\" y=\"61.436522\"/>\r\n     <use style=\"fill:#4c72b0;stroke:#333333;\" x=\"236.250176\" xlink:href=\"#m43b65257e1\" y=\"81.114938\"/>\r\n     <use style=\"fill:#4c72b0;stroke:#333333;\" x=\"224.331035\" xlink:href=\"#m43b65257e1\" y=\"80.449362\"/>\r\n     <use style=\"fill:#4c72b0;stroke:#333333;\" x=\"110.77974\" xlink:href=\"#m43b65257e1\" y=\"192.017061\"/>\r\n     <use style=\"fill:#4c72b0;stroke:#333333;\" x=\"212.177342\" xlink:href=\"#m43b65257e1\" y=\"100.402151\"/>\r\n     <use style=\"fill:#4c72b0;stroke:#333333;\" x=\"230.495769\" xlink:href=\"#m43b65257e1\" y=\"74.952984\"/>\r\n     <use style=\"fill:#4c72b0;stroke:#333333;\" x=\"114.364648\" xlink:href=\"#m43b65257e1\" y=\"197.307124\"/>\r\n     <use style=\"fill:#4c72b0;stroke:#333333;\" x=\"124.319686\" xlink:href=\"#m43b65257e1\" y=\"201.679001\"/>\r\n     <use style=\"fill:#4c72b0;stroke:#333333;\" x=\"131.115223\" xlink:href=\"#m43b65257e1\" y=\"169.662193\"/>\r\n     <use style=\"fill:#4c72b0;stroke:#333333;\" x=\"217.455836\" xlink:href=\"#m43b65257e1\" y=\"86.835655\"/>\r\n     <use style=\"fill:#4c72b0;stroke:#333333;\" x=\"207.796541\" xlink:href=\"#m43b65257e1\" y=\"65.168595\"/>\r\n     <use style=\"fill:#4c72b0;stroke:#333333;\" x=\"108.495859\" xlink:href=\"#m43b65257e1\" y=\"192.334435\"/>\r\n     <use style=\"fill:#4c72b0;stroke:#333333;\" x=\"218.401396\" xlink:href=\"#m43b65257e1\" y=\"84.171598\"/>\r\n     <use style=\"fill:#4c72b0;stroke:#333333;\" x=\"114.940106\" xlink:href=\"#m43b65257e1\" y=\"188.569421\"/>\r\n     <use style=\"fill:#4c72b0;stroke:#333333;\" x=\"227.539986\" xlink:href=\"#m43b65257e1\" y=\"56.702062\"/>\r\n     <use style=\"fill:#4c72b0;stroke:#333333;\" x=\"112.215934\" xlink:href=\"#m43b65257e1\" y=\"178.902658\"/>\r\n     <use style=\"fill:#4c72b0;stroke:#333333;\" x=\"216.06741\" xlink:href=\"#m43b65257e1\" y=\"90.543693\"/>\r\n     <use style=\"fill:#4c72b0;stroke:#333333;\" x=\"225.083505\" xlink:href=\"#m43b65257e1\" y=\"67.592741\"/>\r\n     <use style=\"fill:#4c72b0;stroke:#333333;\" x=\"93.261819\" xlink:href=\"#m43b65257e1\" y=\"180.358952\"/>\r\n     <use style=\"fill:#4c72b0;stroke:#333333;\" x=\"207.699862\" xlink:href=\"#m43b65257e1\" y=\"67.404154\"/>\r\n     <use style=\"fill:#4c72b0;stroke:#333333;\" x=\"231.495083\" xlink:href=\"#m43b65257e1\" y=\"81.910495\"/>\r\n     <use style=\"fill:#4c72b0;stroke:#333333;\" x=\"102.634019\" xlink:href=\"#m43b65257e1\" y=\"185.25332\"/>\r\n     <use style=\"fill:#4c72b0;stroke:#333333;\" x=\"111.779471\" xlink:href=\"#m43b65257e1\" y=\"211.285422\"/>\r\n     <use style=\"fill:#4c72b0;stroke:#333333;\" x=\"111.352236\" xlink:href=\"#m43b65257e1\" y=\"187.654911\"/>\r\n     <use style=\"fill:#4c72b0;stroke:#333333;\" x=\"97.134681\" xlink:href=\"#m43b65257e1\" y=\"187.76147\"/>\r\n     <use style=\"fill:#4c72b0;stroke:#333333;\" x=\"242.640862\" xlink:href=\"#m43b65257e1\" y=\"82.018961\"/>\r\n     <use style=\"fill:#4c72b0;stroke:#333333;\" x=\"216.060768\" xlink:href=\"#m43b65257e1\" y=\"88.325443\"/>\r\n     <use style=\"fill:#4c72b0;stroke:#333333;\" x=\"236.3733\" xlink:href=\"#m43b65257e1\" y=\"61.483413\"/>\r\n     <use style=\"fill:#4c72b0;stroke:#333333;\" x=\"97.576934\" xlink:href=\"#m43b65257e1\" y=\"176.194034\"/>\r\n     <use style=\"fill:#4c72b0;stroke:#333333;\" x=\"224.875736\" xlink:href=\"#m43b65257e1\" y=\"95.15416\"/>\r\n     <use style=\"fill:#4c72b0;stroke:#333333;\" x=\"232.96919\" xlink:href=\"#m43b65257e1\" y=\"100.850264\"/>\r\n     <use style=\"fill:#4c72b0;stroke:#333333;\" x=\"130.417091\" xlink:href=\"#m43b65257e1\" y=\"202.171878\"/>\r\n     <use style=\"fill:#4c72b0;stroke:#333333;\" x=\"122.83182\" xlink:href=\"#m43b65257e1\" y=\"193.324472\"/>\r\n     <use style=\"fill:#4c72b0;stroke:#333333;\" x=\"112.053929\" xlink:href=\"#m43b65257e1\" y=\"179.898067\"/>\r\n     <use style=\"fill:#4c72b0;stroke:#333333;\" x=\"112.715436\" xlink:href=\"#m43b65257e1\" y=\"178.07685\"/>\r\n     <use style=\"fill:#4c72b0;stroke:#333333;\" x=\"225.355298\" xlink:href=\"#m43b65257e1\" y=\"72.659467\"/>\r\n     <use style=\"fill:#4c72b0;stroke:#333333;\" x=\"215.52742\" xlink:href=\"#m43b65257e1\" y=\"99.662933\"/>\r\n     <use style=\"fill:#4c72b0;stroke:#333333;\" x=\"112.019832\" xlink:href=\"#m43b65257e1\" y=\"184.228202\"/>\r\n     <use style=\"fill:#4c72b0;stroke:#333333;\" x=\"121.484079\" xlink:href=\"#m43b65257e1\" y=\"177.398639\"/>\r\n     <use style=\"fill:#4c72b0;stroke:#333333;\" x=\"122.719929\" xlink:href=\"#m43b65257e1\" y=\"183.122569\"/>\r\n     <use style=\"fill:#4c72b0;stroke:#333333;\" x=\"225.134309\" xlink:href=\"#m43b65257e1\" y=\"59.837762\"/>\r\n     <use style=\"fill:#4c72b0;stroke:#333333;\" x=\"224.421006\" xlink:href=\"#m43b65257e1\" y=\"58.391533\"/>\r\n     <use style=\"fill:#4c72b0;stroke:#333333;\" x=\"113.648342\" xlink:href=\"#m43b65257e1\" y=\"194.141866\"/>\r\n     <use style=\"fill:#4c72b0;stroke:#333333;\" x=\"233.603266\" xlink:href=\"#m43b65257e1\" y=\"59.925283\"/>\r\n     <use style=\"fill:#4c72b0;stroke:#333333;\" x=\"219.750979\" xlink:href=\"#m43b65257e1\" y=\"87.23468\"/>\r\n     <use style=\"fill:#4c72b0;stroke:#333333;\" x=\"232.167043\" xlink:href=\"#m43b65257e1\" y=\"56.674185\"/>\r\n     <use style=\"fill:#4c72b0;stroke:#333333;\" x=\"106.934512\" xlink:href=\"#m43b65257e1\" y=\"182.205173\"/>\r\n     <use style=\"fill:#4c72b0;stroke:#333333;\" x=\"221.249005\" xlink:href=\"#m43b65257e1\" y=\"68.032968\"/>\r\n     <use style=\"fill:#4c72b0;stroke:#333333;\" x=\"114.856615\" xlink:href=\"#m43b65257e1\" y=\"197.612993\"/>\r\n     <use style=\"fill:#4c72b0;stroke:#333333;\" x=\"122.118068\" xlink:href=\"#m43b65257e1\" y=\"191.150753\"/>\r\n     <use style=\"fill:#4c72b0;stroke:#333333;\" x=\"106.384068\" xlink:href=\"#m43b65257e1\" y=\"180.837501\"/>\r\n     <use style=\"fill:#4c72b0;stroke:#333333;\" x=\"204.43312\" xlink:href=\"#m43b65257e1\" y=\"72.637357\"/>\r\n     <use style=\"fill:#4c72b0;stroke:#333333;\" x=\"214.114299\" xlink:href=\"#m43b65257e1\" y=\"67.911438\"/>\r\n     <use style=\"fill:#4c72b0;stroke:#333333;\" x=\"196.458267\" xlink:href=\"#m43b65257e1\" y=\"65.431977\"/>\r\n     <use style=\"fill:#4c72b0;stroke:#333333;\" x=\"105.79991\" xlink:href=\"#m43b65257e1\" y=\"181.088171\"/>\r\n     <use style=\"fill:#4c72b0;stroke:#333333;\" x=\"129.084183\" xlink:href=\"#m43b65257e1\" y=\"193.249332\"/>\r\n     <use style=\"fill:#4c72b0;stroke:#333333;\" x=\"109.558555\" xlink:href=\"#m43b65257e1\" y=\"195.488332\"/>\r\n     <use style=\"fill:#4c72b0;stroke:#333333;\" x=\"214.681732\" xlink:href=\"#m43b65257e1\" y=\"101.672422\"/>\r\n     <use style=\"fill:#4c72b0;stroke:#333333;\" x=\"117.640167\" xlink:href=\"#m43b65257e1\" y=\"184.056276\"/>\r\n     <use style=\"fill:#4c72b0;stroke:#333333;\" x=\"112.010728\" xlink:href=\"#m43b65257e1\" y=\"179.208321\"/>\r\n     <use style=\"fill:#4c72b0;stroke:#333333;\" x=\"107.786485\" xlink:href=\"#m43b65257e1\" y=\"187.931485\"/>\r\n     <use style=\"fill:#4c72b0;stroke:#333333;\" x=\"115.351335\" xlink:href=\"#m43b65257e1\" y=\"194.218882\"/>\r\n     <use style=\"fill:#4c72b0;stroke:#333333;\" x=\"203.461917\" xlink:href=\"#m43b65257e1\" y=\"75.808827\"/>\r\n     <use style=\"fill:#4c72b0;stroke:#333333;\" x=\"210.652327\" xlink:href=\"#m43b65257e1\" y=\"62.893054\"/>\r\n     <use style=\"fill:#4c72b0;stroke:#333333;\" x=\"94.164979\" xlink:href=\"#m43b65257e1\" y=\"199.133154\"/>\r\n     <use style=\"fill:#4c72b0;stroke:#333333;\" x=\"222.539021\" xlink:href=\"#m43b65257e1\" y=\"93.606743\"/>\r\n    </g>\r\n   </g>\r\n   <g id=\"PathCollection_2\">\r\n    <defs>\r\n     <path d=\"M 0 3 \r\nC 0.795609 3 1.55874 2.683901 2.12132 2.12132 \r\nC 2.683901 1.55874 3 0.795609 3 0 \r\nC 3 -0.795609 2.683901 -1.55874 2.12132 -2.12132 \r\nC 1.55874 -2.683901 0.795609 -3 0 -3 \r\nC -0.795609 -3 -1.55874 -2.683901 -2.12132 -2.12132 \r\nC -2.683901 -1.55874 -3 -0.795609 -3 0 \r\nC -3 0.795609 -2.683901 1.55874 -2.12132 2.12132 \r\nC -1.55874 2.683901 -0.795609 3 0 3 \r\nz\r\n\" id=\"me6c6b2225d\" style=\"stroke:#333333;\"/>\r\n    </defs>\r\n    <g clip-path=\"url(#p08fb6f4c38)\">\r\n     <use style=\"fill:#dd8452;stroke:#333333;\" x=\"218.589083\" xlink:href=\"#me6c6b2225d\" y=\"172.722578\"/>\r\n     <use style=\"fill:#dd8452;stroke:#333333;\" x=\"228.751683\" xlink:href=\"#me6c6b2225d\" y=\"172.935574\"/>\r\n     <use style=\"fill:#dd8452;stroke:#333333;\" x=\"219.482672\" xlink:href=\"#me6c6b2225d\" y=\"186.914606\"/>\r\n     <use style=\"fill:#dd8452;stroke:#333333;\" x=\"107.967069\" xlink:href=\"#me6c6b2225d\" y=\"65.983224\"/>\r\n     <use style=\"fill:#dd8452;stroke:#333333;\" x=\"234.116201\" xlink:href=\"#me6c6b2225d\" y=\"189.015519\"/>\r\n     <use style=\"fill:#dd8452;stroke:#333333;\" x=\"116.317983\" xlink:href=\"#me6c6b2225d\" y=\"80.286877\"/>\r\n     <use style=\"fill:#dd8452;stroke:#333333;\" x=\"209.955211\" xlink:href=\"#me6c6b2225d\" y=\"196.695087\"/>\r\n     <use style=\"fill:#dd8452;stroke:#333333;\" x=\"139.988184\" xlink:href=\"#me6c6b2225d\" y=\"77.172245\"/>\r\n     <use style=\"fill:#dd8452;stroke:#333333;\" x=\"231.64685\" xlink:href=\"#me6c6b2225d\" y=\"201.300291\"/>\r\n     <use style=\"fill:#dd8452;stroke:#333333;\" x=\"205.985229\" xlink:href=\"#me6c6b2225d\" y=\"176.380585\"/>\r\n     <use style=\"fill:#dd8452;stroke:#333333;\" x=\"217.828649\" xlink:href=\"#me6c6b2225d\" y=\"166.503753\"/>\r\n     <use style=\"fill:#dd8452;stroke:#333333;\" x=\"89.143285\" xlink:href=\"#me6c6b2225d\" y=\"65.332493\"/>\r\n     <use style=\"fill:#dd8452;stroke:#333333;\" x=\"129.004352\" xlink:href=\"#me6c6b2225d\" y=\"66.093504\"/>\r\n     <use style=\"fill:#dd8452;stroke:#333333;\" x=\"113.243105\" xlink:href=\"#me6c6b2225d\" y=\"90.480582\"/>\r\n     <use style=\"fill:#dd8452;stroke:#333333;\" x=\"113.486786\" xlink:href=\"#me6c6b2225d\" y=\"63.382855\"/>\r\n     <use style=\"fill:#dd8452;stroke:#333333;\" x=\"96.963843\" xlink:href=\"#me6c6b2225d\" y=\"60.97202\"/>\r\n     <use style=\"fill:#dd8452;stroke:#333333;\" x=\"220.975831\" xlink:href=\"#me6c6b2225d\" y=\"189.139562\"/>\r\n     <use style=\"fill:#dd8452;stroke:#333333;\" x=\"207.149686\" xlink:href=\"#me6c6b2225d\" y=\"172.606934\"/>\r\n     <use style=\"fill:#dd8452;stroke:#333333;\" x=\"214.723634\" xlink:href=\"#me6c6b2225d\" y=\"174.234168\"/>\r\n     <use style=\"fill:#dd8452;stroke:#333333;\" x=\"122.187621\" xlink:href=\"#me6c6b2225d\" y=\"76.904463\"/>\r\n     <use style=\"fill:#dd8452;stroke:#333333;\" x=\"204.001479\" xlink:href=\"#me6c6b2225d\" y=\"181.570638\"/>\r\n     <use style=\"fill:#dd8452;stroke:#333333;\" x=\"239.135026\" xlink:href=\"#me6c6b2225d\" y=\"188.18285\"/>\r\n     <use style=\"fill:#dd8452;stroke:#333333;\" x=\"232.424437\" xlink:href=\"#me6c6b2225d\" y=\"186.265279\"/>\r\n     <use style=\"fill:#dd8452;stroke:#333333;\" x=\"212.630899\" xlink:href=\"#me6c6b2225d\" y=\"189.421959\"/>\r\n     <use style=\"fill:#dd8452;stroke:#333333;\" x=\"237.203079\" xlink:href=\"#me6c6b2225d\" y=\"169.211816\"/>\r\n     <use style=\"fill:#dd8452;stroke:#333333;\" x=\"102.836419\" xlink:href=\"#me6c6b2225d\" y=\"85.502441\"/>\r\n     <use style=\"fill:#dd8452;stroke:#333333;\" x=\"234.929546\" xlink:href=\"#me6c6b2225d\" y=\"171.522637\"/>\r\n     <use style=\"fill:#dd8452;stroke:#333333;\" x=\"124.484581\" xlink:href=\"#me6c6b2225d\" y=\"73.646974\"/>\r\n     <use style=\"fill:#dd8452;stroke:#333333;\" x=\"219.568309\" xlink:href=\"#me6c6b2225d\" y=\"170.95476\"/>\r\n     <use style=\"fill:#dd8452;stroke:#333333;\" x=\"91.311946\" xlink:href=\"#me6c6b2225d\" y=\"75.104414\"/>\r\n     <use style=\"fill:#dd8452;stroke:#333333;\" x=\"112.262667\" xlink:href=\"#me6c6b2225d\" y=\"82.308517\"/>\r\n     <use style=\"fill:#dd8452;stroke:#333333;\" x=\"212.722854\" xlink:href=\"#me6c6b2225d\" y=\"194.586316\"/>\r\n     <use style=\"fill:#dd8452;stroke:#333333;\" x=\"206.10131\" xlink:href=\"#me6c6b2225d\" y=\"174.471235\"/>\r\n     <use style=\"fill:#dd8452;stroke:#333333;\" x=\"116.165303\" xlink:href=\"#me6c6b2225d\" y=\"78.009178\"/>\r\n     <use style=\"fill:#dd8452;stroke:#333333;\" x=\"228.974875\" xlink:href=\"#me6c6b2225d\" y=\"175.042947\"/>\r\n     <use style=\"fill:#dd8452;stroke:#333333;\" x=\"116.617165\" xlink:href=\"#me6c6b2225d\" y=\"84.209657\"/>\r\n     <use style=\"fill:#dd8452;stroke:#333333;\" x=\"114.190338\" xlink:href=\"#me6c6b2225d\" y=\"86.375929\"/>\r\n     <use style=\"fill:#dd8452;stroke:#333333;\" x=\"242.3893\" xlink:href=\"#me6c6b2225d\" y=\"195.125801\"/>\r\n     <use style=\"fill:#dd8452;stroke:#333333;\" x=\"219.105796\" xlink:href=\"#me6c6b2225d\" y=\"172.06177\"/>\r\n     <use style=\"fill:#dd8452;stroke:#333333;\" x=\"103.801552\" xlink:href=\"#me6c6b2225d\" y=\"74.200592\"/>\r\n     <use style=\"fill:#dd8452;stroke:#333333;\" x=\"127.529858\" xlink:href=\"#me6c6b2225d\" y=\"75.819376\"/>\r\n     <use style=\"fill:#dd8452;stroke:#333333;\" x=\"130.222425\" xlink:href=\"#me6c6b2225d\" y=\"61.958089\"/>\r\n     <use style=\"fill:#dd8452;stroke:#333333;\" x=\"229.134884\" xlink:href=\"#me6c6b2225d\" y=\"192.73988\"/>\r\n     <use style=\"fill:#dd8452;stroke:#333333;\" x=\"104.197708\" xlink:href=\"#me6c6b2225d\" y=\"77.476277\"/>\r\n     <use style=\"fill:#dd8452;stroke:#333333;\" x=\"217.204818\" xlink:href=\"#me6c6b2225d\" y=\"176.141722\"/>\r\n     <use style=\"fill:#dd8452;stroke:#333333;\" x=\"115.898981\" xlink:href=\"#me6c6b2225d\" y=\"88.124485\"/>\r\n     <use style=\"fill:#dd8452;stroke:#333333;\" x=\"122.098013\" xlink:href=\"#me6c6b2225d\" y=\"69.712783\"/>\r\n     <use style=\"fill:#dd8452;stroke:#333333;\" x=\"121.241299\" xlink:href=\"#me6c6b2225d\" y=\"72.428564\"/>\r\n     <use style=\"fill:#dd8452;stroke:#333333;\" x=\"210.298572\" xlink:href=\"#me6c6b2225d\" y=\"176.850192\"/>\r\n     <use style=\"fill:#dd8452;stroke:#333333;\" x=\"104.192758\" xlink:href=\"#me6c6b2225d\" y=\"91.277882\"/>\r\n     <use style=\"fill:#dd8452;stroke:#333333;\" x=\"120.308518\" xlink:href=\"#me6c6b2225d\" y=\"68.163842\"/>\r\n     <use style=\"fill:#dd8452;stroke:#333333;\" x=\"203.806749\" xlink:href=\"#me6c6b2225d\" y=\"173.739296\"/>\r\n     <use style=\"fill:#dd8452;stroke:#333333;\" x=\"224.784028\" xlink:href=\"#me6c6b2225d\" y=\"196.098083\"/>\r\n     <use style=\"fill:#dd8452;stroke:#333333;\" x=\"118.293649\" xlink:href=\"#me6c6b2225d\" y=\"68.565279\"/>\r\n     <use style=\"fill:#dd8452;stroke:#333333;\" x=\"123.236597\" xlink:href=\"#me6c6b2225d\" y=\"83.624636\"/>\r\n     <use style=\"fill:#dd8452;stroke:#333333;\" x=\"209.214082\" xlink:href=\"#me6c6b2225d\" y=\"183.904627\"/>\r\n     <use style=\"fill:#dd8452;stroke:#333333;\" x=\"202.548388\" xlink:href=\"#me6c6b2225d\" y=\"186.028703\"/>\r\n     <use style=\"fill:#dd8452;stroke:#333333;\" x=\"121.027864\" xlink:href=\"#me6c6b2225d\" y=\"79.354762\"/>\r\n     <use style=\"fill:#dd8452;stroke:#333333;\" x=\"86.458875\" xlink:href=\"#me6c6b2225d\" y=\"85.001475\"/>\r\n     <use style=\"fill:#dd8452;stroke:#333333;\" x=\"109.60376\" xlink:href=\"#me6c6b2225d\" y=\"91.247218\"/>\r\n     <use style=\"fill:#dd8452;stroke:#333333;\" x=\"123.437367\" xlink:href=\"#me6c6b2225d\" y=\"71.278714\"/>\r\n     <use style=\"fill:#dd8452;stroke:#333333;\" x=\"106.227745\" xlink:href=\"#me6c6b2225d\" y=\"80.026767\"/>\r\n     <use style=\"fill:#dd8452;stroke:#333333;\" x=\"111.328294\" xlink:href=\"#me6c6b2225d\" y=\"74.155451\"/>\r\n     <use style=\"fill:#dd8452;stroke:#333333;\" x=\"123.931262\" xlink:href=\"#me6c6b2225d\" y=\"83.994695\"/>\r\n     <use style=\"fill:#dd8452;stroke:#333333;\" x=\"239.314437\" xlink:href=\"#me6c6b2225d\" y=\"189.581028\"/>\r\n     <use style=\"fill:#dd8452;stroke:#333333;\" x=\"100.141138\" xlink:href=\"#me6c6b2225d\" y=\"61.615829\"/>\r\n     <use style=\"fill:#dd8452;stroke:#333333;\" x=\"239.886783\" xlink:href=\"#me6c6b2225d\" y=\"175.951217\"/>\r\n     <use style=\"fill:#dd8452;stroke:#333333;\" x=\"229.493759\" xlink:href=\"#me6c6b2225d\" y=\"165.595948\"/>\r\n     <use style=\"fill:#dd8452;stroke:#333333;\" x=\"205.732229\" xlink:href=\"#me6c6b2225d\" y=\"196.655183\"/>\r\n     <use style=\"fill:#dd8452;stroke:#333333;\" x=\"208.799691\" xlink:href=\"#me6c6b2225d\" y=\"209.221196\"/>\r\n     <use style=\"fill:#dd8452;stroke:#333333;\" x=\"114.630111\" xlink:href=\"#me6c6b2225d\" y=\"62.796784\"/>\r\n     <use style=\"fill:#dd8452;stroke:#333333;\" x=\"210.918677\" xlink:href=\"#me6c6b2225d\" y=\"171.183771\"/>\r\n     <use style=\"fill:#dd8452;stroke:#333333;\" x=\"200.487523\" xlink:href=\"#me6c6b2225d\" y=\"160.20823\"/>\r\n     <use style=\"fill:#dd8452;stroke:#333333;\" x=\"103.844151\" xlink:href=\"#me6c6b2225d\" y=\"67.343693\"/>\r\n     <use style=\"fill:#dd8452;stroke:#333333;\" x=\"122.525962\" xlink:href=\"#me6c6b2225d\" y=\"77.367636\"/>\r\n     <use style=\"fill:#dd8452;stroke:#333333;\" x=\"231.24623\" xlink:href=\"#me6c6b2225d\" y=\"175.385053\"/>\r\n     <use style=\"fill:#dd8452;stroke:#333333;\" x=\"109.752428\" xlink:href=\"#me6c6b2225d\" y=\"70.714482\"/>\r\n     <use style=\"fill:#dd8452;stroke:#333333;\" x=\"119.120655\" xlink:href=\"#me6c6b2225d\" y=\"78.731359\"/>\r\n     <use style=\"fill:#dd8452;stroke:#333333;\" x=\"117.866078\" xlink:href=\"#me6c6b2225d\" y=\"81.281882\"/>\r\n     <use style=\"fill:#dd8452;stroke:#333333;\" x=\"218.314711\" xlink:href=\"#me6c6b2225d\" y=\"169.775104\"/>\r\n     <use style=\"fill:#dd8452;stroke:#333333;\" x=\"224.55223\" xlink:href=\"#me6c6b2225d\" y=\"162.512298\"/>\r\n     <use style=\"fill:#dd8452;stroke:#333333;\" x=\"231.493178\" xlink:href=\"#me6c6b2225d\" y=\"176.082906\"/>\r\n     <use style=\"fill:#dd8452;stroke:#333333;\" x=\"143.288048\" xlink:href=\"#me6c6b2225d\" y=\"76.940435\"/>\r\n     <use style=\"fill:#dd8452;stroke:#333333;\" x=\"205.146132\" xlink:href=\"#me6c6b2225d\" y=\"198.450031\"/>\r\n     <use style=\"fill:#dd8452;stroke:#333333;\" x=\"245.504457\" xlink:href=\"#me6c6b2225d\" y=\"197.700438\"/>\r\n     <use style=\"fill:#dd8452;stroke:#333333;\" x=\"215.424288\" xlink:href=\"#me6c6b2225d\" y=\"195.311378\"/>\r\n     <use style=\"fill:#dd8452;stroke:#333333;\" x=\"106.954843\" xlink:href=\"#me6c6b2225d\" y=\"85.208582\"/>\r\n     <use style=\"fill:#dd8452;stroke:#333333;\" x=\"105.187827\" xlink:href=\"#me6c6b2225d\" y=\"76.937881\"/>\r\n     <use style=\"fill:#dd8452;stroke:#333333;\" x=\"233.349721\" xlink:href=\"#me6c6b2225d\" y=\"197.574985\"/>\r\n     <use style=\"fill:#dd8452;stroke:#333333;\" x=\"105.531983\" xlink:href=\"#me6c6b2225d\" y=\"82.792323\"/>\r\n     <use style=\"fill:#dd8452;stroke:#333333;\" x=\"94.487374\" xlink:href=\"#me6c6b2225d\" y=\"78.896216\"/>\r\n     <use style=\"fill:#dd8452;stroke:#333333;\" x=\"128.801858\" xlink:href=\"#me6c6b2225d\" y=\"68.522121\"/>\r\n     <use style=\"fill:#dd8452;stroke:#333333;\" x=\"107.871643\" xlink:href=\"#me6c6b2225d\" y=\"70.865367\"/>\r\n     <use style=\"fill:#dd8452;stroke:#333333;\" x=\"239.354938\" xlink:href=\"#me6c6b2225d\" y=\"195.618315\"/>\r\n     <use style=\"fill:#dd8452;stroke:#333333;\" x=\"201.703232\" xlink:href=\"#me6c6b2225d\" y=\"181.419653\"/>\r\n     <use style=\"fill:#dd8452;stroke:#333333;\" x=\"114.545241\" xlink:href=\"#me6c6b2225d\" y=\"65.332078\"/>\r\n     <use style=\"fill:#dd8452;stroke:#333333;\" x=\"237.198711\" xlink:href=\"#me6c6b2225d\" y=\"193.710222\"/>\r\n    </g>\r\n   </g>\r\n   <g id=\"patch_3\">\r\n    <path d=\"M 59.506094 239.229375 \r\nL 59.506094 21.789375 \r\n\" style=\"fill:none;stroke:#ffffff;stroke-linecap:square;stroke-linejoin:miter;stroke-width:1.25;\"/>\r\n   </g>\r\n   <g id=\"patch_4\">\r\n    <path d=\"M 276.946094 239.229375 \r\nL 276.946094 21.789375 \r\n\" style=\"fill:none;stroke:#ffffff;stroke-linecap:square;stroke-linejoin:miter;stroke-width:1.25;\"/>\r\n   </g>\r\n   <g id=\"patch_5\">\r\n    <path d=\"M 59.506094 239.229375 \r\nL 276.946094 239.229375 \r\n\" style=\"fill:none;stroke:#ffffff;stroke-linecap:square;stroke-linejoin:miter;stroke-width:1.25;\"/>\r\n   </g>\r\n   <g id=\"patch_6\">\r\n    <path d=\"M 59.506094 21.789375 \r\nL 276.946094 21.789375 \r\n\" style=\"fill:none;stroke:#ffffff;stroke-linecap:square;stroke-linejoin:miter;stroke-width:1.25;\"/>\r\n   </g>\r\n   <g id=\"text_17\">\r\n    <!-- Dataset samples -->\r\n    <g style=\"fill:#262626;\" transform=\"translate(123.542031 15.789375)scale(0.12 -0.12)\">\r\n     <defs>\r\n      <path d=\"M 494 0 \r\nL 494 4581 \r\nL 2072 4581 \r\nQ 2606 4581 2888 4516 \r\nQ 3281 4425 3559 4188 \r\nQ 3922 3881 4101 3404 \r\nQ 4281 2928 4281 2316 \r\nQ 4281 1794 4159 1391 \r\nQ 4038 988 3847 723 \r\nQ 3656 459 3429 307 \r\nQ 3203 156 2883 78 \r\nQ 2563 0 2147 0 \r\nL 494 0 \r\nz\r\nM 1100 541 \r\nL 2078 541 \r\nQ 2531 541 2789 625 \r\nQ 3047 709 3200 863 \r\nQ 3416 1078 3536 1442 \r\nQ 3656 1806 3656 2325 \r\nQ 3656 3044 3420 3430 \r\nQ 3184 3816 2847 3947 \r\nQ 2603 4041 2063 4041 \r\nL 1100 4041 \r\nL 1100 541 \r\nz\r\n\" id=\"ArialMT-44\" transform=\"scale(0.015625)\"/>\r\n      <path d=\"M 2588 409 \r\nQ 2275 144 1986 34 \r\nQ 1697 -75 1366 -75 \r\nQ 819 -75 525 192 \r\nQ 231 459 231 875 \r\nQ 231 1119 342 1320 \r\nQ 453 1522 633 1644 \r\nQ 813 1766 1038 1828 \r\nQ 1203 1872 1538 1913 \r\nQ 2219 1994 2541 2106 \r\nQ 2544 2222 2544 2253 \r\nQ 2544 2597 2384 2738 \r\nQ 2169 2928 1744 2928 \r\nQ 1347 2928 1158 2789 \r\nQ 969 2650 878 2297 \r\nL 328 2372 \r\nQ 403 2725 575 2942 \r\nQ 747 3159 1072 3276 \r\nQ 1397 3394 1825 3394 \r\nQ 2250 3394 2515 3294 \r\nQ 2781 3194 2906 3042 \r\nQ 3031 2891 3081 2659 \r\nQ 3109 2516 3109 2141 \r\nL 3109 1391 \r\nQ 3109 606 3145 398 \r\nQ 3181 191 3288 0 \r\nL 2700 0 \r\nQ 2613 175 2588 409 \r\nz\r\nM 2541 1666 \r\nQ 2234 1541 1622 1453 \r\nQ 1275 1403 1131 1340 \r\nQ 988 1278 909 1158 \r\nQ 831 1038 831 891 \r\nQ 831 666 1001 516 \r\nQ 1172 366 1500 366 \r\nQ 1825 366 2078 508 \r\nQ 2331 650 2450 897 \r\nQ 2541 1088 2541 1459 \r\nL 2541 1666 \r\nz\r\n\" id=\"ArialMT-61\" transform=\"scale(0.015625)\"/>\r\n      <path d=\"M 1650 503 \r\nL 1731 6 \r\nQ 1494 -44 1306 -44 \r\nQ 1000 -44 831 53 \r\nQ 663 150 594 308 \r\nQ 525 466 525 972 \r\nL 525 2881 \r\nL 113 2881 \r\nL 113 3319 \r\nL 525 3319 \r\nL 525 4141 \r\nL 1084 4478 \r\nL 1084 3319 \r\nL 1650 3319 \r\nL 1650 2881 \r\nL 1084 2881 \r\nL 1084 941 \r\nQ 1084 700 1114 631 \r\nQ 1144 563 1211 522 \r\nQ 1278 481 1403 481 \r\nQ 1497 481 1650 503 \r\nz\r\n\" id=\"ArialMT-74\" transform=\"scale(0.015625)\"/>\r\n      <path d=\"M 197 991 \r\nL 753 1078 \r\nQ 800 744 1014 566 \r\nQ 1228 388 1613 388 \r\nQ 2000 388 2187 545 \r\nQ 2375 703 2375 916 \r\nQ 2375 1106 2209 1216 \r\nQ 2094 1291 1634 1406 \r\nQ 1016 1563 777 1677 \r\nQ 538 1791 414 1992 \r\nQ 291 2194 291 2438 \r\nQ 291 2659 392 2848 \r\nQ 494 3038 669 3163 \r\nQ 800 3259 1026 3326 \r\nQ 1253 3394 1513 3394 \r\nQ 1903 3394 2198 3281 \r\nQ 2494 3169 2634 2976 \r\nQ 2775 2784 2828 2463 \r\nL 2278 2388 \r\nQ 2241 2644 2061 2787 \r\nQ 1881 2931 1553 2931 \r\nQ 1166 2931 1000 2803 \r\nQ 834 2675 834 2503 \r\nQ 834 2394 903 2306 \r\nQ 972 2216 1119 2156 \r\nQ 1203 2125 1616 2013 \r\nQ 2213 1853 2448 1751 \r\nQ 2684 1650 2818 1456 \r\nQ 2953 1263 2953 975 \r\nQ 2953 694 2789 445 \r\nQ 2625 197 2315 61 \r\nQ 2006 -75 1616 -75 \r\nQ 969 -75 630 194 \r\nQ 291 463 197 991 \r\nz\r\n\" id=\"ArialMT-73\" transform=\"scale(0.015625)\"/>\r\n      <path d=\"M 2694 1069 \r\nL 3275 997 \r\nQ 3138 488 2766 206 \r\nQ 2394 -75 1816 -75 \r\nQ 1088 -75 661 373 \r\nQ 234 822 234 1631 \r\nQ 234 2469 665 2931 \r\nQ 1097 3394 1784 3394 \r\nQ 2450 3394 2872 2941 \r\nQ 3294 2488 3294 1666 \r\nQ 3294 1616 3291 1516 \r\nL 816 1516 \r\nQ 847 969 1125 678 \r\nQ 1403 388 1819 388 \r\nQ 2128 388 2347 550 \r\nQ 2566 713 2694 1069 \r\nz\r\nM 847 1978 \r\nL 2700 1978 \r\nQ 2663 2397 2488 2606 \r\nQ 2219 2931 1791 2931 \r\nQ 1403 2931 1139 2672 \r\nQ 875 2413 847 1978 \r\nz\r\n\" id=\"ArialMT-65\" transform=\"scale(0.015625)\"/>\r\n      <path id=\"ArialMT-20\" transform=\"scale(0.015625)\"/>\r\n      <path d=\"M 422 0 \r\nL 422 3319 \r\nL 925 3319 \r\nL 925 2853 \r\nQ 1081 3097 1340 3245 \r\nQ 1600 3394 1931 3394 \r\nQ 2300 3394 2536 3241 \r\nQ 2772 3088 2869 2813 \r\nQ 3263 3394 3894 3394 \r\nQ 4388 3394 4653 3120 \r\nQ 4919 2847 4919 2278 \r\nL 4919 0 \r\nL 4359 0 \r\nL 4359 2091 \r\nQ 4359 2428 4304 2576 \r\nQ 4250 2725 4106 2815 \r\nQ 3963 2906 3769 2906 \r\nQ 3419 2906 3187 2673 \r\nQ 2956 2441 2956 1928 \r\nL 2956 0 \r\nL 2394 0 \r\nL 2394 2156 \r\nQ 2394 2531 2256 2718 \r\nQ 2119 2906 1806 2906 \r\nQ 1569 2906 1367 2781 \r\nQ 1166 2656 1075 2415 \r\nQ 984 2175 984 1722 \r\nL 984 0 \r\nL 422 0 \r\nz\r\n\" id=\"ArialMT-6d\" transform=\"scale(0.015625)\"/>\r\n      <path d=\"M 422 -1272 \r\nL 422 3319 \r\nL 934 3319 \r\nL 934 2888 \r\nQ 1116 3141 1344 3267 \r\nQ 1572 3394 1897 3394 \r\nQ 2322 3394 2647 3175 \r\nQ 2972 2956 3137 2557 \r\nQ 3303 2159 3303 1684 \r\nQ 3303 1175 3120 767 \r\nQ 2938 359 2589 142 \r\nQ 2241 -75 1856 -75 \r\nQ 1575 -75 1351 44 \r\nQ 1128 163 984 344 \r\nL 984 -1272 \r\nL 422 -1272 \r\nz\r\nM 931 1641 \r\nQ 931 1000 1190 694 \r\nQ 1450 388 1819 388 \r\nQ 2194 388 2461 705 \r\nQ 2728 1022 2728 1688 \r\nQ 2728 2322 2467 2637 \r\nQ 2206 2953 1844 2953 \r\nQ 1484 2953 1207 2617 \r\nQ 931 2281 931 1641 \r\nz\r\n\" id=\"ArialMT-70\" transform=\"scale(0.015625)\"/>\r\n      <path d=\"M 409 0 \r\nL 409 4581 \r\nL 972 4581 \r\nL 972 0 \r\nL 409 0 \r\nz\r\n\" id=\"ArialMT-6c\" transform=\"scale(0.015625)\"/>\r\n     </defs>\r\n     <use xlink:href=\"#ArialMT-44\"/>\r\n     <use x=\"72.216797\" xlink:href=\"#ArialMT-61\"/>\r\n     <use x=\"127.832031\" xlink:href=\"#ArialMT-74\"/>\r\n     <use x=\"155.615234\" xlink:href=\"#ArialMT-61\"/>\r\n     <use x=\"211.230469\" xlink:href=\"#ArialMT-73\"/>\r\n     <use x=\"261.230469\" xlink:href=\"#ArialMT-65\"/>\r\n     <use x=\"316.845703\" xlink:href=\"#ArialMT-74\"/>\r\n     <use x=\"344.628906\" xlink:href=\"#ArialMT-20\"/>\r\n     <use x=\"372.412109\" xlink:href=\"#ArialMT-73\"/>\r\n     <use x=\"422.412109\" xlink:href=\"#ArialMT-61\"/>\r\n     <use x=\"478.027344\" xlink:href=\"#ArialMT-6d\"/>\r\n     <use x=\"561.328125\" xlink:href=\"#ArialMT-70\"/>\r\n     <use x=\"616.943359\" xlink:href=\"#ArialMT-6c\"/>\r\n     <use x=\"639.160156\" xlink:href=\"#ArialMT-65\"/>\r\n     <use x=\"694.775391\" xlink:href=\"#ArialMT-73\"/>\r\n    </g>\r\n   </g>\r\n   <g id=\"legend_1\">\r\n    <g id=\"patch_7\">\r\n     <path d=\"M 197.367969 147.719219 \r\nL 269.246094 147.719219 \r\nQ 271.446094 147.719219 271.446094 145.519219 \r\nL 271.446094 115.499531 \r\nQ 271.446094 113.299531 269.246094 113.299531 \r\nL 197.367969 113.299531 \r\nQ 195.167969 113.299531 195.167969 115.499531 \r\nL 195.167969 145.519219 \r\nQ 195.167969 147.719219 197.367969 147.719219 \r\nz\r\n\" style=\"fill:#eaeaf2;opacity:0.8;stroke:#cccccc;stroke-linejoin:miter;\"/>\r\n    </g>\r\n    <g id=\"PathCollection_3\">\r\n     <g>\r\n      <use style=\"fill:#4c72b0;stroke:#333333;\" x=\"210.567969\" xlink:href=\"#m43b65257e1\" y=\"122.685625\"/>\r\n     </g>\r\n    </g>\r\n    <g id=\"text_18\">\r\n     <!-- Class 0 -->\r\n     <g style=\"fill:#262626;\" transform=\"translate(230.367969 125.573125)scale(0.11 -0.11)\">\r\n      <defs>\r\n       <path d=\"M 3763 1606 \r\nL 4369 1453 \r\nQ 4178 706 3683 314 \r\nQ 3188 -78 2472 -78 \r\nQ 1731 -78 1267 223 \r\nQ 803 525 561 1097 \r\nQ 319 1669 319 2325 \r\nQ 319 3041 592 3573 \r\nQ 866 4106 1370 4382 \r\nQ 1875 4659 2481 4659 \r\nQ 3169 4659 3637 4309 \r\nQ 4106 3959 4291 3325 \r\nL 3694 3184 \r\nQ 3534 3684 3231 3912 \r\nQ 2928 4141 2469 4141 \r\nQ 1941 4141 1586 3887 \r\nQ 1231 3634 1087 3207 \r\nQ 944 2781 944 2328 \r\nQ 944 1744 1114 1308 \r\nQ 1284 872 1643 656 \r\nQ 2003 441 2422 441 \r\nQ 2931 441 3284 734 \r\nQ 3638 1028 3763 1606 \r\nz\r\n\" id=\"ArialMT-43\" transform=\"scale(0.015625)\"/>\r\n      </defs>\r\n      <use xlink:href=\"#ArialMT-43\"/>\r\n      <use x=\"72.216797\" xlink:href=\"#ArialMT-6c\"/>\r\n      <use x=\"94.433594\" xlink:href=\"#ArialMT-61\"/>\r\n      <use x=\"150.048828\" xlink:href=\"#ArialMT-73\"/>\r\n      <use x=\"200.048828\" xlink:href=\"#ArialMT-73\"/>\r\n      <use x=\"250.048828\" xlink:href=\"#ArialMT-20\"/>\r\n      <use x=\"277.832031\" xlink:href=\"#ArialMT-30\"/>\r\n     </g>\r\n    </g>\r\n    <g id=\"PathCollection_4\">\r\n     <g>\r\n      <use style=\"fill:#dd8452;stroke:#333333;\" x=\"210.567969\" xlink:href=\"#me6c6b2225d\" y=\"138.245469\"/>\r\n     </g>\r\n    </g>\r\n    <g id=\"text_19\">\r\n     <!-- Class 1 -->\r\n     <g style=\"fill:#262626;\" transform=\"translate(230.367969 141.132969)scale(0.11 -0.11)\">\r\n      <use xlink:href=\"#ArialMT-43\"/>\r\n      <use x=\"72.216797\" xlink:href=\"#ArialMT-6c\"/>\r\n      <use x=\"94.433594\" xlink:href=\"#ArialMT-61\"/>\r\n      <use x=\"150.048828\" xlink:href=\"#ArialMT-73\"/>\r\n      <use x=\"200.048828\" xlink:href=\"#ArialMT-73\"/>\r\n      <use x=\"250.048828\" xlink:href=\"#ArialMT-20\"/>\r\n      <use x=\"277.832031\" xlink:href=\"#ArialMT-31\"/>\r\n     </g>\r\n    </g>\r\n   </g>\r\n  </g>\r\n </g>\r\n <defs>\r\n  <clipPath id=\"p08fb6f4c38\">\r\n   <rect height=\"217.44\" width=\"217.44\" x=\"59.506094\" y=\"21.789375\"/>\r\n  </clipPath>\r\n </defs>\r\n</svg>\r\n",
            "text/plain": [
              "<Figure size 2000x2000 with 1 Axes>"
            ]
          },
          "metadata": {},
          "output_type": "display_data"
        }
      ],
      "source": [
        "@torch.no_grad() # Decorator, same effect as \"with torch.no_grad(): ...\" over the whole function.\n",
        "def visualize_classification(model, data, label):\n",
        "    if isinstance(data, torch.Tensor):\n",
        "        data = data.cpu().numpy()\n",
        "    if isinstance(label, torch.Tensor):\n",
        "        label = label.cpu().numpy()\n",
        "    data_0 = data[label == 0]\n",
        "    data_1 = data[label == 1]\n",
        "    \n",
        "    fig = plt.figure(figsize=(4,4), dpi=500)\n",
        "    plt.scatter(data_0[:,0], data_0[:,1], edgecolor=\"#333\", label=\"Class 0\")\n",
        "    plt.scatter(data_1[:,0], data_1[:,1], edgecolor=\"#333\", label=\"Class 1\")\n",
        "    plt.title(\"Dataset samples\")\n",
        "    plt.ylabel(r\"$x_2$\")\n",
        "    plt.xlabel(r\"$x_1$\")\n",
        "    plt.legend()\n",
        "    \n",
        "    # Let's make use of a lot of operations we have learned above\n",
        "    model.to(device)\n",
        "    c0 = torch.Tensor(to_rgba(\"C0\")).to(device)\n",
        "    c1 = torch.Tensor(to_rgba(\"C1\")).to(device)\n",
        "    x1 = torch.arange(-0.5, 1.5, step=0.01, device=device)\n",
        "    x2 = torch.arange(-0.5, 1.5, step=0.01, device=device)\n",
        "    xx1, xx2 = torch.meshgrid(x1, x2, indexing='ij')  # Meshgrid function as in numpy\n",
        "    model_inputs = torch.stack([xx1, xx2], dim=-1)\n",
        "    preds = model(model_inputs)\n",
        "    preds = torch.sigmoid(preds)\n",
        "    output_image = (1 - preds) * c0[None,None] + preds * c1[None,None]  # Specifying \"None\" in a dimension creates a new one\n",
        "    output_image = output_image.cpu().numpy()  # Convert to numpy array. This only works for tensors on CPU, hence first push to CPU\n",
        "    plt.imshow(output_image, origin='lower', extent=(-0.5, 1.5, -0.5, 1.5))\n",
        "    plt.grid(False)\n",
        "    return fig\n",
        "\n",
        "_ = visualize_classification(model, dataset.data, dataset.label)\n",
        "plt.show()"
      ]
    },
    {
      "cell_type": "markdown",
      "metadata": {
        "id": "owgCfFe3MEOq"
      },
      "source": [
        "The decision boundaries might not look exactly as in the figure in the preamble of this section which can be caused by running it on CPU or a different GPU architecture. Nevertheless, the result on the accuracy metric should be the approximately the same. "
      ]
    },
    {
      "cell_type": "markdown",
      "metadata": {
        "id": "1FhCPZ-MMEOq"
      },
      "source": [
        "## Additional features we didn't get to discuss yet\n",
        "\n",
        "Finally, you are all set to start with your own PyTorch project! In summary, we have looked at how we can build neural networks in PyTorch, and train and test them on data. However, there is still much more to PyTorch we haven't discussed yet. In the coming series of Jupyter notebooks, we will discover more and more functionalities of PyTorch, so that you also get familiar to PyTorch concepts beyond the basics. If you are already interested in learning more of PyTorch, we recommend the official [tutorial website](https://pytorch.org/tutorials/) that contains many tutorials on various topics. Especially logging with Tensorboard ([official tutorial here](https://pytorch.org/tutorials/intermediate/tensorboard_tutorial.html)) is a good practice that we will explore further from Tutorial 5 on in combination with PyTorch Lightning.\n",
        "Nonetheless, let's check it shortly out how we could use TensorBoard in our small example."
      ]
    },
    {
      "cell_type": "markdown",
      "metadata": {
        "id": "YqKDRXRwMEOq"
      },
      "source": [
        "### TensorBoard logging\n",
        "\n",
        "TensorBoard is a logging and visualization tool that is a popular choice for training deep learning models. Although initially published for TensorFlow, TensorBoard is also integrated in PyTorch allowing us to easily use it. First, let's import it below."
      ]
    },
    {
      "cell_type": "code",
      "execution_count": 60,
      "metadata": {
        "id": "SQZLnVcvMEOq"
      },
      "outputs": [],
      "source": [
        "# Import tensorboard logger from PyTorch\n",
        "from torch.utils.tensorboard import SummaryWriter\n",
        "\n",
        "# Load tensorboard extension for Jupyter Notebook, only need to start TB in the notebook\n",
        "%load_ext tensorboard"
      ]
    },
    {
      "cell_type": "markdown",
      "metadata": {
        "id": "v6qy8ILNMEOq"
      },
      "source": [
        "The last line is required if you want to run TensorBoard directly in the Jupyter Notebook. Otherwise, you can start TensorBoard from the terminal.\n",
        "\n",
        "PyTorch's TensorBoard API is simple to use. We start the logging process by creating a new object, `writer = SummaryWriter(...)`, where we specify the directory in which the logging file should be saved. With this object, we can log different aspects of our model by calling functions of the style `writer.add_...`. For example, we can visualize the computation graph with the function `writer.add_graph`, or add a scalar value like the loss with `writer.add_scalar`. Let's adapt our initial training function with adding a TensorBoard logger below."
      ]
    },
    {
      "cell_type": "code",
      "execution_count": 61,
      "metadata": {
        "id": "PVRoFFUeMEOr"
      },
      "outputs": [],
      "source": [
        "def train_model_with_logger(model, optimizer, data_loader, loss_module, val_dataset, num_epochs=100, logging_dir='runs/our_experiment'):\n",
        "    # Create TensorBoard logger\n",
        "    writer = SummaryWriter(logging_dir)\n",
        "    model_plotted = False\n",
        "    \n",
        "    # Set model to train mode\n",
        "    model.train() \n",
        "    \n",
        "    # Training loop\n",
        "    for epoch in tqdm(range(num_epochs)):\n",
        "        epoch_loss = 0.0\n",
        "        for data_inputs, data_labels in data_loader:\n",
        "            \n",
        "            ## Step 1: Move input data to device (only strictly necessary if we use GPU)\n",
        "            data_inputs = data_inputs.to(device)\n",
        "            data_labels = data_labels.to(device)\n",
        "            \n",
        "            # For the very first batch, we visualize the computation graph in TensorBoard\n",
        "            if not model_plotted:\n",
        "                writer.add_graph(model, data_inputs)\n",
        "                model_plotted = True\n",
        "            \n",
        "            ## Step 2: Run the model on the input data\n",
        "            preds = model(data_inputs)\n",
        "            preds = preds.squeeze(dim=1) # Output is [Batch size, 1], but we want [Batch size]\n",
        "            \n",
        "            ## Step 3: Calculate the loss\n",
        "            loss = loss_module(preds, data_labels.float())\n",
        "            \n",
        "            ## Step 4: Perform backpropagation\n",
        "            # Before calculating the gradients, we need to ensure that they are all zero. \n",
        "            # The gradients would not be overwritten, but actually added to the existing ones.\n",
        "            optimizer.zero_grad() \n",
        "            # Perform backpropagation\n",
        "            loss.backward()\n",
        "            \n",
        "            ## Step 5: Update the parameters\n",
        "            optimizer.step()\n",
        "            \n",
        "            ## Step 6: Take the running average of the loss\n",
        "            epoch_loss += loss.item()\n",
        "            \n",
        "        # Add average loss to TensorBoard\n",
        "        epoch_loss /= len(data_loader)\n",
        "        writer.add_scalar('training_loss',\n",
        "                          epoch_loss,\n",
        "                          global_step = epoch + 1)\n",
        "        \n",
        "        # Visualize prediction and add figure to TensorBoard\n",
        "        # Since matplotlib figures can be slow in rendering, we only do it every 10th epoch\n",
        "        if (epoch + 1) % 10 == 0:\n",
        "            fig = visualize_classification(model, val_dataset.data, val_dataset.label)\n",
        "            writer.add_figure('predictions',\n",
        "                              fig,\n",
        "                              global_step = epoch + 1)\n",
        "    \n",
        "    writer.close()"
      ]
    },
    {
      "cell_type": "markdown",
      "metadata": {
        "id": "MHRi4zIcMEOr"
      },
      "source": [
        "Let's use this method to train a model as before, with a new model and optimizer."
      ]
    },
    {
      "cell_type": "code",
      "execution_count": 62,
      "metadata": {
        "colab": {
          "referenced_widgets": [
            "833e50b766e34e2ba3e97ca7b91b6703"
          ]
        },
        "id": "7aZLKGt4MEOr",
        "outputId": "919d4dcb-aba9-46b3-f42b-ee01f4b7a90d"
      },
      "outputs": [
        {
          "data": {
            "application/vnd.jupyter.widget-view+json": {
              "model_id": "7b0e9264be4f4c70a19c4176bfc23757",
              "version_major": 2,
              "version_minor": 0
            },
            "text/plain": [
              "  0%|          | 0/100 [00:00<?, ?it/s]"
            ]
          },
          "metadata": {},
          "output_type": "display_data"
        }
      ],
      "source": [
        "model = SimpleClassifier(num_inputs=2, num_hidden=4, num_outputs=1).to(device)\n",
        "optimizer = torch.optim.SGD(model.parameters(), lr=0.1)\n",
        "train_model_with_logger(model, optimizer, train_data_loader, loss_module, val_dataset=dataset)"
      ]
    },
    {
      "cell_type": "markdown",
      "metadata": {
        "id": "mpnJ5LQ3MEOr"
      },
      "source": [
        "The TensorBoard file in the folder `runs/our_experiment` now contains a loss curve, the computation graph of our network, and a visualization of the learned predictions over number of epochs. To start the TensorBoard visualizer, simply run the following statement:"
      ]
    },
    {
      "cell_type": "code",
      "execution_count": 63,
      "metadata": {
        "id": "bKn-tMFYMEOr"
      },
      "outputs": [
        {
          "data": {
            "text/plain": [
              "Reusing TensorBoard on port 6006 (pid 9540), started 0:19:27 ago. (Use '!kill 9540' to kill it.)"
            ]
          },
          "metadata": {},
          "output_type": "display_data"
        },
        {
          "data": {
            "text/html": [
              "\n",
              "      <iframe id=\"tensorboard-frame-6cdfe1c18198df75\" width=\"100%\" height=\"800\" frameborder=\"0\">\n",
              "      </iframe>\n",
              "      <script>\n",
              "        (function() {\n",
              "          const frame = document.getElementById(\"tensorboard-frame-6cdfe1c18198df75\");\n",
              "          const url = new URL(\"http://localhost\");\n",
              "          const port = 6006;\n",
              "          if (port) {\n",
              "            url.port = port;\n",
              "          }\n",
              "          frame.src = url;\n",
              "        })();\n",
              "      </script>\n",
              "    "
            ],
            "text/plain": [
              "<IPython.core.display.HTML object>"
            ]
          },
          "metadata": {},
          "output_type": "display_data"
        }
      ],
      "source": [
        "%tensorboard --logdir runs/our_experiment"
      ]
    },
    {
      "cell_type": "markdown",
      "metadata": {
        "id": "Q5Z7BlaiMEOr"
      },
      "source": [
        "<center><img src=\"https://github.com/phlippe/uvadlc_notebooks/blob/master/docs/tutorial_notebooks/tutorial2/tensorboard_screenshot.png?raw=1\" width=\"1100px\"></center>\n",
        "\n",
        "TensorBoard visualizations can help to identify possible issues with your model, and identify situations such as overfitting. You can also track the training progress while a model is training, since the logger automatically writes everything added to it to the logging file. Feel free to explore the TensorBoard functionalities, and we will make use of TensorBoards a couple of times from Tutorial 5 on."
      ]
    }
  ],
  "metadata": {
    "accelerator": "GPU",
    "colab": {
      "provenance": []
    },
    "gpuClass": "standard",
    "kernelspec": {
      "display_name": "base",
      "language": "python",
      "name": "python3"
    },
    "language_info": {
      "codemirror_mode": {
        "name": "ipython",
        "version": 3
      },
      "file_extension": ".py",
      "mimetype": "text/x-python",
      "name": "python",
      "nbconvert_exporter": "python",
      "pygments_lexer": "ipython3",
      "version": "3.9.7"
    },
    "vscode": {
      "interpreter": {
        "hash": "ad2bdc8ecc057115af97d19610ffacc2b4e99fae6737bb82f5d7fb13d2f2c186"
      }
    }
  },
  "nbformat": 4,
  "nbformat_minor": 0
}
