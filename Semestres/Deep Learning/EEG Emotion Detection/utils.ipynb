{
 "cells": [
  {
   "cell_type": "code",
   "execution_count": 3,
   "metadata": {},
   "outputs": [
    {
     "name": "stderr",
     "output_type": "stream",
     "text": [
      "c:\\Users\\scago\\AppData\\Local\\Programs\\Python\\Python311\\Lib\\site-packages\\torchaudio\\backend\\utils.py:74: UserWarning: No audio backend is available.\n",
      "  warnings.warn(\"No audio backend is available.\")\n"
     ]
    }
   ],
   "source": [
    "import os\n",
    "import mne\n",
    "import torch\n",
    "import pickle\n",
    "import torchaudio\n",
    "import numpy as np\n",
    "import pandas as pd\n",
    "import torch.nn as nn\n",
    "import torch.optim as optim\n",
    "import matplotlib.pyplot as plt\n",
    "import torch.nn.functional as F\n",
    "from torch.utils.data import Dataset"
   ]
  },
  {
   "cell_type": "code",
   "execution_count": null,
   "metadata": {},
   "outputs": [],
   "source": [
    "# label_dict = {0:'Disgust', 1:'Fear', 2:'Sad', 3:'Neutral', 4:'Happy'}\n",
    "def load_eeg_data(eeg_dir, file_name, print_=True):\n",
    "    eeg_data_pickle = np.load( os.path.join(eeg_dir, file_name))\n",
    "    data = pickle.loads(eeg_data_pickle['data'])\n",
    "    label = pickle.loads(eeg_data_pickle['label'])\n",
    "    label_dict = {0:'Disgust', 1:'Fear', 2:'Sad', 3:'Neutral', 4:'Happy'}\n",
    "    print(data[0])\n",
    "    if(print_ == True):\n",
    "        for i in range(45):\n",
    "            print(f\"\\tSession {i//15+1} - Clip #{i%15+1} ----> {label_dict[label[i][0]]}\")\n",
    "\n",
    "def load_eye_data(eye_dir, file_name, print_=True):\n",
    "    eye_data_pickle = np.load( os.path.join(eye_dir, file_name))\n",
    "    data = pickle.loads(eye_data_pickle['data'])\n",
    "    label = pickle.loads(eye_data_pickle['label'])\n",
    "    label_dict = {0:'Disgust', 1:'Fear', 2:'Sad', 3:'Neutral', 4:'Happy'}\n",
    "    if(print_ == True):\n",
    "        for i in range(45):\n",
    "            print(f\"\\tSession {i//15+1} - Clip #{i%15+1} ----> {label_dict[label[i][0]]}\")"
   ]
  }
 ],
 "metadata": {
  "kernelspec": {
   "display_name": "Python 3",
   "language": "python",
   "name": "python3"
  },
  "language_info": {
   "codemirror_mode": {
    "name": "ipython",
    "version": 3
   },
   "file_extension": ".py",
   "mimetype": "text/x-python",
   "name": "python",
   "nbconvert_exporter": "python",
   "pygments_lexer": "ipython3",
   "version": "3.11.2"
  },
  "orig_nbformat": 4
 },
 "nbformat": 4,
 "nbformat_minor": 2
}
