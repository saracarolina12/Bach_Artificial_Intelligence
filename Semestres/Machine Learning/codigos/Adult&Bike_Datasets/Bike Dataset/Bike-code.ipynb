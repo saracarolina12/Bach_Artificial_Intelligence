{
 "cells": [
  {
   "cell_type": "code",
   "execution_count": 1,
   "id": "d0351959",
   "metadata": {},
   "outputs": [],
   "source": [
    "import numpy as np\n",
    "import pandas as pd\n",
    "import matplotlib.pyplot as plt\n",
    "import seaborn as sns"
   ]
  },
  {
   "cell_type": "markdown",
   "id": "d793635e",
   "metadata": {},
   "source": [
    "## 1. Calculate the following statistical metrics for each one of the features (except dteday): min, max, mean, standard deviation, minN, maxN, Q1, Q2 (median), Q3, IQR"
   ]
  },
  {
   "cell_type": "code",
   "execution_count": 142,
   "id": "01e3635d",
   "metadata": {},
   "outputs": [],
   "source": [
    "def IQR(name):\n",
    "    for i in range(0,name.size):\n",
    "        print('----------------------------',name[i],'----------------------------')\n",
    "        q1 = df[name[i]].describe()[4]\n",
    "        q3 = df[name[i]].describe()[6]\n",
    "        iqr = q3 - q1\n",
    "        print(\"IQR: \", iqr)\n",
    "        print(\"minN: \", q1 - 1.5*iqr )\n",
    "        print(\"maxN: \", q3 + 1.5*iqr )\n",
    "        x = df[name[i]].describe()\n",
    "        print(x,'\\n')\n",
    "        \n",
    "#I create a function to reduce lines"
   ]
  },
  {
   "cell_type": "code",
   "execution_count": 143,
   "id": "50e5a681",
   "metadata": {},
   "outputs": [
    {
     "name": "stdout",
     "output_type": "stream",
     "text": [
      "---------------------------- instant ----------------------------\n",
      "IQR:  365.0\n",
      "minN:  -364.0\n",
      "maxN:  1096.0\n",
      "count    731.000000\n",
      "mean     366.000000\n",
      "std      211.165812\n",
      "min        1.000000\n",
      "25%      183.500000\n",
      "50%      366.000000\n",
      "75%      548.500000\n",
      "max      731.000000\n",
      "Name: instant, dtype: float64 \n",
      "\n",
      "---------------------------- holiday ----------------------------\n",
      "IQR:  0.0\n",
      "minN:  0.0\n",
      "maxN:  0.0\n",
      "count    731.000000\n",
      "mean       0.028728\n",
      "std        0.167155\n",
      "min        0.000000\n",
      "25%        0.000000\n",
      "50%        0.000000\n",
      "75%        0.000000\n",
      "max        1.000000\n",
      "Name: holiday, dtype: float64 \n",
      "\n",
      "---------------------------- season ----------------------------\n",
      "IQR:  1.0\n",
      "minN:  0.5\n",
      "maxN:  4.5\n",
      "count    731.000000\n",
      "mean       2.496580\n",
      "std        1.110807\n",
      "min        1.000000\n",
      "25%        2.000000\n",
      "50%        3.000000\n",
      "75%        3.000000\n",
      "max        4.000000\n",
      "Name: season, dtype: float64 \n",
      "\n",
      "---------------------------- yr ----------------------------\n",
      "IQR:  1.0\n",
      "minN:  -1.5\n",
      "maxN:  2.5\n",
      "count    731.000000\n",
      "mean       0.500684\n",
      "std        0.500342\n",
      "min        0.000000\n",
      "25%        0.000000\n",
      "50%        1.000000\n",
      "75%        1.000000\n",
      "max        1.000000\n",
      "Name: yr, dtype: float64 \n",
      "\n",
      "---------------------------- mnth ----------------------------\n",
      "IQR:  6.0\n",
      "minN:  -5.0\n",
      "maxN:  19.0\n",
      "count    731.000000\n",
      "mean       6.519836\n",
      "std        3.451913\n",
      "min        1.000000\n",
      "25%        4.000000\n",
      "50%        7.000000\n",
      "75%       10.000000\n",
      "max       12.000000\n",
      "Name: mnth, dtype: float64 \n",
      "\n",
      "---------------------------- holiday ----------------------------\n",
      "IQR:  0.0\n",
      "minN:  0.0\n",
      "maxN:  0.0\n",
      "count    731.000000\n",
      "mean       0.028728\n",
      "std        0.167155\n",
      "min        0.000000\n",
      "25%        0.000000\n",
      "50%        0.000000\n",
      "75%        0.000000\n",
      "max        1.000000\n",
      "Name: holiday, dtype: float64 \n",
      "\n",
      "---------------------------- weekday ----------------------------\n",
      "IQR:  4.0\n",
      "minN:  -5.0\n",
      "maxN:  11.0\n",
      "count    731.000000\n",
      "mean       2.997264\n",
      "std        2.004787\n",
      "min        0.000000\n",
      "25%        1.000000\n",
      "50%        3.000000\n",
      "75%        5.000000\n",
      "max        6.000000\n",
      "Name: weekday, dtype: float64 \n",
      "\n",
      "---------------------------- workingday ----------------------------\n",
      "IQR:  1.0\n",
      "minN:  -1.5\n",
      "maxN:  2.5\n",
      "count    731.000000\n",
      "mean       0.683995\n",
      "std        0.465233\n",
      "min        0.000000\n",
      "25%        0.000000\n",
      "50%        1.000000\n",
      "75%        1.000000\n",
      "max        1.000000\n",
      "Name: workingday, dtype: float64 \n",
      "\n",
      "---------------------------- weathersit ----------------------------\n",
      "IQR:  1.0\n",
      "minN:  -0.5\n",
      "maxN:  3.5\n",
      "count    731.000000\n",
      "mean       1.395349\n",
      "std        0.544894\n",
      "min        1.000000\n",
      "25%        1.000000\n",
      "50%        1.000000\n",
      "75%        2.000000\n",
      "max        3.000000\n",
      "Name: weathersit, dtype: float64 \n",
      "\n",
      "---------------------------- temp ----------------------------\n",
      "IQR:  0.3183330000000001\n",
      "minN:  -0.14041600000000015\n",
      "maxN:  1.1329160000000003\n",
      "count    731.000000\n",
      "mean       0.495385\n",
      "std        0.183051\n",
      "min        0.059130\n",
      "25%        0.337083\n",
      "50%        0.498333\n",
      "75%        0.655417\n",
      "max        0.861667\n",
      "Name: temp, dtype: float64 \n",
      "\n",
      "---------------------------- atemp ----------------------------\n",
      "IQR:  0.2707595000000001\n",
      "minN:  -0.06829675000000018\n",
      "maxN:  1.0147412500000002\n",
      "count    731.000000\n",
      "mean       0.474354\n",
      "std        0.162961\n",
      "min        0.079070\n",
      "25%        0.337842\n",
      "50%        0.486733\n",
      "75%        0.608602\n",
      "max        0.840896\n",
      "Name: atemp, dtype: float64 \n",
      "\n",
      "---------------------------- hum ----------------------------\n",
      "IQR:  0.21020850000000002\n",
      "minN:  0.20468725\n",
      "maxN:  1.0455212500000002\n",
      "count    731.000000\n",
      "mean       0.627894\n",
      "std        0.142429\n",
      "min        0.000000\n",
      "25%        0.520000\n",
      "50%        0.626667\n",
      "75%        0.730209\n",
      "max        0.972500\n",
      "Name: hum, dtype: float64 \n",
      "\n",
      "---------------------------- windspeed ----------------------------\n",
      "IQR:  0.0982645\n",
      "minN:  -0.012446750000000034\n",
      "maxN:  0.38061125\n",
      "count    731.000000\n",
      "mean       0.190486\n",
      "std        0.077498\n",
      "min        0.022392\n",
      "25%        0.134950\n",
      "50%        0.180975\n",
      "75%        0.233214\n",
      "max        0.507463\n",
      "Name: windspeed, dtype: float64 \n",
      "\n",
      "---------------------------- casual ----------------------------\n",
      "IQR:  780.5\n",
      "minN:  -855.25\n",
      "maxN:  2266.75\n",
      "count     731.000000\n",
      "mean      848.176471\n",
      "std       686.622488\n",
      "min         2.000000\n",
      "25%       315.500000\n",
      "50%       713.000000\n",
      "75%      1096.000000\n",
      "max      3410.000000\n",
      "Name: casual, dtype: float64 \n",
      "\n",
      "---------------------------- registered ----------------------------\n",
      "IQR:  2279.5\n",
      "minN:  -922.25\n",
      "maxN:  8195.75\n",
      "count     731.000000\n",
      "mean     3656.172367\n",
      "std      1560.256377\n",
      "min        20.000000\n",
      "25%      2497.000000\n",
      "50%      3662.000000\n",
      "75%      4776.500000\n",
      "max      6946.000000\n",
      "Name: registered, dtype: float64 \n",
      "\n",
      "---------------------------- cnt ----------------------------\n",
      "IQR:  2804.0\n",
      "minN:  -1054.0\n",
      "maxN:  10162.0\n",
      "count     731.000000\n",
      "mean     4504.348837\n",
      "std      1937.211452\n",
      "min        22.000000\n",
      "25%      3152.000000\n",
      "50%      4548.000000\n",
      "75%      5956.000000\n",
      "max      8714.000000\n",
      "Name: cnt, dtype: float64 \n",
      "\n"
     ]
    }
   ],
   "source": [
    "df = pd.read_csv('bike.csv', encoding='ISO-8859-1')\n",
    "arr = np.array(['instant','holiday','season','yr','mnth','holiday','weekday','workingday','weathersit','temp','atemp','hum','windspeed','casual','registered','cnt'])\n",
    "IQR(arr)"
   ]
  },
  {
   "cell_type": "markdown",
   "id": "98f1b67f",
   "metadata": {},
   "source": [
    "### <font color='pink'>_1. Comment:_</font>\n",
    "<font color='pink' size='2'>\n",
    "The registered's people mean is really high, this means a lot of people likes being registered than being just a casual user. I would try to explain this with some graphics and analisis of correlation between features.\n",
    "</font>"
   ]
  },
  {
   "cell_type": "markdown",
   "id": "d089f986",
   "metadata": {},
   "source": [
    "## 2. Graph for each feature: histogram and boxplot"
   ]
  },
  {
   "cell_type": "code",
   "execution_count": 60,
   "id": "9893522d",
   "metadata": {},
   "outputs": [],
   "source": [
    "def hist_box(name):\n",
    "    for i in range(0,name.size): \n",
    "        print(name[i],':')\n",
    "        plt.figure()\n",
    "        plt.subplot(1,2,1)\n",
    "        plt.hist(df[name[i]].values, bins=13)\n",
    "        plt.subplot(1,2,2)\n",
    "        plt.boxplot(df[name[i]].values)\n",
    "        plt.show()"
   ]
  },
  {
   "cell_type": "code",
   "execution_count": 161,
   "id": "2e74243e",
   "metadata": {
    "scrolled": false
   },
   "outputs": [
    {
     "name": "stdout",
     "output_type": "stream",
     "text": [
      "instant :\n"
     ]
    },
    {
     "data": {
      "image/png": "[encoded data removed]",
      "text/plain": [
       "<Figure size 432x288 with 2 Axes>"
      ]
     },
     "metadata": {
      "needs_background": "light"
     },
     "output_type": "display_data"
    },
    {
     "name": "stdout",
     "output_type": "stream",
     "text": [
      "holiday :\n"
     ]
    },
    {
     "data": {
      "image/png": "[encoded data removed]",
      "text/plain": [
       "<Figure size 432x288 with 2 Axes>"
      ]
     },
     "metadata": {
      "needs_background": "light"
     },
     "output_type": "display_data"
    },
    {
     "name": "stdout",
     "output_type": "stream",
     "text": [
      "season :\n"
     ]
    },
    {
     "data": {
      "image/png": "[encoded data removed]",
      "text/plain": [
       "<Figure size 432x288 with 2 Axes>"
      ]
     },
     "metadata": {
      "needs_background": "light"
     },
     "output_type": "display_data"
    },
    {
     "name": "stdout",
     "output_type": "stream",
     "text": [
      "yr :\n"
     ]
    },
    {
     "data": {
      "image/png": "[encoded data removed]",
      "text/plain": [
       "<Figure size 432x288 with 2 Axes>"
      ]
     },
     "metadata": {
      "needs_background": "light"
     },
     "output_type": "display_data"
    },
    {
     "name": "stdout",
     "output_type": "stream",
     "text": [
      "mnth :\n"
     ]
    },
    {
     "data": {
      "image/png": "[encoded data removed]",
      "text/plain": [
       "<Figure size 432x288 with 2 Axes>"
      ]
     },
     "metadata": {
      "needs_background": "light"
     },
     "output_type": "display_data"
    },
    {
     "name": "stdout",
     "output_type": "stream",
     "text": [
      "weekday :\n"
     ]
    },
    {
     "data": {
      "image/png": "[encoded data removed]",
      "text/plain": [
       "<Figure size 432x288 with 2 Axes>"
      ]
     },
     "metadata": {
      "needs_background": "light"
     },
     "output_type": "display_data"
    },
    {
     "name": "stdout",
     "output_type": "stream",
     "text": [
      "workingday :\n"
     ]
    },
    {
     "data": {
      "image/png": "[encoded data removed]",
      "text/plain": [
       "<Figure size 432x288 with 2 Axes>"
      ]
     },
     "metadata": {
      "needs_background": "light"
     },
     "output_type": "display_data"
    },
    {
     "name": "stdout",
     "output_type": "stream",
     "text": [
      "weathersit :\n"
     ]
    },
    {
     "data": {
      "image/png": "[encoded data removed]",
      "text/plain": [
       "<Figure size 432x288 with 2 Axes>"
      ]
     },
     "metadata": {
      "needs_background": "light"
     },
     "output_type": "display_data"
    },
    {
     "name": "stdout",
     "output_type": "stream",
     "text": [
      "temp :\n"
     ]
    },
    {
     "data": {
      "image/png": "[encoded data removed]",
      "text/plain": [
       "<Figure size 432x288 with 2 Axes>"
      ]
     },
     "metadata": {
      "needs_background": "light"
     },
     "output_type": "display_data"
    },
    {
     "name": "stdout",
     "output_type": "stream",
     "text": [
      "atemp :\n"
     ]
    },
    {
     "data": {
      "image/png": "[encoded data removed]",
      "text/plain": [
       "<Figure size 432x288 with 2 Axes>"
      ]
     },
     "metadata": {
      "needs_background": "light"
     },
     "output_type": "display_data"
    },
    {
     "name": "stdout",
     "output_type": "stream",
     "text": [
      "hum :\n"
     ]
    },
    {
     "data": {
      "image/png": "[encoded data removed]",
      "text/plain": [
       "<Figure size 432x288 with 2 Axes>"
      ]
     },
     "metadata": {
      "needs_background": "light"
     },
     "output_type": "display_data"
    },
    {
     "name": "stdout",
     "output_type": "stream",
     "text": [
      "windspeed :\n"
     ]
    },
    {
     "data": {
      "image/png": "[encoded data removed]",
      "text/plain": [
       "<Figure size 432x288 with 2 Axes>"
      ]
     },
     "metadata": {
      "needs_background": "light"
     },
     "output_type": "display_data"
    },
    {
     "name": "stdout",
     "output_type": "stream",
     "text": [
      "casual :\n"
     ]
    },
    {
     "data": {
      "image/png": "[encoded data removed]",
      "text/plain": [
       "<Figure size 432x288 with 2 Axes>"
      ]
     },
     "metadata": {
      "needs_background": "light"
     },
     "output_type": "display_data"
    },
    {
     "name": "stdout",
     "output_type": "stream",
     "text": [
      "registered :\n"
     ]
    },
    {
     "data": {
      "image/png": "[encoded data removed]",
      "text/plain": [
       "<Figure size 432x288 with 2 Axes>"
      ]
     },
     "metadata": {
      "needs_background": "light"
     },
     "output_type": "display_data"
    },
    {
     "name": "stdout",
     "output_type": "stream",
     "text": [
      "cnt :\n"
     ]
    },
    {
     "data": {
      "image/png": "[encoded data removed]",
      "text/plain": [
       "<Figure size 432x288 with 2 Axes>"
      ]
     },
     "metadata": {
      "needs_background": "light"
     },
     "output_type": "display_data"
    }
   ],
   "source": [
    "arr = np.array(['instant','holiday','season','yr','mnth','weekday','workingday','weathersit','temp','atemp','hum','windspeed','casual','registered','cnt'])\n",
    "hist_box(arr)"
   ]
  },
  {
   "cell_type": "markdown",
   "id": "082a394b",
   "metadata": {},
   "source": [
    "### <font color='pink'>_Comment:_</font>\n",
    "<font color='pink' size='2'>\n",
    "The more important features to consider would be:\n",
    "    -cnt (the number of rented bikes)\n",
    "    -registered (registered users) #it has a lot of relation (registered, cnt)\n",
    "    -casual (non-registered users)\n",
    "    -season\n",
    "    -holiday\n",
    "    -atemp \n",
    "    \n",
    "    \n",
    "    I think it's more important to use atemp than 'temp', because we don't actually care if the temp is 15°,\n",
    "    if there is a lot of sun and the feeling of the temperature is 23°, we feel just \n",
    "    fine riding because we are not freezing)\n",
    "</font>"
   ]
  },
  {
   "cell_type": "markdown",
   "id": "be5df059",
   "metadata": {},
   "source": [
    "## 3. Graph the correlation matrix (showing the absolute values)"
   ]
  },
  {
   "cell_type": "code",
   "execution_count": 67,
   "id": "8590f23c",
   "metadata": {
    "scrolled": true
   },
   "outputs": [
    {
     "data": {
      "text/html": [
       "<div>\n",
       "<style scoped>\n",
       "    .dataframe tbody tr th:only-of-type {\n",
       "        vertical-align: middle;\n",
       "    }\n",
       "\n",
       "    .dataframe tbody tr th {\n",
       "        vertical-align: top;\n",
       "    }\n",
       "\n",
       "    .dataframe thead th {\n",
       "        text-align: right;\n",
       "    }\n",
       "</style>\n",
       "<table border=\"1\" class=\"dataframe\">\n",
       "  <thead>\n",
       "    <tr style=\"text-align: right;\">\n",
       "      <th></th>\n",
       "      <th>instant</th>\n",
       "      <th>season</th>\n",
       "      <th>yr</th>\n",
       "      <th>mnth</th>\n",
       "      <th>holiday</th>\n",
       "      <th>weekday</th>\n",
       "      <th>workingday</th>\n",
       "      <th>weathersit</th>\n",
       "      <th>temp</th>\n",
       "      <th>atemp</th>\n",
       "      <th>hum</th>\n",
       "      <th>windspeed</th>\n",
       "      <th>casual</th>\n",
       "      <th>registered</th>\n",
       "      <th>cnt</th>\n",
       "    </tr>\n",
       "  </thead>\n",
       "  <tbody>\n",
       "    <tr>\n",
       "      <th>instant</th>\n",
       "      <td>1.00</td>\n",
       "      <td>0.41</td>\n",
       "      <td>0.87</td>\n",
       "      <td>0.50</td>\n",
       "      <td>0.02</td>\n",
       "      <td>0.00</td>\n",
       "      <td>0.00</td>\n",
       "      <td>0.02</td>\n",
       "      <td>0.15</td>\n",
       "      <td>0.15</td>\n",
       "      <td>0.02</td>\n",
       "      <td>0.11</td>\n",
       "      <td>0.28</td>\n",
       "      <td>0.66</td>\n",
       "      <td>0.63</td>\n",
       "    </tr>\n",
       "    <tr>\n",
       "      <th>season</th>\n",
       "      <td>0.41</td>\n",
       "      <td>1.00</td>\n",
       "      <td>0.00</td>\n",
       "      <td>0.83</td>\n",
       "      <td>0.01</td>\n",
       "      <td>0.00</td>\n",
       "      <td>0.01</td>\n",
       "      <td>0.02</td>\n",
       "      <td>0.33</td>\n",
       "      <td>0.34</td>\n",
       "      <td>0.21</td>\n",
       "      <td>0.23</td>\n",
       "      <td>0.21</td>\n",
       "      <td>0.41</td>\n",
       "      <td>0.41</td>\n",
       "    </tr>\n",
       "    <tr>\n",
       "      <th>yr</th>\n",
       "      <td>0.87</td>\n",
       "      <td>0.00</td>\n",
       "      <td>1.00</td>\n",
       "      <td>0.00</td>\n",
       "      <td>0.01</td>\n",
       "      <td>0.01</td>\n",
       "      <td>0.00</td>\n",
       "      <td>0.05</td>\n",
       "      <td>0.05</td>\n",
       "      <td>0.05</td>\n",
       "      <td>0.11</td>\n",
       "      <td>0.01</td>\n",
       "      <td>0.25</td>\n",
       "      <td>0.59</td>\n",
       "      <td>0.57</td>\n",
       "    </tr>\n",
       "    <tr>\n",
       "      <th>mnth</th>\n",
       "      <td>0.50</td>\n",
       "      <td>0.83</td>\n",
       "      <td>0.00</td>\n",
       "      <td>1.00</td>\n",
       "      <td>0.02</td>\n",
       "      <td>0.01</td>\n",
       "      <td>0.01</td>\n",
       "      <td>0.04</td>\n",
       "      <td>0.22</td>\n",
       "      <td>0.23</td>\n",
       "      <td>0.22</td>\n",
       "      <td>0.21</td>\n",
       "      <td>0.12</td>\n",
       "      <td>0.29</td>\n",
       "      <td>0.28</td>\n",
       "    </tr>\n",
       "    <tr>\n",
       "      <th>holiday</th>\n",
       "      <td>0.02</td>\n",
       "      <td>0.01</td>\n",
       "      <td>0.01</td>\n",
       "      <td>0.02</td>\n",
       "      <td>1.00</td>\n",
       "      <td>0.10</td>\n",
       "      <td>0.25</td>\n",
       "      <td>0.03</td>\n",
       "      <td>0.03</td>\n",
       "      <td>0.03</td>\n",
       "      <td>0.02</td>\n",
       "      <td>0.01</td>\n",
       "      <td>0.05</td>\n",
       "      <td>0.11</td>\n",
       "      <td>0.07</td>\n",
       "    </tr>\n",
       "    <tr>\n",
       "      <th>weekday</th>\n",
       "      <td>0.00</td>\n",
       "      <td>0.00</td>\n",
       "      <td>0.01</td>\n",
       "      <td>0.01</td>\n",
       "      <td>0.10</td>\n",
       "      <td>1.00</td>\n",
       "      <td>0.04</td>\n",
       "      <td>0.03</td>\n",
       "      <td>0.00</td>\n",
       "      <td>0.01</td>\n",
       "      <td>0.05</td>\n",
       "      <td>0.01</td>\n",
       "      <td>0.06</td>\n",
       "      <td>0.06</td>\n",
       "      <td>0.07</td>\n",
       "    </tr>\n",
       "    <tr>\n",
       "      <th>workingday</th>\n",
       "      <td>0.00</td>\n",
       "      <td>0.01</td>\n",
       "      <td>0.00</td>\n",
       "      <td>0.01</td>\n",
       "      <td>0.25</td>\n",
       "      <td>0.04</td>\n",
       "      <td>1.00</td>\n",
       "      <td>0.06</td>\n",
       "      <td>0.05</td>\n",
       "      <td>0.05</td>\n",
       "      <td>0.02</td>\n",
       "      <td>0.02</td>\n",
       "      <td>0.52</td>\n",
       "      <td>0.30</td>\n",
       "      <td>0.06</td>\n",
       "    </tr>\n",
       "    <tr>\n",
       "      <th>weathersit</th>\n",
       "      <td>0.02</td>\n",
       "      <td>0.02</td>\n",
       "      <td>0.05</td>\n",
       "      <td>0.04</td>\n",
       "      <td>0.03</td>\n",
       "      <td>0.03</td>\n",
       "      <td>0.06</td>\n",
       "      <td>1.00</td>\n",
       "      <td>0.12</td>\n",
       "      <td>0.12</td>\n",
       "      <td>0.59</td>\n",
       "      <td>0.04</td>\n",
       "      <td>0.25</td>\n",
       "      <td>0.26</td>\n",
       "      <td>0.30</td>\n",
       "    </tr>\n",
       "    <tr>\n",
       "      <th>temp</th>\n",
       "      <td>0.15</td>\n",
       "      <td>0.33</td>\n",
       "      <td>0.05</td>\n",
       "      <td>0.22</td>\n",
       "      <td>0.03</td>\n",
       "      <td>0.00</td>\n",
       "      <td>0.05</td>\n",
       "      <td>0.12</td>\n",
       "      <td>1.00</td>\n",
       "      <td>0.99</td>\n",
       "      <td>0.13</td>\n",
       "      <td>0.16</td>\n",
       "      <td>0.54</td>\n",
       "      <td>0.54</td>\n",
       "      <td>0.63</td>\n",
       "    </tr>\n",
       "    <tr>\n",
       "      <th>atemp</th>\n",
       "      <td>0.15</td>\n",
       "      <td>0.34</td>\n",
       "      <td>0.05</td>\n",
       "      <td>0.23</td>\n",
       "      <td>0.03</td>\n",
       "      <td>0.01</td>\n",
       "      <td>0.05</td>\n",
       "      <td>0.12</td>\n",
       "      <td>0.99</td>\n",
       "      <td>1.00</td>\n",
       "      <td>0.14</td>\n",
       "      <td>0.18</td>\n",
       "      <td>0.54</td>\n",
       "      <td>0.54</td>\n",
       "      <td>0.63</td>\n",
       "    </tr>\n",
       "    <tr>\n",
       "      <th>hum</th>\n",
       "      <td>0.02</td>\n",
       "      <td>0.21</td>\n",
       "      <td>0.11</td>\n",
       "      <td>0.22</td>\n",
       "      <td>0.02</td>\n",
       "      <td>0.05</td>\n",
       "      <td>0.02</td>\n",
       "      <td>0.59</td>\n",
       "      <td>0.13</td>\n",
       "      <td>0.14</td>\n",
       "      <td>1.00</td>\n",
       "      <td>0.25</td>\n",
       "      <td>0.08</td>\n",
       "      <td>0.09</td>\n",
       "      <td>0.10</td>\n",
       "    </tr>\n",
       "    <tr>\n",
       "      <th>windspeed</th>\n",
       "      <td>0.11</td>\n",
       "      <td>0.23</td>\n",
       "      <td>0.01</td>\n",
       "      <td>0.21</td>\n",
       "      <td>0.01</td>\n",
       "      <td>0.01</td>\n",
       "      <td>0.02</td>\n",
       "      <td>0.04</td>\n",
       "      <td>0.16</td>\n",
       "      <td>0.18</td>\n",
       "      <td>0.25</td>\n",
       "      <td>1.00</td>\n",
       "      <td>0.17</td>\n",
       "      <td>0.22</td>\n",
       "      <td>0.23</td>\n",
       "    </tr>\n",
       "    <tr>\n",
       "      <th>casual</th>\n",
       "      <td>0.28</td>\n",
       "      <td>0.21</td>\n",
       "      <td>0.25</td>\n",
       "      <td>0.12</td>\n",
       "      <td>0.05</td>\n",
       "      <td>0.06</td>\n",
       "      <td>0.52</td>\n",
       "      <td>0.25</td>\n",
       "      <td>0.54</td>\n",
       "      <td>0.54</td>\n",
       "      <td>0.08</td>\n",
       "      <td>0.17</td>\n",
       "      <td>1.00</td>\n",
       "      <td>0.40</td>\n",
       "      <td>0.67</td>\n",
       "    </tr>\n",
       "    <tr>\n",
       "      <th>registered</th>\n",
       "      <td>0.66</td>\n",
       "      <td>0.41</td>\n",
       "      <td>0.59</td>\n",
       "      <td>0.29</td>\n",
       "      <td>0.11</td>\n",
       "      <td>0.06</td>\n",
       "      <td>0.30</td>\n",
       "      <td>0.26</td>\n",
       "      <td>0.54</td>\n",
       "      <td>0.54</td>\n",
       "      <td>0.09</td>\n",
       "      <td>0.22</td>\n",
       "      <td>0.40</td>\n",
       "      <td>1.00</td>\n",
       "      <td>0.95</td>\n",
       "    </tr>\n",
       "    <tr>\n",
       "      <th>cnt</th>\n",
       "      <td>0.63</td>\n",
       "      <td>0.41</td>\n",
       "      <td>0.57</td>\n",
       "      <td>0.28</td>\n",
       "      <td>0.07</td>\n",
       "      <td>0.07</td>\n",
       "      <td>0.06</td>\n",
       "      <td>0.30</td>\n",
       "      <td>0.63</td>\n",
       "      <td>0.63</td>\n",
       "      <td>0.10</td>\n",
       "      <td>0.23</td>\n",
       "      <td>0.67</td>\n",
       "      <td>0.95</td>\n",
       "      <td>1.00</td>\n",
       "    </tr>\n",
       "  </tbody>\n",
       "</table>\n",
       "</div>"
      ],
      "text/plain": [
       "            instant  season    yr  mnth  holiday  weekday  workingday  \\\n",
       "instant        1.00    0.41  0.87  0.50     0.02     0.00        0.00   \n",
       "season         0.41    1.00  0.00  0.83     0.01     0.00        0.01   \n",
       "yr             0.87    0.00  1.00  0.00     0.01     0.01        0.00   \n",
       "mnth           0.50    0.83  0.00  1.00     0.02     0.01        0.01   \n",
       "holiday        0.02    0.01  0.01  0.02     1.00     0.10        0.25   \n",
       "weekday        0.00    0.00  0.01  0.01     0.10     1.00        0.04   \n",
       "workingday     0.00    0.01  0.00  0.01     0.25     0.04        1.00   \n",
       "weathersit     0.02    0.02  0.05  0.04     0.03     0.03        0.06   \n",
       "temp           0.15    0.33  0.05  0.22     0.03     0.00        0.05   \n",
       "atemp          0.15    0.34  0.05  0.23     0.03     0.01        0.05   \n",
       "hum            0.02    0.21  0.11  0.22     0.02     0.05        0.02   \n",
       "windspeed      0.11    0.23  0.01  0.21     0.01     0.01        0.02   \n",
       "casual         0.28    0.21  0.25  0.12     0.05     0.06        0.52   \n",
       "registered     0.66    0.41  0.59  0.29     0.11     0.06        0.30   \n",
       "cnt            0.63    0.41  0.57  0.28     0.07     0.07        0.06   \n",
       "\n",
       "            weathersit  temp  atemp   hum  windspeed  casual  registered   cnt  \n",
       "instant           0.02  0.15   0.15  0.02       0.11    0.28        0.66  0.63  \n",
       "season            0.02  0.33   0.34  0.21       0.23    0.21        0.41  0.41  \n",
       "yr                0.05  0.05   0.05  0.11       0.01    0.25        0.59  0.57  \n",
       "mnth              0.04  0.22   0.23  0.22       0.21    0.12        0.29  0.28  \n",
       "holiday           0.03  0.03   0.03  0.02       0.01    0.05        0.11  0.07  \n",
       "weekday           0.03  0.00   0.01  0.05       0.01    0.06        0.06  0.07  \n",
       "workingday        0.06  0.05   0.05  0.02       0.02    0.52        0.30  0.06  \n",
       "weathersit        1.00  0.12   0.12  0.59       0.04    0.25        0.26  0.30  \n",
       "temp              0.12  1.00   0.99  0.13       0.16    0.54        0.54  0.63  \n",
       "atemp             0.12  0.99   1.00  0.14       0.18    0.54        0.54  0.63  \n",
       "hum               0.59  0.13   0.14  1.00       0.25    0.08        0.09  0.10  \n",
       "windspeed         0.04  0.16   0.18  0.25       1.00    0.17        0.22  0.23  \n",
       "casual            0.25  0.54   0.54  0.08       0.17    1.00        0.40  0.67  \n",
       "registered        0.26  0.54   0.54  0.09       0.22    0.40        1.00  0.95  \n",
       "cnt               0.30  0.63   0.63  0.10       0.23    0.67        0.95  1.00  "
      ]
     },
     "execution_count": 67,
     "metadata": {},
     "output_type": "execute_result"
    }
   ],
   "source": [
    "#normal correlation\n",
    "corr = df.corr() #-1 -> 1\n",
    "corr.to_csv('correlation-matrix.csv')\n",
    "corr\n",
    "\n",
    "#Absolute correlation\n",
    "absCorr = df.corr()\n",
    "corr2 = pd.DataFrame(np.round(np.abs(absCorr.values),2), index = absCorr.index, columns=absCorr.columns)\n",
    "corr2\n",
    "# dfcabs.to_csv('BikeAbsCorr.csv') ## UNCOMMENT IF A CSV IS NEEDED."
   ]
  },
  {
   "cell_type": "markdown",
   "id": "06f20cc8",
   "metadata": {},
   "source": [
    "### <font color='pink'>_Comment:_</font>\n",
    "<font color='pink' size='2'>High relation between the feeling temperature (atemp) and the real temperature (temp)-\n",
    "Very low relation (0) between the weekday and the season. They have nothing to do with it at all.\n",
    "</font>"
   ]
  },
  {
   "cell_type": "markdown",
   "id": "5bedba9c",
   "metadata": {},
   "source": [
    "## 4. Graph the scatter plot using the feature cnt and the one with the highest correlation with that feature (cnt). And the same with the feature with the lowest correlation."
   ]
  },
  {
   "cell_type": "code",
   "execution_count": 84,
   "id": "1f1d636d",
   "metadata": {},
   "outputs": [
    {
     "data": {
      "text/plain": [
       "<AxesSubplot:xlabel='cnt', ylabel='registered'>"
      ]
     },
     "execution_count": 84,
     "metadata": {},
     "output_type": "execute_result"
    },
    {
     "data": {
      "image/png": "[encoded data removed]",
      "text/plain": [
       "<Figure size 432x288 with 1 Axes>"
      ]
     },
     "metadata": {
      "needs_background": "light"
     },
     "output_type": "display_data"
    }
   ],
   "source": [
    "sns.scatterplot(data=df, x='cnt', y='registered') #highest "
   ]
  },
  {
   "cell_type": "markdown",
   "id": "7b017b6d",
   "metadata": {},
   "source": [
    "<font color='pink' size='2'>This means that as more registered users, more cnt (total of rented bikes).\n",
    "</font>"
   ]
  },
  {
   "cell_type": "code",
   "execution_count": 83,
   "id": "451b50ae",
   "metadata": {},
   "outputs": [
    {
     "data": {
      "text/plain": [
       "<AxesSubplot:xlabel='cnt', ylabel='workingday'>"
      ]
     },
     "execution_count": 83,
     "metadata": {},
     "output_type": "execute_result"
    },
    {
     "data": {
      "image/png": "[encoded data removed]",
      "text/plain": [
       "<Figure size 432x288 with 1 Axes>"
      ]
     },
     "metadata": {
      "needs_background": "light"
     },
     "output_type": "display_data"
    }
   ],
   "source": [
    "sns.scatterplot(data=df, x='cnt', y='workingday') #lowest "
   ]
  },
  {
   "cell_type": "markdown",
   "id": "38c4b0d1",
   "metadata": {},
   "source": [
    "<font color='pink' size='2'>This means that this two features have nothing to do with it. That's why I wouldn't consider it to analize this case. \n",
    "</font>"
   ]
  },
  {
   "cell_type": "markdown",
   "id": "7b1985b5",
   "metadata": {},
   "source": [
    "## 5. Graph one scatter plot using four features: x, y, size, and color"
   ]
  },
  {
   "cell_type": "code",
   "execution_count": 97,
   "id": "e4b3627b",
   "metadata": {},
   "outputs": [
    {
     "data": {
      "text/plain": [
       "<AxesSubplot:xlabel='windspeed', ylabel='cnt'>"
      ]
     },
     "execution_count": 97,
     "metadata": {},
     "output_type": "execute_result"
    },
    {
     "data": {
      "image/png": "[encoded data removed]",
      "text/plain": [
       "<Figure size 432x288 with 1 Axes>"
      ]
     },
     "metadata": {
      "needs_background": "light"
     },
     "output_type": "display_data"
    }
   ],
   "source": [
    "sns.scatterplot(data=df, x='windspeed', y='cnt', s=40, color='pink')"
   ]
  },
  {
   "cell_type": "markdown",
   "id": "aede0a2f",
   "metadata": {},
   "source": [
    "## 6. Write at least four insights from the data (justifying with metrics or graphs). Insights consist of some interesting facts that you discover from the Exploratory Data Analysis"
   ]
  },
  {
   "cell_type": "markdown",
   "id": "c29f05ca",
   "metadata": {},
   "source": [
    "### <font color='pink'>_Comment:_</font>\n",
    "<font color='pink' size='2'>\n",
    "1. In the last graphic we can see that there is almost no relation between cnt and windspeed. We can appreciate a disperse fluid in this plot.\n",
    "We can deduce that users don't actually care if there is wind or not.\n",
    "</font>"
   ]
  },
  {
   "cell_type": "code",
   "execution_count": 97,
   "id": "65fcecff",
   "metadata": {},
   "outputs": [
    {
     "data": {
      "text/plain": [
       "<AxesSubplot:xlabel='windspeed', ylabel='cnt'>"
      ]
     },
     "execution_count": 97,
     "metadata": {},
     "output_type": "execute_result"
    },
    {
     "data": {
      "image/png": "[encoded data removed]",
      "text/plain": [
       "<Figure size 432x288 with 1 Axes>"
      ]
     },
     "metadata": {
      "needs_background": "light"
     },
     "output_type": "display_data"
    }
   ],
   "source": [
    "sns.scatterplot(data=df, x='windspeed', y='cnt', s=40, color='pink')"
   ]
  },
  {
   "cell_type": "code",
   "execution_count": 155,
   "id": "761b8e35",
   "metadata": {},
   "outputs": [
    {
     "data": {
      "text/html": [
       "<div>\n",
       "<style scoped>\n",
       "    .dataframe tbody tr th:only-of-type {\n",
       "        vertical-align: middle;\n",
       "    }\n",
       "\n",
       "    .dataframe tbody tr th {\n",
       "        vertical-align: top;\n",
       "    }\n",
       "\n",
       "    .dataframe thead th {\n",
       "        text-align: right;\n",
       "    }\n",
       "</style>\n",
       "<table border=\"1\" class=\"dataframe\">\n",
       "  <thead>\n",
       "    <tr style=\"text-align: right;\">\n",
       "      <th></th>\n",
       "      <th>instant</th>\n",
       "      <th>season</th>\n",
       "      <th>yr</th>\n",
       "      <th>mnth</th>\n",
       "      <th>holiday</th>\n",
       "      <th>weekday</th>\n",
       "      <th>workingday</th>\n",
       "      <th>weathersit</th>\n",
       "      <th>temp</th>\n",
       "      <th>atemp</th>\n",
       "      <th>hum</th>\n",
       "      <th>windspeed</th>\n",
       "      <th>casual</th>\n",
       "      <th>registered</th>\n",
       "      <th>cnt</th>\n",
       "    </tr>\n",
       "  </thead>\n",
       "  <tbody>\n",
       "    <tr>\n",
       "      <th>instant</th>\n",
       "      <td>1.00</td>\n",
       "      <td>0.41</td>\n",
       "      <td>0.87</td>\n",
       "      <td>0.50</td>\n",
       "      <td>0.02</td>\n",
       "      <td>0.00</td>\n",
       "      <td>0.00</td>\n",
       "      <td>0.02</td>\n",
       "      <td>0.15</td>\n",
       "      <td>0.15</td>\n",
       "      <td>0.02</td>\n",
       "      <td>0.11</td>\n",
       "      <td>0.28</td>\n",
       "      <td>0.66</td>\n",
       "      <td>0.63</td>\n",
       "    </tr>\n",
       "    <tr>\n",
       "      <th>season</th>\n",
       "      <td>0.41</td>\n",
       "      <td>1.00</td>\n",
       "      <td>0.00</td>\n",
       "      <td>0.83</td>\n",
       "      <td>0.01</td>\n",
       "      <td>0.00</td>\n",
       "      <td>0.01</td>\n",
       "      <td>0.02</td>\n",
       "      <td>0.33</td>\n",
       "      <td>0.34</td>\n",
       "      <td>0.21</td>\n",
       "      <td>0.23</td>\n",
       "      <td>0.21</td>\n",
       "      <td>0.41</td>\n",
       "      <td>0.41</td>\n",
       "    </tr>\n",
       "    <tr>\n",
       "      <th>yr</th>\n",
       "      <td>0.87</td>\n",
       "      <td>0.00</td>\n",
       "      <td>1.00</td>\n",
       "      <td>0.00</td>\n",
       "      <td>0.01</td>\n",
       "      <td>0.01</td>\n",
       "      <td>0.00</td>\n",
       "      <td>0.05</td>\n",
       "      <td>0.05</td>\n",
       "      <td>0.05</td>\n",
       "      <td>0.11</td>\n",
       "      <td>0.01</td>\n",
       "      <td>0.25</td>\n",
       "      <td>0.59</td>\n",
       "      <td>0.57</td>\n",
       "    </tr>\n",
       "    <tr>\n",
       "      <th>mnth</th>\n",
       "      <td>0.50</td>\n",
       "      <td>0.83</td>\n",
       "      <td>0.00</td>\n",
       "      <td>1.00</td>\n",
       "      <td>0.02</td>\n",
       "      <td>0.01</td>\n",
       "      <td>0.01</td>\n",
       "      <td>0.04</td>\n",
       "      <td>0.22</td>\n",
       "      <td>0.23</td>\n",
       "      <td>0.22</td>\n",
       "      <td>0.21</td>\n",
       "      <td>0.12</td>\n",
       "      <td>0.29</td>\n",
       "      <td>0.28</td>\n",
       "    </tr>\n",
       "    <tr>\n",
       "      <th>holiday</th>\n",
       "      <td>0.02</td>\n",
       "      <td>0.01</td>\n",
       "      <td>0.01</td>\n",
       "      <td>0.02</td>\n",
       "      <td>1.00</td>\n",
       "      <td>0.10</td>\n",
       "      <td>0.25</td>\n",
       "      <td>0.03</td>\n",
       "      <td>0.03</td>\n",
       "      <td>0.03</td>\n",
       "      <td>0.02</td>\n",
       "      <td>0.01</td>\n",
       "      <td>0.05</td>\n",
       "      <td>0.11</td>\n",
       "      <td>0.07</td>\n",
       "    </tr>\n",
       "    <tr>\n",
       "      <th>weekday</th>\n",
       "      <td>0.00</td>\n",
       "      <td>0.00</td>\n",
       "      <td>0.01</td>\n",
       "      <td>0.01</td>\n",
       "      <td>0.10</td>\n",
       "      <td>1.00</td>\n",
       "      <td>0.04</td>\n",
       "      <td>0.03</td>\n",
       "      <td>0.00</td>\n",
       "      <td>0.01</td>\n",
       "      <td>0.05</td>\n",
       "      <td>0.01</td>\n",
       "      <td>0.06</td>\n",
       "      <td>0.06</td>\n",
       "      <td>0.07</td>\n",
       "    </tr>\n",
       "    <tr>\n",
       "      <th>workingday</th>\n",
       "      <td>0.00</td>\n",
       "      <td>0.01</td>\n",
       "      <td>0.00</td>\n",
       "      <td>0.01</td>\n",
       "      <td>0.25</td>\n",
       "      <td>0.04</td>\n",
       "      <td>1.00</td>\n",
       "      <td>0.06</td>\n",
       "      <td>0.05</td>\n",
       "      <td>0.05</td>\n",
       "      <td>0.02</td>\n",
       "      <td>0.02</td>\n",
       "      <td>0.52</td>\n",
       "      <td>0.30</td>\n",
       "      <td>0.06</td>\n",
       "    </tr>\n",
       "    <tr>\n",
       "      <th>weathersit</th>\n",
       "      <td>0.02</td>\n",
       "      <td>0.02</td>\n",
       "      <td>0.05</td>\n",
       "      <td>0.04</td>\n",
       "      <td>0.03</td>\n",
       "      <td>0.03</td>\n",
       "      <td>0.06</td>\n",
       "      <td>1.00</td>\n",
       "      <td>0.12</td>\n",
       "      <td>0.12</td>\n",
       "      <td>0.59</td>\n",
       "      <td>0.04</td>\n",
       "      <td>0.25</td>\n",
       "      <td>0.26</td>\n",
       "      <td>0.30</td>\n",
       "    </tr>\n",
       "    <tr>\n",
       "      <th>temp</th>\n",
       "      <td>0.15</td>\n",
       "      <td>0.33</td>\n",
       "      <td>0.05</td>\n",
       "      <td>0.22</td>\n",
       "      <td>0.03</td>\n",
       "      <td>0.00</td>\n",
       "      <td>0.05</td>\n",
       "      <td>0.12</td>\n",
       "      <td>1.00</td>\n",
       "      <td>0.99</td>\n",
       "      <td>0.13</td>\n",
       "      <td>0.16</td>\n",
       "      <td>0.54</td>\n",
       "      <td>0.54</td>\n",
       "      <td>0.63</td>\n",
       "    </tr>\n",
       "    <tr>\n",
       "      <th>atemp</th>\n",
       "      <td>0.15</td>\n",
       "      <td>0.34</td>\n",
       "      <td>0.05</td>\n",
       "      <td>0.23</td>\n",
       "      <td>0.03</td>\n",
       "      <td>0.01</td>\n",
       "      <td>0.05</td>\n",
       "      <td>0.12</td>\n",
       "      <td>0.99</td>\n",
       "      <td>1.00</td>\n",
       "      <td>0.14</td>\n",
       "      <td>0.18</td>\n",
       "      <td>0.54</td>\n",
       "      <td>0.54</td>\n",
       "      <td>0.63</td>\n",
       "    </tr>\n",
       "    <tr>\n",
       "      <th>hum</th>\n",
       "      <td>0.02</td>\n",
       "      <td>0.21</td>\n",
       "      <td>0.11</td>\n",
       "      <td>0.22</td>\n",
       "      <td>0.02</td>\n",
       "      <td>0.05</td>\n",
       "      <td>0.02</td>\n",
       "      <td>0.59</td>\n",
       "      <td>0.13</td>\n",
       "      <td>0.14</td>\n",
       "      <td>1.00</td>\n",
       "      <td>0.25</td>\n",
       "      <td>0.08</td>\n",
       "      <td>0.09</td>\n",
       "      <td>0.10</td>\n",
       "    </tr>\n",
       "    <tr>\n",
       "      <th>windspeed</th>\n",
       "      <td>0.11</td>\n",
       "      <td>0.23</td>\n",
       "      <td>0.01</td>\n",
       "      <td>0.21</td>\n",
       "      <td>0.01</td>\n",
       "      <td>0.01</td>\n",
       "      <td>0.02</td>\n",
       "      <td>0.04</td>\n",
       "      <td>0.16</td>\n",
       "      <td>0.18</td>\n",
       "      <td>0.25</td>\n",
       "      <td>1.00</td>\n",
       "      <td>0.17</td>\n",
       "      <td>0.22</td>\n",
       "      <td>0.23</td>\n",
       "    </tr>\n",
       "    <tr>\n",
       "      <th>casual</th>\n",
       "      <td>0.28</td>\n",
       "      <td>0.21</td>\n",
       "      <td>0.25</td>\n",
       "      <td>0.12</td>\n",
       "      <td>0.05</td>\n",
       "      <td>0.06</td>\n",
       "      <td>0.52</td>\n",
       "      <td>0.25</td>\n",
       "      <td>0.54</td>\n",
       "      <td>0.54</td>\n",
       "      <td>0.08</td>\n",
       "      <td>0.17</td>\n",
       "      <td>1.00</td>\n",
       "      <td>0.40</td>\n",
       "      <td>0.67</td>\n",
       "    </tr>\n",
       "    <tr>\n",
       "      <th>registered</th>\n",
       "      <td>0.66</td>\n",
       "      <td>0.41</td>\n",
       "      <td>0.59</td>\n",
       "      <td>0.29</td>\n",
       "      <td>0.11</td>\n",
       "      <td>0.06</td>\n",
       "      <td>0.30</td>\n",
       "      <td>0.26</td>\n",
       "      <td>0.54</td>\n",
       "      <td>0.54</td>\n",
       "      <td>0.09</td>\n",
       "      <td>0.22</td>\n",
       "      <td>0.40</td>\n",
       "      <td>1.00</td>\n",
       "      <td>0.95</td>\n",
       "    </tr>\n",
       "    <tr>\n",
       "      <th>cnt</th>\n",
       "      <td>0.63</td>\n",
       "      <td>0.41</td>\n",
       "      <td>0.57</td>\n",
       "      <td>0.28</td>\n",
       "      <td>0.07</td>\n",
       "      <td>0.07</td>\n",
       "      <td>0.06</td>\n",
       "      <td>0.30</td>\n",
       "      <td>0.63</td>\n",
       "      <td>0.63</td>\n",
       "      <td>0.10</td>\n",
       "      <td>0.23</td>\n",
       "      <td>0.67</td>\n",
       "      <td>0.95</td>\n",
       "      <td>1.00</td>\n",
       "    </tr>\n",
       "  </tbody>\n",
       "</table>\n",
       "</div>"
      ],
      "text/plain": [
       "            instant  season    yr  mnth  holiday  weekday  workingday  \\\n",
       "instant        1.00    0.41  0.87  0.50     0.02     0.00        0.00   \n",
       "season         0.41    1.00  0.00  0.83     0.01     0.00        0.01   \n",
       "yr             0.87    0.00  1.00  0.00     0.01     0.01        0.00   \n",
       "mnth           0.50    0.83  0.00  1.00     0.02     0.01        0.01   \n",
       "holiday        0.02    0.01  0.01  0.02     1.00     0.10        0.25   \n",
       "weekday        0.00    0.00  0.01  0.01     0.10     1.00        0.04   \n",
       "workingday     0.00    0.01  0.00  0.01     0.25     0.04        1.00   \n",
       "weathersit     0.02    0.02  0.05  0.04     0.03     0.03        0.06   \n",
       "temp           0.15    0.33  0.05  0.22     0.03     0.00        0.05   \n",
       "atemp          0.15    0.34  0.05  0.23     0.03     0.01        0.05   \n",
       "hum            0.02    0.21  0.11  0.22     0.02     0.05        0.02   \n",
       "windspeed      0.11    0.23  0.01  0.21     0.01     0.01        0.02   \n",
       "casual         0.28    0.21  0.25  0.12     0.05     0.06        0.52   \n",
       "registered     0.66    0.41  0.59  0.29     0.11     0.06        0.30   \n",
       "cnt            0.63    0.41  0.57  0.28     0.07     0.07        0.06   \n",
       "\n",
       "            weathersit  temp  atemp   hum  windspeed  casual  registered   cnt  \n",
       "instant           0.02  0.15   0.15  0.02       0.11    0.28        0.66  0.63  \n",
       "season            0.02  0.33   0.34  0.21       0.23    0.21        0.41  0.41  \n",
       "yr                0.05  0.05   0.05  0.11       0.01    0.25        0.59  0.57  \n",
       "mnth              0.04  0.22   0.23  0.22       0.21    0.12        0.29  0.28  \n",
       "holiday           0.03  0.03   0.03  0.02       0.01    0.05        0.11  0.07  \n",
       "weekday           0.03  0.00   0.01  0.05       0.01    0.06        0.06  0.07  \n",
       "workingday        0.06  0.05   0.05  0.02       0.02    0.52        0.30  0.06  \n",
       "weathersit        1.00  0.12   0.12  0.59       0.04    0.25        0.26  0.30  \n",
       "temp              0.12  1.00   0.99  0.13       0.16    0.54        0.54  0.63  \n",
       "atemp             0.12  0.99   1.00  0.14       0.18    0.54        0.54  0.63  \n",
       "hum               0.59  0.13   0.14  1.00       0.25    0.08        0.09  0.10  \n",
       "windspeed         0.04  0.16   0.18  0.25       1.00    0.17        0.22  0.23  \n",
       "casual            0.25  0.54   0.54  0.08       0.17    1.00        0.40  0.67  \n",
       "registered        0.26  0.54   0.54  0.09       0.22    0.40        1.00  0.95  \n",
       "cnt               0.30  0.63   0.63  0.10       0.23    0.67        0.95  1.00  "
      ]
     },
     "execution_count": 155,
     "metadata": {},
     "output_type": "execute_result"
    }
   ],
   "source": [
    "dfc = df.corr()\n",
    "dfcabs = pd.DataFrame(np.round(np.abs(dfc.values),2), index = dfc.index, columns=dfc.columns)\n",
    "dfcabs"
   ]
  },
  {
   "cell_type": "markdown",
   "id": "e2ff4773",
   "metadata": {},
   "source": [
    "<font color='pink' size='2'>\n",
    "2. Here we can see that there is a strong relation between registered and cnt. This could be explained if we think that the people use a lot bikes, in this way they might prefer to be registered (frecuent client).\n",
    "We can infer somehow that they might have a benefit because of being registered, maybe '2x1 in bikes rent' or something that might be attracting those users to register themselves.\n",
    "</font>"
   ]
  },
  {
   "cell_type": "markdown",
   "id": "1dd98543",
   "metadata": {},
   "source": [
    "<font color='pink' size='2'>\n",
    "3. We can also see that humidity doesn't really matter to the users, they don't actually care about it, there is a very small relation between it and cnt. Sometimes actually is better to have a high humedity to ride a bike, but it seems users don't really care.</font>"
   ]
  },
  {
   "cell_type": "code",
   "execution_count": 160,
   "id": "2eab756f",
   "metadata": {},
   "outputs": [
    {
     "data": {
      "text/plain": [
       "<AxesSubplot:>"
      ]
     },
     "execution_count": 160,
     "metadata": {},
     "output_type": "execute_result"
    },
    {
     "data": {
      "image/png": "[encoded data removed]",
      "text/plain": [
       "<Figure size 432x288 with 2 Axes>"
      ]
     },
     "metadata": {
      "needs_background": "light"
     },
     "output_type": "display_data"
    }
   ],
   "source": [
    "sns.heatmap(dfcabs, annot=False) "
   ]
  },
  {
   "cell_type": "markdown",
   "id": "f5af5492",
   "metadata": {},
   "source": [
    "<font color='pink' size='2'>\n",
    "4. Holidays and cnt have almost nothing of relation between. Honestly, quite the opposite I thought, because I deduced that as we all have vacations in holidays, many people likes to do activities to releaf stress, riding a bike is a great option.</font>"
   ]
  },
  {
   "cell_type": "code",
   "execution_count": 166,
   "id": "8007dcf1",
   "metadata": {},
   "outputs": [
    {
     "data": {
      "text/plain": [
       "<AxesSubplot:xlabel='mnth', ylabel='cnt'>"
      ]
     },
     "execution_count": 166,
     "metadata": {},
     "output_type": "execute_result"
    },
    {
     "data": {
      "image/png": "[encoded data removed]",
      "text/plain": [
       "<Figure size 432x288 with 1 Axes>"
      ]
     },
     "metadata": {
      "needs_background": "light"
     },
     "output_type": "display_data"
    }
   ],
   "source": [
    "sns.scatterplot(data=df, x='mnth', y='cnt')"
   ]
  },
  {
   "cell_type": "markdown",
   "id": "c99989e4",
   "metadata": {},
   "source": [
    "<font color='pink' size='2'>\n",
    "5. We can appreciate that during summer they were rented a lot. But at the start of the year, they didn't have many success.</font>"
   ]
  }
 ],
 "metadata": {
  "kernelspec": {
   "display_name": "Python 3 (ipykernel)",
   "language": "python",
   "name": "python3"
  },
  "language_info": {
   "codemirror_mode": {
    "name": "ipython",
    "version": 3
   },
   "file_extension": ".py",
   "mimetype": "text/x-python",
   "name": "python",
   "nbconvert_exporter": "python",
   "pygments_lexer": "ipython3",
   "version": "3.9.7"
  }
 },
 "nbformat": 4,
 "nbformat_minor": 5
}
