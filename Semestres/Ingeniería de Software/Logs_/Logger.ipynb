{
 "cells": [
  {
   "cell_type": "markdown",
   "metadata": {},
   "source": [
    "# Log Usage"
   ]
  },
  {
   "attachments": {},
   "cell_type": "markdown",
   "metadata": {},
   "source": [
    "### Imports"
   ]
  },
  {
   "cell_type": "code",
   "execution_count": 3,
   "metadata": {},
   "outputs": [],
   "source": [
    "import logging"
   ]
  },
  {
   "attachments": {},
   "cell_type": "markdown",
   "metadata": {},
   "source": [
    "### Divide Method "
   ]
  },
  {
   "cell_type": "code",
   "execution_count": 4,
   "metadata": {},
   "outputs": [],
   "source": [
    "logging.basicConfig(filename='example.log', level=logging.DEBUG)\n",
    "\n",
    "def dividir(a, b):\n",
    "    \"\"\"\n",
    "    Input: Dos números (a,b)\n",
    "    Output: División de a/b\n",
    "\n",
    "    *** Consideraciones ***\n",
    "    Si el denominador es cero, se devuelve un mensaje de error.\n",
    "    \"\"\"\n",
    "    if b == 0:\n",
    "        logging.error(\"El denominador es cero :(\") # log error\n",
    "        return None\n",
    "    else:\n",
    "        resultado = a / b\n",
    "        logging.info(f\"La división de {a} entre {b} es {resultado}\") # log info\n",
    "        return resultado\n",
    "\n",
    "# Pruebas unitarias\n",
    "def A_unit_test():\n",
    "    assert dividir(10, 2) == 5\n",
    "    assert dividir(5, 0) is None\n",
    "\n",
    "def B_unit_test():\n",
    "    assert dividir(5,5) == 1\n",
    "    assert dividir(3,10) == 0.3\n",
    "\n",
    "A_unit_test()\n",
    "B_unit_test()"
   ]
  }
 ],
 "metadata": {
  "kernelspec": {
   "display_name": "base",
   "language": "python",
   "name": "python3"
  },
  "language_info": {
   "codemirror_mode": {
    "name": "ipython",
    "version": 3
   },
   "file_extension": ".py",
   "mimetype": "text/x-python",
   "name": "python",
   "nbconvert_exporter": "python",
   "pygments_lexer": "ipython3",
   "version": "3.11.2"
  },
  "orig_nbformat": 4
 },
 "nbformat": 4,
 "nbformat_minor": 2
}
