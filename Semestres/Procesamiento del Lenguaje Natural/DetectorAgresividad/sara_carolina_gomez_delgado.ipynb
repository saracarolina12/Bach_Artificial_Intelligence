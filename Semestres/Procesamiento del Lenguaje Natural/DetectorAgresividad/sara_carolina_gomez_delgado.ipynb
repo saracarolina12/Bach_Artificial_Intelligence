{
 "cells": [
  {
   "attachments": {},
   "cell_type": "markdown",
   "metadata": {},
   "source": [
    "# Tarea 4\n",
    "0226594 || Sara Carolina Gómez Delgado"
   ]
  },
  {
   "cell_type": "markdown",
   "metadata": {},
   "source": [
    "### Utils"
   ]
  },
  {
   "cell_type": "code",
   "execution_count": 128,
   "metadata": {},
   "outputs": [],
   "source": [
    "import matplotlib\n",
    "from sklearn.ensemble import RandomForestClassifier\n",
    "import pandas\n",
    "from bs4 import BeautifulSoup\n",
    "import numpy as np\n",
    "import scipy\n",
    "import nltk \n",
    "from nltk.tokenize import TweetTokenizer\n",
    "from itertools import islice\n"
   ]
  },
  {
   "cell_type": "code",
   "execution_count": 4,
   "metadata": {},
   "outputs": [],
   "source": [
    "def get_texts_from_file(path_corpus, path_truth):\n",
    "    tr_txt = []\n",
    "    tr_y = []\n",
    "    with open(path_corpus, \"r\",encoding=\"utf8\") as f_corpus, open(path_truth, \"r\",encoding=\"utf8\") as f_truth:\n",
    "        for tuit in f_corpus:\n",
    "            tr_txt += [tuit]\n",
    "        for label in f_truth:\n",
    "            tr_y += [label] \n",
    "    return tr_txt, tr_y"
   ]
  },
  {
   "attachments": {},
   "cell_type": "markdown",
   "metadata": {},
   "source": [
    "## Parte 1  _\"Modelos de Lenguaje y Evaluación\"_"
   ]
  },
  {
   "attachments": {},
   "cell_type": "markdown",
   "metadata": {},
   "source": [
    "#### 1.1 Preprocesamiento"
   ]
  },
  {
   "attachments": {},
   "cell_type": "markdown",
   "metadata": {},
   "source": [
    "_<kbd>Instrucción</kbd>_\n",
    "\n",
    "Preprocese todos los tuits de agresividad (positivos y negativos) según su intuición para construir un buen corpus para un modelo de lenguaje (e.g., solo palabras en minúscula, etc.). Agregue tokens especiales de < s > y </ s > según usted considere (e.g., al\n",
    "inicio y final de cada tuit). Defina su vocabulario y enmascare con < unk > toda palabra\n",
    "que no esté en su vocabulario.\n",
    "\n",
    "\n",
    "_<kbd>Comentario</kbd>_\n",
    "\n",
    "En esta sección se preprocesaron los tweets y se generó un corpus donde sólo se consideraron palabras (no emojis, no signos de puntuación) y se eligió un vocabulario tomando las palabras únicas en el training set, después se ordenaron según su frecuencia (mayor a menor) y se tomaron sólo las palabras cuya frecuencia fue mayor a 50 para formar el vocabulario final. Me parece importante resaltar, como principal conclusión, la importancia de descartar palabras que aparecen poco, ya que pueden llegar a afectar fuertemente al intentar aplicar un modelo de lenguaje."
   ]
  },
  {
   "attachments": {},
   "cell_type": "markdown",
   "metadata": {},
   "source": [
    "_Leer tweets_"
   ]
  },
  {
   "cell_type": "code",
   "execution_count": 5,
   "metadata": {},
   "outputs": [],
   "source": [
    "tr_txt, tr_y = get_texts_from_file(\"./mex_train.txt\", \"./mex_train_labels.txt\")"
   ]
  },
  {
   "attachments": {},
   "cell_type": "markdown",
   "metadata": {},
   "source": [
    "_Pre-procesar tweets_"
   ]
  },
  {
   "cell_type": "code",
   "execution_count": 73,
   "metadata": {},
   "outputs": [],
   "source": [
    "# Create TweetTokenizer instance\n",
    "tokenizer = TweetTokenizer()"
   ]
  },
  {
   "cell_type": "code",
   "execution_count": 74,
   "metadata": {},
   "outputs": [],
   "source": [
    "# <s> at the beggining of a tweet and </s> at the end of this tweet\n",
    "corpus_palabras = []\n",
    "for doc in tr_txt:\n",
    "    x = \"<s>\" + doc + \"</s>\"\n",
    "    corpus_palabras += tokenizer.tokenize(x) "
   ]
  },
  {
   "cell_type": "code",
   "execution_count": 153,
   "metadata": {},
   "outputs": [
    {
     "name": "stdout",
     "output_type": "stream",
     "text": [
      "['<s>', 'lo', 'peor', 'de', 'todo', 'es', 'que', 'no', 'me', 'dan']\n"
     ]
    }
   ],
   "source": [
    "processed = []\n",
    "for word in corpus_palabras:\n",
    "    if(np.char.isalpha(word) or word == \"<s>\" or word == \"</s>\"):\n",
    "            processed.append(word)\n",
    "print(processed[:10])"
   ]
  },
  {
   "cell_type": "code",
   "execution_count": 154,
   "metadata": {},
   "outputs": [],
   "source": [
    "fdist = nltk.FreqDist(processed) # frecuencia de cada palabra\n",
    "def sortFreqDict(freqdict):\n",
    "    aux = [(freqdict[key], key) for key in freqdict] #lista de pares ordenada (más frecuente a menos)\n",
    "    aux.sort()\n",
    "    aux.reverse()\n",
    "    return aux #regresa el objeto ordenado en reversa (más frecuentes a menos frecuentes)\n",
    "\n",
    "V = sortFreqDict(fdist)"
   ]
  },
  {
   "cell_type": "code",
   "execution_count": 157,
   "metadata": {},
   "outputs": [
    {
     "data": {
      "text/plain": [
       "['<s>', '</s>', 'que', 'de', 'a', 'la', 'y', 'no', 'me', 'el']"
      ]
     },
     "execution_count": 157,
     "metadata": {},
     "output_type": "execute_result"
    }
   ],
   "source": [
    "# if freq < 50, ignore it (don't let it be part of vocab)\n",
    "vocab = []\n",
    "for item in V:\n",
    "    if item[0] > 50:\n",
    "        vocab.append(item[1])\n",
    "vocab[:10]\n"
   ]
  },
  {
   "cell_type": "code",
   "execution_count": 158,
   "metadata": {},
   "outputs": [
    {
     "name": "stdout",
     "output_type": "stream",
     "text": [
      "['<s>', 'lo', '<unk>', 'de', 'todo', 'es', 'que', 'no', 'me', '<unk>']\n"
     ]
    }
   ],
   "source": [
    "for i,word in enumerate(processed):\n",
    "    if word not in vocab:\n",
    "        processed[i] = \"<unk>\"\n",
    "print(processed[:10])"
   ]
  },
  {
   "attachments": {},
   "cell_type": "markdown",
   "metadata": {},
   "source": [
    "#### 1.2 Entrenamiento (unigrama, bigrama y trigrama)"
   ]
  },
  {
   "attachments": {},
   "cell_type": "markdown",
   "metadata": {},
   "source": [
    "_<kbd>Instrucción</kbd>_\n",
    "\n",
    "Entrene tres modelos de lenguaje sobre todos los tuis: $P_{unigramas}(w^n_1), P_{bigramas}(w^n_1), P{trigramas}(w^n_1).$ Para cada uno proporcione  una interfaz (función) sencilla para $P{n-grama}(w^n_1)$ y $Pn-grama(w^n_1 | w^{n-1}_{n-N+1})$. Los modelos modelos deben tener una estrategia común para lidiar con\n",
    "secuencias no vistas. Puede optar por un suavizamiento Laplace o un Good-Turing\n",
    "discounting. Muestre un par de ejemplos de como funciona, al menos uno con una\n",
    "palabra fuera del vocabulario."
   ]
  },
  {
   "attachments": {},
   "cell_type": "markdown",
   "metadata": {},
   "source": [
    "_Unigrama_\n",
    "\n",
    "La frecuencia de ocurrencia de cada palabra dividida por el número total de palabras en el conjunto de datos."
   ]
  },
  {
   "cell_type": "code",
   "execution_count": 168,
   "metadata": {},
   "outputs": [
    {
     "data": {
      "text/plain": [
       "{'la': 0.024608569001092366,\n",
       " 'el': 0.013179188412833272,\n",
       " 'estar': 0.0008395031759517741,\n",
       " 'nos': 0.0013351134846461949,\n",
       " 'este': 0.0015272889104664805,\n",
       " 'van': 0.0009608771291014282,\n",
       " 'me': 0.016314682202532668,\n",
       " 'esta': 0.0020026702269692926,\n",
       " 'a': 0.026591010235870047,\n",
       " 'nunca': 0.0006068697657482705,\n",
       " 'hijo': 0.0010417930978678643,\n",
       " 'cada': 0.0007080147267063155,\n",
       " 'quien': 0.0008395031759517741,\n",
       " 'mujer': 0.0005562972852692479,\n",
       " 'mames': 0.0005158393008860299,\n",
       " 'mucho': 0.0005664117813650524,\n",
       " 'mejor': 0.0014463729417000446,\n",
       " 'sí': 0.0007687017032811425,\n",
       " 'te': 0.007009345794392523,\n",
       " 'pendejos': 0.0006068697657482705,\n",
       " 'mas': 0.0009507626330056237,\n",
       " 'va': 0.001294655500262977,\n",
       " 'tienes': 0.0006776712384189019,\n",
       " 'pinche': 0.002993890844358134,\n",
       " 'putita': 0.0005461827891734434,\n",
       " 'alguien': 0.0009204191447182102,\n",
       " 'para': 0.005714690294129547,\n",
       " 'pues': 0.0008900756564307966,\n",
       " 'le': 0.0041368289031840436,\n",
       " 'todas': 0.0009001901525266011,\n",
       " 'todos': 0.0026601124731965853,\n",
       " 'y': 0.022919448153093012,\n",
       " 'soy': 0.0016790063519035482,\n",
       " 'los': 0.008981672533074402,\n",
       " 'verga': 0.011611441517983575,\n",
       " 'en': 0.012046364850103167,\n",
       " 'mal': 0.00071812922280212,\n",
       " 'están': 0.0006979002306105109,\n",
       " 'ser': 0.0018307237933406157,\n",
       " 'decir': 0.0006473277501314885,\n",
       " 'digo': 0.0005461827891734434,\n",
       " 'una': 0.005077477040093863,\n",
       " 'qué': 0.0027612574341546302,\n",
       " 'voy': 0.001537403406562285,\n",
       " 'eso': 0.0015879758870413075,\n",
       " 'esto': 0.0005866407735566614,\n",
       " 'putos': 0.008405146255613545,\n",
       " 'al': 0.003631104098393818,\n",
       " 'tus': 0.0009608771291014282,\n",
       " 'tienen': 0.0010519075939636688,\n",
       " 'culo': 0.0006473277501314885,\n",
       " 'ir': 0.0006675567423230974,\n",
       " 'por': 0.007717360521098839,\n",
       " 'hijos': 0.0011024800744426912,\n",
       " 'pinches': 0.0015677468948496985,\n",
       " 'madre': 0.010913541287373063,\n",
       " 'o': 0.002629768984909172,\n",
       " 'fue': 0.000596755269652466,\n",
       " 'pendejo': 0.0010620220900594733,\n",
       " 'vale': 0.0016486628636161347,\n",
       " 'jaja': 0.0005259537969818344,\n",
       " 'días': 0.0006675567423230974,\n",
       " 'ver': 0.0015272889104664805,\n",
       " 'años': 0.000637213254035684,\n",
       " 'su': 0.005552858356596674,\n",
       " 'eres': 0.001456487437795849,\n",
       " 'más': 0.003175951774082615,\n",
       " 'esa': 0.001274426508071368,\n",
       " 'ti': 0.0005259537969818344,\n",
       " 'neta': 0.0006270987579398795,\n",
       " 'si': 0.006695796415422584,\n",
       " 'puta': 0.0028017154185378482,\n",
       " 'ese': 0.001254197515879759,\n",
       " 'pedo': 0.0006068697657482705,\n",
       " 'tengo': 0.0011833960432091272,\n",
       " 'un': 0.007049803778775741,\n",
       " 'quiere': 0.000637213254035684,\n",
       " 'jajajaja': 0.0009204191447182102,\n",
       " 'dos': 0.000738358214993729,\n",
       " 'nada': 0.001456487437795849,\n",
       " 'tener': 0.0006877857345147064,\n",
       " 'ahora': 0.001314884492454586,\n",
       " 'chingar': 0.0005866407735566614,\n",
       " 'hoy': 0.001193510539304932,\n",
       " 'estas': 0.0005158393008860299,\n",
       " 'que': 0.03421734029210665,\n",
       " 'quiero': 0.0015070599182748716,\n",
       " 'bien': 0.002528624023951127,\n",
       " 'chingas': 0.000596755269652466,\n",
       " 'tu': 0.005310110450297366,\n",
       " 'marica': 0.0018509527855322249,\n",
       " 'aquí': 0.0006068697657482705,\n",
       " 'esas': 0.0005158393008860299,\n",
       " 'maricon': 0.0011024800744426912,\n",
       " 'porque': 0.0023263341020350365,\n",
       " 'joto': 0.002113929684023142,\n",
       " 'fuera': 0.0005259537969818344,\n",
       " 'todo': 0.0022049601488853825,\n",
       " 'mujeres': 0.0005866407735566614,\n",
       " 'mamá': 0.0007889306954727515,\n",
       " 'vez': 0.0011328235627301047,\n",
       " 'dice': 0.0007687017032811425,\n",
       " 'hacen': 0.0005158393008860299,\n",
       " 'putas': 0.009052474005745034,\n",
       " '<s>': 0.056074766355140186,\n",
       " 'hay': 0.0016385483675203302,\n",
       " 'mis': 0.001537403406562285,\n",
       " 'sé': 0.0007282437188979245,\n",
       " 'pendeja': 0.000778816199376947,\n",
       " 'también': 0.0006877857345147064,\n",
       " 'como': 0.005724804790225351,\n",
       " 'ojalá': 0.0005158393008860299,\n",
       " 'mamar': 0.000616984261844075,\n",
       " 'mamando': 0.0006675567423230974,\n",
       " 'tú': 0.00071812922280212,\n",
       " 'casa': 0.0005664117813650524,\n",
       " 'se': 0.009800946716834567,\n",
       " 'hace': 0.0011024800744426912,\n",
       " 'está': 0.0019116397621070519,\n",
       " 'v': 0.000758587207185338,\n",
       " 'yo': 0.0030646923170287656,\n",
       " 'tanto': 0.000596755269652466,\n",
       " 'con': 0.00778816199376947,\n",
       " 'luchona': 0.0014868309260832626,\n",
       " 'son': 0.0024679370473763,\n",
       " 'otra': 0.0007080147267063155,\n",
       " 'puede': 0.0005158393008860299,\n",
       " 'vas': 0.0007282437188979245,\n",
       " 'mi': 0.007262208196787636,\n",
       " 'wey': 0.000657442246227293,\n",
       " 'bueno': 0.0005866407735566614,\n",
       " 'no': 0.01844884087874742,\n",
       " 'uno': 0.0005866407735566614,\n",
       " 'sin': 0.0011429380588259092,\n",
       " 'jajaja': 0.0010822510822510823,\n",
       " '<unk>': 0.33353562325524944,\n",
       " 'mundial': 0.000637213254035684,\n",
       " 'menos': 0.0005866407735566614,\n",
       " 'hasta': 0.002012784723065097,\n",
       " 'de': 0.03395436339361573,\n",
       " 'ya': 0.006908200833434478,\n",
       " 'alv': 0.000596755269652466,\n",
       " 'donde': 0.0005562972852692479,\n",
       " 'desde': 0.000616984261844075,\n",
       " 'del': 0.003327669215519683,\n",
       " 'esos': 0.0009811061212930373,\n",
       " 'vida': 0.0014463729417000446,\n",
       " 'hacer': 0.0010013351134846463,\n",
       " 'cuando': 0.0028421734029210667,\n",
       " 'igual': 0.0005461827891734434,\n",
       " 'toda': 0.0009507626330056237,\n",
       " 'lo': 0.006513735485698103,\n",
       " 'es': 0.008769268115062508,\n",
       " 'mierda': 0.001416029453412631,\n",
       " 'siempre': 0.0013958004612210219,\n",
       " 'verdad': 0.0006776712384189019,\n",
       " 'da': 0.000616984261844075,\n",
       " 'estoy': 0.0024375935590888863,\n",
       " 'sus': 0.002316219605939232,\n",
       " 'nadie': 0.000738358214993729,\n",
       " 'era': 0.0006473277501314885,\n",
       " 'q': 0.0017498078245741797,\n",
       " 'puedo': 0.000657442246227293,\n",
       " 'méxico': 0.0007282437188979245,\n",
       " 'chingada': 0.0007080147267063155,\n",
       " 'gusta': 0.0007889306954727515,\n",
       " 'día': 0.0011227090666343002,\n",
       " 'les': 0.002407250070801473,\n",
       " 'muy': 0.001193510539304932,\n",
       " 'madres': 0.000738358214993729,\n",
       " 'sea': 0.0008395031759517741,\n",
       " 'así': 0.0017498078245741797,\n",
       " 'puto': 0.001618319375328721,\n",
       " 'loca': 0.005623659829267306,\n",
       " 'algo': 0.0007080147267063155,\n",
       " 'mil': 0.0005360682930776389,\n",
       " 'tan': 0.001476716429987458,\n",
       " 'pero': 0.0044402637860581785,\n",
       " 'cosas': 0.0005866407735566614,\n",
       " 'las': 0.00635190354816523,\n",
       " 'tiene': 0.0012440830197839544,\n",
       " 'amor': 0.0007080147267063155,\n",
       " 'hdp': 0.00235667759032245,\n",
       " '</s>': 0.056074766355140186,\n",
       " 'gente': 0.0011227090666343002,\n",
       " 'ni': 0.0021038151879273375,\n",
       " 'mundo': 0.0006473277501314885,\n",
       " 'estaba': 0.0005158393008860299,\n",
       " 'ganas': 0.0006877857345147064,\n",
       " 'mañana': 0.000637213254035684,\n",
       " 'solo': 0.0014868309260832626}"
      ]
     },
     "execution_count": 168,
     "metadata": {},
     "output_type": "execute_result"
    }
   ],
   "source": [
    "def unigrama(unique, corpus):\n",
    "    fdist = nltk.FreqDist(corpus)\n",
    "    size = len(corpus)\n",
    "    probabilities = {}\n",
    "    for i, word in enumerate(unique):\n",
    "        if word in fdist:\n",
    "            probabilities[word] = fdist[word]/size\n",
    "    return probabilities    \n",
    "unigrama(set(processed), processed)\n"
   ]
  },
  {
   "attachments": {},
   "cell_type": "markdown",
   "metadata": {},
   "source": [
    "#### 1.3 Construcción de Modelo Interpolado"
   ]
  },
  {
   "attachments": {},
   "cell_type": "markdown",
   "metadata": {},
   "source": [
    "_<kbd>Instrucción</kbd>_\n",
    "\n",
    "Construya un modelo interpolado con valores $\\lambda$ fijos:\n",
    "\n",
    "$$\\hat{P}(w_n|w_{n-2}w_{n-1}) = \\lambda_1P(w_n|w_{n-2}w_{n-1}) + \\lambda_2P(w_n|w_{n-1}) + \\lambda_3P(w_n)$$\n",
    "\n",
    "Para ello experimente con el modelo en particiones estratificadas de 80%, 10% y 10% para\n",
    "entrenar (train), ajuste de parámetros (val) y prueba (test) respectivamente. Muestre como\n",
    "bajan o suben las perplejidades en validación, finalmente pruebe una vez en test. Para esto puede explorar algunos valores ⃗λ y elija el mejor, i.e., [1/3, 1/3, 1/3],[.4, .4, .2],[.2, .4, .4],[.5, .4, .1]\n",
    "y [.1, .4, .5]."
   ]
  },
  {
   "attachments": {},
   "cell_type": "markdown",
   "metadata": {},
   "source": [
    "## 2. Generación de Texto"
   ]
  },
  {
   "attachments": {},
   "cell_type": "markdown",
   "metadata": {},
   "source": [
    "Para esta parte reentrenará su modelo de lenguaje interpolado para aprender los valores λ:\n",
    "\n",
    "$$\\hat{P}(w_n|w_{n-2}w_{n-1}) = \\lambda_1P(w_n|w_{n-2}w_{n-1}) + \\lambda_2P(w_n|w_{n-1}) + \\lambda_3P(w_n)$$"
   ]
  },
  {
   "attachments": {},
   "cell_type": "markdown",
   "metadata": {},
   "source": [
    "#### 2.1 Función \"tuitear\""
   ]
  },
  {
   "attachments": {},
   "cell_type": "markdown",
   "metadata": {},
   "source": [
    "_<kbd>Instrucción</kbd>_\n",
    "\n",
    "Haga una función \"tuitear\" con base en su modelo de lenguaje P̂ del último punto.\n",
    "El modelo deberá poder parar automáticamente cuando genere el símbolo de terminación\n",
    "de tuit al final (e.g., \"</s>\"), o 50 palabras. Proponga algo para que en los últimos tokens\n",
    "sea más probable generar el token \"</s>\". Muestre al menos cinco ejemplos."
   ]
  },
  {
   "attachments": {},
   "cell_type": "markdown",
   "metadata": {},
   "source": [
    "#### 2.2 Entrenar modelo de lenguaje AMLO"
   ]
  },
  {
   "attachments": {},
   "cell_type": "markdown",
   "metadata": {},
   "source": [
    "_<kbd>Instrucción</kbd>_\n",
    "\n",
    "Use la intuición que ha ganado en esta tarea y los datos de las mañaneras para\n",
    "entrenar un modelo de lenguaje AMLO. Haga una un función \"dar_conferencia()\". Generé\n",
    "un discurso de 300 palabras y detenga al modelo de forma abrupta."
   ]
  },
  {
   "attachments": {},
   "cell_type": "markdown",
   "metadata": {},
   "source": [
    "#### 2.3 Experimentando con dos frases"
   ]
  },
  {
   "attachments": {},
   "cell_type": "markdown",
   "metadata": {},
   "source": [
    "_<kbd>Instrucción</kbd>_\n",
    "\n",
    "Calcule el estimado de cada uno sus modelos de lenguaje (el de tuits y el de amlo)\n",
    "para las frases: \"sino gano me voy a la chingada\", \"ya se va a acabar la corrupción\"."
   ]
  },
  {
   "attachments": {},
   "cell_type": "markdown",
   "metadata": {},
   "source": [
    "#### 2.4 Permutaciones"
   ]
  },
  {
   "attachments": {},
   "cell_type": "markdown",
   "metadata": {},
   "source": [
    "_<kbd>Instrucción</kbd>_\n",
    "\n",
    "Para cada oración del punto anterior, haga todas las permutaciones posibles.\n",
    "Calcule su probabilidad a cada nueva frase y muestre el top 3 mas probable y el top 3\n",
    "menos probable (para ambos modelos de lenguaje). Proponga una frase más y haga lo\n",
    "mismo."
   ]
  }
 ],
 "metadata": {
  "kernelspec": {
   "display_name": "Python 3",
   "language": "python",
   "name": "python3"
  },
  "language_info": {
   "codemirror_mode": {
    "name": "ipython",
    "version": 3
   },
   "file_extension": ".py",
   "mimetype": "text/x-python",
   "name": "python",
   "nbconvert_exporter": "python",
   "pygments_lexer": "ipython3",
   "version": "3.9.7"
  },
  "orig_nbformat": 4
 },
 "nbformat": 4,
 "nbformat_minor": 2
}
