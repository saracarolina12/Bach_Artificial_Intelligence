{
 "cells": [
  {
   "attachments": {},
   "cell_type": "markdown",
   "metadata": {},
   "source": [
    "### Práctica 3: Bolsas de Términos, o BoW y Esquemas de Pesado\n",
    "<p><kbd>0226594</kbd> Sara Carolina Gómez Delgado  </p>\n",
    "<p>Clase de Procesamiento de Lenguaje Natural</p>"
   ]
  },
  {
   "cell_type": "code",
   "execution_count": 145,
   "metadata": {},
   "outputs": [],
   "source": [
    "import nltk\n",
    "import matplotlib\n",
    "from sklearn.ensemble import RandomForestClassifier\n",
    "import pandas\n",
    "from bs4 import BeautifulSoup\n",
    "import numpy\n",
    "import scipy"
   ]
  },
  {
   "cell_type": "code",
   "execution_count": 146,
   "metadata": {},
   "outputs": [],
   "source": [
    "def get_texts_from_file(path_corpus, path_truth):\n",
    "    tr_txt = []\n",
    "    tr_y = []\n",
    "    with open(path_corpus, \"r\",encoding=\"utf8\") as f_corpus, open(path_truth, \"r\",encoding=\"utf8\") as f_truth:\n",
    "        for tuit in f_corpus:\n",
    "            tr_txt += [tuit]\n",
    "        for label in f_truth:\n",
    "            tr_y += [label] \n",
    "    return tr_txt, tr_y"
   ]
  },
  {
   "cell_type": "code",
   "execution_count": 147,
   "metadata": {},
   "outputs": [],
   "source": [
    "tr_txt, tr_y = get_texts_from_file(\"./mex_train.txt\", \"./mex_train_labels.txt\")"
   ]
  },
  {
   "cell_type": "code",
   "execution_count": 148,
   "metadata": {},
   "outputs": [
    {
     "data": {
      "text/plain": [
       "5544"
      ]
     },
     "execution_count": 148,
     "metadata": {},
     "output_type": "execute_result"
    }
   ],
   "source": [
    "len(tr_txt)"
   ]
  },
  {
   "cell_type": "code",
   "execution_count": 149,
   "metadata": {},
   "outputs": [
    {
     "data": {
      "text/plain": [
       "5544"
      ]
     },
     "execution_count": 149,
     "metadata": {},
     "output_type": "execute_result"
    }
   ],
   "source": [
    "len(tr_y)"
   ]
  },
  {
   "cell_type": "code",
   "execution_count": 150,
   "metadata": {},
   "outputs": [
    {
     "data": {
      "text/plain": [
       "['putos.',\n",
       " 'no',\n",
       " 'tienen',\n",
       " 'madre.',\n",
       " 'ambriados',\n",
       " 'mantenidos.',\n",
       " 'ojetes.',\n",
       " 'como',\n",
       " 'es',\n",
       " 'posible.',\n",
       " 'mejor',\n",
       " 'matarlos']"
      ]
     },
     "execution_count": 150,
     "metadata": {},
     "output_type": "execute_result"
    }
   ],
   "source": [
    "# Split no funciona porque tenemos signos de puntuación y no sólo espacios.\n",
    "tr_txt[5].split()"
   ]
  },
  {
   "attachments": {},
   "cell_type": "markdown",
   "metadata": {},
   "source": [
    "## Tokenizar un tuit"
   ]
  },
  {
   "cell_type": "code",
   "execution_count": 151,
   "metadata": {},
   "outputs": [],
   "source": [
    "import nltk \n",
    "from nltk.tokenize import TweetTokenizer\n",
    "\n",
    "tokenizer = TweetTokenizer()"
   ]
  },
  {
   "cell_type": "code",
   "execution_count": 152,
   "metadata": {},
   "outputs": [
    {
     "data": {
      "text/plain": [
       "['putos',\n",
       " '.',\n",
       " 'no',\n",
       " 'tienen',\n",
       " 'madre',\n",
       " '.',\n",
       " 'ambriados',\n",
       " 'mantenidos',\n",
       " '.',\n",
       " 'ojetes',\n",
       " '.',\n",
       " 'como',\n",
       " 'es',\n",
       " 'posible',\n",
       " '.',\n",
       " 'mejor',\n",
       " 'matarlos']"
      ]
     },
     "execution_count": 152,
     "metadata": {},
     "output_type": "execute_result"
    }
   ],
   "source": [
    "tokenizer.tokenize(tr_txt[5])"
   ]
  },
  {
   "cell_type": "code",
   "execution_count": 153,
   "metadata": {},
   "outputs": [],
   "source": [
    "corpus_palabras = []\n",
    "for doc in tr_txt:\n",
    "    corpus_palabras += tokenizer.tokenize(doc) # lista con documentos divididos por espacios (contando signos de puntuación)"
   ]
  },
  {
   "cell_type": "code",
   "execution_count": 154,
   "metadata": {},
   "outputs": [
    {
     "data": {
      "text/plain": [
       "13580"
      ]
     },
     "execution_count": 154,
     "metadata": {},
     "output_type": "execute_result"
    }
   ],
   "source": [
    "len(set(corpus_palabras))"
   ]
  },
  {
   "cell_type": "code",
   "execution_count": 155,
   "metadata": {},
   "outputs": [],
   "source": [
    "fdist = nltk.FreqDist(corpus_palabras) # cuántas veces aparece cada palabra"
   ]
  },
  {
   "cell_type": "code",
   "execution_count": 156,
   "metadata": {},
   "outputs": [],
   "source": [
    "def sortFreqDict(freqdict):\n",
    "    aux = [(freqdict[key], key) for key in freqdict] #lista de pares ordenada (más frecuente a menos)\n",
    "    aux.sort()\n",
    "    aux.reverse()\n",
    "    return aux #regresa el objeto ordenado en reversa"
   ]
  },
  {
   "cell_type": "code",
   "execution_count": 157,
   "metadata": {},
   "outputs": [
    {
     "data": {
      "text/plain": [
       "[(3383, 'que'),\n",
       " (3357, 'de'),\n",
       " (2774, '.'),\n",
       " (2629, 'a'),\n",
       " (2433, 'la'),\n",
       " (2266, 'y'),\n",
       " (1824, 'no'),\n",
       " (1613, 'me'),\n",
       " (1505, '!'),\n",
       " (1303, 'el')]"
      ]
     },
     "execution_count": 157,
     "metadata": {},
     "output_type": "execute_result"
    }
   ],
   "source": [
    "V = sortFreqDict(fdist)\n",
    "V = V[:5000]\n",
    "V[:10]"
   ]
  },
  {
   "cell_type": "code",
   "execution_count": 158,
   "metadata": {},
   "outputs": [
    {
     "name": "stdout",
     "output_type": "stream",
     "text": [
      "5000\n"
     ]
    }
   ],
   "source": [
    "dict_indices = dict()\n",
    "cont = 0\n",
    "for weight, word in V:\n",
    "    dict_indices[word]=cont\n",
    "    cont+=1\n",
    "print(len(dict_indices))"
   ]
  },
  {
   "cell_type": "code",
   "execution_count": 159,
   "metadata": {},
   "outputs": [
    {
     "data": {
      "text/plain": [
       "['que', 'de', '.', 'a', 'la']"
      ]
     },
     "execution_count": 159,
     "metadata": {},
     "output_type": "execute_result"
    }
   ],
   "source": [
    "list(dict_indices)[:5]"
   ]
  },
  {
   "cell_type": "code",
   "execution_count": 160,
   "metadata": {},
   "outputs": [],
   "source": [
    "val_txt, val_y = get_texts_from_file(\"./mex_val.txt\", \"./mex_val_labels.txt\")"
   ]
  },
  {
   "cell_type": "code",
   "execution_count": 161,
   "metadata": {},
   "outputs": [
    {
     "name": "stdout",
     "output_type": "stream",
     "text": [
      "Counter({'0\\n': 3563, '1\\n': 1981})\n"
     ]
    },
    {
     "data": {
      "text/plain": [
       "Text(0.5, 0, 'Class')"
      ]
     },
     "execution_count": 161,
     "metadata": {},
     "output_type": "execute_result"
    },
    {
     "data": {
      "image/png": "[encoded data removed]",
      "text/plain": [
       "<Figure size 640x480 with 1 Axes>"
      ]
     },
     "metadata": {},
     "output_type": "display_data"
    }
   ],
   "source": [
    "from collections import Counter\n",
    "import matplotlib.pyplot as plt\n",
    "%matplotlib inline\n",
    "\n",
    "print(Counter(tr_y))\n",
    "\n",
    "plt.hist(tr_y, bins=len(set(tr_y)))\n",
    "plt.ylabel('Users')\n",
    "plt.xlabel('Class')"
   ]
  },
  {
   "cell_type": "code",
   "execution_count": 162,
   "metadata": {},
   "outputs": [
    {
     "name": "stdout",
     "output_type": "stream",
     "text": [
      "Counter({'0\\n': 397, '1\\n': 219})\n"
     ]
    },
    {
     "data": {
      "text/plain": [
       "Text(0.5, 0, 'Class')"
      ]
     },
     "execution_count": 162,
     "metadata": {},
     "output_type": "execute_result"
    },
    {
     "data": {
      "image/png": "[encoded data removed]",
      "text/plain": [
       "<Figure size 640x480 with 1 Axes>"
      ]
     },
     "metadata": {},
     "output_type": "display_data"
    }
   ],
   "source": [
    "val_txt, val_y = get_texts_from_file('./mex_val.txt', \"./mex_val_labels.txt\")\n",
    "\n",
    "from collections import Counter\n",
    "import matplotlib.pyplot as plt\n",
    "%matplotlib inline\n",
    "\n",
    "print(Counter(val_y))\n",
    "plt.hist(val_y, bins=len(set(val_y)))\n",
    "\n",
    "plt.ylabel('Users')\n",
    "plt.xlabel('Class')"
   ]
  },
  {
   "attachments": {},
   "cell_type": "markdown",
   "metadata": {},
   "source": [
    "## Bag of Words (BOW)"
   ]
  },
  {
   "cell_type": "code",
   "execution_count": 163,
   "metadata": {},
   "outputs": [],
   "source": [
    "import numpy as np\n",
    "#   * tokenizer.tokenize(): recibe un tweet y lo separa de forma inteligente (por palabras). No se hace con split porque no sólo se separan por espacios\n",
    "#   * FreqDist: mapa (regresa la frecuencia [cubetas de palabras])\n",
    "#   * dict_indices: global (por todos los tweets [cubeta ordenada ascendente])\n"
   ]
  },
  {
   "attachments": {},
   "cell_type": "markdown",
   "metadata": {},
   "source": [
    "### <kbd>Binary</kbd>\n",
    "* ¿Tiene la palabra? 1\n",
    "* ¿no la tiene? 0"
   ]
  },
  {
   "cell_type": "code",
   "execution_count": 164,
   "metadata": {},
   "outputs": [
    {
     "name": "stdout",
     "output_type": "stream",
     "text": [
      "[1 1 0 ... 0 0 0]\n"
     ]
    }
   ],
   "source": [
    "def binary_BOW(tweets, V, dict_indices): #string de tweets, vocabulario (frecuencia de palabras), diccionario de indices\n",
    "    BOW = np.zeros((len(tweets),len(V)), dtype=int) #tweets * vocabulario  (si la palabra existe, pongo un 1 en mi matriz, si no, escribo un 0)\n",
    "    for i, tweet in enumerate(tweets):\n",
    "        word_map = nltk.FreqDist(tokenizer.tokenize(tweet))\n",
    "        for word in word_map:\n",
    "            if word in dict_indices:\n",
    "                BOW[i, dict_indices[word]] = 1 \n",
    "    return BOW  #bolsa de palabras (Número de documentos * número de palabras )\n",
    "BOW_tr = binary_BOW(tr_txt, V, dict_indices)\n",
    "print(BOW_tr[0,:])\n"
   ]
  },
  {
   "attachments": {},
   "cell_type": "markdown",
   "metadata": {},
   "source": [
    "### <kbd>Term Frequency BoW</kbd>\n",
    "* Cada casilla representa la frecuencia de la palabra"
   ]
  },
  {
   "cell_type": "code",
   "execution_count": 165,
   "metadata": {},
   "outputs": [
    {
     "name": "stdout",
     "output_type": "stream",
     "text": [
      "[1 2 0 ... 0 0 0]\n"
     ]
    }
   ],
   "source": [
    "def freq_BOW(tweets, V, dict_indices):\n",
    "    BOW = np.zeros((len(tweets),len(V)), dtype=int)\n",
    "    for i, tweet in enumerate(tweets):\n",
    "        word_map = nltk.FreqDist(tokenizer.tokenize(tweet))\n",
    "        for word in word_map:\n",
    "            if word in dict_indices:\n",
    "                BOW[i, dict_indices[word]] = word_map[word]\n",
    "    return BOW\n",
    "BOW_tr = freq_BOW(tr_txt, V, dict_indices)\n",
    "print(BOW_tr[0,:])"
   ]
  },
  {
   "attachments": {},
   "cell_type": "markdown",
   "metadata": {},
   "source": [
    "### <kbd>TF-IDF BoW</kbd>\n",
    "\n",
    "$$ w_{i,j} = tf(t_j, d_i) * idf(t_j) $$\n",
    "\n",
    "$$  tf(t_j, d_i) =  frecuencia \\hspace{1mm} de \\hspace{1mm} t_j \\hspace{1mm} en  \\hspace{1mm} el \\hspace{1mm} documento \\hspace{1mm} d_i $$\n",
    "\n",
    "$$ idf(t_j) = log(\\frac{Num Documentos} {Num Docs \\hspace{1mm} que \\hspace{1mm} contienen \\hspace{1mm} t_j }) $$\n",
    "\n",
    "\n"
   ]
  },
  {
   "cell_type": "code",
   "execution_count": 166,
   "metadata": {},
   "outputs": [],
   "source": [
    "def tfidf_BOW(tweets, V, dict_indices):\n",
    "    map_ = dict() #creo un \"mapa\" o diccionario para contar el número de documentos que contienen la palabra t_j\n",
    "    BOW = np.zeros((len(tr_txt),len(V)), dtype=int)\n",
    "    for i, tweet in enumerate(tweets):\n",
    "        word_map = nltk.FreqDist(tokenizer.tokenize(tweet))\n",
    "        for word in word_map:\n",
    "            if word in dict_indices:\n",
    "                if word in map_:\n",
    "                    map_[word]+=1\n",
    "                else:\n",
    "                    map_[word] = 1 #inicializar el mapa \n",
    "                BOW[i, dict_indices[word]] = word_map[word] / len(tokenizer.tokenize(tweet))\n",
    "    for i, tweet in enumerate(tweets):\n",
    "        word_map = nltk.FreqDist(tokenizer.tokenize(tweet))\n",
    "        for word in word_map:\n",
    "            if word in dict_indices:\n",
    "                BOW[i, dict_indices[word]] *= np.log( len(tweets) / map_[word])  # Ndocs = len(tweets) / Ndocs con t_j\n",
    "    return BOW\n",
    "BOW_tr = tfidf_BOW(tr_txt, V, dict_indices)\n",
    "print(BOW_tr[0,:])"
   ]
  },
  {
   "attachments": {},
   "cell_type": "markdown",
   "metadata": {},
   "source": [
    "## Comparison "
   ]
  },
  {
   "cell_type": "code",
   "execution_count": null,
   "metadata": {},
   "outputs": [],
   "source": [
    "from sklearn import svm\n",
    "from sklearn.model_selection import GridSearchCV    \n",
    "from sklearn import metrics \n",
    "from sklearn.metrics import accuracy_score, confusion_matrix, f1_score, precision_recall_fscore_support\n",
    "\n",
    "parameters = {'C': [.05, .25, 1, 2]} # complejidad del algoritmo\n",
    "svr = svm.LinearSVC(class_weight='balanced')\n",
    "grid = GridSearchCV(estimator=svr, param_grid=parameters, n_jobs=8, scoring=\"f1_macro\", cv=5)\n",
    "\n",
    "\n",
    "def predVSreal(y_true, y_pred, BOW_tr, BOW_val):\n",
    "    p, r, f, _ = precision_recall_fscore_support(y_true, y_pred, average = 'macro', pos_label = 1)\n",
    "    print(\"****** SHAPES ******\")\n",
    "    print(\"Train:\", BOW_tr.shape)\n",
    "    print(\"Real:\", BOW_val.shape)\n",
    "    print(\"\\n****** CONFUSION MATRIX ******\")\n",
    "    print(confusion_matrix(y_true, y_pred))\n",
    "    print(\"\\n****** CLASSIFICATION REPORT ******\")\n",
    "    print(metrics.classification_report(y_true, y_pred))"
   ]
  },
  {
   "attachments": {},
   "cell_type": "markdown",
   "metadata": {},
   "source": [
    "#### <kbd>Binary</kbd>"
   ]
  },
  {
   "cell_type": "code",
   "execution_count": null,
   "metadata": {},
   "outputs": [
    {
     "name": "stdout",
     "output_type": "stream",
     "text": [
      "****** SHAPES ******\n",
      "Train: (5544, 5000)\n",
      "Real: (616, 5000)\n",
      "\n",
      "****** CONFUSION MATRIX ******\n",
      "[[329  68]\n",
      " [ 47 172]]\n",
      "\n",
      "****** CLASSIFICATION REPORT ******\n",
      "              precision    recall  f1-score   support\n",
      "\n",
      "          0\n",
      "       0.88      0.83      0.85       397\n",
      "          1\n",
      "       0.72      0.79      0.75       219\n",
      "\n",
      "    accuracy                           0.81       616\n",
      "   macro avg       0.80      0.81      0.80       616\n",
      "weighted avg       0.82      0.81      0.82       616\n",
      "\n"
     ]
    }
   ],
   "source": [
    "BOW_tr = binary_BOW(tr_txt, V, dict_indices)\n",
    "BOW_val = binary_BOW(val_txt, V, dict_indices)\n",
    "\n",
    "\n",
    "\n",
    "# visualization \n",
    "grid.fit(BOW_tr, tr_y)\n",
    "preds = grid.predict(BOW_val)\n",
    "\n",
    "# confusion matrix & classification report\n",
    "predVSreal(val_y, preds, BOW_tr, BOW_val)"
   ]
  },
  {
   "attachments": {},
   "cell_type": "markdown",
   "metadata": {},
   "source": [
    "#### <kbd>Term Frequency BoW</kbd>\n"
   ]
  },
  {
   "cell_type": "code",
   "execution_count": null,
   "metadata": {},
   "outputs": [
    {
     "data": {
      "text/plain": [
       "(616, 5000)"
      ]
     },
     "execution_count": 127,
     "metadata": {},
     "output_type": "execute_result"
    }
   ],
   "source": [
    "BOW_val = freq_BOW(val_txt, V, dict_indices)\n",
    "BOW_val.shape"
   ]
  },
  {
   "attachments": {},
   "cell_type": "markdown",
   "metadata": {},
   "source": [
    "#### <kbd>TF-IDF BoW</kbd>"
   ]
  },
  {
   "cell_type": "code",
   "execution_count": null,
   "metadata": {},
   "outputs": [
    {
     "data": {
      "text/plain": [
       "(5544, 5000)"
      ]
     },
     "execution_count": 128,
     "metadata": {},
     "output_type": "execute_result"
    }
   ],
   "source": [
    "BOW_val = tfidf_BOW(val_txt, V, dict_indices)\n",
    "BOW_val.shape"
   ]
  },
  {
   "cell_type": "code",
   "execution_count": null,
   "metadata": {},
   "outputs": [],
   "source": [
    "\n",
    "\n",
    "\n",
    "# tr_y = list(map(int,tr_y))\n",
    "# grid.fit(BOW_tr, tr_y)\n",
    "# val_y = list(map(int,val_y))\n",
    "# y_pred = grid.predict(BOW_val)\n",
    "\n",
    "# p,r,f,_ = precision_recall_fscore_support(val_y, y_pred, average=\"macro\", pos_label=1)\n",
    "# print(confusion_matrix(val_y, y_pred))\n",
    "# print(metrics.classification_report(val_y, y_pred))\n",
    "\n"
   ]
  },
  {
   "cell_type": "code",
   "execution_count": null,
   "metadata": {},
   "outputs": [],
   "source": []
  }
 ],
 "metadata": {
  "kernelspec": {
   "display_name": "Python 3",
   "language": "python",
   "name": "python3"
  },
  "language_info": {
   "codemirror_mode": {
    "name": "ipython",
    "version": 3
   },
   "file_extension": ".py",
   "mimetype": "text/x-python",
   "name": "python",
   "nbconvert_exporter": "python",
   "pygments_lexer": "ipython3",
   "version": "3.11.2"
  },
  "orig_nbformat": 4,
  "vscode": {
   "interpreter": {
    "hash": "36d8014425df087c299dae688a2df59daa7f4b005992d2496cc7a95dceb622c7"
   }
  }
 },
 "nbformat": 4,
 "nbformat_minor": 2
}
