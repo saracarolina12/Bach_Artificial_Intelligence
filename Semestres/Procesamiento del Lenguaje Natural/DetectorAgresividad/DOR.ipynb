{
 "cells": [
  {
   "attachments": {},
   "cell_type": "markdown",
   "metadata": {},
   "source": [
    "### DOR (Document Ocurrent Representation)\n",
    "<p><kbd>0226594</kbd> Sara Carolina Gómez Delgado  </p>"
   ]
  },
  {
   "cell_type": "code",
   "execution_count": 8,
   "metadata": {},
   "outputs": [],
   "source": [
    "import nltk\n",
    "import matplotlib\n",
    "from sklearn.ensemble import RandomForestClassifier\n",
    "import pandas\n",
    "from bs4 import BeautifulSoup\n",
    "import numpy as np\n",
    "import scipy"
   ]
  },
  {
   "cell_type": "code",
   "execution_count": 9,
   "metadata": {},
   "outputs": [],
   "source": [
    "def get_texts_from_file(path_corpus, path_truth):\n",
    "    tr_txt = []\n",
    "    tr_y = []\n",
    "    with open(path_corpus, \"r\",encoding=\"utf8\") as f_corpus, open(path_truth, \"r\",encoding=\"utf8\") as f_truth:\n",
    "        for tuit in f_corpus:\n",
    "            tr_txt += [tuit]\n",
    "        for label in f_truth:\n",
    "            tr_y += [label] \n",
    "    return tr_txt, tr_y"
   ]
  },
  {
   "cell_type": "code",
   "execution_count": 10,
   "metadata": {},
   "outputs": [],
   "source": [
    "tr_txt, tr_y = get_texts_from_file(\"./mex_train.txt\", \"./mex_train_labels.txt\")"
   ]
  },
  {
   "cell_type": "code",
   "execution_count": 11,
   "metadata": {},
   "outputs": [
    {
     "data": {
      "text/plain": [
       "['putos.',\n",
       " 'no',\n",
       " 'tienen',\n",
       " 'madre.',\n",
       " 'ambriados',\n",
       " 'mantenidos.',\n",
       " 'ojetes.',\n",
       " 'como',\n",
       " 'es',\n",
       " 'posible.',\n",
       " 'mejor',\n",
       " 'matarlos']"
      ]
     },
     "execution_count": 11,
     "metadata": {},
     "output_type": "execute_result"
    }
   ],
   "source": [
    "tr_txt[5].split()"
   ]
  },
  {
   "cell_type": "code",
   "execution_count": 12,
   "metadata": {},
   "outputs": [],
   "source": [
    "import nltk \n",
    "from nltk.tokenize import TweetTokenizer\n",
    "\n",
    "tokenizer = TweetTokenizer()\n",
    "\n",
    "corpus_palabras = []\n",
    "for doc in tr_txt:\n",
    "    corpus_palabras += tokenizer.tokenize(doc) # lista con documentos divididos por espacios (contando signos de puntuación)"
   ]
  },
  {
   "cell_type": "code",
   "execution_count": 13,
   "metadata": {},
   "outputs": [],
   "source": [
    "tr_txt, tr_y = get_texts_from_file(\"./mex_train.txt\", \"./mex_train_labels.txt\")\n",
    "val_txt, val_y = get_texts_from_file(\"./mex_val.txt\", \"./mex_val_labels.txt\")"
   ]
  },
  {
   "cell_type": "code",
   "execution_count": 14,
   "metadata": {},
   "outputs": [],
   "source": [
    "corpus_palabras = []\n",
    "for doc in tr_txt:\n",
    "    corpus_palabras += tokenizer.tokenize(doc) # lista con documentos divididos por espacios (contando signos de puntuación)"
   ]
  },
  {
   "cell_type": "code",
   "execution_count": 22,
   "metadata": {},
   "outputs": [],
   "source": [
    "vocab_size = 5000\n",
    "fdist = nltk.FreqDist(corpus_palabras)\n",
    "vocab = sorted([(fdist[key], key) for key in fdist])[:: -1][: vocab_size]"
   ]
  },
  {
   "cell_type": "code",
   "execution_count": 23,
   "metadata": {},
   "outputs": [
    {
     "name": "stdout",
     "output_type": "stream",
     "text": [
      "5000\n"
     ]
    },
    {
     "data": {
      "text/plain": [
       "['que', 'de', '.', 'a', 'la', 'y', 'no', 'me', '!', 'el']"
      ]
     },
     "execution_count": 23,
     "metadata": {},
     "output_type": "execute_result"
    }
   ],
   "source": [
    "indices = dict()\n",
    "for i, w in enumerate(vocab):\n",
    "    _, word = w\n",
    "    indices[word] = i\n",
    "print(len(indices))\n",
    "list(indices)[:10]"
   ]
  },
  {
   "cell_type": "code",
   "execution_count": 29,
   "metadata": {},
   "outputs": [],
   "source": [
    "def DOR(tweets, V, dict_indices):\n",
    "    DOR = np.zeros((len(tweets),len(V)), dtype=float)\n",
    "    for i, tweet in enumerate(tweets):\n",
    "        word_map = nltk.FreqDist(tokenizer.tokenize(tweet))\n",
    "        for word in word_map:\n",
    "            if word in dict_indices:\n",
    "                dftj = 1 + np.log(word_map[word])\n",
    "                DOR[i, word_map[word]] = dftj * np.log(len(V)/len(tweet))\n",
    "    # transformation to document - document\n",
    "    Dsum = np.zeros( (len(tweets), len(tweets)) )\n",
    "    for i, c in enumerate(DOR):\n",
    "        j = np.where(c>0)[0]\n",
    "        Dsum[i,:] = np.sum(DOR[:,j], axis=1)\n",
    "    return Dsum\n"
   ]
  },
  {
   "cell_type": "code",
   "execution_count": 32,
   "metadata": {},
   "outputs": [
    {
     "data": {
      "text/plain": [
       "array([[10.76021267, 10.30356451, 10.15925425, ...,  4.43965575,\n",
       "         5.14989736,  4.54690128],\n",
       "       [10.76021267, 10.30356451, 10.15925425, ...,  4.43965575,\n",
       "         5.14989736,  4.54690128],\n",
       "       [10.76021267, 10.30356451, 10.15925425, ...,  4.43965575,\n",
       "         5.14989736,  4.54690128],\n",
       "       ...,\n",
       "       [ 3.99540461,  3.82584531,  3.77226106, ...,  4.43965575,\n",
       "         5.14989736,  4.54690128],\n",
       "       [ 3.99540461,  3.82584531,  3.77226106, ...,  4.43965575,\n",
       "         5.14989736,  4.54690128],\n",
       "       [ 3.99540461,  3.82584531,  3.77226106, ...,  4.43965575,\n",
       "         5.14989736,  4.54690128]])"
      ]
     },
     "execution_count": 32,
     "metadata": {},
     "output_type": "execute_result"
    }
   ],
   "source": [
    "DOR_tr  = DOR(tr_txt, vocab, indices)\n",
    "DOR_val = DOR(val_txt, vocab, indices)\n",
    "DOR_tr"
   ]
  }
 ],
 "metadata": {
  "kernelspec": {
   "display_name": "base",
   "language": "python",
   "name": "python3"
  },
  "language_info": {
   "codemirror_mode": {
    "name": "ipython",
    "version": 3
   },
   "file_extension": ".py",
   "mimetype": "text/x-python",
   "name": "python",
   "nbconvert_exporter": "python",
   "pygments_lexer": "ipython3",
   "version": "3.9.7"
  },
  "orig_nbformat": 4,
  "vscode": {
   "interpreter": {
    "hash": "ad2bdc8ecc057115af97d19610ffacc2b4e99fae6737bb82f5d7fb13d2f2c186"
   }
  }
 },
 "nbformat": 4,
 "nbformat_minor": 2
}
