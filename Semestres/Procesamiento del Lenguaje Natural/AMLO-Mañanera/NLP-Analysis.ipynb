{
 "cells": [
  {
   "attachments": {},
   "cell_type": "markdown",
   "metadata": {},
   "source": [
    "### Actividad: Análisis \"La Mañanera\"\n",
    "<p><kbd>0226594</kbd> Sara Carolina Gómez Delgado  </p>\n",
    "Introducción a Python y análisis del lenguaje natural.\n",
    "\n",
    "<kbd>https://www.youtube.com/watch?v=FILPdMMnYuA&ab_channel=Adri%C3%A1n</kbd>\n"
   ]
  },
  {
   "cell_type": "code",
   "execution_count": 30,
   "metadata": {},
   "outputs": [],
   "source": [
    "import urllib.request\n",
    "import requests\n",
    "import glob\n",
    "import re\n",
    "import io\n",
    "import os\n",
    "from bs4 import BeautifulSoup\n",
    "from datetime import datetime"
   ]
  },
  {
   "attachments": {},
   "cell_type": "markdown",
   "metadata": {},
   "source": [
    "### Read HTML code form URL"
   ]
  },
  {
   "cell_type": "code",
   "execution_count": 31,
   "metadata": {},
   "outputs": [],
   "source": [
    "def getHTML(url, path):\n",
    "    response = requests.get(url, headers={'User-Agent': 'Mozilla/5.0 (Windows NT 10.0) AppleWebKit/537.36 (KHTML, like Gecko) Chrome/104.0.0.0 Safari/537.36'})\n",
    "    with open(path, \"w\") as f:\n",
    "        f.write(response.text)\n",
    "getHTML(\"https://presidente.gob.mx/secciones/version-estenografica/page/2/\", \"../data/Política/html-code.txt\")"
   ]
  },
  {
   "cell_type": "code",
   "execution_count": 32,
   "metadata": {},
   "outputs": [
    {
     "data": {
      "text/plain": [
       "[('http',\n",
       "  '151.394.mwp.accessdomain.com',\n",
       "  '/wp-content/themes/diplomat/favicon.ico'),\n",
       " ('https', 'presidente.gob.mx', '/feed/'),\n",
       " ('https', 'presidente.gob.mx', '/xmlrpc.php')]"
      ]
     },
     "execution_count": 32,
     "metadata": {},
     "output_type": "execute_result"
    }
   ],
   "source": [
    "regex = '(http|ftp|https)://([\\w_-]+(?:(?:\\.[\\w_-]+)+))([\\w.,@?^=%&:/~+#-]*[\\w@?^=%&/~+#-])?'\n",
    "re.findall(regex, open(\"../data/Política/html-code.txt\", \"r\", encoding = \"utf-8\").read())[:3]"
   ]
  },
  {
   "attachments": {},
   "cell_type": "markdown",
   "metadata": {},
   "source": [
    "###  Fetch each page"
   ]
  },
  {
   "cell_type": "code",
   "execution_count": 33,
   "metadata": {},
   "outputs": [],
   "source": [
    "url_pagina_i = \"https://presidente.gob.mx/secciones/version-estenografica/page/\"\n",
    "num_paginas = 117 # versiones estenográficas\n",
    "for i in range(num_paginas): \n",
    "    getHTML(url_pagina_i + str(i + 1) + \"/\", \"./paginas/\" + str(i + 1) + \".txt\")"
   ]
  },
  {
   "cell_type": "code",
   "execution_count": 34,
   "metadata": {},
   "outputs": [],
   "source": [
    "urls_conf = []\n",
    "for f_pagina in glob.glob(\"./paginas/*\"):\n",
    "    urls_conf += [path for _, _, path in re.findall(regex, open(f_pagina,\"r\", encoding=\"utf-8\").read()) \n",
    "                if \"estenografica-de-la\" in path] # get urls with \"estenografica-de-la\""
   ]
  },
  {
   "cell_type": "code",
   "execution_count": 35,
   "metadata": {},
   "outputs": [
    {
     "name": "stdout",
     "output_type": "stream",
     "text": [
      "1021\n"
     ]
    }
   ],
   "source": [
    "urls_conf_set = list(set(urls_conf))\n",
    "print(len(urls_conf_set))"
   ]
  },
  {
   "cell_type": "code",
   "execution_count": 36,
   "metadata": {},
   "outputs": [],
   "source": [
    "for path in urls_conf_set:\n",
    "    getHTML(\"https://presidente.gob.mx\" + path, \"./estenograficas/\" + path.replace(\"/\", \"-\"))"
   ]
  },
  {
   "attachments": {},
   "cell_type": "markdown",
   "metadata": {},
   "source": [
    "###  Clean data (only text)"
   ]
  },
  {
   "cell_type": "code",
   "execution_count": 37,
   "metadata": {},
   "outputs": [],
   "source": [
    "for f_pagina in glob.glob(\"./estenograficas/*\"):\n",
    "    soup = BeautifulSoup(open(f_pagina, \"r\", encoding = \"utf-8\").read(), 'html.parser')\n",
    "    f_pagina = f_pagina.replace(\"\\\\\", \"\")\n",
    "    newPath = \"./estenograficas_limpias/\" + f_pagina.replace(\"./estenograficas\", \"\")\n",
    "    open(newPath, \"w\", encoding = \"utf-8\").write(soup.get_text())"
   ]
  },
  {
   "cell_type": "markdown",
   "metadata": {},
   "source": [
    "### Normalizar cada nombre"
   ]
  },
  {
   "cell_type": "code",
   "execution_count": 39,
   "metadata": {},
   "outputs": [
    {
     "name": "stdout",
     "output_type": "stream",
     "text": [
      ":S Raro: ./estenograficas_limpias\\-08-1020-version-estenografica-de-la-conferencia-de-prensa-matutina-del-presidente-andres-manuel-lopez-obrador-\n",
      "---> Segunda: ./estenograficas_limpias\\-12-11-21-version-estenografica-de-la-conferencia-de-prensa-matutina-del-presidente-andres-manuel-lopez-obrador-desde-sonora-\n",
      "---> Segunda: ./estenograficas_limpias\\-13-05-2022-version-estenografica-de-la-conferencia-de-prensa-matutina-del-presidente-andres-manuel-lopez-obrador-desde-nuevo-leon-\n",
      "---> Segunda: ./estenograficas_limpias\\-29-05-19-version-estenografica-de-la-conferencia-de-prensa-matutina-del-presidente-andres-manuel-lopez-obrador-2-\n",
      ":S Raro: ./estenograficas_limpias\\-29-0920-version-estenografica-de-la-conferencia-de-prensa-matutina-del-presidente-andres-manuel-lopez-obrador-\n",
      "---> Segunda: ./estenograficas_limpias\\-version-estenografica-de-la-conferencia-de-prensa-extraordinaria-del-presidente-andres-manuel-lopez-obrador-2-\n",
      "--->Tercera: ./estenograficas_limpias\\-version-estenografica-de-la-conferencia-de-prensa-extraordinaria-del-presidente-andres-manuel-lopez-obrador-2-2-\n",
      ":S Raro: ./estenograficas_limpias\\-version-estenografica-de-la-conferencia-de-prensa-matutina-del-presidente-andres-manuel-lopez-obrador-67-\n",
      "---> Segunda: ./estenograficas_limpias\\-version-estenografica-de-la-entrega-de-la-pension-para-el-bienestar-de-las-personas-con-discapacidad-\n",
      "---> Segunda: ./estenograficas_limpias\\-version-estenografica-de-la-inauguracion-de-las-oficinas-del-imss-en-morelia-michoacan-\n",
      "---> Segunda: ./estenograficas_limpias\\-version-estenografica-de-la-xxx-reunion-con-embajadores-y-consules-\n"
     ]
    }
   ],
   "source": [
    "def normaliza(str_fecha):\n",
    "    datetimeobject = datetime.strptime(str_fecha[:6] + \"20\" + str_fecha[6:], '%d.%m.%Y') \n",
    "    newformat = datetimeobject.strftime('%Y-%m-%d')\n",
    "    return newformat\n",
    "    \n",
    "\n",
    "i = 0\n",
    "fechas_conferencia = []\n",
    "for f_pagina in glob.glob(\"./estenograficas_limpias/*\"):\n",
    "    texto = open(f_pagina, 'r', encoding = 'utf-8').read()\n",
    "    fechas_en_archivo = re.findall('[0-9][0-9]\\.[0-9][0-9]\\.[0-9][0-9]', texto)\n",
    "    if len(fechas_en_archivo) == 4:\n",
    "        path = './estenograficas_limpias_por_fecha/' + normaliza(fechas_en_archivo[0])\n",
    "        if os.path.isfile(path): \n",
    "            if not os.path.isfile(path + \"_2da\"):\n",
    "                path += \"_2da\"\n",
    "                print(\"---> Segunda:\", f_pagina)\n",
    "            elif not os.path.isfile(path + \"_3ra\"):\n",
    "                path += \"_3ra\"\n",
    "                print(\"--->Tercera:\", f_pagina)\n",
    "        open(path, 'w', encoding = \"utf-8\").write(texto)\n",
    "        fechas_conferencia += [normaliza(fechas_en_archivo[0])]\n",
    "    else:\n",
    "        print(\":S Raro:\", f_pagina)"
   ]
  }
 ],
 "metadata": {
  "kernelspec": {
   "display_name": "base",
   "language": "python",
   "name": "python3"
  },
  "language_info": {
   "codemirror_mode": {
    "name": "ipython",
    "version": 3
   },
   "file_extension": ".py",
   "mimetype": "text/x-python",
   "name": "python",
   "nbconvert_exporter": "python",
   "pygments_lexer": "ipython3",
   "version": "3.9.7"
  },
  "orig_nbformat": 4,
  "vscode": {
   "interpreter": {
    "hash": "ad2bdc8ecc057115af97d19610ffacc2b4e99fae6737bb82f5d7fb13d2f2c186"
   }
  }
 },
 "nbformat": 4,
 "nbformat_minor": 2
}
