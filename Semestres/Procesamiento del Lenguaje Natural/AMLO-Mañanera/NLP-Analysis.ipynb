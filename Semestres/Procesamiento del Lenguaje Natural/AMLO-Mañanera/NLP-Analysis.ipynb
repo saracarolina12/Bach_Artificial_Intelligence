{
 "cells": [
  {
   "attachments": {},
   "cell_type": "markdown",
   "metadata": {},
   "source": [
    "### Actividad: Análisis \"La Mañanera\"\n",
    "<p><kbd>0226594</kbd> Sara Carolina Gómez Delgado  </p>\n",
    "Introducción a Python y análisis del lenguaje natural.\n",
    "\n",
    "<kbd>https://www.youtube.com/watch?v=FILPdMMnYuA&ab_channel=Adri%C3%A1n</kbd>\n"
   ]
  },
  {
   "cell_type": "code",
   "execution_count": 6,
   "metadata": {},
   "outputs": [],
   "source": [
    "from bs4 import BeautifulSoup\n",
    "from datetime import datetime\n",
    "import urllib.request\n",
    "import glob\n",
    "import re\n",
    "import io\n",
    "import os\n",
    "import requests"
   ]
  },
  {
   "attachments": {},
   "cell_type": "markdown",
   "metadata": {},
   "source": [
    "## Read HTML code form URL"
   ]
  },
  {
   "cell_type": "code",
   "execution_count": 7,
   "metadata": {},
   "outputs": [],
   "source": [
    "def getHTML(url, path):\n",
    "    response = requests.get(url, headers={'User-Agent': 'Mozilla/5.0 (Windows NT 10.0) AppleWebKit/537.36 (KHTML, like Gecko) Chrome/104.0.0.0 Safari/537.36'})\n",
    "    with open(path, \"w\") as f:\n",
    "        f.write(response.text)\n",
    "getHTML(\"https://presidente.gob.mx/secciones/version-estenografica/page/2/\", \"../data/Política/html-code.txt\")"
   ]
  },
  {
   "cell_type": "code",
   "execution_count": 8,
   "metadata": {},
   "outputs": [
    {
     "data": {
      "text/plain": [
       "[('http',\n",
       "  '151.394.mwp.accessdomain.com',\n",
       "  '/wp-content/themes/diplomat/favicon.ico'),\n",
       " ('https', 'presidente.gob.mx', '/feed/'),\n",
       " ('https', 'presidente.gob.mx', '/xmlrpc.php')]"
      ]
     },
     "execution_count": 8,
     "metadata": {},
     "output_type": "execute_result"
    }
   ],
   "source": [
    "regex = '(http|ftp|https)://([\\w_-]+(?:(?:\\.[\\w_-]+)+))([\\w.,@?^=%&:/~+#-]*[\\w@?^=%&/~+#-])?'\n",
    "re.findall(regex, open(\"../data/Política/html-code.txt\", \"r\", encoding = \"utf-8\").read())[:3]"
   ]
  },
  {
   "cell_type": "markdown",
   "metadata": {},
   "source": [
    "## Fetch each page"
   ]
  },
  {
   "cell_type": "code",
   "execution_count": 9,
   "metadata": {},
   "outputs": [],
   "source": [
    "url_pagina_i = \"https://presidente.gob.mx/secciones/version-estenografica/page/\"\n",
    "num_paginas = 69\n",
    "for i in range(num_paginas): \n",
    "    getHTML(url_pagina_i + str(i + 1) + \"/\", \"./paginas/\" + str(i + 1) + \".txt\")"
   ]
  },
  {
   "cell_type": "code",
   "execution_count": null,
   "metadata": {},
   "outputs": [],
   "source": [
    "urls_conf = []\n",
    "for f_pagina in glob.glob(\"./paginas/*\"):\n",
    "    urls_conf += [path for _, _, path in re.findall(regex, open(f_pagina, \"r\", encoding = \"utf-8\").read()) if \"estenografica-de-la\" in path]"
   ]
  }
 ],
 "metadata": {
  "kernelspec": {
   "display_name": "base",
   "language": "python",
   "name": "python3"
  },
  "language_info": {
   "codemirror_mode": {
    "name": "ipython",
    "version": 3
   },
   "file_extension": ".py",
   "mimetype": "text/x-python",
   "name": "python",
   "nbconvert_exporter": "python",
   "pygments_lexer": "ipython3",
   "version": "3.9.7"
  },
  "orig_nbformat": 4,
  "vscode": {
   "interpreter": {
    "hash": "ad2bdc8ecc057115af97d19610ffacc2b4e99fae6737bb82f5d7fb13d2f2c186"
   }
  }
 },
 "nbformat": 4,
 "nbformat_minor": 2
}
