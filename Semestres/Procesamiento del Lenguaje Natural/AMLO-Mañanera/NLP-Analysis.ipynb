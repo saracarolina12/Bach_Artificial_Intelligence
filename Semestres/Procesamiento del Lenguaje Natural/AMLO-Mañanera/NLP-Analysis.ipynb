{
 "cells": [
  {
   "attachments": {},
   "cell_type": "markdown",
   "metadata": {},
   "source": [
    "### Actividad: Análisis \"La Mañanera\"\n",
    "<p><kbd>0226594</kbd> Sara Carolina Gómez Delgado  </p>\n",
    "Introducción a Python y análisis del lenguaje natural.\n",
    "\n",
    "<kbd>https://www.youtube.com/watch?v=FILPdMMnYuA&ab_channel=Adri%C3%A1n</kbd>\n"
   ]
  },
  {
   "cell_type": "code",
   "execution_count": 2,
   "metadata": {},
   "outputs": [],
   "source": [
    "import urllib.request\n",
    "import requests\n",
    "import glob\n",
    "import re\n",
    "import io\n",
    "import os\n",
    "from bs4 import BeautifulSoup\n",
    "from datetime import datetime"
   ]
  },
  {
   "attachments": {},
   "cell_type": "markdown",
   "metadata": {},
   "source": [
    "### Read HTML code form URL"
   ]
  },
  {
   "cell_type": "code",
   "execution_count": 3,
   "metadata": {},
   "outputs": [],
   "source": [
    "def getHTML(url, path):\n",
    "    response = requests.get(url, headers={'User-Agent': 'Mozilla/5.0 (Windows NT 10.0) AppleWebKit/537.36 (KHTML, like Gecko) Chrome/104.0.0.0 Safari/537.36'})\n",
    "    with open(path, \"w\") as f:\n",
    "        f.write(response.text)\n",
    "getHTML(\"https://presidente.gob.mx/secciones/version-estenografica/page/2/\", \"../data/Política/html-code.txt\")"
   ]
  },
  {
   "cell_type": "code",
   "execution_count": 4,
   "metadata": {},
   "outputs": [
    {
     "data": {
      "text/plain": [
       "[('http',\n",
       "  '151.394.mwp.accessdomain.com',\n",
       "  '/wp-content/themes/diplomat/favicon.ico'),\n",
       " ('https', 'presidente.gob.mx', '/feed/'),\n",
       " ('https', 'presidente.gob.mx', '/xmlrpc.php')]"
      ]
     },
     "execution_count": 4,
     "metadata": {},
     "output_type": "execute_result"
    }
   ],
   "source": [
    "regex = '(http|ftp|https)://([\\w_-]+(?:(?:\\.[\\w_-]+)+))([\\w.,@?^=%&:/~+#-]*[\\w@?^=%&/~+#-])?'\n",
    "re.findall(regex, open(\"../data/Política/html-code.txt\", \"r\", encoding = \"utf-8\").read())[:3]"
   ]
  },
  {
   "attachments": {},
   "cell_type": "markdown",
   "metadata": {},
   "source": [
    "###  Fetch each page"
   ]
  },
  {
   "cell_type": "code",
   "execution_count": 5,
   "metadata": {},
   "outputs": [],
   "source": [
    "url_pagina_i = \"https://presidente.gob.mx/secciones/version-estenografica/page/\"\n",
    "num_paginas = 117 # versiones estenográficas\n",
    "for i in range(num_paginas): \n",
    "    getHTML(url_pagina_i + str(i + 1) + \"/\", \"./paginas/\" + str(i + 1) + \".txt\")"
   ]
  },
  {
   "cell_type": "code",
   "execution_count": 6,
   "metadata": {},
   "outputs": [],
   "source": [
    "urls_conf = []\n",
    "for f_pagina in glob.glob(\"./paginas/*\"):\n",
    "    urls_conf += [path for _, _, path in re.findall(regex, open(f_pagina,\"r\", encoding=\"utf-8\").read()) \n",
    "                    if \"estenografica-de-la\" in path] # get urls with \"estenografica-de-la\""
   ]
  },
  {
   "cell_type": "code",
   "execution_count": 7,
   "metadata": {},
   "outputs": [
    {
     "name": "stdout",
     "output_type": "stream",
     "text": [
      "1021\n"
     ]
    }
   ],
   "source": [
    "urls_conf_set = list(set(urls_conf))\n",
    "print(len(urls_conf_set))"
   ]
  },
  {
   "cell_type": "code",
   "execution_count": 8,
   "metadata": {},
   "outputs": [],
   "source": [
    "for path in urls_conf_set:\n",
    "    getHTML(\"https://presidente.gob.mx\" + path, \"./estenograficas/\" + path.replace(\"/\", \"-\"))"
   ]
  },
  {
   "attachments": {},
   "cell_type": "markdown",
   "metadata": {},
   "source": [
    "###  Clean data (only text)"
   ]
  },
  {
   "cell_type": "code",
   "execution_count": 10,
   "metadata": {},
   "outputs": [
    {
     "ename": "FileNotFoundError",
     "evalue": "[Errno 2] No such file or directory: './estenograficas_limpias/./estenograficas\\\\-01-02-22-version-estenografica-de-la-conferencia-de-prensa-matutina-del-presidente-andres-manuel-lopez-obrador-'",
     "output_type": "error",
     "traceback": [
      "\u001b[1;31m---------------------------------------------------------------------------\u001b[0m",
      "\u001b[1;31mFileNotFoundError\u001b[0m                         Traceback (most recent call last)",
      "\u001b[1;32m~\\AppData\\Local\\Temp/ipykernel_15164/482689519.py\u001b[0m in \u001b[0;36m<module>\u001b[1;34m\u001b[0m\n\u001b[0;32m      2\u001b[0m     \u001b[0msoup\u001b[0m \u001b[1;33m=\u001b[0m \u001b[0mBeautifulSoup\u001b[0m\u001b[1;33m(\u001b[0m\u001b[0mopen\u001b[0m\u001b[1;33m(\u001b[0m\u001b[0mf_pagina\u001b[0m\u001b[1;33m,\u001b[0m \u001b[1;34m\"r\"\u001b[0m\u001b[1;33m,\u001b[0m \u001b[0mencoding\u001b[0m \u001b[1;33m=\u001b[0m \u001b[1;34m\"utf-8\"\u001b[0m\u001b[1;33m)\u001b[0m\u001b[1;33m.\u001b[0m\u001b[0mread\u001b[0m\u001b[1;33m(\u001b[0m\u001b[1;33m)\u001b[0m\u001b[1;33m,\u001b[0m \u001b[1;34m'html.parser'\u001b[0m\u001b[1;33m)\u001b[0m\u001b[1;33m\u001b[0m\u001b[1;33m\u001b[0m\u001b[0m\n\u001b[0;32m      3\u001b[0m     \u001b[0mnewPath\u001b[0m \u001b[1;33m=\u001b[0m \u001b[1;34m\"./estenograficas_limpias/\"\u001b[0m \u001b[1;33m+\u001b[0m \u001b[0mf_pagina\u001b[0m\u001b[1;33m.\u001b[0m\u001b[0mreplace\u001b[0m\u001b[1;33m(\u001b[0m\u001b[1;34m\"./estenograficas/\"\u001b[0m\u001b[1;33m,\u001b[0m \u001b[1;34m\"\"\u001b[0m\u001b[1;33m)\u001b[0m\u001b[1;33m\u001b[0m\u001b[1;33m\u001b[0m\u001b[0m\n\u001b[1;32m----> 4\u001b[1;33m     \u001b[0mopen\u001b[0m\u001b[1;33m(\u001b[0m\u001b[0mnewPath\u001b[0m\u001b[1;33m,\u001b[0m \u001b[1;34m\"w\"\u001b[0m\u001b[1;33m,\u001b[0m \u001b[0mencoding\u001b[0m \u001b[1;33m=\u001b[0m \u001b[1;34m\"utf-8\"\u001b[0m\u001b[1;33m)\u001b[0m\u001b[1;33m.\u001b[0m\u001b[0mwrite\u001b[0m\u001b[1;33m(\u001b[0m\u001b[0msoup\u001b[0m\u001b[1;33m.\u001b[0m\u001b[0mget_text\u001b[0m\u001b[1;33m(\u001b[0m\u001b[1;33m)\u001b[0m\u001b[1;33m)\u001b[0m\u001b[1;33m\u001b[0m\u001b[1;33m\u001b[0m\u001b[0m\n\u001b[0m",
      "\u001b[1;31mFileNotFoundError\u001b[0m: [Errno 2] No such file or directory: './estenograficas_limpias/./estenograficas\\\\-01-02-22-version-estenografica-de-la-conferencia-de-prensa-matutina-del-presidente-andres-manuel-lopez-obrador-'"
     ]
    }
   ],
   "source": [
    "for f_pagina in glob.glob(\"./estenograficas/*\"):\n",
    "    soup = BeautifulSoup(open(f_pagina, \"r\", encoding = \"utf-8\").read(), 'html.parser')\n",
    "    newPath = \"./estenograficas_limpias/\" + f_pagina.replace(\"./estenograficas/\", \"\")\n",
    "    open(newPath, \"w\", encoding = \"utf-8\").write(soup.get_text())"
   ]
  },
  {
   "cell_type": "markdown",
   "metadata": {},
   "source": [
    "### Normalizar cada nombre"
   ]
  },
  {
   "cell_type": "code",
   "execution_count": null,
   "metadata": {},
   "outputs": [],
   "source": [
    "def normaliza(str_fecha):\n",
    "    datetimeobject = datetime.strptime(str_fecha[:6] + \"20\" + str_fecha[6:], '%d.%m.%Y') \n",
    "    newformat = datetimeobject.strftime('%Y-%m-%d')\n",
    "    return newformat\n",
    "\n",
    "i = 0\n",
    "fechas_conferencia = []\n",
    "for f_pagina in glob.glob(\"./estenograficas_limpias/*\"):\n",
    "    texto = open(f_pagina, 'r', encoding = 'utf-8').read()\n",
    "    fechas_en_archivo = re.findall('[0-9][0-9]\\.[0-9][0-9]\\.[0-9][0-9]', texto)\n",
    "    if len(fechas_en_archivo) == 5:\n",
    "        path = './estenograficas_limpias_por_fecha/' + normaliza(fechas_en_archivo[0])\n",
    "        if os.path.isfile(path): \n",
    "            if not os.path.isfile(path + \"_2da\"):\n",
    "                path += \"_2da\"\n",
    "                print(\"---> Segunda:\", f_pagina)\n",
    "            elif not os.path.isfile(path + \"_3ra\"):\n",
    "                path += \"_3ra\"\n",
    "                print(\"--->Tercera:\", f_pagina)\n",
    "        open(path, 'w', encoding = \"utf-8\").write(texto)\n",
    "        fechas_conferencia += [normaliza(fechas_en_archivo[0])]\n",
    "    else:\n",
    "        print(\":S Raro:\", f_pagina)"
   ]
  }
 ],
 "metadata": {
  "kernelspec": {
   "display_name": "base",
   "language": "python",
   "name": "python3"
  },
  "language_info": {
   "codemirror_mode": {
    "name": "ipython",
    "version": 3
   },
   "file_extension": ".py",
   "mimetype": "text/x-python",
   "name": "python",
   "nbconvert_exporter": "python",
   "pygments_lexer": "ipython3",
   "version": "3.9.7"
  },
  "orig_nbformat": 4,
  "vscode": {
   "interpreter": {
    "hash": "ad2bdc8ecc057115af97d19610ffacc2b4e99fae6737bb82f5d7fb13d2f2c186"
   }
  }
 },
 "nbformat": 4,
 "nbformat_minor": 2
}
