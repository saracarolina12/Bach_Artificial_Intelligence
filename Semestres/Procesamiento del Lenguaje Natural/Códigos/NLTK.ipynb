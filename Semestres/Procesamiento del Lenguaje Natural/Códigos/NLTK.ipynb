{
 "cells": [
  {
   "attachments": {},
   "cell_type": "markdown",
   "metadata": {},
   "source": [
    "### NLTK\n",
    "<p><kbd>0226594</kbd> Sara Carolina Gómez Delgado  </p>\n",
    "<p>Procesamiento de Lenguaje Natural</p>"
   ]
  },
  {
   "cell_type": "code",
   "execution_count": 1,
   "metadata": {},
   "outputs": [],
   "source": [
    "import nltk\n",
    "from sklearn.ensemble import RandomForestClassifier\n",
    "from bs4 import BeautifulSoup"
   ]
  },
  {
   "cell_type": "code",
   "execution_count": 2,
   "metadata": {},
   "outputs": [
    {
     "name": "stdout",
     "output_type": "stream",
     "text": [
      "showing info https://raw.githubusercontent.com/nltk/nltk_data/gh-pages/index.xml\n"
     ]
    },
    {
     "data": {
      "text/plain": [
       "True"
      ]
     },
     "execution_count": 2,
     "metadata": {},
     "output_type": "execute_result"
    }
   ],
   "source": [
    "nltk.download()"
   ]
  },
  {
   "cell_type": "code",
   "execution_count": 3,
   "metadata": {},
   "outputs": [
    {
     "name": "stdout",
     "output_type": "stream",
     "text": [
      "*** Introductory Examples for the NLTK Book ***\n",
      "Loading text1, ..., text9 and sent1, ..., sent9\n",
      "Type the name of the text or sentence to view it.\n",
      "Type: 'texts()' or 'sents()' to list the materials.\n",
      "text1: Moby Dick by Herman Melville 1851\n",
      "text2: Sense and Sensibility by Jane Austen 1811\n",
      "text3: The Book of Genesis\n",
      "text4: Inaugural Address Corpus\n",
      "text5: Chat Corpus\n",
      "text6: Monty Python and the Holy Grail\n",
      "text7: Wall Street Journal\n",
      "text8: Personals Corpus\n",
      "text9: The Man Who Was Thursday by G . K . Chesterton 1908\n"
     ]
    }
   ],
   "source": [
    "from nltk.book import * "
   ]
  },
  {
   "cell_type": "code",
   "execution_count": 4,
   "metadata": {},
   "outputs": [
    {
     "name": "stdout",
     "output_type": "stream",
     "text": [
      "Displaying 11 of 11 matches:\n",
      "ong the former , one was of a most monstrous size . ... This came towards us , \n",
      "ON OF THE PSALMS . \" Touching that monstrous bulk of the whale or ork we have r\n",
      "ll over with a heathenish array of monstrous clubs and spears . Some were thick\n",
      "d as you gazed , and wondered what monstrous cannibal and savage could ever hav\n",
      "that has survived the flood ; most monstrous and most mountainous ! That Himmal\n",
      "they might scout at Moby Dick as a monstrous fable , or still worse and more de\n",
      "th of Radney .'\" CHAPTER 55 Of the Monstrous Pictures of Whales . I shall ere l\n",
      "ing Scenes . In connexion with the monstrous pictures of whales , I am strongly\n",
      "ere to enter upon those still more monstrous stories of them which are to be fo\n",
      "ght have been rummaged out of this monstrous cabinet there is no telling . But \n",
      "of Whale - Bones ; for Whales of a monstrous size are oftentimes cast up dead u\n"
     ]
    }
   ],
   "source": [
    "text1.concordance(\"monstrous\")"
   ]
  },
  {
   "attachments": {},
   "cell_type": "markdown",
   "metadata": {},
   "source": [
    "### Buscar dónde se usan estas palabras"
   ]
  },
  {
   "cell_type": "code",
   "execution_count": 5,
   "metadata": {},
   "outputs": [
    {
     "name": "stdout",
     "output_type": "stream",
     "text": [
      "Displaying 14 of 14 matches:\n",
      "pleasant enough . It touches one ' s sense of honour , particularly if you come\n",
      "es together ; and it was only by the sense of weight and pressure that I could \n",
      "th is , these savages have an innate sense of delicacy , say what you will ; it\n",
      "e obvious laws of Hygiene and common sense . I told him , too , that he being i\n",
      "ered . So utterly lost was he to all sense of reverence for the many marvels of\n",
      "S -- a word , which , in the popular sense , always conveys an idea of hugeness\n",
      "y manifested than in his superlative sense and shrewdness in foreseeing that , \n",
      "For a time , there reigned , too , a sense of peculiar dread at this flitting a\n",
      "very impressions , man has lost that sense of the full awfulness of the sea whi\n",
      "ess , he assumed a steady , common - sense exterior , and offered himself as a \n",
      "be furnished with the reason why his sense of smell seems obliterated in him ; \n",
      " seems to me , that in the whale the sense of touch is concentrated in the tail\n",
      " . So man ' s insanity is heaven ' s sense ; and wandering from all mortal reas\n",
      "r ? Can it be that in some spiritual sense the coffin is , after all , but an i\n",
      "Displaying 8 of 8 matches:\n",
      "o others from their pencil and their book , in spite of Marianne ' s declarati\n",
      "paper ; and put it into his pocket - book .\" For such particulars , stated on \n",
      "thy hands ; and she would have every book that tells her how to admire an old \n",
      " for a few minutes to read ; but the book was soon thrown aside , and she retu\n",
      "em ; had given each of them a needle book made by some emigrant ; called Lucy \n",
      "in general , soon procured herself a book . Nothing was wanting on Mrs . Palme\n",
      "tting shivering over the fire with a book in her hand , which she was unable t\n",
      "arried about me in the same pocket - book , which was now searched by Madam wi\n",
      "Displaying 10 of 10 matches:\n",
      "ublic , and to whom we are bound to address our devout gratitude for the past ,\n",
      "e with a time - honored custom , to address those who are now assembled . The c\n",
      "ent itself , I appear before you to address you briefly and to take in your pre\n",
      "eny ; but if there be such , I need address no word to them . To those , howeve\n",
      "re is less occasion for an extended address than there was at the first . Then \n",
      "t to avert it . While the inaugural address was being delivered from this place\n",
      "mposes . The office of an inaugural address is to give a summary outline of the\n",
      "nduction into the Presidency I will address them with a candor and a decision w\n",
      ". Through this program of action we address ourselves to putting our own nation\n",
      "United States , into the Gettysburg Address . Those who first came here to carr\n",
      "Displaying 25 of 146 matches:\n",
      " that sounds painful any ladis wanna chat ? 29 m 26 / m JOIN my cousin drew a \n",
      " U115 U129 yep U115 Any ladies wanna chat with 24 / m hurry ladies PART JOIN J\n",
      "68 's lap . JOIN JOIN any guyz wanna chat hi there boo , it 's a female . hey \n",
      " 's a female . hey U126 PART i wonna chat PART 24 f nc single mom where did ev\n",
      ". . ACTION hugs U6 . any girls wanna chat with 24 / m please behave baby boy .\n",
      " JOIN 22 / m / wa any ladies want to chat can i talk to him !! lol U121 !!! fo\n",
      "course lets woohoo ! any girls wanna chat ? 24 / m JOIN I think I am the excep\n",
      "s in my pm too U6 any hot guys wanna chat 22 - 30 u wanna have have hot sext d\n",
      "elf down . busy busy any one want to chat a bit . U84 . . ACTION crosses arms \n",
      "hey U6 PART very bored any guys wana chat to a chik from aussie ( i mean chat \n",
      " chat to a chik from aussie ( i mean chat as well ) lol U7 PART u got that rig\n",
      "idding if we be dumb asses they wont chat with ya ok i guess lmao U19 go figur\n",
      "capable of sustaining an intelligent chat without any humor . A nyone interest\n",
      "ty ty TY U11 .. At least I can still CHAT while it defrags ! ;) heeee I would \n",
      "? F / 2 ? C . Wind . 75% maybe Bible chat would be better . Dew Point . 29 ? F\n",
      ". does that make me gay .. he is gay chat rooms always make me feel superior U\n",
      " ^ lol U16 keep up here anyone wanna chat pvt me not even to brad pit U45 PART\n",
      "is tuesday in his world anyone wanna chat i dont like you U28 , go play with y\n",
      " teehee PART Hi all any ladies wanna chat ? NICK : U32 pm me PART im so nodda \n",
      "ks im female by name somebody go and chat with me JOIN PART JOIN PART JOIN PAR\n",
      "y are handheld games any girls wanna chat ? pm me controllers * PART PART PART\n",
      "chicken tonight . They should have a chat for just bored people 18 / m / tx pi\n",
      "m PART lol , true JOIN anybody wanna chat with the sexiest girl in south carol\n",
      "lol 15 f perth bi any bi girls wanna chat but you see right . in , out , in . \n",
      " . -...)...- S.M.R. <3 . any f wanna chat Do n't kick him PART I feel like eve\n",
      "no matches\n",
      "Displaying 25 of 37 matches:\n",
      "RB- During its centennial year , The Wall Street Journal will report events of\n",
      "rtised * in today 's editions of The Wall Street Journal , is scheduled *-1 to\n",
      "the latest investment craze sweeping Wall Street : a rash of new closed-end co\n",
      "Sidewalk Stories '' seem benign . On Wall Street men and women walk with great\n",
      "t weeks has taken its cues more from Wall Street than U.S. economic indicators\n",
      "g up on Capitol Hill as it is *?* on Wall Street , and several legislators wan\n",
      "ng to Standard & Poor 's Corp. , and Wall Street estimates for 1989 growth are\n",
      "siderable international experience . Wall Street reacted favorably to Mr. McGo\n",
      "agers would think a little more like Wall Street , '' Mr. McMillin added *T*-1\n",
      "abody . Since October 's minicrash , Wall Street has been shaken *-69 by an ex\n",
      "nd *T*-1 the forces in ascendency on Wall Street -- the New Guard -- consistin\n",
      ". Defending their ramparts are *T*-1 Wall Street 's Old Guard -- the tradition\n",
      "e markets in their stocks . So far , Wall Street 's Old Guard seems *-1 to be \n",
      "lators `` stop the numbers racket on Wall Street . '' Big Board stock speciali\n",
      "ise . * Kill it , '' he says *T*-1 . Wall Street 's New Guard is n't likely *-\n",
      "*-67 's more , the last time 0 major Wall Street firms said 0 they were gettin\n",
      "-2 . '' Like virtually everything on Wall Street , the program-trading battle \n",
      "s held *-73 by index funds . The new Wall Street of computers and automated tr\n",
      "vestors are absolutely dismayed that Wall Street is stacking the deck against \n",
      "ong the top practitioners were *T*-1 Wall Street blue bloods : Morgan Stanley \n",
      "he top program-trading official at a Wall Street firm . `` Wall Street 's cash\n",
      " official at a Wall Street firm . `` Wall Street 's cash cow has been gored *-\n",
      "any small investors interviewed * by Wall Street Journal reporters across the \n",
      " restructuring , Reed said 0 *T*-2 . Wall Street 's big securities firms face \n",
      "e *T*-2 the realization that some of Wall Street 's biggest players are strugg\n",
      "no matches\n",
      "Displaying 25 of 177 matches:\n",
      "[ The Man Who Was Thursday by G . K . Chesterton 19\n",
      "rocked , relieved -- Blessed are they who did not see , but being blind , belie\n",
      "se , so dreadful to withstand -- Oh , who shall understand but you ; yea , who \n",
      " who shall understand but you ; yea , who shall understand ? The doubts that dr\n",
      "e builder , faintly tinged with art , who called its architecture sometimes Eli\n",
      "ere quite indisputable . The stranger who looked for the first time at the quai\n",
      " very oddly shaped the people must be who could fit in to them . Nor when he me\n",
      "rail but finished work of art . A man who stepped into its social atmosphere fe\n",
      "I say that there are some inhabitants who may remember the evening if only by t\n",
      "hat oppressive sky . There are others who may remember it because it marked the\n",
      "itude suddenly ended . The new poet , who introduced himself by the name of Gab\n",
      "group , Gregory ' s sister Rosamond , who had her brother ' s braids of red hai\n",
      ". An anarchist is an artist . The man who throws a bomb is an artist , because \n",
      ". Syme . \" Nonsense !\" said Gregory , who was very rational when anyone else at\n",
      "countably Baker Street !\" \" It is you who are unpoetical ,\" replied the poet Sy\n",
      "th tears of pride . Take your Byron , who commemorates the defeats of man ; giv\n",
      "e defeats of man ; give me Bradshaw , who commemorates his victories . Give me \n",
      " . Syme ,\" she said , \" do the people who talk like you and my brother often me\n",
      "one . And it is always the humble man who talks too much ; the proud man watche\n",
      "k me serious ? You think me a flaneur who lets fall occasional truths . You do \n",
      "t I should think very little of a man who didn ' t keep something in the backgr\n",
      "little could be seen of the attendant who was summoned , beyond a vague and dar\n",
      "men that ever lived on earth .\" \" And who are we ?\" asked Syme , emptying his c\n",
      "voice with a foreign accent asked him who he was . To this he gave the more or \n",
      "c attempt at secrecy . I have an aunt who lived over a shop , but this is the f\n"
     ]
    }
   ],
   "source": [
    "text1.concordance(\"sense\")\n",
    "text2.concordance(\"book\")\n",
    "text4.concordance(\"address\")\n",
    "text5.concordance(\"chat\")\n",
    "text6.concordance(\"python\")\n",
    "text7.concordance(\"wall\")\n",
    "text8.concordance(\"personals\")\n",
    "text9.concordance(\"who\")"
   ]
  },
  {
   "cell_type": "markdown",
   "metadata": {},
   "source": [
    "### Buscar palabras usadas en el texto1 similares a \"monstrous\""
   ]
  },
  {
   "cell_type": "code",
   "execution_count": 6,
   "metadata": {},
   "outputs": [
    {
     "name": "stdout",
     "output_type": "stream",
     "text": [
      "very so exceedingly heartily a as good great extremely remarkably\n",
      "sweet vast amazingly\n"
     ]
    }
   ],
   "source": [
    "text2.similar(\"monstrous\")"
   ]
  },
  {
   "cell_type": "markdown",
   "metadata": {},
   "source": [
    "### Ver la dispersión del uso de las palabras"
   ]
  },
  {
   "cell_type": "code",
   "execution_count": 7,
   "metadata": {},
   "outputs": [
    {
     "data": {
      "image/png": "[encoded data removed]",
      "text/plain": [
       "<Figure size 640x480 with 1 Axes>"
      ]
     },
     "metadata": {},
     "output_type": "display_data"
    }
   ],
   "source": [
    "text4. dispersion_plot([\"citizens\", \"democracy\", \"freedom\", \"duties\", \"America\"])"
   ]
  },
  {
   "cell_type": "code",
   "execution_count": 8,
   "metadata": {},
   "outputs": [
    {
     "data": {
      "text/plain": [
       "['C:\\\\Users\\\\scago/nltk_data',\n",
       " 'c:\\\\Users\\\\scago\\\\AppData\\\\Local\\\\Programs\\\\Python\\\\Python311\\\\nltk_data',\n",
       " 'c:\\\\Users\\\\scago\\\\AppData\\\\Local\\\\Programs\\\\Python\\\\Python311\\\\share\\\\nltk_data',\n",
       " 'c:\\\\Users\\\\scago\\\\AppData\\\\Local\\\\Programs\\\\Python\\\\Python311\\\\lib\\\\nltk_data',\n",
       " 'C:\\\\Users\\\\scago\\\\AppData\\\\Roaming\\\\nltk_data',\n",
       " 'C:\\\\nltk_data',\n",
       " 'D:\\\\nltk_data',\n",
       " 'E:\\\\nltk_data']"
      ]
     },
     "execution_count": 8,
     "metadata": {},
     "output_type": "execute_result"
    }
   ],
   "source": [
    "nltk.data.path"
   ]
  },
  {
   "cell_type": "code",
   "execution_count": 9,
   "metadata": {},
   "outputs": [
    {
     "data": {
      "text/plain": [
       "2789"
      ]
     },
     "execution_count": 9,
     "metadata": {},
     "output_type": "execute_result"
    }
   ],
   "source": [
    "len(set(text3))"
   ]
  },
  {
   "attachments": {},
   "cell_type": "markdown",
   "metadata": {},
   "source": [
    "### Riqueza Léxica\n",
    "La razón del total de términos empleados en el texto / tamaño del vocabulario   "
   ]
  },
  {
   "cell_type": "code",
   "execution_count": 10,
   "metadata": {},
   "outputs": [
    {
     "name": "stdout",
     "output_type": "stream",
     "text": [
      "Riqueza léxica: 16.050197203298673\n"
     ]
    }
   ],
   "source": [
    "from __future__ import division\n",
    "print( \"Riqueza léxica:\", len(text3)/len(set(text3)) ) # La cantidad de veces que cada palabra ha sido empleada "
   ]
  },
  {
   "cell_type": "markdown",
   "metadata": {},
   "source": [
    "### Contar el vocabulario"
   ]
  },
  {
   "cell_type": "code",
   "execution_count": 11,
   "metadata": {},
   "outputs": [],
   "source": [
    "def wordFreq(text, word):\n",
    "    return text.count(word)\n",
    "def percentage(text, word):\n",
    "    return 100*text.count(word)/len(text)\n",
    "def lexical_diversity(text):\n",
    "    return len(text)/len(set(text))"
   ]
  },
  {
   "cell_type": "code",
   "execution_count": 12,
   "metadata": {},
   "outputs": [
    {
     "name": "stdout",
     "output_type": "stream",
     "text": [
      "Frecuencia de palabra:  5 veces\n",
      "Porcentaje:  1.457806031353621\n"
     ]
    }
   ],
   "source": [
    "print(\"Frecuencia de palabra: \", wordFreq(text3, \"smote\"), \"veces\" ) # Frecuencia de una palabra en un texto\n",
    "print(\"Porcentaje: \", percentage(text4, 'a' ) ) # Porcentaje que ocupa la palabra dentro del texto"
   ]
  },
  {
   "attachments": {},
   "cell_type": "markdown",
   "metadata": {},
   "source": [
    "<p> <kbd>Ejecicio 1.</kbd> </br> Determine cuántas veces aparece la palabra lol dentro del texto 5. ¿Cuál es el porcentaje de la misma? </p>"
   ]
  },
  {
   "cell_type": "code",
   "execution_count": 13,
   "metadata": {},
   "outputs": [
    {
     "name": "stdout",
     "output_type": "stream",
     "text": [
      "- Frecuencia:  704\n",
      "- Porcentaje:  1.5640968673628082 %\n"
     ]
    }
   ],
   "source": [
    "print( \"- Frecuencia: \", wordFreq(text5, \"lol\") )\n",
    "print( \"- Porcentaje: \", percentage(text5, \"lol\") ,\"%\" )"
   ]
  },
  {
   "attachments": {},
   "cell_type": "markdown",
   "metadata": {},
   "source": [
    "### Distribución de frecuencias"
   ]
  },
  {
   "attachments": {},
   "cell_type": "markdown",
   "metadata": {},
   "source": [
    "* <p> <kbd>Hapax:</kbd> Palabra que sólo aparece una vez en el texto</p>"
   ]
  },
  {
   "cell_type": "code",
   "execution_count": 14,
   "metadata": {},
   "outputs": [
    {
     "data": {
      "text/plain": [
       "['yoking',\n",
       " 'youngest',\n",
       " 'youngish',\n",
       " 'yourselbs',\n",
       " 'zag',\n",
       " 'zay',\n",
       " 'zephyr',\n",
       " 'zig',\n",
       " 'zoned',\n",
       " 'zoology']"
      ]
     },
     "execution_count": 14,
     "metadata": {},
     "output_type": "execute_result"
    }
   ],
   "source": [
    "fdist1 = FreqDist(text1)\n",
    "hapaxSet = fdist1.hapaxes()\n",
    "hapaxSetOrdenado = sorted(hapaxSet)\n",
    "hapaxSetOrdenado[-10:]"
   ]
  },
  {
   "cell_type": "markdown",
   "metadata": {},
   "source": [
    "### Selección más específica de palabras"
   ]
  },
  {
   "cell_type": "code",
   "execution_count": 15,
   "metadata": {},
   "outputs": [
    {
     "data": {
      "text/plain": [
       "['circumnavigating',\n",
       " 'uncomfortableness',\n",
       " 'superstitiousness',\n",
       " 'Physiognomically',\n",
       " 'characteristically',\n",
       " 'responsibilities',\n",
       " 'preternaturalness',\n",
       " 'uncompromisedness',\n",
       " 'irresistibleness',\n",
       " 'comprehensiveness',\n",
       " 'undiscriminating',\n",
       " 'apprehensiveness',\n",
       " 'subterraneousness',\n",
       " 'circumnavigation',\n",
       " 'simultaneousness',\n",
       " 'physiognomically',\n",
       " 'circumnavigations',\n",
       " 'cannibalistically',\n",
       " 'indispensableness',\n",
       " 'supernaturalness',\n",
       " 'CIRCUMNAVIGATION',\n",
       " 'indiscriminately',\n",
       " 'uninterpenetratingly',\n",
       " 'hermaphroditical']"
      ]
     },
     "execution_count": 15,
     "metadata": {},
     "output_type": "execute_result"
    }
   ],
   "source": [
    "V = set(text1)\n",
    "long_words = [w for w in V if len(w)>15]\n",
    "long_words"
   ]
  },
  {
   "attachments": {},
   "cell_type": "markdown",
   "metadata": {},
   "source": [
    "### Colocaciones y bi-gramas\n",
    "<p> Una colocación es una expresión consistiendo de una o más palabras que corresponden a alguna forma convencional de decir las cosas. (ejemplos del uso de una palabra)"
   ]
  },
  {
   "cell_type": "code",
   "execution_count": 16,
   "metadata": {},
   "outputs": [
    {
     "name": "stdout",
     "output_type": "stream",
     "text": [
      "Sperm Whale; Moby Dick; White Whale; old man; Captain Ahab; sperm\n",
      "whale; Right Whale; Captain Peleg; New Bedford; Cape Horn; cried Ahab;\n",
      "years ago; lower jaw; never mind; Father Mapple; cried Stubb; chief\n",
      "mate; white whale; ivory leg; one hand\n"
     ]
    }
   ],
   "source": [
    "text1.collocations()"
   ]
  },
  {
   "cell_type": "code",
   "execution_count": 17,
   "metadata": {},
   "outputs": [
    {
     "data": {
      "text/plain": [
       "[('more', 'is'), ('is', 'said'), ('said', 'than'), ('than', 'done')]"
      ]
     },
     "execution_count": 17,
     "metadata": {},
     "output_type": "execute_result"
    }
   ],
   "source": [
    "list(bigrams(['more', 'is', 'said', 'than', 'done']))"
   ]
  },
  {
   "cell_type": "markdown",
   "metadata": {},
   "source": [
    "### Contando otras cosas"
   ]
  },
  {
   "cell_type": "code",
   "execution_count": 18,
   "metadata": {},
   "outputs": [
    {
     "name": "stdout",
     "output_type": "stream",
     "text": [
      "<FreqDist with 19 samples and 260819 outcomes>\n",
      "dict_keys([1, 4, 2, 6, 8, 9, 11, 5, 7, 3, 10, 12, 13, 14, 16, 15, 17, 18, 20])\n"
     ]
    },
    {
     "data": {
      "image/png": "[encoded data removed]",
      "text/plain": [
       "<Figure size 640x480 with 1 Axes>"
      ]
     },
     "metadata": {},
     "output_type": "display_data"
    },
    {
     "data": {
      "text/plain": [
       "<AxesSubplot: xlabel='Samples', ylabel='Counts'>"
      ]
     },
     "execution_count": 18,
     "metadata": {},
     "output_type": "execute_result"
    }
   ],
   "source": [
    "setOfLengths = [len(w) for w in text1]\n",
    "fdist = FreqDist(setOfLengths)\n",
    "print(fdist)\n",
    "print(fdist.keys())\n",
    "fdist.plot(cumulative = False)"
   ]
  },
  {
   "attachments": {},
   "cell_type": "markdown",
   "metadata": {},
   "source": [
    "### Implicación textual\n",
    "Yahoo adquirió Overture = Yahoo posee Overture"
   ]
  }
 ],
 "metadata": {
  "kernelspec": {
   "display_name": "Python 3",
   "language": "python",
   "name": "python3"
  },
  "language_info": {
   "codemirror_mode": {
    "name": "ipython",
    "version": 3
   },
   "file_extension": ".py",
   "mimetype": "text/x-python",
   "name": "python",
   "nbconvert_exporter": "python",
   "pygments_lexer": "ipython3",
   "version": "3.11.2"
  },
  "orig_nbformat": 4,
  "vscode": {
   "interpreter": {
    "hash": "36d8014425df087c299dae688a2df59daa7f4b005992d2496cc7a95dceb622c7"
   }
  }
 },
 "nbformat": 4,
 "nbformat_minor": 2
}
