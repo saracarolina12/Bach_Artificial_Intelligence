{
 "cells": [
  {
   "cell_type": "code",
   "execution_count": 2,
   "metadata": {},
   "outputs": [],
   "source": [
    "import os\n",
    "# os.startfile(\"EXE\\\\HelloWorld\") #\n",
    "os.startfile(\"sdk\\\\Sudoku.xlsx\")"
   ]
  }
 ],
 "metadata": {
  "kernelspec": {
   "display_name": "Python 3.8.0 32-bit",
   "language": "python",
   "name": "python3"
  },
  "language_info": {
   "codemirror_mode": {
    "name": "ipython",
    "version": 3
   },
   "file_extension": ".py",
   "mimetype": "text/x-python",
   "name": "python",
   "nbconvert_exporter": "python",
   "pygments_lexer": "ipython3",
   "version": "3.8.0"
  },
  "orig_nbformat": 4,
  "vscode": {
   "interpreter": {
    "hash": "8c35cf7207c93cfde9b5fb6a4f51b6c547077b8fcbf36c11645415366e8e0936"
   }
  }
 },
 "nbformat": 4,
 "nbformat_minor": 2
}
