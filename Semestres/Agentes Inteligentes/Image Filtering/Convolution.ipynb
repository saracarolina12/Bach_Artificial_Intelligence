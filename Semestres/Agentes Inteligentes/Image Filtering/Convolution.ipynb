{
 "cells": [
  {
   "cell_type": "code",
   "execution_count": 1,
   "metadata": {},
   "outputs": [],
   "source": [
    "import matplotlib.pyplot as plt\n",
    "import numpy as np\n",
    "import cv2"
   ]
  },
  {
   "cell_type": "code",
   "execution_count": null,
   "metadata": {},
   "outputs": [],
   "source": [
    "def within_image(img, coor):\n",
    "    return coor[0] >= 0 and coor[0] < img.shape[0] and coor[1] >= 0 and coor[1] < img.shape[1]"
   ]
  },
  {
   "cell_type": "code",
   "execution_count": null,
   "metadata": {},
   "outputs": [],
   "source": [
    "def structural_array(structural_element, origin):\n",
    "    c = []\n",
    "    for i in range(structural_element.shape[0]):\n",
    "        for j in range(structural_element.shape[1]):\n",
    "            c.append((np.subtract([i,j], origin)), structural_element[i,j])\n",
    "    return c"
   ]
  },
  {
   "cell_type": "code",
   "execution_count": null,
   "metadata": {},
   "outputs": [],
   "source": [
    "def filter2d(img, struct_array):\n",
    "    nImg = img.copy()\n",
    "    h,w = img.shape\n",
    "    for i in range(h):\n",
    "        for j in range(w):\n",
    "            newValue = 0\n",
    "            for c in struct_array:\n",
    "                u = np.add([i,j], c[0])\n",
    "                if within_image(img, u):\n",
    "                    newValue += c[1]* img[i,j] #Doesn't work for borders yet\n",
    "            nImg[i, j] = newValue == struct_array.shape[0] \n",
    "    return nImg"
   ]
  },
  {
   "cell_type": "code",
   "execution_count": null,
   "metadata": {},
   "outputs": [],
   "source": []
  },
  {
   "cell_type": "markdown",
   "metadata": {},
   "source": [
    "# different approach"
   ]
  },
  {
   "cell_type": "code",
   "execution_count": 5,
   "metadata": {},
   "outputs": [
    {
     "name": "stdout",
     "output_type": "stream",
     "text": [
      "0.0\n"
     ]
    }
   ],
   "source": [
    "#def convolution(image, filter): #filter = structural element\n",
    "\n",
    "print( np.sum(np.dot(np.zeros((3,3)),np.ones((3,3)))) )"
   ]
  },
  {
   "cell_type": "markdown",
   "metadata": {},
   "source": [
    "#### Codeforces problem\n",
    "Given a point in a matrix (the image in this case), you have to tell wether a nxn filter fits (i.e. every pixel has a matching one under the filter belonging to the matrix).\n",
    "- n is an odd number <= matrix size\n",
    "- You can assume that the origin of the filter is the center"
   ]
  },
  {
   "cell_type": "code",
   "execution_count": null,
   "metadata": {},
   "outputs": [],
   "source": [
    "def filterOverflows(mSize, point, fSize):\n",
    "    "
   ]
  },
  {
   "cell_type": "markdown",
   "metadata": {},
   "source": []
  }
 ],
 "metadata": {
  "kernelspec": {
   "display_name": "Python 3.8.0 32-bit",
   "language": "python",
   "name": "python3"
  },
  "language_info": {
   "codemirror_mode": {
    "name": "ipython",
    "version": 3
   },
   "file_extension": ".py",
   "mimetype": "text/x-python",
   "name": "python",
   "nbconvert_exporter": "python",
   "pygments_lexer": "ipython3",
   "version": "3.8.0"
  },
  "orig_nbformat": 4,
  "vscode": {
   "interpreter": {
    "hash": "8c35cf7207c93cfde9b5fb6a4f51b6c547077b8fcbf36c11645415366e8e0936"
   }
  }
 },
 "nbformat": 4,
 "nbformat_minor": 2
}
