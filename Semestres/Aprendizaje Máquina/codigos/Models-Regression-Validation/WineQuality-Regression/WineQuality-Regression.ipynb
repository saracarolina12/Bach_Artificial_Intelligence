{
 "cells": [
  {
   "cell_type": "code",
   "execution_count": 26,
   "id": "23229168",
   "metadata": {},
   "outputs": [],
   "source": [
    "import numpy as np\n",
    "import pandas as pd\n",
    "import matplotlib.pyplot as plt\n",
    "\n",
    "# Training and testing sets\n",
    "from sklearn.model_selection import train_test_split\n",
    "from sklearn.model_selection import KFold\n",
    "\n",
    "# Regression models\n",
    "from sklearn.linear_model import LinearRegression\n",
    "from sklearn.ensemble import RandomForestRegressor\n",
    "from sklearn.neural_network import MLPRegressor\n",
    "\n",
    "# Metrics\n",
    "from sklearn.metrics import mean_absolute_error, mean_squared_error\n",
    "from sklearn.metrics import r2_score\n",
    "from scipy.stats import pearsonr"
   ]
  },
  {
   "cell_type": "code",
   "execution_count": 27,
   "id": "380078d4",
   "metadata": {},
   "outputs": [
    {
     "data": {
      "text/html": [
       "<div>\n",
       "<style scoped>\n",
       "    .dataframe tbody tr th:only-of-type {\n",
       "        vertical-align: middle;\n",
       "    }\n",
       "\n",
       "    .dataframe tbody tr th {\n",
       "        vertical-align: top;\n",
       "    }\n",
       "\n",
       "    .dataframe thead th {\n",
       "        text-align: right;\n",
       "    }\n",
       "</style>\n",
       "<table border=\"1\" class=\"dataframe\">\n",
       "  <thead>\n",
       "    <tr style=\"text-align: right;\">\n",
       "      <th></th>\n",
       "      <th>fixed acidity</th>\n",
       "      <th>volatile acidity</th>\n",
       "      <th>citric acid</th>\n",
       "      <th>residual sugar</th>\n",
       "      <th>chlorides</th>\n",
       "      <th>free sulfur dioxide</th>\n",
       "      <th>total sulfur dioxide</th>\n",
       "      <th>density</th>\n",
       "      <th>pH</th>\n",
       "      <th>sulphates</th>\n",
       "      <th>alcohol</th>\n",
       "      <th>quality</th>\n",
       "    </tr>\n",
       "  </thead>\n",
       "  <tbody>\n",
       "    <tr>\n",
       "      <th>0</th>\n",
       "      <td>7.4</td>\n",
       "      <td>0.700</td>\n",
       "      <td>0.00</td>\n",
       "      <td>1.9</td>\n",
       "      <td>0.076</td>\n",
       "      <td>11.0</td>\n",
       "      <td>34.0</td>\n",
       "      <td>0.99780</td>\n",
       "      <td>3.51</td>\n",
       "      <td>0.56</td>\n",
       "      <td>9.4</td>\n",
       "      <td>5</td>\n",
       "    </tr>\n",
       "    <tr>\n",
       "      <th>1</th>\n",
       "      <td>7.8</td>\n",
       "      <td>0.880</td>\n",
       "      <td>0.00</td>\n",
       "      <td>2.6</td>\n",
       "      <td>0.098</td>\n",
       "      <td>25.0</td>\n",
       "      <td>67.0</td>\n",
       "      <td>0.99680</td>\n",
       "      <td>3.20</td>\n",
       "      <td>0.68</td>\n",
       "      <td>9.8</td>\n",
       "      <td>5</td>\n",
       "    </tr>\n",
       "    <tr>\n",
       "      <th>2</th>\n",
       "      <td>7.8</td>\n",
       "      <td>0.760</td>\n",
       "      <td>0.04</td>\n",
       "      <td>2.3</td>\n",
       "      <td>0.092</td>\n",
       "      <td>15.0</td>\n",
       "      <td>54.0</td>\n",
       "      <td>0.99700</td>\n",
       "      <td>3.26</td>\n",
       "      <td>0.65</td>\n",
       "      <td>9.8</td>\n",
       "      <td>5</td>\n",
       "    </tr>\n",
       "    <tr>\n",
       "      <th>3</th>\n",
       "      <td>11.2</td>\n",
       "      <td>0.280</td>\n",
       "      <td>0.56</td>\n",
       "      <td>1.9</td>\n",
       "      <td>0.075</td>\n",
       "      <td>17.0</td>\n",
       "      <td>60.0</td>\n",
       "      <td>0.99800</td>\n",
       "      <td>3.16</td>\n",
       "      <td>0.58</td>\n",
       "      <td>9.8</td>\n",
       "      <td>6</td>\n",
       "    </tr>\n",
       "    <tr>\n",
       "      <th>4</th>\n",
       "      <td>7.4</td>\n",
       "      <td>0.700</td>\n",
       "      <td>0.00</td>\n",
       "      <td>1.9</td>\n",
       "      <td>0.076</td>\n",
       "      <td>11.0</td>\n",
       "      <td>34.0</td>\n",
       "      <td>0.99780</td>\n",
       "      <td>3.51</td>\n",
       "      <td>0.56</td>\n",
       "      <td>9.4</td>\n",
       "      <td>5</td>\n",
       "    </tr>\n",
       "    <tr>\n",
       "      <th>...</th>\n",
       "      <td>...</td>\n",
       "      <td>...</td>\n",
       "      <td>...</td>\n",
       "      <td>...</td>\n",
       "      <td>...</td>\n",
       "      <td>...</td>\n",
       "      <td>...</td>\n",
       "      <td>...</td>\n",
       "      <td>...</td>\n",
       "      <td>...</td>\n",
       "      <td>...</td>\n",
       "      <td>...</td>\n",
       "    </tr>\n",
       "    <tr>\n",
       "      <th>1594</th>\n",
       "      <td>6.2</td>\n",
       "      <td>0.600</td>\n",
       "      <td>0.08</td>\n",
       "      <td>2.0</td>\n",
       "      <td>0.090</td>\n",
       "      <td>32.0</td>\n",
       "      <td>44.0</td>\n",
       "      <td>0.99490</td>\n",
       "      <td>3.45</td>\n",
       "      <td>0.58</td>\n",
       "      <td>10.5</td>\n",
       "      <td>5</td>\n",
       "    </tr>\n",
       "    <tr>\n",
       "      <th>1595</th>\n",
       "      <td>5.9</td>\n",
       "      <td>0.550</td>\n",
       "      <td>0.10</td>\n",
       "      <td>2.2</td>\n",
       "      <td>0.062</td>\n",
       "      <td>39.0</td>\n",
       "      <td>51.0</td>\n",
       "      <td>0.99512</td>\n",
       "      <td>3.52</td>\n",
       "      <td>0.76</td>\n",
       "      <td>11.2</td>\n",
       "      <td>6</td>\n",
       "    </tr>\n",
       "    <tr>\n",
       "      <th>1596</th>\n",
       "      <td>6.3</td>\n",
       "      <td>0.510</td>\n",
       "      <td>0.13</td>\n",
       "      <td>2.3</td>\n",
       "      <td>0.076</td>\n",
       "      <td>29.0</td>\n",
       "      <td>40.0</td>\n",
       "      <td>0.99574</td>\n",
       "      <td>3.42</td>\n",
       "      <td>0.75</td>\n",
       "      <td>11.0</td>\n",
       "      <td>6</td>\n",
       "    </tr>\n",
       "    <tr>\n",
       "      <th>1597</th>\n",
       "      <td>5.9</td>\n",
       "      <td>0.645</td>\n",
       "      <td>0.12</td>\n",
       "      <td>2.0</td>\n",
       "      <td>0.075</td>\n",
       "      <td>32.0</td>\n",
       "      <td>44.0</td>\n",
       "      <td>0.99547</td>\n",
       "      <td>3.57</td>\n",
       "      <td>0.71</td>\n",
       "      <td>10.2</td>\n",
       "      <td>5</td>\n",
       "    </tr>\n",
       "    <tr>\n",
       "      <th>1598</th>\n",
       "      <td>6.0</td>\n",
       "      <td>0.310</td>\n",
       "      <td>0.47</td>\n",
       "      <td>3.6</td>\n",
       "      <td>0.067</td>\n",
       "      <td>18.0</td>\n",
       "      <td>42.0</td>\n",
       "      <td>0.99549</td>\n",
       "      <td>3.39</td>\n",
       "      <td>0.66</td>\n",
       "      <td>11.0</td>\n",
       "      <td>6</td>\n",
       "    </tr>\n",
       "  </tbody>\n",
       "</table>\n",
       "<p>1599 rows × 12 columns</p>\n",
       "</div>"
      ],
      "text/plain": [
       "      fixed acidity  volatile acidity  citric acid  residual sugar  chlorides  \\\n",
       "0               7.4             0.700         0.00             1.9      0.076   \n",
       "1               7.8             0.880         0.00             2.6      0.098   \n",
       "2               7.8             0.760         0.04             2.3      0.092   \n",
       "3              11.2             0.280         0.56             1.9      0.075   \n",
       "4               7.4             0.700         0.00             1.9      0.076   \n",
       "...             ...               ...          ...             ...        ...   \n",
       "1594            6.2             0.600         0.08             2.0      0.090   \n",
       "1595            5.9             0.550         0.10             2.2      0.062   \n",
       "1596            6.3             0.510         0.13             2.3      0.076   \n",
       "1597            5.9             0.645         0.12             2.0      0.075   \n",
       "1598            6.0             0.310         0.47             3.6      0.067   \n",
       "\n",
       "      free sulfur dioxide  total sulfur dioxide  density    pH  sulphates  \\\n",
       "0                    11.0                  34.0  0.99780  3.51       0.56   \n",
       "1                    25.0                  67.0  0.99680  3.20       0.68   \n",
       "2                    15.0                  54.0  0.99700  3.26       0.65   \n",
       "3                    17.0                  60.0  0.99800  3.16       0.58   \n",
       "4                    11.0                  34.0  0.99780  3.51       0.56   \n",
       "...                   ...                   ...      ...   ...        ...   \n",
       "1594                 32.0                  44.0  0.99490  3.45       0.58   \n",
       "1595                 39.0                  51.0  0.99512  3.52       0.76   \n",
       "1596                 29.0                  40.0  0.99574  3.42       0.75   \n",
       "1597                 32.0                  44.0  0.99547  3.57       0.71   \n",
       "1598                 18.0                  42.0  0.99549  3.39       0.66   \n",
       "\n",
       "      alcohol  quality  \n",
       "0         9.4        5  \n",
       "1         9.8        5  \n",
       "2         9.8        5  \n",
       "3         9.8        6  \n",
       "4         9.4        5  \n",
       "...       ...      ...  \n",
       "1594     10.5        5  \n",
       "1595     11.2        6  \n",
       "1596     11.0        6  \n",
       "1597     10.2        5  \n",
       "1598     11.0        6  \n",
       "\n",
       "[1599 rows x 12 columns]"
      ]
     },
     "execution_count": 27,
     "metadata": {},
     "output_type": "execute_result"
    }
   ],
   "source": [
    "df = pd.read_csv('../../datasets/winequality-red.csv') #(,sep='&') para separar datos en el csv por &\n",
    "df"
   ]
  },
  {
   "cell_type": "markdown",
   "id": "44e245d2",
   "metadata": {},
   "source": [
    "# First experiment"
   ]
  },
  {
   "cell_type": "markdown",
   "id": "a7a16e55",
   "metadata": {},
   "source": [
    "#### -Randomly divide the data into training (70%) and testing (30%) sets"
   ]
  },
  {
   "cell_type": "code",
   "execution_count": 28,
   "id": "140495cd",
   "metadata": {},
   "outputs": [
    {
     "name": "stdout",
     "output_type": "stream",
     "text": [
      "X shape:  (1599, 11) \n",
      "Y shape:  (1599,)\n",
      "Xtrain:  (1119, 11)\n",
      "Xtest:  (480,)\n"
     ]
    }
   ],
   "source": [
    "X = df.values[:,:-1]\n",
    "Y = df.values[:, -1]\n",
    "\n",
    "print(\"X shape: \",X.shape,\"\\nY shape: \",Y.shape)\n",
    "Xtrain, Xtest, Ytrain, Ytest = train_test_split(X, Y, test_size=0.30, random_state=0)\n",
    "print('Xtrain: ',Xtrain.shape)\n",
    "print('Xtest: ',Ytest.shape)"
   ]
  },
  {
   "cell_type": "markdown",
   "id": "674e8fff",
   "metadata": {},
   "source": [
    "#### - Generate three regression models: "
   ]
  },
  {
   "cell_type": "code",
   "execution_count": 29,
   "id": "eb2dba36",
   "metadata": {},
   "outputs": [
    {
     "name": "stdout",
     "output_type": "stream",
     "text": [
      "MAE: 0.48712621645928494\n",
      "MSE: 0.40078036637500924\n",
      "R2 score: 0.3207112434321877\n"
     ]
    },
    {
     "data": {
      "image/png": "[encoded data removed]",
      "text/plain": [
       "<Figure size 1080x360 with 2 Axes>"
      ]
     },
     "metadata": {
      "needs_background": "light"
     },
     "output_type": "display_data"
    }
   ],
   "source": [
    "# Lineal Regression\n",
    "model = LinearRegression()\n",
    "model.fit(Xtrain,Ytrain)\n",
    "Ypred = model.predict(Xtest)\n",
    "\n",
    "\n",
    "print('MAE:',mean_absolute_error(Ytest,Ypred)) #MAE\n",
    "print('MSE:',mean_squared_error(Ytest,Ypred)) #MSE\n",
    "print('R2 score:',r2_score(Ytest,Ypred)) #R2 score, coefficient of determination\n",
    "#Boxplot of quality and scatter plot of real and predicted outputs\n",
    "plt.figure(figsize=(15,5))\n",
    "plt.subplot(1,2,1) \n",
    "plt.boxplot([Ytest,Ypred], labels=['Test', 'Pred']) #quality\n",
    "plt.subplot(1,2,2)\n",
    "plt.scatter(Ytest,Ypred)\n",
    "plt.show()"
   ]
  },
  {
   "cell_type": "code",
   "execution_count": 30,
   "id": "42c5e628",
   "metadata": {},
   "outputs": [
    {
     "name": "stdout",
     "output_type": "stream",
     "text": [
      "MAE: 0.43652083333333336\n",
      "MSE: 0.3536022916666666\n",
      "R2 score: 0.4006740819209039\n"
     ]
    },
    {
     "data": {
      "image/png": "[encoded data removed]",
      "text/plain": [
       "<Figure size 1080x360 with 2 Axes>"
      ]
     },
     "metadata": {
      "needs_background": "light"
     },
     "output_type": "display_data"
    }
   ],
   "source": [
    "# Random Forest\n",
    "model = RandomForestRegressor(random_state=0)\n",
    "model.fit(Xtrain,Ytrain)\n",
    "Ypred = model.predict(Xtest)\n",
    "\n",
    "print('MAE:',mean_absolute_error(Ytest,Ypred)) #MAE\n",
    "print('MSE:',mean_squared_error(Ytest,Ypred)) #MSE\n",
    "print('R2 score:',r2_score(Ytest,Ypred)) #R2 score, coefficient of determination\n",
    "#Boxplot of quality and scatter plot of real and predicted outputs\n",
    "plt.figure(figsize=(15,5))\n",
    "plt.subplot(1,2,1) \n",
    "plt.boxplot([Ytest,Ypred], labels=['Test', 'Pred']) #quality\n",
    "plt.subplot(1,2,2)\n",
    "plt.scatter(Ytest,Ypred)\n",
    "plt.show()"
   ]
  },
  {
   "cell_type": "code",
   "execution_count": 31,
   "id": "7d34f4fb",
   "metadata": {},
   "outputs": [
    {
     "name": "stdout",
     "output_type": "stream",
     "text": [
      "MAE: 0.5438516464356041\n",
      "MSE: 0.4550963050367231\n",
      "R2 score: 0.22865033044623195\n"
     ]
    },
    {
     "data": {
      "image/png": "[encoded data removed]",
      "text/plain": [
       "<Figure size 1080x360 with 2 Axes>"
      ]
     },
     "metadata": {
      "needs_background": "light"
     },
     "output_type": "display_data"
    }
   ],
   "source": [
    "# MultiLayer Perceptron\n",
    "model = MLPRegressor(random_state=0)\n",
    "model.fit(Xtrain,Ytrain)\n",
    "Ypred = model.predict(Xtest)\n",
    "\n",
    "print('MAE:',mean_absolute_error(Ytest,Ypred)) #MAE\n",
    "print('MSE:',mean_squared_error(Ytest,Ypred)) #MSE\n",
    "print('R2 score:',r2_score(Ytest,Ypred)) #R2 score, coefficient of determination\n",
    "#Boxplot of quality and scatter plot of real and predicted outputs\n",
    "plt.figure(figsize=(15,5))\n",
    "plt.subplot(1,2,1) \n",
    "plt.boxplot([Ytest,Ypred], labels=['Test', 'Pred']) #quality\n",
    "plt.subplot(1,2,2)\n",
    "plt.scatter(Ytest,Ypred)\n",
    "plt.show()"
   ]
  },
  {
   "cell_type": "markdown",
   "id": "c155f2e5",
   "metadata": {},
   "source": [
    "# Second Experiment"
   ]
  },
  {
   "cell_type": "markdown",
   "id": "8b7892e9",
   "metadata": {},
   "source": [
    "#### - Randomly divide the data into 5 splits using K-fold"
   ]
  },
  {
   "cell_type": "code",
   "execution_count": 32,
   "id": "04186cd5",
   "metadata": {},
   "outputs": [],
   "source": [
    "kf = KFold(n_splits=5, random_state=0, shuffle=True)"
   ]
  },
  {
   "cell_type": "markdown",
   "id": "45c0a465",
   "metadata": {},
   "source": [
    "#### - For each iteration:\n",
    "    - Create three models: \n",
    "        *Linear Regression\n",
    "        *Random Forest\n",
    "        *MultiLayer Perceptron\n",
    "    - Calculate and save for each model the R2 score"
   ]
  },
  {
   "cell_type": "code",
   "execution_count": 33,
   "id": "5b8e84d0",
   "metadata": {},
   "outputs": [],
   "source": [
    "resLineal, resRand, resMulti = [],[],[]\n",
    "for train_idx, test_idx in kf.split(X): #aquí verdaderamente hace split\n",
    "    Xtrain, Ytrain = X[train_idx,:], Y[train_idx]\n",
    "    Xtest, Ytest = X[test_idx,:], Y[test_idx]\n",
    "    #Linear Regression\n",
    "    model = LinearRegression()\n",
    "    model.fit(Xtrain,Ytrain)\n",
    "    Ypred = model.predict(Xtest)\n",
    "    resLineal.append(r2_score(Ytest,Ypred))\n",
    "    #Random Forest\n",
    "    model = RandomForestRegressor(random_state=0)\n",
    "    model.fit(Xtrain,Ytrain)\n",
    "    Ypred = model.predict(Xtest)\n",
    "    resRand.append(r2_score(Ytest,Ypred))\n",
    "    #MultiLayer Perceptron\n",
    "    model = MLPRegressor(random_state=0)\n",
    "    model.fit(Xtrain,Ytrain)\n",
    "    Ypred = model.predict(Xtest)\n",
    "    resMulti.append(r2_score(Ytest,Ypred))"
   ]
  },
  {
   "cell_type": "markdown",
   "id": "99d7baa7",
   "metadata": {},
   "source": [
    "#### - Generate a visualization with three boxplots (each one per type of model) showing the values of R2 score"
   ]
  },
  {
   "cell_type": "code",
   "execution_count": 34,
   "id": "940f9d0e",
   "metadata": {},
   "outputs": [
    {
     "data": {
      "image/png": "[encoded data removed]",
      "text/plain": [
       "<Figure size 360x360 with 1 Axes>"
      ]
     },
     "metadata": {
      "needs_background": "light"
     },
     "output_type": "display_data"
    }
   ],
   "source": [
    "plt.figure(figsize=(5,5))\n",
    "plt.boxplot([resLineal, resRand, resMulti], labels=['Lineal', 'Random Forest', 'MultiLayer']) #quality\n",
    "plt.show()"
   ]
  },
  {
   "cell_type": "markdown",
   "id": "c1b16efe",
   "metadata": {},
   "source": [
    "### Finally, write a small paragraph analyzing the results and describing which one is the best model for this kind of data."
   ]
  },
  {
   "cell_type": "markdown",
   "id": "906696f7",
   "metadata": {},
   "source": [
    " <font size=\"3\"> First of all, we need to see that this kind of data is numerical.</font> \n",
    " \n",
    " <font size=\"3\"> We can see that as the data type is numerical, the results are not that good. For example, the mean error in both (mean absolute and mean square) is kind of high (this in the three models)</font> \n",
    " \n",
    "  <font size=\"3\"> Despite this, we can clearly see that the model that seems to have better results, is the 'Random Forest'. If we compare it with the other two models, we can realize that it has a better response in its predictions.</font>\n",
    "  \n",
    "  <font size=\"3\"> The Multilayer seems to have almost a 0 in its r2 score after de 5 splits, this means it hasn't a good coefficient of determination and though the random forest is not that close to the 1 in its r2 (which would tell as that it has really good results),is the one that closest to it.</font>"
   ]
  }
 ],
 "metadata": {
  "kernelspec": {
   "display_name": "Python 3 (ipykernel)",
   "language": "python",
   "name": "python3"
  },
  "language_info": {
   "codemirror_mode": {
    "name": "ipython",
    "version": 3
   },
   "file_extension": ".py",
   "mimetype": "text/x-python",
   "name": "python",
   "nbconvert_exporter": "python",
   "pygments_lexer": "ipython3",
   "version": "3.9.7"
  }
 },
 "nbformat": 4,
 "nbformat_minor": 5
}
