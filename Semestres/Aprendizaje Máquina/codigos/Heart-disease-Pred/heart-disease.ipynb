{
 "cells": [
  {
   "cell_type": "code",
   "execution_count": 267,
   "id": "91c6a4e2",
   "metadata": {},
   "outputs": [],
   "source": [
    "import numpy as np\n",
    "import pandas\n",
    "import matplotlib.pyplot as plt\n",
    "# Classifiers\n",
    "from sklearn.tree import DecisionTreeClassifier\n",
    "from sklearn.linear_model import LogisticRegression\n",
    "from sklearn.naive_bayes import GaussianNB\n",
    "# Training and testing sets\n",
    "from sklearn.model_selection import train_test_split\n",
    "# Metrics\n",
    "from sklearn.metrics import mean_absolute_error,accuracy_score, f1_score, confusion_matrix\n",
    "# Dimensionality Reduction\n",
    "from sklearn.decomposition import PCA\n",
    "from sklearn.discriminant_analysis import LinearDiscriminantAnalysis\n",
    "\n",
    "# Print color\n",
    "class bcolors:\n",
    "    HEADER = '\\033[95m'\n",
    "    OKBLUE = '\\033[94m'\n",
    "    OKCYAN = '\\033[96m'\n",
    "    OKGREEN = '\\033[92m'\n",
    "    WARNING = '\\033[93m'\n",
    "    FAIL = '\\033[91m'\n",
    "    ENDC = '\\033[0m'\n",
    "    BOLD = '\\033[1m'\n",
    "    UNDERLINE = '\\033[4m'"
   ]
  },
  {
   "cell_type": "markdown",
   "id": "840bed97",
   "metadata": {},
   "source": [
    "### Read data (csv)"
   ]
  },
  {
   "cell_type": "code",
   "execution_count": 268,
   "id": "6aa2e514",
   "metadata": {},
   "outputs": [],
   "source": [
    "data = pandas.read_csv('heart_disease_data.csv')\n",
    "data\n",
    "X = data.values[:,:-1] #other columns\n",
    "Y = data.values[:, -1] #target"
   ]
  },
  {
   "cell_type": "markdown",
   "id": "dc57e453",
   "metadata": {},
   "source": [
    "### Stadistics"
   ]
  },
  {
   "cell_type": "code",
   "execution_count": 269,
   "id": "39c6df90",
   "metadata": {},
   "outputs": [
    {
     "data": {
      "text/plain": [
       "count    303.000000\n",
       "mean       0.544554\n",
       "std        0.498835\n",
       "min        0.000000\n",
       "25%        0.000000\n",
       "50%        1.000000\n",
       "75%        1.000000\n",
       "max        1.000000\n",
       "Name: target, dtype: float64"
      ]
     },
     "execution_count": 269,
     "metadata": {},
     "output_type": "execute_result"
    }
   ],
   "source": [
    "data['target'].describe()\n",
    "# for col in data:\n",
    "#     print(data[col].describe(),\"\\n\")"
   ]
  },
  {
   "cell_type": "code",
   "execution_count": 270,
   "id": "caf9c1da",
   "metadata": {},
   "outputs": [
    {
     "data": {
      "text/plain": [
       "1    165\n",
       "0    138\n",
       "Name: target, dtype: int64"
      ]
     },
     "execution_count": 270,
     "metadata": {},
     "output_type": "execute_result"
    }
   ],
   "source": [
    "# target(1: have a heart disease, 0: no heart disease)\n",
    "data['target'].value_counts() #165 do have a heart disease"
   ]
  },
  {
   "cell_type": "markdown",
   "id": "f30b99f4",
   "metadata": {},
   "source": [
    "### Correlation "
   ]
  },
  {
   "cell_type": "code",
   "execution_count": 271,
   "id": "af19b9b4",
   "metadata": {
    "scrolled": true
   },
   "outputs": [
    {
     "name": "stdout",
     "output_type": "stream",
     "text": [
      "age: \t\t -0.22543871587483727\n",
      "sex: \t\t -0.2809365755017666\n",
      "cp: \t\t 0.4337982615068934\n",
      "trestbps: \t\t -0.14493112849775147\n",
      "chol: \t\t -0.08523910513756904\n",
      "fbs: \t\t -0.028045760272712827\n",
      "restecg: \t\t 0.13722950287377336\n",
      "thalach: \t\t 0.42174093381067435\n",
      "exang: \t\t -0.4367570833533018\n",
      "oldpeak: \t\t -0.4306960016873684\n",
      "slope: \t\t 0.34587707824172526\n",
      "ca: \t\t -0.3917239923512519\n",
      "thal: \t\t -0.3440292680383098\n",
      "target: \t\t 1.0\n"
     ]
    }
   ],
   "source": [
    "for col in data:\n",
    "    print(col+\": \\t\\t\", data[col].corr(data['target']))"
   ]
  },
  {
   "cell_type": "markdown",
   "id": "0113a5bf",
   "metadata": {},
   "source": [
    "### Dimensionality Reduction (LDA)"
   ]
  },
  {
   "cell_type": "code",
   "execution_count": 272,
   "id": "733e578f",
   "metadata": {},
   "outputs": [],
   "source": [
    "# modelPCA = PCA()\n",
    "# X = modelPCA.fit_transform(X)\n",
    "\n",
    "#modelLDA = LinearDiscriminantAnalysis()\n",
    "#X = modelLDA.fit_transform(X,Y)"
   ]
  },
  {
   "cell_type": "markdown",
   "id": "4e5881e9",
   "metadata": {},
   "source": [
    "### Train (70% train, 30% test)"
   ]
  },
  {
   "cell_type": "code",
   "execution_count": 273,
   "id": "f2e57999",
   "metadata": {},
   "outputs": [
    {
     "name": "stdout",
     "output_type": "stream",
     "text": [
      "*X shape:  (303, 13)  *Y shape:  (303,)\n",
      "*Xtrain:  (212, 13)   *Xtest:  (91,)\n"
     ]
    }
   ],
   "source": [
    "X = data.values[:,:-1] #other columns\n",
    "Y = data.values[:, -1] #target\n",
    "print(\"*X shape: \",X.shape,\" *Y shape: \",Y.shape)\n",
    "Xtrain, Xtest, Ytrain, Ytest = train_test_split(X, Y, test_size=0.30, random_state=0)\n",
    "print('*Xtrain: ',Xtrain.shape,'  *Xtest: ',Ytest.shape)"
   ]
  },
  {
   "cell_type": "markdown",
   "id": "c6b6d23e",
   "metadata": {},
   "source": [
    "### Decision Tree"
   ]
  },
  {
   "cell_type": "code",
   "execution_count": 274,
   "id": "739a2418",
   "metadata": {},
   "outputs": [
    {
     "name": "stdout",
     "output_type": "stream",
     "text": [
      "test:  [0. 1. 0. 0. 1. 0. 0. 0. 0. 0. 1. 1. 0. 1. 1. 1. 1. 1. 0. 1. 1. 0. 0. 0.\n",
      " 1. 0. 0. 0. 1. 1. 0. 0. 1. 1. 1. 0. 0. 1. 0. 0. 1. 1. 1. 0. 1. 1. 1. 0.\n",
      " 0. 1. 1. 1. 1. 1. 1. 0. 1. 0. 1. 1. 1. 1. 1. 1. 0. 0. 0. 0. 1. 1. 1. 1.\n",
      " 1. 0. 0. 1. 0. 0. 1. 1. 0. 0. 0. 1. 0. 0. 0. 0. 1. 0. 0.]\n",
      "\n",
      "pred:  [0. 0. 1. 0. 0. 0. 0. 0. 0. 0. 1. 1. 0. 1. 1. 1. 0. 1. 0. 0. 1. 0. 0. 0.\n",
      " 1. 1. 0. 0. 0. 1. 0. 0. 1. 1. 1. 1. 0. 1. 0. 0. 1. 0. 1. 0. 1. 0. 0. 1.\n",
      " 0. 1. 1. 1. 1. 1. 1. 0. 1. 1. 1. 1. 1. 1. 0. 1. 1. 1. 1. 0. 1. 1. 0. 1.\n",
      " 0. 0. 0. 1. 0. 0. 1. 1. 0. 0. 0. 1. 0. 1. 0. 1. 0. 1. 0.]\n",
      "-----------------------------------------------------------------------------------------------------------------------------\n",
      "--> Accuracy: 0.7472527472527473\n",
      "--> F1: 0.7526881720430109\n"
     ]
    }
   ],
   "source": [
    "model = DecisionTreeClassifier(random_state=0)\n",
    "model.fit(Xtrain,Ytrain)\n",
    "Ypred = model.predict(Xtest)\n",
    "print(\"test: \",Ytest)\n",
    "print(\"\\npred: \",Ypred)\n",
    "print(\"-----------------------------------------------------------------------------------------------------------------------------\")\n",
    "print('--> Accuracy:', accuracy_score(Ytest,Ypred))\n",
    "print('--> F1:', f1_score(Ytest,Ypred)) "
   ]
  },
  {
   "cell_type": "markdown",
   "id": "8dca4e9a",
   "metadata": {},
   "source": [
    "### Naives Bayes"
   ]
  },
  {
   "cell_type": "code",
   "execution_count": 275,
   "id": "312371e9",
   "metadata": {},
   "outputs": [
    {
     "name": "stdout",
     "output_type": "stream",
     "text": [
      "test:  [0. 1. 0. 0. 1. 0. 0. 0. 0. 0. 1. 1. 0. 1. 1. 1. 1. 1. 0. 1. 1. 0. 0. 0.\n",
      " 1. 0. 0. 0. 1. 1. 0. 0. 1. 1. 1. 0. 0. 1. 0. 0. 1. 1. 1. 0. 1. 1. 1. 0.\n",
      " 0. 1. 1. 1. 1. 1. 1. 0. 1. 0. 1. 1. 1. 1. 1. 1. 0. 0. 0. 0. 1. 1. 1. 1.\n",
      " 1. 0. 0. 1. 0. 0. 1. 1. 0. 0. 0. 1. 0. 0. 0. 0. 1. 0. 0.]\n",
      "\n",
      "pred:  [0. 1. 1. 0. 0. 1. 0. 0. 0. 0. 1. 1. 0. 1. 1. 1. 0. 1. 0. 1. 1. 1. 0. 0.\n",
      " 1. 0. 0. 1. 1. 1. 0. 0. 1. 1. 1. 0. 0. 1. 0. 0. 1. 1. 0. 0. 1. 1. 1. 1.\n",
      " 0. 1. 1. 1. 1. 1. 1. 0. 1. 1. 1. 1. 1. 1. 1. 1. 1. 1. 1. 0. 1. 1. 1. 1.\n",
      " 1. 0. 0. 1. 0. 1. 1. 0. 0. 0. 0. 0. 0. 1. 0. 1. 0. 0. 0.]\n",
      "-----------------------------------------------------------------------------------------------------------------------------\n",
      "--> Accuracy: 0.8021978021978022\n",
      "--> F1: 0.8200000000000001\n"
     ]
    }
   ],
   "source": [
    "model = GaussianNB()\n",
    "model.fit(Xtrain,Ytrain)\n",
    "Ypred = model.predict(Xtest)\n",
    "print(\"test: \",Ytest)\n",
    "print(\"\\npred: \",Ypred)\n",
    "print(\"-----------------------------------------------------------------------------------------------------------------------------\")\n",
    "print('--> Accuracy:', accuracy_score(Ytest,Ypred))\n",
    "print('--> F1:', f1_score(Ytest,Ypred)) "
   ]
  },
  {
   "cell_type": "markdown",
   "id": "46fe0363",
   "metadata": {},
   "source": [
    "### Logistic Regression\n",
    "#####  -Input: continuous\n",
    "##### -Output: discrete"
   ]
  },
  {
   "cell_type": "code",
   "execution_count": 276,
   "id": "1ef6a42b",
   "metadata": {},
   "outputs": [
    {
     "name": "stdout",
     "output_type": "stream",
     "text": [
      "test:  [0. 1. 0. 0. 1. 0. 0. 0. 0. 0. 1. 1. 0. 1. 1. 1. 1. 1. 0. 1. 1. 0. 0. 0.\n",
      " 1. 0. 0. 0. 1. 1. 0. 0. 1. 1. 1. 0. 0. 1. 0. 0. 1. 1. 1. 0. 1. 1. 1. 0.\n",
      " 0. 1. 1. 1. 1. 1. 1. 0. 1. 0. 1. 1. 1. 1. 1. 1. 0. 0. 0. 0. 1. 1. 1. 1.\n",
      " 1. 0. 0. 1. 0. 0. 1. 1. 0. 0. 0. 1. 0. 0. 0. 0. 1. 0. 0.]\n",
      "\n",
      "pred:  [0. 1. 1. 0. 0. 0. 0. 0. 0. 0. 1. 1. 0. 1. 1. 1. 0. 1. 0. 1. 1. 0. 0. 0.\n",
      " 1. 1. 0. 0. 1. 1. 1. 0. 1. 1. 1. 1. 0. 1. 0. 0. 1. 1. 0. 0. 1. 1. 1. 1.\n",
      " 0. 1. 1. 1. 1. 1. 1. 0. 1. 1. 1. 1. 1. 1. 1. 1. 1. 1. 1. 0. 1. 1. 1. 1.\n",
      " 1. 0. 0. 1. 0. 1. 1. 0. 0. 0. 0. 0. 0. 1. 0. 1. 1. 0. 0.]\n",
      "-----------------------------------------------------------------------------------------------------------------------------\n",
      "--> Accuracy: 0.8131868131868132\n",
      "--> F1: 0.8316831683168316\n"
     ]
    }
   ],
   "source": [
    "model = LogisticRegression(random_state=0, max_iter=1000)\n",
    "model.fit(Xtrain,Ytrain)\n",
    "Ypred = model.predict(Xtest)\n",
    "print(\"test: \",Ytest)\n",
    "print(\"\\npred: \",Ypred)\n",
    "print(\"-----------------------------------------------------------------------------------------------------------------------------\")\n",
    "print('--> Accuracy:', accuracy_score(Ytest,Ypred))\n",
    "print('--> F1:', f1_score(Ytest,Ypred)) "
   ]
  },
  {
   "cell_type": "markdown",
   "id": "a1f5337e",
   "metadata": {},
   "source": [
    "### Predict either a pacient has or not a heart disease"
   ]
  },
  {
   "cell_type": "markdown",
   "id": "20df647f",
   "metadata": {},
   "source": [
    "##### INPUT VALUES:\n",
    "    -age\n",
    "    -sex (1 = male; 0 = female)\n",
    "    -chest pain type (0,1,2,3)\n",
    "    -resting blood pressure in mm Hg\n",
    "    -serum cholestoral in mg/dl\n",
    "    -fasting blood sugar > 120 mg/dl\n",
    "    -resting electrocardiographic results (values 0,1,2)\n",
    "    -maximum heart rate achieved\n",
    "    -exercise induced angina (1 = yes; 0 = no)\n",
    "    -oldpeak = ST depression induced by exercise relative to rest\n",
    "    -the slope of the peak exercise ST segment\n",
    "    -number of major vessels (0-3) colored by flourosopy\n",
    "    -thal: 0 = normal; 1 = fixed defect; 2 = reversable defect\n",
    "    \n",
    "    # Examples:\n",
    "        -patient who has a heart disease:    41 0 1 130 204 0 0 172 0 1.4 2 0 2\n",
    "        -patient who hasn't a heart disease: 62 0 0 140 268 0 0 160 0 3.6 0 2 2\n",
    "    # Real life examples:\n",
    "        -patient prone to heart disease:     55 1 1 180 200 0 0 180 0 1.3 2 0 2\n",
    "        -patient with no heart disease:      65 0 0 160 200 0 0 130 0 3.4 0 2 2"
   ]
  },
  {
   "cell_type": "code",
   "execution_count": 277,
   "id": "dad143f5",
   "metadata": {},
   "outputs": [
    {
     "name": "stdout",
     "output_type": "stream",
     "text": [
      "Input data: 41 0 1 130 204 0 0 172 0 1.4 2 0 2\n",
      "--> Logistic prediction:  1.0 \n",
      "\n",
      "\u001b[91m\t ** The patient has a heart disease :( **\u001b[0m\n"
     ]
    }
   ],
   "source": [
    "# Input data \n",
    "#lst = (41,0,1,130,204,0,0,172,0,1.4,2,0,2) # Disease\n",
    "#lst = (62,0,0,140,268,0,0,160,0,3.6,0,2,2) # NO disease\n",
    "\n",
    "# User input\n",
    "lst = input('Input data: ').split() #User's input\n",
    "arr = np.asarray(lst,dtype=float)\n",
    "reshaped = arr.reshape(1,-1)\n",
    "\n",
    "# Prediction\n",
    "pred = model.predict(reshaped) #Logistic Regression\n",
    "print(\"--> Logistic prediction: \",pred[0],\"\\n\")\n",
    "\n",
    "if(pred[0] == 0):\n",
    "    print(bcolors.OKBLUE+ \"\\t ** The patient does not have any heart disease :D **\" + bcolors.ENDC)\n",
    "else:\n",
    "    print(bcolors.FAIL+ \"\\t ** The patient has a heart disease :( **\" + bcolors.ENDC)"
   ]
  }
 ],
 "metadata": {
  "kernelspec": {
   "display_name": "Python 3 (ipykernel)",
   "language": "python",
   "name": "python3"
  },
  "language_info": {
   "codemirror_mode": {
    "name": "ipython",
    "version": 3
   },
   "file_extension": ".py",
   "mimetype": "text/x-python",
   "name": "python",
   "nbconvert_exporter": "python",
   "pygments_lexer": "ipython3",
   "version": "3.9.7"
  }
 },
 "nbformat": 4,
 "nbformat_minor": 5
}
