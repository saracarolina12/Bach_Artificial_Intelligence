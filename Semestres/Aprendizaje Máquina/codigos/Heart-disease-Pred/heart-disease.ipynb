{
 "cells": [
  {
   "cell_type": "code",
   "execution_count": 1,
   "id": "91c6a4e2",
   "metadata": {},
   "outputs": [],
   "source": [
    "import numpy as np\n",
    "import pandas\n",
    "import matplotlib.pyplot as plt\n",
    "import seaborn as sns\n",
    "# Classifiers\n",
    "from sklearn.tree import DecisionTreeClassifier\n",
    "from sklearn.linear_model import LogisticRegression\n",
    "from sklearn.naive_bayes import GaussianNB\n",
    "# Training and testing sets\n",
    "from sklearn.model_selection import train_test_split\n",
    "# Metrics\n",
    "from sklearn.metrics import mean_absolute_error,accuracy_score, f1_score, confusion_matrix\n",
    "# Dimensionality Reduction\n",
    "from sklearn.decomposition import PCA\n",
    "from sklearn.discriminant_analysis import LinearDiscriminantAnalysis\n",
    "\n",
    "# Print color\n",
    "class bcolors:\n",
    "    HEADER = '\\033[95m'\n",
    "    OKBLUE = '\\033[94m'\n",
    "    OKCYAN = '\\033[96m'\n",
    "    OKGREEN = '\\033[92m'\n",
    "    WARNING = '\\033[93m'\n",
    "    FAIL = '\\033[91m'\n",
    "    ENDC = '\\033[0m'\n",
    "    BOLD = '\\033[1m'\n",
    "    UNDERLINE = '\\033[4m'"
   ]
  },
  {
   "cell_type": "markdown",
   "id": "840bed97",
   "metadata": {},
   "source": [
    "### Read data (csv)"
   ]
  },
  {
   "cell_type": "code",
   "execution_count": 2,
   "id": "6aa2e514",
   "metadata": {},
   "outputs": [],
   "source": [
    "data = pandas.read_csv('heart_disease_data.csv')\n",
    "data\n",
    "X = data.values[:,:-1] #other columns\n",
    "Y = data.values[:, -1] #target"
   ]
  },
  {
   "cell_type": "markdown",
   "id": "dc57e453",
   "metadata": {},
   "source": [
    "### Stadistics"
   ]
  },
  {
   "cell_type": "code",
   "execution_count": 3,
   "id": "39c6df90",
   "metadata": {},
   "outputs": [
    {
     "data": {
      "text/plain": [
       "count    303.000000\n",
       "mean       0.544554\n",
       "std        0.498835\n",
       "min        0.000000\n",
       "25%        0.000000\n",
       "50%        1.000000\n",
       "75%        1.000000\n",
       "max        1.000000\n",
       "Name: target, dtype: float64"
      ]
     },
     "execution_count": 3,
     "metadata": {},
     "output_type": "execute_result"
    }
   ],
   "source": [
    "data['target'].describe()\n",
    "# for col in data:\n",
    "#     print(data[col].describe(),\"\\n\")"
   ]
  },
  {
   "cell_type": "code",
   "execution_count": 4,
   "id": "caf9c1da",
   "metadata": {},
   "outputs": [
    {
     "data": {
      "text/plain": [
       "1    165\n",
       "0    138\n",
       "Name: target, dtype: int64"
      ]
     },
     "execution_count": 4,
     "metadata": {},
     "output_type": "execute_result"
    }
   ],
   "source": [
    "# target(1: have a heart disease, 0: no heart disease)\n",
    "data['target'].value_counts() #165 do have a heart disease"
   ]
  },
  {
   "cell_type": "markdown",
   "id": "f30b99f4",
   "metadata": {},
   "source": [
    "### Correlation "
   ]
  },
  {
   "cell_type": "code",
   "execution_count": 5,
   "id": "d01a8896",
   "metadata": {},
   "outputs": [
    {
     "data": {
      "text/html": [
       "<div>\n",
       "<style scoped>\n",
       "    .dataframe tbody tr th:only-of-type {\n",
       "        vertical-align: middle;\n",
       "    }\n",
       "\n",
       "    .dataframe tbody tr th {\n",
       "        vertical-align: top;\n",
       "    }\n",
       "\n",
       "    .dataframe thead th {\n",
       "        text-align: right;\n",
       "    }\n",
       "</style>\n",
       "<table border=\"1\" class=\"dataframe\">\n",
       "  <thead>\n",
       "    <tr style=\"text-align: right;\">\n",
       "      <th></th>\n",
       "      <th>age</th>\n",
       "      <th>sex</th>\n",
       "      <th>cp</th>\n",
       "      <th>trestbps</th>\n",
       "      <th>chol</th>\n",
       "      <th>fbs</th>\n",
       "      <th>restecg</th>\n",
       "      <th>thalach</th>\n",
       "      <th>exang</th>\n",
       "      <th>oldpeak</th>\n",
       "      <th>slope</th>\n",
       "      <th>ca</th>\n",
       "      <th>thal</th>\n",
       "      <th>target</th>\n",
       "    </tr>\n",
       "  </thead>\n",
       "  <tbody>\n",
       "    <tr>\n",
       "      <th>age</th>\n",
       "      <td>1.00</td>\n",
       "      <td>0.10</td>\n",
       "      <td>0.07</td>\n",
       "      <td>0.28</td>\n",
       "      <td>0.21</td>\n",
       "      <td>0.12</td>\n",
       "      <td>0.12</td>\n",
       "      <td>0.40</td>\n",
       "      <td>0.10</td>\n",
       "      <td>0.21</td>\n",
       "      <td>0.17</td>\n",
       "      <td>0.28</td>\n",
       "      <td>0.07</td>\n",
       "      <td>0.23</td>\n",
       "    </tr>\n",
       "    <tr>\n",
       "      <th>sex</th>\n",
       "      <td>0.10</td>\n",
       "      <td>1.00</td>\n",
       "      <td>0.05</td>\n",
       "      <td>0.06</td>\n",
       "      <td>0.20</td>\n",
       "      <td>0.05</td>\n",
       "      <td>0.06</td>\n",
       "      <td>0.04</td>\n",
       "      <td>0.14</td>\n",
       "      <td>0.10</td>\n",
       "      <td>0.03</td>\n",
       "      <td>0.12</td>\n",
       "      <td>0.21</td>\n",
       "      <td>0.28</td>\n",
       "    </tr>\n",
       "    <tr>\n",
       "      <th>cp</th>\n",
       "      <td>0.07</td>\n",
       "      <td>0.05</td>\n",
       "      <td>1.00</td>\n",
       "      <td>0.05</td>\n",
       "      <td>0.08</td>\n",
       "      <td>0.09</td>\n",
       "      <td>0.04</td>\n",
       "      <td>0.30</td>\n",
       "      <td>0.39</td>\n",
       "      <td>0.15</td>\n",
       "      <td>0.12</td>\n",
       "      <td>0.18</td>\n",
       "      <td>0.16</td>\n",
       "      <td>0.43</td>\n",
       "    </tr>\n",
       "    <tr>\n",
       "      <th>trestbps</th>\n",
       "      <td>0.28</td>\n",
       "      <td>0.06</td>\n",
       "      <td>0.05</td>\n",
       "      <td>1.00</td>\n",
       "      <td>0.12</td>\n",
       "      <td>0.18</td>\n",
       "      <td>0.11</td>\n",
       "      <td>0.05</td>\n",
       "      <td>0.07</td>\n",
       "      <td>0.19</td>\n",
       "      <td>0.12</td>\n",
       "      <td>0.10</td>\n",
       "      <td>0.06</td>\n",
       "      <td>0.14</td>\n",
       "    </tr>\n",
       "    <tr>\n",
       "      <th>chol</th>\n",
       "      <td>0.21</td>\n",
       "      <td>0.20</td>\n",
       "      <td>0.08</td>\n",
       "      <td>0.12</td>\n",
       "      <td>1.00</td>\n",
       "      <td>0.01</td>\n",
       "      <td>0.15</td>\n",
       "      <td>0.01</td>\n",
       "      <td>0.07</td>\n",
       "      <td>0.05</td>\n",
       "      <td>0.00</td>\n",
       "      <td>0.07</td>\n",
       "      <td>0.10</td>\n",
       "      <td>0.09</td>\n",
       "    </tr>\n",
       "    <tr>\n",
       "      <th>fbs</th>\n",
       "      <td>0.12</td>\n",
       "      <td>0.05</td>\n",
       "      <td>0.09</td>\n",
       "      <td>0.18</td>\n",
       "      <td>0.01</td>\n",
       "      <td>1.00</td>\n",
       "      <td>0.08</td>\n",
       "      <td>0.01</td>\n",
       "      <td>0.03</td>\n",
       "      <td>0.01</td>\n",
       "      <td>0.06</td>\n",
       "      <td>0.14</td>\n",
       "      <td>0.03</td>\n",
       "      <td>0.03</td>\n",
       "    </tr>\n",
       "    <tr>\n",
       "      <th>restecg</th>\n",
       "      <td>0.12</td>\n",
       "      <td>0.06</td>\n",
       "      <td>0.04</td>\n",
       "      <td>0.11</td>\n",
       "      <td>0.15</td>\n",
       "      <td>0.08</td>\n",
       "      <td>1.00</td>\n",
       "      <td>0.04</td>\n",
       "      <td>0.07</td>\n",
       "      <td>0.06</td>\n",
       "      <td>0.09</td>\n",
       "      <td>0.07</td>\n",
       "      <td>0.01</td>\n",
       "      <td>0.14</td>\n",
       "    </tr>\n",
       "    <tr>\n",
       "      <th>thalach</th>\n",
       "      <td>0.40</td>\n",
       "      <td>0.04</td>\n",
       "      <td>0.30</td>\n",
       "      <td>0.05</td>\n",
       "      <td>0.01</td>\n",
       "      <td>0.01</td>\n",
       "      <td>0.04</td>\n",
       "      <td>1.00</td>\n",
       "      <td>0.38</td>\n",
       "      <td>0.34</td>\n",
       "      <td>0.39</td>\n",
       "      <td>0.21</td>\n",
       "      <td>0.10</td>\n",
       "      <td>0.42</td>\n",
       "    </tr>\n",
       "    <tr>\n",
       "      <th>exang</th>\n",
       "      <td>0.10</td>\n",
       "      <td>0.14</td>\n",
       "      <td>0.39</td>\n",
       "      <td>0.07</td>\n",
       "      <td>0.07</td>\n",
       "      <td>0.03</td>\n",
       "      <td>0.07</td>\n",
       "      <td>0.38</td>\n",
       "      <td>1.00</td>\n",
       "      <td>0.29</td>\n",
       "      <td>0.26</td>\n",
       "      <td>0.12</td>\n",
       "      <td>0.21</td>\n",
       "      <td>0.44</td>\n",
       "    </tr>\n",
       "    <tr>\n",
       "      <th>oldpeak</th>\n",
       "      <td>0.21</td>\n",
       "      <td>0.10</td>\n",
       "      <td>0.15</td>\n",
       "      <td>0.19</td>\n",
       "      <td>0.05</td>\n",
       "      <td>0.01</td>\n",
       "      <td>0.06</td>\n",
       "      <td>0.34</td>\n",
       "      <td>0.29</td>\n",
       "      <td>1.00</td>\n",
       "      <td>0.58</td>\n",
       "      <td>0.22</td>\n",
       "      <td>0.21</td>\n",
       "      <td>0.43</td>\n",
       "    </tr>\n",
       "    <tr>\n",
       "      <th>slope</th>\n",
       "      <td>0.17</td>\n",
       "      <td>0.03</td>\n",
       "      <td>0.12</td>\n",
       "      <td>0.12</td>\n",
       "      <td>0.00</td>\n",
       "      <td>0.06</td>\n",
       "      <td>0.09</td>\n",
       "      <td>0.39</td>\n",
       "      <td>0.26</td>\n",
       "      <td>0.58</td>\n",
       "      <td>1.00</td>\n",
       "      <td>0.08</td>\n",
       "      <td>0.10</td>\n",
       "      <td>0.35</td>\n",
       "    </tr>\n",
       "    <tr>\n",
       "      <th>ca</th>\n",
       "      <td>0.28</td>\n",
       "      <td>0.12</td>\n",
       "      <td>0.18</td>\n",
       "      <td>0.10</td>\n",
       "      <td>0.07</td>\n",
       "      <td>0.14</td>\n",
       "      <td>0.07</td>\n",
       "      <td>0.21</td>\n",
       "      <td>0.12</td>\n",
       "      <td>0.22</td>\n",
       "      <td>0.08</td>\n",
       "      <td>1.00</td>\n",
       "      <td>0.15</td>\n",
       "      <td>0.39</td>\n",
       "    </tr>\n",
       "    <tr>\n",
       "      <th>thal</th>\n",
       "      <td>0.07</td>\n",
       "      <td>0.21</td>\n",
       "      <td>0.16</td>\n",
       "      <td>0.06</td>\n",
       "      <td>0.10</td>\n",
       "      <td>0.03</td>\n",
       "      <td>0.01</td>\n",
       "      <td>0.10</td>\n",
       "      <td>0.21</td>\n",
       "      <td>0.21</td>\n",
       "      <td>0.10</td>\n",
       "      <td>0.15</td>\n",
       "      <td>1.00</td>\n",
       "      <td>0.34</td>\n",
       "    </tr>\n",
       "    <tr>\n",
       "      <th>target</th>\n",
       "      <td>0.23</td>\n",
       "      <td>0.28</td>\n",
       "      <td>0.43</td>\n",
       "      <td>0.14</td>\n",
       "      <td>0.09</td>\n",
       "      <td>0.03</td>\n",
       "      <td>0.14</td>\n",
       "      <td>0.42</td>\n",
       "      <td>0.44</td>\n",
       "      <td>0.43</td>\n",
       "      <td>0.35</td>\n",
       "      <td>0.39</td>\n",
       "      <td>0.34</td>\n",
       "      <td>1.00</td>\n",
       "    </tr>\n",
       "  </tbody>\n",
       "</table>\n",
       "</div>"
      ],
      "text/plain": [
       "           age   sex    cp  trestbps  chol   fbs  restecg  thalach  exang  \\\n",
       "age       1.00  0.10  0.07      0.28  0.21  0.12     0.12     0.40   0.10   \n",
       "sex       0.10  1.00  0.05      0.06  0.20  0.05     0.06     0.04   0.14   \n",
       "cp        0.07  0.05  1.00      0.05  0.08  0.09     0.04     0.30   0.39   \n",
       "trestbps  0.28  0.06  0.05      1.00  0.12  0.18     0.11     0.05   0.07   \n",
       "chol      0.21  0.20  0.08      0.12  1.00  0.01     0.15     0.01   0.07   \n",
       "fbs       0.12  0.05  0.09      0.18  0.01  1.00     0.08     0.01   0.03   \n",
       "restecg   0.12  0.06  0.04      0.11  0.15  0.08     1.00     0.04   0.07   \n",
       "thalach   0.40  0.04  0.30      0.05  0.01  0.01     0.04     1.00   0.38   \n",
       "exang     0.10  0.14  0.39      0.07  0.07  0.03     0.07     0.38   1.00   \n",
       "oldpeak   0.21  0.10  0.15      0.19  0.05  0.01     0.06     0.34   0.29   \n",
       "slope     0.17  0.03  0.12      0.12  0.00  0.06     0.09     0.39   0.26   \n",
       "ca        0.28  0.12  0.18      0.10  0.07  0.14     0.07     0.21   0.12   \n",
       "thal      0.07  0.21  0.16      0.06  0.10  0.03     0.01     0.10   0.21   \n",
       "target    0.23  0.28  0.43      0.14  0.09  0.03     0.14     0.42   0.44   \n",
       "\n",
       "          oldpeak  slope    ca  thal  target  \n",
       "age          0.21   0.17  0.28  0.07    0.23  \n",
       "sex          0.10   0.03  0.12  0.21    0.28  \n",
       "cp           0.15   0.12  0.18  0.16    0.43  \n",
       "trestbps     0.19   0.12  0.10  0.06    0.14  \n",
       "chol         0.05   0.00  0.07  0.10    0.09  \n",
       "fbs          0.01   0.06  0.14  0.03    0.03  \n",
       "restecg      0.06   0.09  0.07  0.01    0.14  \n",
       "thalach      0.34   0.39  0.21  0.10    0.42  \n",
       "exang        0.29   0.26  0.12  0.21    0.44  \n",
       "oldpeak      1.00   0.58  0.22  0.21    0.43  \n",
       "slope        0.58   1.00  0.08  0.10    0.35  \n",
       "ca           0.22   0.08  1.00  0.15    0.39  \n",
       "thal         0.21   0.10  0.15  1.00    0.34  \n",
       "target       0.43   0.35  0.39  0.34    1.00  "
      ]
     },
     "execution_count": 5,
     "metadata": {},
     "output_type": "execute_result"
    }
   ],
   "source": [
    "corr = data.corr() #-1 -> 1\n",
    "corr.to_csv('correlation-matrix.csv')\n",
    "corr\n",
    "# Absolute correlation\n",
    "absCorr = data.corr()\n",
    "corr2 = pandas.DataFrame(np.round(np.abs(absCorr.values),2), index = absCorr.index, columns=absCorr.columns)\n",
    "corr2"
   ]
  },
  {
   "cell_type": "code",
   "execution_count": 6,
   "id": "0279ecc2",
   "metadata": {},
   "outputs": [
    {
     "data": {
      "text/plain": [
       "[Text(0.5, 0, 'Women(0) or men(1)')]"
      ]
     },
     "execution_count": 6,
     "metadata": {},
     "output_type": "execute_result"
    },
    {
     "data": {
      "image/png": "[encoded data removed]",
      "text/plain": [
       "<Figure size 432x288 with 1 Axes>"
      ]
     },
     "metadata": {
      "needs_background": "light"
     },
     "output_type": "display_data"
    }
   ],
   "source": [
    "sns.boxplot(data=data, x='target', y='age').set(xlabel='Women(0) or men(1)')"
   ]
  },
  {
   "cell_type": "code",
   "execution_count": 7,
   "id": "5fac5bca",
   "metadata": {},
   "outputs": [
    {
     "data": {
      "text/plain": [
       "<AxesSubplot:xlabel='target', ylabel='thalach'>"
      ]
     },
     "execution_count": 7,
     "metadata": {},
     "output_type": "execute_result"
    },
    {
     "data": {
      "image/png": "[encoded data removed]",
      "text/plain": [
       "<Figure size 432x288 with 1 Axes>"
      ]
     },
     "metadata": {
      "needs_background": "light"
     },
     "output_type": "display_data"
    }
   ],
   "source": [
    "sns.boxplot(data=data, x='target', y='thalach')"
   ]
  },
  {
   "cell_type": "markdown",
   "id": "a29d2f3a",
   "metadata": {},
   "source": [
    "### Dimensionality Reduction (LDA)"
   ]
  },
  {
   "cell_type": "code",
   "execution_count": 8,
   "id": "9f6b31c0",
   "metadata": {},
   "outputs": [],
   "source": [
    "# modelPCA = PCA()\n",
    "# X = modelPCA.fit_transform(X)\n",
    "\n",
    "modelLDA = LinearDiscriminantAnalysis()\n",
    "X = modelLDA.fit_transform(X,Y)"
   ]
  },
  {
   "cell_type": "markdown",
   "id": "4e5881e9",
   "metadata": {},
   "source": [
    "### Train (70% train, 30% test)"
   ]
  },
  {
   "cell_type": "code",
   "execution_count": 9,
   "id": "f2e57999",
   "metadata": {},
   "outputs": [
    {
     "name": "stdout",
     "output_type": "stream",
     "text": [
      "*X shape:  (303, 1)  *Y shape:  (303,)\n",
      "*Xtrain:  (212, 1)   *Xtest:  (91,)\n"
     ]
    }
   ],
   "source": [
    "#X = data.values[:,:-1] #other columns\n",
    "#Y = data.values[:, -1] #target\n",
    "print(\"*X shape: \",X.shape,\" *Y shape: \",Y.shape)\n",
    "Xtrain, Xtest, Ytrain, Ytest = train_test_split(X, Y, test_size=0.30, random_state=0)\n",
    "print('*Xtrain: ',Xtrain.shape,'  *Xtest: ',Ytest.shape)"
   ]
  },
  {
   "cell_type": "markdown",
   "id": "55ea232a",
   "metadata": {},
   "source": [
    "### Decision Tree"
   ]
  },
  {
   "cell_type": "code",
   "execution_count": 10,
   "id": "6a5f6fe2",
   "metadata": {},
   "outputs": [
    {
     "name": "stdout",
     "output_type": "stream",
     "text": [
      "test:  [0. 1. 0. 0. 1. 0. 0. 0. 0. 0. 1. 1. 0. 1. 1. 1. 1. 1. 0. 1. 1. 0. 0. 0.\n",
      " 1. 0. 0. 0. 1. 1. 0. 0. 1. 1. 1. 0. 0. 1. 0. 0. 1. 1. 1. 0. 1. 1. 1. 0.\n",
      " 0. 1. 1. 1. 1. 1. 1. 0. 1. 0. 1. 1. 1. 1. 1. 1. 0. 0. 0. 0. 1. 1. 1. 1.\n",
      " 1. 0. 0. 1. 0. 0. 1. 1. 0. 0. 0. 1. 0. 0. 0. 0. 1. 0. 0.]\n",
      "\n",
      "pred:  [0. 1. 1. 0. 0. 0. 0. 0. 0. 0. 0. 1. 1. 0. 1. 1. 0. 0. 0. 1. 0. 0. 0. 1.\n",
      " 1. 0. 0. 1. 1. 1. 0. 0. 1. 1. 1. 1. 0. 1. 0. 0. 1. 0. 1. 0. 0. 1. 0. 1.\n",
      " 0. 1. 1. 0. 1. 1. 1. 0. 1. 1. 0. 1. 1. 1. 0. 1. 0. 1. 1. 0. 1. 1. 1. 1.\n",
      " 1. 0. 0. 1. 0. 1. 1. 0. 0. 0. 0. 1. 0. 1. 0. 0. 1. 0. 0.]\n",
      "-----------------------------------------------------------------------------------------------------------------------------\n",
      "--> Accuracy: 0.7362637362637363\n",
      "--> F1: 0.7391304347826088\n"
     ]
    }
   ],
   "source": [
    "model = DecisionTreeClassifier(random_state=0)\n",
    "model.fit(Xtrain,Ytrain)\n",
    "Ypred = model.predict(Xtest)\n",
    "print(\"test: \",Ytest)\n",
    "print(\"\\npred: \",Ypred)\n",
    "print(\"-----------------------------------------------------------------------------------------------------------------------------\")\n",
    "print('--> Accuracy:', accuracy_score(Ytest,Ypred))\n",
    "print('--> F1:', f1_score(Ytest,Ypred)) "
   ]
  },
  {
   "cell_type": "markdown",
   "id": "c98a4de4",
   "metadata": {},
   "source": [
    "### Naives Bayes"
   ]
  },
  {
   "cell_type": "code",
   "execution_count": 11,
   "id": "d01ebe8a",
   "metadata": {},
   "outputs": [
    {
     "name": "stdout",
     "output_type": "stream",
     "text": [
      "test:  [0. 1. 0. 0. 1. 0. 0. 0. 0. 0. 1. 1. 0. 1. 1. 1. 1. 1. 0. 1. 1. 0. 0. 0.\n",
      " 1. 0. 0. 0. 1. 1. 0. 0. 1. 1. 1. 0. 0. 1. 0. 0. 1. 1. 1. 0. 1. 1. 1. 0.\n",
      " 0. 1. 1. 1. 1. 1. 1. 0. 1. 0. 1. 1. 1. 1. 1. 1. 0. 0. 0. 0. 1. 1. 1. 1.\n",
      " 1. 0. 0. 1. 0. 0. 1. 1. 0. 0. 0. 1. 0. 0. 0. 0. 1. 0. 0.]\n",
      "\n",
      "pred:  [0. 1. 1. 0. 0. 0. 0. 0. 0. 0. 1. 1. 0. 1. 1. 1. 0. 1. 0. 1. 1. 0. 0. 0.\n",
      " 1. 1. 0. 0. 1. 1. 1. 0. 1. 1. 1. 1. 0. 1. 0. 0. 1. 1. 1. 0. 1. 1. 1. 1.\n",
      " 0. 1. 1. 1. 1. 1. 1. 0. 1. 1. 1. 1. 1. 1. 1. 1. 1. 1. 1. 0. 1. 1. 0. 1.\n",
      " 1. 0. 0. 1. 0. 1. 1. 0. 0. 0. 0. 1. 0. 1. 0. 1. 1. 0. 0.]\n",
      "-----------------------------------------------------------------------------------------------------------------------------\n",
      "--> Accuracy: 0.8241758241758241\n",
      "--> F1: 0.8431372549019609\n"
     ]
    }
   ],
   "source": [
    "model = GaussianNB()\n",
    "model.fit(Xtrain,Ytrain)\n",
    "Ypred = model.predict(Xtest)\n",
    "print(\"test: \",Ytest)\n",
    "print(\"\\npred: \",Ypred)\n",
    "print(\"-----------------------------------------------------------------------------------------------------------------------------\")\n",
    "print('--> Accuracy:', accuracy_score(Ytest,Ypred))\n",
    "print('--> F1:', f1_score(Ytest,Ypred)) "
   ]
  },
  {
   "cell_type": "markdown",
   "id": "46fe0363",
   "metadata": {},
   "source": [
    "### Logistic Regression\n",
    "#####  -Input: continuous\n",
    "##### -Output: discrete"
   ]
  },
  {
   "cell_type": "code",
   "execution_count": 12,
   "id": "1ef6a42b",
   "metadata": {},
   "outputs": [
    {
     "name": "stdout",
     "output_type": "stream",
     "text": [
      "test:  [0. 1. 0. 0. 1. 0. 0. 0. 0. 0. 1. 1. 0. 1. 1. 1. 1. 1. 0. 1. 1. 0. 0. 0.\n",
      " 1. 0. 0. 0. 1. 1. 0. 0. 1. 1. 1. 0. 0. 1. 0. 0. 1. 1. 1. 0. 1. 1. 1. 0.\n",
      " 0. 1. 1. 1. 1. 1. 1. 0. 1. 0. 1. 1. 1. 1. 1. 1. 0. 0. 0. 0. 1. 1. 1. 1.\n",
      " 1. 0. 0. 1. 0. 0. 1. 1. 0. 0. 0. 1. 0. 0. 0. 0. 1. 0. 0.]\n",
      "\n",
      "pred:  [0. 1. 1. 0. 0. 0. 0. 0. 0. 0. 1. 1. 0. 1. 1. 1. 0. 1. 0. 1. 1. 0. 0. 0.\n",
      " 1. 1. 0. 0. 1. 1. 1. 0. 1. 1. 1. 0. 0. 1. 0. 0. 1. 1. 1. 0. 1. 1. 1. 1.\n",
      " 0. 1. 1. 1. 1. 1. 1. 0. 1. 1. 1. 1. 1. 1. 1. 1. 1. 1. 1. 0. 1. 1. 0. 1.\n",
      " 1. 0. 0. 1. 0. 1. 1. 0. 0. 0. 0. 1. 0. 0. 0. 1. 1. 0. 0.]\n",
      "-----------------------------------------------------------------------------------------------------------------------------\n",
      "--> Accuracy: 0.8461538461538461\n",
      "--> F1: 0.8600000000000001\n"
     ]
    }
   ],
   "source": [
    "model = LogisticRegression(random_state=0, max_iter=1000)\n",
    "model.fit(Xtrain,Ytrain)\n",
    "Ypred = model.predict(Xtest)\n",
    "print(\"test: \",Ytest)\n",
    "print(\"\\npred: \",Ypred)\n",
    "print(\"-----------------------------------------------------------------------------------------------------------------------------\")\n",
    "print('--> Accuracy:', accuracy_score(Ytest,Ypred))\n",
    "print('--> F1:', f1_score(Ytest,Ypred)) "
   ]
  },
  {
   "cell_type": "markdown",
   "id": "a1f5337e",
   "metadata": {},
   "source": [
    "## Predict either a pacient has or not a heart disease"
   ]
  },
  {
   "cell_type": "markdown",
   "id": "20df647f",
   "metadata": {},
   "source": [
    "##### INPUT VALUES:\n",
    "    -age\n",
    "    -sex (1 = male; 0 = female)\n",
    "    -chest pain type (0,1,2,3)\n",
    "    -resting blood pressure in mm Hg\n",
    "    -serum cholestoral in mg/dl\n",
    "    -fasting blood sugar > 120 mg/dl\n",
    "    -resting electrocardiographic results (values 0,1,2)\n",
    "    -maximum heart rate achieved\n",
    "    -exercise induced angina (1 = yes; 0 = no)\n",
    "    -oldpeak = ST depression induced by exercise relative to rest\n",
    "    -the slope of the peak exercise ST segment\n",
    "    -number of major vessels (0-3) colored by flourosopy\n",
    "    -thal: 0 = normal; 1 = fixed defect; 2 = reversable defect\n",
    "    \n",
    "    # Examples:\n",
    "        -patient who has a heart disease:    41 0 1 130 204 0 0 172 0 1.4 2 0 2\n",
    "        -patient who hasn't a heart disease: 62 0 0 140 268 0 0 160 0 3.6 0 2 2\n",
    "    # Real life examples:\n",
    "        -patient prone to heart disease:     55 1 1 180 200 0 0 180 0 1.3 2 0 2\n",
    "        -patient with no heart disease:      65 0 0 160 200 0 0 130 0 3.4 0 2 2"
   ]
  },
  {
   "cell_type": "code",
   "execution_count": 13,
   "id": "dad143f5",
   "metadata": {},
   "outputs": [
    {
     "name": "stdout",
     "output_type": "stream",
     "text": [
      "Input data: 65 0 0 160 200 0 0 130 0 3.4 0 2 2\n"
     ]
    },
    {
     "ename": "ValueError",
     "evalue": "X has 13 features per sample; expecting 1",
     "output_type": "error",
     "traceback": [
      "\u001b[1;31m---------------------------------------------------------------------------\u001b[0m",
      "\u001b[1;31mValueError\u001b[0m                                Traceback (most recent call last)",
      "\u001b[1;32m~\\AppData\\Local\\Temp/ipykernel_20276/1350578140.py\u001b[0m in \u001b[0;36m<module>\u001b[1;34m\u001b[0m\n\u001b[0;32m      9\u001b[0m \u001b[1;33m\u001b[0m\u001b[0m\n\u001b[0;32m     10\u001b[0m \u001b[1;31m# Prediction\u001b[0m\u001b[1;33m\u001b[0m\u001b[1;33m\u001b[0m\u001b[0m\n\u001b[1;32m---> 11\u001b[1;33m \u001b[0mpred\u001b[0m \u001b[1;33m=\u001b[0m \u001b[0mmodel\u001b[0m\u001b[1;33m.\u001b[0m\u001b[0mpredict\u001b[0m\u001b[1;33m(\u001b[0m\u001b[0mreshaped\u001b[0m\u001b[1;33m)\u001b[0m \u001b[1;31m#Logistic Regression\u001b[0m\u001b[1;33m\u001b[0m\u001b[1;33m\u001b[0m\u001b[0m\n\u001b[0m\u001b[0;32m     12\u001b[0m \u001b[0mprint\u001b[0m\u001b[1;33m(\u001b[0m\u001b[1;34m\"--> Logistic prediction: \"\u001b[0m\u001b[1;33m,\u001b[0m\u001b[0mpred\u001b[0m\u001b[1;33m[\u001b[0m\u001b[1;36m0\u001b[0m\u001b[1;33m]\u001b[0m\u001b[1;33m,\u001b[0m\u001b[1;34m\"\\n\"\u001b[0m\u001b[1;33m)\u001b[0m\u001b[1;33m\u001b[0m\u001b[1;33m\u001b[0m\u001b[0m\n\u001b[0;32m     13\u001b[0m \u001b[1;33m\u001b[0m\u001b[0m\n",
      "\u001b[1;32mC:\\ProgramData\\Anaconda3\\lib\\site-packages\\sklearn\\linear_model\\_base.py\u001b[0m in \u001b[0;36mpredict\u001b[1;34m(self, X)\u001b[0m\n\u001b[0;32m    307\u001b[0m             \u001b[0mPredicted\u001b[0m \u001b[1;32mclass\u001b[0m \u001b[0mlabel\u001b[0m \u001b[0mper\u001b[0m \u001b[0msample\u001b[0m\u001b[1;33m.\u001b[0m\u001b[1;33m\u001b[0m\u001b[1;33m\u001b[0m\u001b[0m\n\u001b[0;32m    308\u001b[0m         \"\"\"\n\u001b[1;32m--> 309\u001b[1;33m         \u001b[0mscores\u001b[0m \u001b[1;33m=\u001b[0m \u001b[0mself\u001b[0m\u001b[1;33m.\u001b[0m\u001b[0mdecision_function\u001b[0m\u001b[1;33m(\u001b[0m\u001b[0mX\u001b[0m\u001b[1;33m)\u001b[0m\u001b[1;33m\u001b[0m\u001b[1;33m\u001b[0m\u001b[0m\n\u001b[0m\u001b[0;32m    310\u001b[0m         \u001b[1;32mif\u001b[0m \u001b[0mlen\u001b[0m\u001b[1;33m(\u001b[0m\u001b[0mscores\u001b[0m\u001b[1;33m.\u001b[0m\u001b[0mshape\u001b[0m\u001b[1;33m)\u001b[0m \u001b[1;33m==\u001b[0m \u001b[1;36m1\u001b[0m\u001b[1;33m:\u001b[0m\u001b[1;33m\u001b[0m\u001b[1;33m\u001b[0m\u001b[0m\n\u001b[0;32m    311\u001b[0m             \u001b[0mindices\u001b[0m \u001b[1;33m=\u001b[0m \u001b[1;33m(\u001b[0m\u001b[0mscores\u001b[0m \u001b[1;33m>\u001b[0m \u001b[1;36m0\u001b[0m\u001b[1;33m)\u001b[0m\u001b[1;33m.\u001b[0m\u001b[0mastype\u001b[0m\u001b[1;33m(\u001b[0m\u001b[0mint\u001b[0m\u001b[1;33m)\u001b[0m\u001b[1;33m\u001b[0m\u001b[1;33m\u001b[0m\u001b[0m\n",
      "\u001b[1;32mC:\\ProgramData\\Anaconda3\\lib\\site-packages\\sklearn\\linear_model\\_base.py\u001b[0m in \u001b[0;36mdecision_function\u001b[1;34m(self, X)\u001b[0m\n\u001b[0;32m    286\u001b[0m         \u001b[0mn_features\u001b[0m \u001b[1;33m=\u001b[0m \u001b[0mself\u001b[0m\u001b[1;33m.\u001b[0m\u001b[0mcoef_\u001b[0m\u001b[1;33m.\u001b[0m\u001b[0mshape\u001b[0m\u001b[1;33m[\u001b[0m\u001b[1;36m1\u001b[0m\u001b[1;33m]\u001b[0m\u001b[1;33m\u001b[0m\u001b[1;33m\u001b[0m\u001b[0m\n\u001b[0;32m    287\u001b[0m         \u001b[1;32mif\u001b[0m \u001b[0mX\u001b[0m\u001b[1;33m.\u001b[0m\u001b[0mshape\u001b[0m\u001b[1;33m[\u001b[0m\u001b[1;36m1\u001b[0m\u001b[1;33m]\u001b[0m \u001b[1;33m!=\u001b[0m \u001b[0mn_features\u001b[0m\u001b[1;33m:\u001b[0m\u001b[1;33m\u001b[0m\u001b[1;33m\u001b[0m\u001b[0m\n\u001b[1;32m--> 288\u001b[1;33m             raise ValueError(\"X has %d features per sample; expecting %d\"\n\u001b[0m\u001b[0;32m    289\u001b[0m                              % (X.shape[1], n_features))\n\u001b[0;32m    290\u001b[0m \u001b[1;33m\u001b[0m\u001b[0m\n",
      "\u001b[1;31mValueError\u001b[0m: X has 13 features per sample; expecting 1"
     ]
    }
   ],
   "source": [
    "# Input data \n",
    "#lst = (41,0,1,130,204,0,0,172,0,1.4,2,0,2) # Disease\n",
    "#lst = (62,0,0,140,268,0,0,160,0,3.6,0,2,2) # NO disease\n",
    "\n",
    "# User input\n",
    "lst = input('Input data: ').split() #User's input\n",
    "arr = np.asarray(lst,dtype=float)\n",
    "reshaped = arr.reshape(1,-1)\n",
    "\n",
    "# Prediction\n",
    "pred = model.predict(reshaped) #Logistic Regression\n",
    "print(\"--> Logistic prediction: \",pred[0],\"\\n\")\n",
    "\n",
    "if(pred[0] == 0):\n",
    "    print(bcolors.OKBLUE+ \"\\t ** The patient does not have any heart disease :D **\" + bcolors.ENDC)\n",
    "else:\n",
    "    print(bcolors.FAIL+ \"\\t ** The patient has a heart disease :( **\" + bcolors.ENDC)"
   ]
  }
 ],
 "metadata": {
  "kernelspec": {
   "display_name": "Python 3 (ipykernel)",
   "language": "python",
   "name": "python3"
  },
  "language_info": {
   "codemirror_mode": {
    "name": "ipython",
    "version": 3
   },
   "file_extension": ".py",
   "mimetype": "text/x-python",
   "name": "python",
   "nbconvert_exporter": "python",
   "pygments_lexer": "ipython3",
   "version": "3.9.7"
  }
 },
 "nbformat": 4,
 "nbformat_minor": 5
}
