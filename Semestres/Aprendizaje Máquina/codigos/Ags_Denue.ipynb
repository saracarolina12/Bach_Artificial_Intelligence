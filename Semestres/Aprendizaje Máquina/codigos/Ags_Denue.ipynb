{
 "cells": [
  {
   "cell_type": "code",
   "execution_count": 13,
   "id": "cf5bbb4f",
   "metadata": {},
   "outputs": [],
   "source": [
    "import pandas as pd\n",
    "import numpy as np\n",
    "import matplotlib.pyplot as plt\n",
    "import seaborn as sns"
   ]
  },
  {
   "cell_type": "markdown",
   "id": "ec2b391f",
   "metadata": {},
   "source": [
    "$ H(x) = - \\sum_x P(x) log_2 P(x) $\n",
    "\n",
    "$ IM(x, y) = \\sum_x \\sum_y P(x, y) log_2 \\frac{ P(x, y) }{ P(x)P(y) } $"
   ]
  },
  {
   "cell_type": "code",
   "execution_count": 30,
   "id": "187d1d40",
   "metadata": {},
   "outputs": [],
   "source": [
    "def H(x): #ENTROPÍA\n",
    "    h = 0\n",
    "    M = len(x)\n",
    "    values, counts = np.unique(x, return_counts=True) #nos regresa arrays únicos + el número de veces que aparecen \n",
    "    PX = counts/M #px = probabilidad x\n",
    "    h = -np.sum( PX * np.log2(PX) ) #entropía normal\n",
    "    ncat = len(values)\n",
    "    hmax = -np.log2(1/ncat) #entropía máxima\n",
    "    return h,hmax\n",
    "    \n",
    "def IM(X,Y):  \n",
    "    im = 0\n",
    "    y = len(X)\n",
    "    x = len(Y)\n",
    "    \n",
    "    pass"
   ]
  },
  {
   "cell_type": "code",
   "execution_count": 31,
   "id": "8caea294",
   "metadata": {},
   "outputs": [
    {
     "name": "stdout",
     "output_type": "stream",
     "text": [
      "H(municipio): 1.522370914986196\n"
     ]
    }
   ],
   "source": [
    "df = pandas.read_csv('data/denue_inegi.csv', encoding='ISO-8859-1')\n",
    "print('H(municipio):', H(df['municipio'].values) )"
   ]
  },
  {
   "cell_type": "code",
   "execution_count": null,
   "id": "7707982c",
   "metadata": {},
   "outputs": [],
   "source": []
  }
 ],
 "metadata": {
  "kernelspec": {
   "display_name": "Python 3",
   "language": "python",
   "name": "python3"
  },
  "language_info": {
   "codemirror_mode": {
    "name": "ipython",
    "version": 3
   },
   "file_extension": ".py",
   "mimetype": "text/x-python",
   "name": "python",
   "nbconvert_exporter": "python",
   "pygments_lexer": "ipython3",
   "version": "3.8.8"
  }
 },
 "nbformat": 4,
 "nbformat_minor": 5
}
