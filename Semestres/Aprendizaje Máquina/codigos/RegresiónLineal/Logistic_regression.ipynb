{
 "cells": [
  {
   "cell_type": "code",
   "execution_count": 10,
   "id": "d516f58f",
   "metadata": {},
   "outputs": [],
   "source": [
    "import numpy as np\n",
    "import pandas\n",
    "import matplotlib.pyplot as plt\n",
    "from sklearn.linear_model import LogisticRegression\n",
    "from sklearn.model_selection import train_test_split\n",
    "from sklearn.metrics import mean_absolute_error\n",
    "from sklearn.datasets import make_circles,make_blobs\n",
    "from sklearn.datasets import load_digits, load_breast_cancer\n",
    "from sklearn.metrics import accuracy_score, f1_score, confusion_matrix"
   ]
  },
  {
   "cell_type": "code",
   "execution_count": 11,
   "id": "ac5580f9",
   "metadata": {},
   "outputs": [
    {
     "name": "stdout",
     "output_type": "stream",
     "text": [
      "X (50, 2)\n",
      "[1 1 0 0 1 0 0 0 1 0 1 0 1 1 1 0 1 0 1 0 1 0 0 0 0 0 0 1 0 1 1 1 1 0 0 1 1\n",
      " 0 1 1 0 1 0 1 1 0 1 0 1 0]\n"
     ]
    },
    {
     "data": {
      "text/plain": [
       "<matplotlib.collections.PathCollection at 0x1ccc70fd460>"
      ]
     },
     "execution_count": 11,
     "metadata": {},
     "output_type": "execute_result"
    },
    {
     "data": {
      "image/png": "[encoded data removed]",
      "text/plain": [
       "<Figure size 432x288 with 1 Axes>"
      ]
     },
     "metadata": {
      "needs_background": "light"
     },
     "output_type": "display_data"
    }
   ],
   "source": [
    " X,y = make_blobs(n_samples=50, n_features=2,centers=2)\n",
    " print('X', X.shape)\n",
    " print(y)\n",
    " plt.figure()\n",
    " plt.scatter(X[:,0],X[:,1], c=y)"
   ]
  },
  {
   "cell_type": "code",
   "execution_count": 12,
   "id": "16341fe0",
   "metadata": {},
   "outputs": [
    {
     "name": "stdout",
     "output_type": "stream",
     "text": [
      "[[-1.05099408 -0.54663727]]\n",
      "[-1.93319396]\n"
     ]
    },
    {
     "data": {
      "image/png": "[encoded data removed]",
      "text/plain": [
       "<Figure size 432x288 with 1 Axes>"
      ]
     },
     "metadata": {
      "needs_background": "light"
     },
     "output_type": "display_data"
    }
   ],
   "source": [
    "model = LogisticRegression()\n",
    "model.fit(X,y)\n",
    "print(model.coef_)\n",
    "print(model.intercept_)\n",
    "\n",
    "\n",
    "w0 = model.intercept_[0]\n",
    "w1 = model.coef_[0][0]\n",
    "w2 = model.coef_[0][1]\n",
    "\n",
    "m = -w1/w2\n",
    "b = -w0/w2\n",
    "\n",
    "plt.figure()\n",
    "plt.scatter(X[:,0],X[:,1], c=y)\n",
    "plt.plot([-2,10], [-2*m+b, 10*m+b])\n",
    "plt.show()"
   ]
  },
  {
   "cell_type": "code",
   "execution_count": 50,
   "id": "10b7c1af",
   "metadata": {},
   "outputs": [],
   "source": [
    "class myLogisticRegression:\n",
    "    def __init__(self):\n",
    "        self.coef_ = None\n",
    "        self.intercept_ = None\n",
    "        \n",
    "    def h(self,x):\n",
    "        ns, nf = X.shape\n",
    "        c1 = np.ones((ns, 1))\n",
    "        XX = np.concatenate((c1, X), axis = 1)\n",
    "        W = np.zeros((nf+1, 1))\n",
    "        W[0, 0] = self.intercept_\n",
    "        W[1:, 0] = self.coef_\n",
    "        WtX = np.dot(XX, W)\n",
    "        r =1/(1 + np.exp(-WtX))\n",
    "        return r.flatten()\n",
    "    def cost(self, X, y):\n",
    "            hx = self.h(X)\n",
    "            c = - ( y*np.log(hx) + (1-y)*np.log(1-hx) )\n",
    "            return c\n",
    "    def cost(self, X, y):\n",
    "        ns, nf = X.shape\n",
    "        dC = np.zeros((nf+1))\n",
    "        dC[0] = np.sum( hx - y )*(XX[:,i])\n",
    "    def fit(self,X,y):\n",
    "        nsamples, nfeatures = X.shape\n",
    "        self.coef_ = np.ones(( nfeatures ))\n",
    "        self.intercept_ = 1\n",
    "        print(('h(X[0])',self.h(X[0,:])))\n",
    "    def predict(self):\n",
    "        pass"
   ]
  },
  {
   "cell_type": "code",
   "execution_count": 51,
   "id": "59d38553",
   "metadata": {},
   "outputs": [
    {
     "name": "stdout",
     "output_type": "stream",
     "text": [
      "('h(X[0])', array([4.92742191e-03, 1.32067807e-03, 9.92948008e-01, 9.99719612e-01,\n",
      "       2.97070758e-03, 9.99939647e-01, 9.98727707e-01, 9.99936417e-01,\n",
      "       1.50657093e-03, 9.99849373e-01, 2.13901107e-03, 9.99557332e-01,\n",
      "       1.02265984e-02, 1.74647443e-03, 4.06411915e-03, 9.99981658e-01,\n",
      "       8.44407743e-03, 9.97400795e-01, 4.07289087e-03, 9.98882553e-01,\n",
      "       3.49064295e-04, 9.99673909e-01, 9.99860029e-01, 9.99298977e-01,\n",
      "       9.99284045e-01, 9.97214035e-01, 9.96279872e-01, 1.74579180e-03,\n",
      "       9.99866132e-01, 1.15586121e-03, 1.03628467e-01, 4.39901378e-04,\n",
      "       1.56880884e-02, 9.99796615e-01, 9.99106316e-01, 1.83300087e-02,\n",
      "       1.25382176e-03, 9.96272865e-01, 5.37572148e-03, 2.03833606e-02,\n",
      "       9.99670255e-01, 4.75878422e-03, 9.98368837e-01, 7.47468595e-03,\n",
      "       5.81222537e-03, 9.99866351e-01, 6.41637458e-03, 9.95622367e-01,\n",
      "       2.80207002e-02, 9.99070673e-01]))\n",
      "[1. 1.]\n",
      "1\n"
     ]
    }
   ],
   "source": [
    "model = myLogisticRegression()\n",
    "model.fit(X,y)\n",
    "print(model.coef_)\n",
    "print(model.intercept_)"
   ]
  }
 ],
 "metadata": {
  "kernelspec": {
   "display_name": "Python 3 (ipykernel)",
   "language": "python",
   "name": "python3"
  },
  "language_info": {
   "codemirror_mode": {
    "name": "ipython",
    "version": 3
   },
   "file_extension": ".py",
   "mimetype": "text/x-python",
   "name": "python",
   "nbconvert_exporter": "python",
   "pygments_lexer": "ipython3",
   "version": "3.9.7"
  }
 },
 "nbformat": 4,
 "nbformat_minor": 5
}
