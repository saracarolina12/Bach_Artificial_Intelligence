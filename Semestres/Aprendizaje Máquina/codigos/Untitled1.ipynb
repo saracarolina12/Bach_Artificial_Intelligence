{
 "cells": [
  {
   "cell_type": "code",
   "execution_count": 1,
   "id": "ce0b79c3",
   "metadata": {},
   "outputs": [
    {
     "ename": "SyntaxError",
     "evalue": "invalid syntax (Temp/ipykernel_21208/2480015108.py, line 7)",
     "output_type": "error",
     "traceback": [
      "\u001b[1;36m  File \u001b[1;32m\"C:\\Users\\scago\\AppData\\Local\\Temp/ipykernel_21208/2480015108.py\"\u001b[1;36m, line \u001b[1;32m7\u001b[0m\n\u001b[1;33m    from sklearn.ensamble import\u001b[0m\n\u001b[1;37m                                 ^\u001b[0m\n\u001b[1;31mSyntaxError\u001b[0m\u001b[1;31m:\u001b[0m invalid syntax\n"
     ]
    }
   ],
   "source": [
    "import pandas\n",
    "import numpy as np\n",
    "from sklearn.tree import DecisionTreeRegressor\n",
    "from sklearn.model_selection import train_test_split\n",
    "from sklearn.metrics import mean_absolute_error\n",
    "from sklearn.tree import export_graphviz\n",
    "from sklearn.ensamble import "
   ]
  },
  {
   "cell_type": "code",
   "execution_count": null,
   "id": "432e1076",
   "metadata": {},
   "outputs": [],
   "source": [
    "df = pandas.read_csv('datasets/wine')"
   ]
  },
  {
   "cell_type": "code",
   "execution_count": null,
   "id": "78bc948d",
   "metadata": {},
   "outputs": [],
   "source": [
    "export_graphviz(model, feature_names = features, out_file = 'winequality')"
   ]
  }
 ],
 "metadata": {
  "kernelspec": {
   "display_name": "Python 3 (ipykernel)",
   "language": "python",
   "name": "python3"
  },
  "language_info": {
   "codemirror_mode": {
    "name": "ipython",
    "version": 3
   },
   "file_extension": ".py",
   "mimetype": "text/x-python",
   "name": "python",
   "nbconvert_exporter": "python",
   "pygments_lexer": "ipython3",
   "version": "3.9.7"
  }
 },
 "nbformat": 4,
 "nbformat_minor": 5
}
