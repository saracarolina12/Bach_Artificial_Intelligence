{
 "cells": [
  {
   "cell_type": "code",
   "execution_count": 11,
   "id": "8175e004",
   "metadata": {},
   "outputs": [],
   "source": [
    "import pandas as pd\n",
    "import numpy as np\n",
    "from scipy.spatial import distance_matrix"
   ]
  },
  {
   "cell_type": "markdown",
   "id": "9b23d567",
   "metadata": {},
   "source": [
    "### Read CSV\n",
    "##### Input: filename"
   ]
  },
  {
   "cell_type": "code",
   "execution_count": 8,
   "id": "0a11b30c",
   "metadata": {},
   "outputs": [
    {
     "data": {
      "text/html": [
       "<div>\n",
       "<style scoped>\n",
       "    .dataframe tbody tr th:only-of-type {\n",
       "        vertical-align: middle;\n",
       "    }\n",
       "\n",
       "    .dataframe tbody tr th {\n",
       "        vertical-align: top;\n",
       "    }\n",
       "\n",
       "    .dataframe thead th {\n",
       "        text-align: right;\n",
       "    }\n",
       "</style>\n",
       "<table border=\"1\" class=\"dataframe\">\n",
       "  <thead>\n",
       "    <tr style=\"text-align: right;\">\n",
       "      <th></th>\n",
       "      <th>A</th>\n",
       "      <th>B</th>\n",
       "      <th>C</th>\n",
       "      <th>D</th>\n",
       "      <th>E</th>\n",
       "      <th>F</th>\n",
       "      <th>G</th>\n",
       "      <th>H</th>\n",
       "      <th>I</th>\n",
       "      <th>J</th>\n",
       "    </tr>\n",
       "  </thead>\n",
       "  <tbody>\n",
       "    <tr>\n",
       "      <th>A</th>\n",
       "      <td>0</td>\n",
       "      <td>59</td>\n",
       "      <td>48</td>\n",
       "      <td>69</td>\n",
       "      <td>54</td>\n",
       "      <td>91</td>\n",
       "      <td>55</td>\n",
       "      <td>34</td>\n",
       "      <td>81</td>\n",
       "      <td>72</td>\n",
       "    </tr>\n",
       "    <tr>\n",
       "      <th>B</th>\n",
       "      <td>59</td>\n",
       "      <td>0</td>\n",
       "      <td>45</td>\n",
       "      <td>19</td>\n",
       "      <td>45</td>\n",
       "      <td>73</td>\n",
       "      <td>48</td>\n",
       "      <td>13</td>\n",
       "      <td>13</td>\n",
       "      <td>42</td>\n",
       "    </tr>\n",
       "    <tr>\n",
       "      <th>C</th>\n",
       "      <td>48</td>\n",
       "      <td>45</td>\n",
       "      <td>0</td>\n",
       "      <td>97</td>\n",
       "      <td>11</td>\n",
       "      <td>65</td>\n",
       "      <td>12</td>\n",
       "      <td>58</td>\n",
       "      <td>70</td>\n",
       "      <td>45</td>\n",
       "    </tr>\n",
       "    <tr>\n",
       "      <th>D</th>\n",
       "      <td>69</td>\n",
       "      <td>19</td>\n",
       "      <td>97</td>\n",
       "      <td>0</td>\n",
       "      <td>31</td>\n",
       "      <td>94</td>\n",
       "      <td>23</td>\n",
       "      <td>66</td>\n",
       "      <td>71</td>\n",
       "      <td>13</td>\n",
       "    </tr>\n",
       "    <tr>\n",
       "      <th>E</th>\n",
       "      <td>54</td>\n",
       "      <td>45</td>\n",
       "      <td>11</td>\n",
       "      <td>31</td>\n",
       "      <td>0</td>\n",
       "      <td>95</td>\n",
       "      <td>37</td>\n",
       "      <td>47</td>\n",
       "      <td>24</td>\n",
       "      <td>49</td>\n",
       "    </tr>\n",
       "    <tr>\n",
       "      <th>F</th>\n",
       "      <td>91</td>\n",
       "      <td>73</td>\n",
       "      <td>65</td>\n",
       "      <td>94</td>\n",
       "      <td>95</td>\n",
       "      <td>0</td>\n",
       "      <td>62</td>\n",
       "      <td>35</td>\n",
       "      <td>38</td>\n",
       "      <td>61</td>\n",
       "    </tr>\n",
       "    <tr>\n",
       "      <th>G</th>\n",
       "      <td>55</td>\n",
       "      <td>48</td>\n",
       "      <td>12</td>\n",
       "      <td>23</td>\n",
       "      <td>37</td>\n",
       "      <td>62</td>\n",
       "      <td>0</td>\n",
       "      <td>82</td>\n",
       "      <td>96</td>\n",
       "      <td>47</td>\n",
       "    </tr>\n",
       "    <tr>\n",
       "      <th>H</th>\n",
       "      <td>34</td>\n",
       "      <td>13</td>\n",
       "      <td>58</td>\n",
       "      <td>66</td>\n",
       "      <td>47</td>\n",
       "      <td>35</td>\n",
       "      <td>82</td>\n",
       "      <td>0</td>\n",
       "      <td>10</td>\n",
       "      <td>47</td>\n",
       "    </tr>\n",
       "    <tr>\n",
       "      <th>I</th>\n",
       "      <td>81</td>\n",
       "      <td>13</td>\n",
       "      <td>70</td>\n",
       "      <td>71</td>\n",
       "      <td>24</td>\n",
       "      <td>38</td>\n",
       "      <td>96</td>\n",
       "      <td>10</td>\n",
       "      <td>0</td>\n",
       "      <td>63</td>\n",
       "    </tr>\n",
       "    <tr>\n",
       "      <th>J</th>\n",
       "      <td>72</td>\n",
       "      <td>42</td>\n",
       "      <td>45</td>\n",
       "      <td>13</td>\n",
       "      <td>49</td>\n",
       "      <td>61</td>\n",
       "      <td>47</td>\n",
       "      <td>47</td>\n",
       "      <td>63</td>\n",
       "      <td>0</td>\n",
       "    </tr>\n",
       "  </tbody>\n",
       "</table>\n",
       "</div>"
      ],
      "text/plain": [
       "    A   B   C   D   E   F   G   H   I   J\n",
       "A   0  59  48  69  54  91  55  34  81  72\n",
       "B  59   0  45  19  45  73  48  13  13  42\n",
       "C  48  45   0  97  11  65  12  58  70  45\n",
       "D  69  19  97   0  31  94  23  66  71  13\n",
       "E  54  45  11  31   0  95  37  47  24  49\n",
       "F  91  73  65  94  95   0  62  35  38  61\n",
       "G  55  48  12  23  37  62   0  82  96  47\n",
       "H  34  13  58  66  47  35  82   0  10  47\n",
       "I  81  13  70  71  24  38  96  10   0  63\n",
       "J  72  42  45  13  49  61  47  47  63   0"
      ]
     },
     "execution_count": 8,
     "metadata": {},
     "output_type": "execute_result"
    }
   ],
   "source": [
    "df = pd.read_csv('../data/adjacency_matrix.csv');\n",
    "df"
   ]
  },
  {
   "cell_type": "code",
   "execution_count": 19,
   "id": "a99f8d2f",
   "metadata": {},
   "outputs": [
    {
     "data": {
      "text/plain": [
       "array(['A', 'B', 'C', 'D', 'E', 'F', 'G', 'H', 'I', 'J'], dtype=object)"
      ]
     },
     "execution_count": 19,
     "metadata": {},
     "output_type": "execute_result"
    }
   ],
   "source": [
    "# node names array\n",
    "namesArr = np.unique(np.concatenate( (df.columns.values, df.index.values), axis=0 ))\n",
    "namesArr\n",
    "\n",
    "# node dictionary\n",
    "\n",
    "# distances matrix\n"
   ]
  },
  {
   "cell_type": "markdown",
   "id": "22bc2301",
   "metadata": {},
   "source": [
    "### Generate n nodes\n",
    "##### Input: n (number of nodes), lim - space limit"
   ]
  },
  {
   "cell_type": "code",
   "execution_count": 22,
   "id": "4865100e",
   "metadata": {},
   "outputs": [
    {
     "name": "stdout",
     "output_type": "stream",
     "text": [
      "5\n"
     ]
    }
   ],
   "source": [
    "n = int(input())\n",
    "arr = np.arange(n)\n",
    "for i in range(0, n):\n",
    "    arr.append(arr, )\n",
    "    "
   ]
  },
  {
   "cell_type": "code",
   "execution_count": null,
   "id": "7b0971b0",
   "metadata": {},
   "outputs": [],
   "source": []
  }
 ],
 "metadata": {
  "kernelspec": {
   "display_name": "Python 3 (ipykernel)",
   "language": "python",
   "name": "python3"
  },
  "language_info": {
   "codemirror_mode": {
    "name": "ipython",
    "version": 3
   },
   "file_extension": ".py",
   "mimetype": "text/x-python",
   "name": "python",
   "nbconvert_exporter": "python",
   "pygments_lexer": "ipython3",
   "version": "3.9.7"
  }
 },
 "nbformat": 4,
 "nbformat_minor": 5
}
