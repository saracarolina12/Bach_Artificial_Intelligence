{
 "cells": [
  {
   "cell_type": "code",
   "execution_count": 6,
   "id": "8175e004",
   "metadata": {},
   "outputs": [],
   "source": [
    "import pandas as pd\n",
    "import numpy as np\n",
    "import matplotlib.pyplot as plt\n",
    "from scipy.spatial import distance_matrix\n",
    "from numpy.random import seed\n",
    "from numpy.random import randint\n",
    "from math import sqrt\n",
    "import string\n",
    "import sys"
   ]
  },
  {
   "cell_type": "markdown",
   "id": "9b23d567",
   "metadata": {},
   "source": [
    "### Read CSV\n",
    "##### Input: filename"
   ]
  },
  {
   "cell_type": "code",
   "execution_count": 7,
   "id": "a99f8d2f",
   "metadata": {},
   "outputs": [],
   "source": [
    "\n",
    "def read_file(name):\n",
    "    df = pd.read_csv('../data/'+name);\n",
    "    # node names array\n",
    "    namesArr = df.columns.values\n",
    "#     print(\"**** Node names array ****\\n\",namesArr)\n",
    "\n",
    "    # nodes dictionary\n",
    "    dict = {}\n",
    "    for i in range(0, df.columns.size):\n",
    "        dict[df.columns[i]] = i;\n",
    "#     print(\"\\n**** Nodes dictionary ****\")\n",
    "#     for x in dict:\n",
    "#       print(x,\"-\", dict[x])  \n",
    "\n",
    "    # distances matrix\n",
    "#     print('\\n'.join(df.to_string(index = False).split('\\n')[1:]))\n",
    "    return namesArr, dict, df.values"
   ]
  },
  {
   "cell_type": "markdown",
   "id": "22bc2301",
   "metadata": {},
   "source": [
    "### Generate n nodes\n",
    "##### Input: n (number of nodes), lim - space limit"
   ]
  },
  {
   "cell_type": "code",
   "execution_count": 8,
   "id": "084922f7",
   "metadata": {},
   "outputs": [],
   "source": [
    "def generate_n_nodes(n,lim):\n",
    "    # Nodes position (x,y)\n",
    "    seed(1)\n",
    "    coord = []\n",
    "    xList = []\n",
    "    yList = []\n",
    "    for i in range(0, n):\n",
    "        x = randint(0, lim)\n",
    "        xList.append(x)\n",
    "        y = randint(0, lim)\n",
    "        yList.append(y)\n",
    "        coord.append((x,y))\n",
    "    mx = float('-inf')\n",
    "    for x,y in coord:\n",
    "        if x > mx:\n",
    "            mx = x\n",
    "        if y > mx:\n",
    "            mx = y\n",
    "    # Nodes Dictionary\n",
    "    dict = {}\n",
    "#     print(\"\\n**** Nodes dictionary ****\")\n",
    "#     plt.plot(xList,yList,zorder=1) \n",
    "#     plt.scatter(xList,yList,zorder=2)\n",
    "    alphabet_string = string.ascii_uppercase\n",
    "    alphabet_list = list(alphabet_string)\n",
    "    alphabet_list = alphabet_list[:n]\n",
    "    for i, txt in enumerate(alphabet_list):\n",
    "        dict[txt] = i;\n",
    "#         plt.annotate(txt, (xList[i]+.25, yList[i]), fontsize=12)\n",
    "\n",
    "#     Distances matrix \n",
    "    # d=√((x_2-x_1)²+(y_2-y_1)²)\n",
    "    tempList = []\n",
    "    for x,y in coord:\n",
    "        for i,j in coord :\n",
    "            tempList.append(round(sqrt(pow((x-i),2) + pow((y-j),2) ),1))\n",
    "    mat = []\n",
    "    while tempList != []:\n",
    "      mat.append(tempList[:n])\n",
    "      tempList = tempList[n:]\n",
    "    dist_mat = pd.DataFrame(mat)\n",
    "    return coord, dict, dist_mat\n"
   ]
  },
  {
   "cell_type": "markdown",
   "id": "256aba2c",
   "metadata": {},
   "source": [
    "### Objective Function\n",
    "##### Input: nodes names array, nodes dictionary, distances matrix, individual array"
   ]
  },
  {
   "cell_type": "code",
   "execution_count": 9,
   "id": "5c4784c6",
   "metadata": {},
   "outputs": [],
   "source": [
    "def objective_function(namesArr,d, dMatrix, sol):\n",
    "    if sol[0] != sol[len(sol)-1]: return -1 #the fist and last character must be the same\n",
    "    rep = sol.rstrip(sol[-1])\n",
    "    if not len(set(rep)) == len(rep): return -1 # the nodes aren't repeated\n",
    "    if sorted(rep) != sorted(namesArr): return -1 # all the nodes are included in the solution\n",
    "    \n",
    "    n = len(namesArr)\n",
    "    w = 0;\n",
    "    for i in range(0, n):\n",
    "            w+=dMatrix[ord(sol[i])-65][ord(sol[i+1])-65]\n",
    "    return w\n",
    " "
   ]
  },
  {
   "cell_type": "code",
   "execution_count": 10,
   "id": "28ee9f42",
   "metadata": {},
   "outputs": [
    {
     "name": "stdout",
     "output_type": "stream",
     "text": [
      "\n",
      "--------------------------------- 1. Read the source file ------------------------------------------------\n",
      "\t~~~~ Nodes names array ~~~~ \n",
      "['A' 'B' 'C' 'D' 'E' 'F' 'G' 'H' 'I' 'J']\n",
      "\t~~~~ Nodes dictionary ~~~~ \n",
      "{'A': 0, 'B': 1, 'C': 2, 'D': 3, 'E': 4, 'F': 5, 'G': 6, 'H': 7, 'I': 8, 'J': 9}\n",
      "\\~~~~ Distances Matrix ~~~~ \n",
      "[[ 0 59 48 69 54 91 55 34 81 72]\n",
      " [59  0 45 19 45 73 48 13 13 42]\n",
      " [48 45  0 97 11 65 12 58 70 45]\n",
      " [69 19 97  0 31 94 23 66 71 13]\n",
      " [54 45 11 31  0 95 37 47 24 49]\n",
      " [91 73 65 94 95  0 62 35 38 61]\n",
      " [55 48 12 23 37 62  0 82 96 47]\n",
      " [34 13 58 66 47 35 82  0 10 47]\n",
      " [81 13 70 71 24 38 96 10  0 63]\n",
      " [72 42 45 13 49 61 47 47 63  0]]\n",
      "\n",
      "--------------------------------- 2. Generate n nodes ------------------------------------------------\n",
      "\t~~~~ Nodes position (x,y) ~~~~ \n",
      "-> # nodes: 10\n",
      "-> lim: 100\n",
      "[(37, 12), (72, 9), (75, 5), (79, 64), (16, 1), (76, 71), (6, 25), (50, 20), (18, 84), (11, 28)]\n",
      "\t~~~~ Nodes dictionary ~~~~ \n",
      "{'A': 0, 'B': 1, 'C': 2, 'D': 3, 'E': 4, 'F': 5, 'G': 6, 'H': 7, 'I': 8, 'J': 9}\n",
      "\t~~~~ Distances Matrix ~~~~ \n",
      "      0     1     2     3     4     5     6     7     8     9\n",
      "0   0.0  35.1  38.6  66.8  23.7  70.7  33.6  15.3  74.5  30.5\n",
      "1  35.1   0.0   5.0  55.4  56.6  62.1  67.9  24.6  92.4  63.9\n",
      "2  38.6   5.0   0.0  59.1  59.1  66.0  71.8  29.2  97.4  68.0\n",
      "3  66.8  55.4  59.1   0.0  89.1   7.6  82.8  52.7  64.2  76.9\n",
      "4  23.7  56.6  59.1  89.1   0.0  92.2  26.0  38.9  83.0  27.5\n",
      "5  70.7  62.1  66.0   7.6  92.2   0.0  83.8  57.2  59.4  77.9\n",
      "6  33.6  67.9  71.8  82.8  26.0  83.8   0.0  44.3  60.2   5.8\n",
      "7  15.3  24.6  29.2  52.7  38.9  57.2  44.3   0.0  71.6  39.8\n",
      "8  74.5  92.4  97.4  64.2  83.0  59.4  60.2  71.6   0.0  56.4\n",
      "9  30.5  63.9  68.0  76.9  27.5  77.9   5.8  39.8  56.4   0.0\n",
      "\n",
      "--------------------------------- 3. Objective function ------------------------------------------------\n",
      "solution: ABCDEFGHIJA\n",
      "weight:  616\n"
     ]
    }
   ],
   "source": [
    "# MAIN\n",
    "print(\"\\n--------------------------------- 1. Read the source file ------------------------------------------------\")\n",
    "print(\"\\t~~~~ Nodes names array ~~~~ \")\n",
    "print(read_file(\"adjacency_matrix.csv\")[0])\n",
    "print(\"\\t~~~~ Nodes dictionary ~~~~ \")\n",
    "print(read_file(\"adjacency_matrix.csv\")[1])\n",
    "print(\"\\~~~~ Distances Matrix ~~~~ \")\n",
    "print(read_file(\"adjacency_matrix.csv\")[2])\n",
    "print(\"\\n--------------------------------- 2. Generate n nodes ------------------------------------------------\")\n",
    "print(\"\\t~~~~ Nodes position (x,y) ~~~~ \")\n",
    "n = int(input(\"-> # nodes: \"))\n",
    "lim = int(input(\"-> lim: \"))\n",
    "print(generate_n_nodes(n,lim)[0] )\n",
    "print(\"\\t~~~~ Nodes dictionary ~~~~ \")\n",
    "print(generate_n_nodes(n,lim)[1] )\n",
    "print(\"\\t~~~~ Distances Matrix ~~~~ \")\n",
    "print(generate_n_nodes(n,lim)[2] )\n",
    "print(\"\\n--------------------------------- 3. Objective function ------------------------------------------------\")\n",
    "namesArr = read_file(\"adjacency_matrix.csv\")[0]\n",
    "dictionary = read_file(\"adjacency_matrix.csv\")[1]\n",
    "matrix = read_file(\"adjacency_matrix.csv\")[2]\n",
    "print(\"weight: \",objective_function(namesArr, dictionary, matrix, input(\"solution: \")))\n"
   ]
  }
 ],
 "metadata": {
  "kernelspec": {
   "display_name": "Python 3 (ipykernel)",
   "language": "python",
   "name": "python3"
  },
  "language_info": {
   "codemirror_mode": {
    "name": "ipython",
    "version": 3
   },
   "file_extension": ".py",
   "mimetype": "text/x-python",
   "name": "python",
   "nbconvert_exporter": "python",
   "pygments_lexer": "ipython3",
   "version": "3.9.7"
  }
 },
 "nbformat": 4,
 "nbformat_minor": 5
}
