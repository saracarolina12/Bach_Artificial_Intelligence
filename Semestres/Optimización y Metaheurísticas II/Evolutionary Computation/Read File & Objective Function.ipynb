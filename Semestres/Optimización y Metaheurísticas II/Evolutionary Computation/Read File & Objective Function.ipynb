{
 "cells": [
  {
   "cell_type": "code",
   "execution_count": 1,
   "id": "8175e004",
   "metadata": {},
   "outputs": [],
   "source": [
    "import pandas as pd\n",
    "import numpy as np\n",
    "import matplotlib.pyplot as plt\n",
    "from scipy.spatial import distance_matrix\n",
    "from numpy.random import seed\n",
    "from numpy.random import randint\n",
    "from math import sqrt\n",
    "import string\n",
    "import sys"
   ]
  },
  {
   "cell_type": "markdown",
   "id": "9b23d567",
   "metadata": {},
   "source": [
    "### Read CSV\n",
    "##### Input: filename"
   ]
  },
  {
   "cell_type": "code",
   "execution_count": 19,
   "id": "a99f8d2f",
   "metadata": {},
   "outputs": [
    {
     "name": "stdout",
     "output_type": "stream",
     "text": [
      "**** Node names array ****\n",
      " ['A' 'B' 'C' 'D' 'E' 'F' 'G' 'H' 'I' 'J']\n",
      "\n",
      "**** Nodes dictionary ****\n",
      "A - 0\n",
      "B - 1\n",
      "C - 2\n",
      "D - 3\n",
      "E - 4\n",
      "F - 5\n",
      "G - 6\n",
      "H - 7\n",
      "I - 8\n",
      "J - 9\n",
      "\n",
      "**** Distances matrix ****\n",
      " 0 59 48 69 54 91 55 34 81 72\n",
      "59  0 45 19 45 73 48 13 13 42\n",
      "48 45  0 97 11 65 12 58 70 45\n",
      "69 19 97  0 31 94 23 66 71 13\n",
      "54 45 11 31  0 95 37 47 24 49\n",
      "91 73 65 94 95  0 62 35 38 61\n",
      "55 48 12 23 37 62  0 82 96 47\n",
      "34 13 58 66 47 35 82  0 10 47\n",
      "81 13 70 71 24 38 96 10  0 63\n",
      "72 42 45 13 49 61 47 47 63  0\n"
     ]
    }
   ],
   "source": [
    "\n",
    "def read_file(name):\n",
    "    df = pd.read_csv('../data/'+name);\n",
    "    # node names array\n",
    "    namesArr = df.columns.values\n",
    "    print(\"**** Node names array ****\\n\",namesArr)\n",
    "\n",
    "    # nodes dictionary\n",
    "    dict = {}\n",
    "    for i in range(0, df.columns.size):\n",
    "        dict[df.columns[i]] = i;\n",
    "    print(\"\\n**** Nodes dictionary ****\")\n",
    "    for x in dict:\n",
    "      print(x,\"-\", dict[x])  \n",
    "\n",
    "    # distances matrix\n",
    "    print(\"\\n**** Distances matrix ****\")\n",
    "    print('\\n'.join(df.to_string(index = False).split('\\n')[1:]))\n"
   ]
  },
  {
   "cell_type": "markdown",
   "id": "22bc2301",
   "metadata": {},
   "source": [
    "### Generate n nodes\n",
    "##### Input: n (number of nodes), lim - space limit"
   ]
  },
  {
   "cell_type": "code",
   "execution_count": 15,
   "id": "ceeee40c",
   "metadata": {},
   "outputs": [
    {
     "name": "stdout",
     "output_type": "stream",
     "text": [
      "-> n: 5\n",
      "-> lim: 10\n",
      "\n",
      "**** Nodes position (x,y) ****\n",
      "( 5 , 8 )\n",
      "( 9 , 5 )\n",
      "( 0 , 0 )\n",
      "( 1 , 7 )\n",
      "( 6 , 9 )\n",
      "\n",
      "**** Nodes dictionary ****\n",
      "A - 0\n",
      "B - 1\n",
      "C - 2\n",
      "D - 3\n",
      "E - 4\n",
      "\n",
      "**** Distances matrix ****\n",
      "0.0  5.0  9.4 4.1  1.4\n",
      "5.0  0.0 10.3 8.2  5.0\n",
      "9.4 10.3  0.0 7.1 10.8\n",
      "4.1  8.2  7.1 0.0  5.4\n",
      "1.4  5.0 10.8 5.4  0.0\n"
     ]
    },
    {
     "data": {
      "image/png": "[encoded data removed]",
      "text/plain": [
       "<Figure size 432x288 with 1 Axes>"
      ]
     },
     "metadata": {
      "needs_background": "light"
     },
     "output_type": "display_data"
    }
   ],
   "source": [
    "def generate_n_nodes(n,lim):\n",
    "    # Nodes position (x,y)\n",
    "    seed(1)\n",
    "    coord = []\n",
    "    xList = []\n",
    "    yList = []\n",
    "    for i in range(0, n):\n",
    "        x = randint(0, lim)\n",
    "        xList.append(x)\n",
    "        y = randint(0, lim)\n",
    "        yList.append(y)\n",
    "        coord.append((x,y))\n",
    "    print(\"\\n**** Nodes position (x,y) ****\")\n",
    "    mx = float('-inf')\n",
    "    for x,y in coord:\n",
    "        if x > mx:\n",
    "            mx = x\n",
    "        if y > mx:\n",
    "            mx = y\n",
    "        print(\"(\",x,\",\",y,\")\")\n",
    "    # Nodes Dictionary\n",
    "    dict = {}\n",
    "    print(\"\\n**** Nodes dictionary ****\")\n",
    "    plt.plot(xList,yList,zorder=1) \n",
    "    plt.scatter(xList,yList,zorder=2)\n",
    "    alphabet_string = string.ascii_uppercase\n",
    "    alphabet_list = list(alphabet_string)\n",
    "    alphabet_list = alphabet_list[:n]\n",
    "    for i, txt in enumerate(alphabet_list):\n",
    "        dict[txt] = i;\n",
    "        plt.annotate(txt, (xList[i]+.25, yList[i]), fontsize=12)\n",
    "    for x in dict:\n",
    "      print(x,\"-\", dict[x])  \n",
    "\n",
    "    # distance matrix\n",
    "    print(\"\\n**** Distances matrix ****\")\n",
    "    # d=√((x_2-x_1)²+(y_2-y_1)²)\n",
    "    tempList = []\n",
    "    for x,y in coord:\n",
    "        for i,j in coord :\n",
    "            tempList.append(round(sqrt(pow((x-i),2) + pow((y-j),2) ),1))\n",
    "    mat = []\n",
    "    while tempList != []:\n",
    "      mat.append(tempList[:n])\n",
    "      tempList = tempList[n:]\n",
    "    dist_mat = pd.DataFrame(mat)\n",
    "    print('\\n'.join(dist_mat.to_string(index = False).split('\\n')[1:]))\n"
   ]
  },
  {
   "cell_type": "code",
   "execution_count": 25,
   "id": "212e84b4",
   "metadata": {},
   "outputs": [
    {
     "name": "stdout",
     "output_type": "stream",
     "text": [
      "**** Node names array ****\n",
      " ['A' 'B' 'C' 'D' 'E' 'F' 'G' 'H' 'I' 'J']\n",
      "\n",
      "**** Nodes dictionary ****\n",
      "A - 0\n",
      "B - 1\n",
      "C - 2\n",
      "D - 3\n",
      "E - 4\n",
      "F - 5\n",
      "G - 6\n",
      "H - 7\n",
      "I - 8\n",
      "J - 9\n",
      "\n",
      "**** Distances matrix ****\n",
      " 0 59 48 69 54 91 55 34 81 72\n",
      "59  0 45 19 45 73 48 13 13 42\n",
      "48 45  0 97 11 65 12 58 70 45\n",
      "69 19 97  0 31 94 23 66 71 13\n",
      "54 45 11 31  0 95 37 47 24 49\n",
      "91 73 65 94 95  0 62 35 38 61\n",
      "55 48 12 23 37 62  0 82 96 47\n",
      "34 13 58 66 47 35 82  0 10 47\n",
      "81 13 70 71 24 38 96 10  0 63\n",
      "72 42 45 13 49 61 47 47 63  0\n",
      "\n",
      "---------------------------------------------------------------------------------\n",
      "-> n: 5\n",
      "-> lim: 10\n",
      "\n",
      "**** Nodes position (x,y) ****\n",
      "( 5 , 8 )\n",
      "( 9 , 5 )\n",
      "( 0 , 0 )\n",
      "( 1 , 7 )\n",
      "( 6 , 9 )\n",
      "\n",
      "**** Nodes dictionary ****\n",
      "A - 0\n",
      "B - 1\n",
      "C - 2\n",
      "D - 3\n",
      "E - 4\n",
      "\n",
      "**** Distances matrix ****\n",
      "0.0  5.0  9.4 4.1  1.4\n",
      "5.0  0.0 10.3 8.2  5.0\n",
      "9.4 10.3  0.0 7.1 10.8\n",
      "4.1  8.2  7.1 0.0  5.4\n",
      "1.4  5.0 10.8 5.4  0.0\n"
     ]
    },
    {
     "data": {
      "image/png": "[encoded data removed]",
      "text/plain": [
       "<Figure size 432x288 with 1 Axes>"
      ]
     },
     "metadata": {
      "needs_background": "light"
     },
     "output_type": "display_data"
    }
   ],
   "source": [
    "# MAIN\n",
    "read_file(\"adjacency_matrix.csv\");\n",
    "print(\"\\n---------------------------------------------------------------------------------\")\n",
    "generate_n_nodes(int(input(\"-> n: \")),int(input(\"-> lim: \")))"
   ]
  }
 ],
 "metadata": {
  "kernelspec": {
   "display_name": "Python 3 (ipykernel)",
   "language": "python",
   "name": "python3"
  },
  "language_info": {
   "codemirror_mode": {
    "name": "ipython",
    "version": 3
   },
   "file_extension": ".py",
   "mimetype": "text/x-python",
   "name": "python",
   "nbconvert_exporter": "python",
   "pygments_lexer": "ipython3",
   "version": "3.9.7"
  }
 },
 "nbformat": 4,
 "nbformat_minor": 5
}
