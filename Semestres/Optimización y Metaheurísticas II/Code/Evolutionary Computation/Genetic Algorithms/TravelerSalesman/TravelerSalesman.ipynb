{
 "cells": [
  {
   "cell_type": "code",
   "execution_count": 2,
   "id": "8175e004",
   "metadata": {},
   "outputs": [],
   "source": [
    "import pandas as pd\n",
    "import numpy as np\n",
    "import matplotlib.pyplot as plt\n",
    "from scipy.spatial import distance_matrix\n",
    "from numpy.random import seed\n",
    "from numpy.random import randint\n",
    "import random\n",
    "from math import sqrt\n",
    "import string\n",
    "import sys"
   ]
  },
  {
   "cell_type": "markdown",
   "id": "9b23d567",
   "metadata": {},
   "source": [
    "### Read CSV\n",
    "##### Input: filename"
   ]
  },
  {
   "cell_type": "code",
   "execution_count": 2,
   "id": "a99f8d2f",
   "metadata": {},
   "outputs": [],
   "source": [
    "def read_file(name):\n",
    "    df = pd.read_csv(name);\n",
    "    # node names array\n",
    "    namesArr = df.columns.values\n",
    "    # nodes dictionary\n",
    "    dict = {}\n",
    "    for i in range(0, df.columns.size):\n",
    "        dict[df.columns[i]] = i;\n",
    "    return namesArr, dict, df.values"
   ]
  },
  {
   "cell_type": "markdown",
   "id": "22bc2301",
   "metadata": {},
   "source": [
    "### Generate n nodes\n",
    "##### Input: n (number of nodes), lim - space limit"
   ]
  },
  {
   "cell_type": "code",
   "execution_count": 3,
   "id": "084922f7",
   "metadata": {},
   "outputs": [],
   "source": [
    "def generate_nodes(n,lim): #For n <= 27\n",
    "    mpositions = np.random.uniform(0,lim,(n,2))\n",
    "    mdist = np.zeros((n,n))\n",
    "    for i in range(n):\n",
    "        for j in range(i+1,n):\n",
    "            x1,y1 = mpositions[i,0],mpositions[i,1]\n",
    "            x2,y2 = mpositions[j,0],mpositions[j,1]\n",
    "            mdist[i,j] = mdist[j,i] = np.sqrt( (x1-x2)**2 + (y1-y2)**2 )\n",
    "    nnames = [chr(x) for x in range(ord('A'),ord('Z')+1)]\n",
    "    nnames = nnames[:n]\n",
    "    ndict = {n:i for i,n in enumerate(nnames)}\n",
    "    return nnames, mpositions, mdist, ndict\n",
    "nnames, mpositions, mdist, ndict = generate_nodes(5,100)"
   ]
  },
  {
   "cell_type": "markdown",
   "id": "256aba2c",
   "metadata": {},
   "source": [
    "### Objective Function\n",
    "##### Input: nodes names array, nodes dictionary, distances matrix, individual array"
   ]
  },
  {
   "cell_type": "code",
   "execution_count": 4,
   "id": "5c4784c6",
   "metadata": {},
   "outputs": [],
   "source": [
    "def objective_function(namesArr,d, dMatrix, sol):\n",
    "    if sol[0] != sol[len(sol)-1]:\n",
    "        print(\"The first and last character must be the same \")\n",
    "        return -1 #the fist and last character must be the same\n",
    "    rep = sol[:len(sol)-1]\n",
    "    if not len(set(rep)) == len(rep):\n",
    "        print(\"the nodes are repeated\")\n",
    "        return -1 # the nodes are repeated\n",
    "    if sorted(rep) != sorted(namesArr): \n",
    "        print(\"NOT all the nodes are included in the solution\")\n",
    "        return -1 # not all the nodes are included in the solution\n",
    "    \n",
    "    n = len(sol)-1\n",
    "    w = 0;\n",
    "    for i in range(0, n):\n",
    "            w+=dMatrix[ord(sol[i])-65][ord(sol[i+1])-65]\n",
    "    return w"
   ]
  },
  {
   "cell_type": "markdown",
   "id": "3c8c7520",
   "metadata": {},
   "source": [
    "# Genetic Algorithm"
   ]
  },
  {
   "cell_type": "code",
   "execution_count": 5,
   "id": "3340efe4",
   "metadata": {},
   "outputs": [],
   "source": [
    "# variables\n",
    "lim = 100\n",
    "NNodes = 10 #population size\n",
    "nnames, mpositions, mdist, ndict = generate_nodes(NNodes,lim)"
   ]
  },
  {
   "cell_type": "code",
   "execution_count": 6,
   "id": "8c76b793",
   "metadata": {},
   "outputs": [],
   "source": [
    "def indices(lst, item):\n",
    "    return [i for i, x in enumerate(lst) if x == item]\n",
    "\n",
    "def combine(one, two):\n",
    "    mid1 = \"\"\n",
    "    mid2 = \"\"\n",
    "    lenone = int(len(one)/2)\n",
    "    for i in range(lenone):\n",
    "        mid1 += one[i]\n",
    "    for i in range(lenone):\n",
    "        mid2 += two[i]\n",
    "    mix = mid1+mid2\n",
    "    # mix = mix[:-1] + mix[0] #first element = last element\n",
    "    # look for repeated elements\n",
    "    dupl = []\n",
    "    uniqueDulp = []\n",
    "    for i in range(len(list(mix))):\n",
    "        if( len(indices(list(mix), mix[i])) > 1 ):\n",
    "            #print(mix[i], indices(list(mix), mix[i]))\n",
    "            dupl.append(indices(list(mix), mix[i]))\n",
    "    # missing elements\n",
    "    for i in range(len(dupl)):\n",
    "        for j in range(1,len(dupl[i])):\n",
    "            uniqueDulp.append( (dupl[i])[j] ) \n",
    "    uniqueDupl = np.unique(uniqueDulp)\n",
    "    \n",
    "    mix += mix[0] #first element = last element\n",
    "    sortOne = sorted(one[:-1])\n",
    "    sortMix = sorted(mix[:-1])\n",
    "    miss = \"\"\n",
    "    flag = False\n",
    "    for i in range(len(sortOne)):\n",
    "        for j in range(len(sortMix)):\n",
    "            if(sortOne[i] == sortMix[j]):\n",
    "                flag = True\n",
    "                break\n",
    "        if(flag == False):\n",
    "            miss += sortOne[i]\n",
    "        else: flag = False\n",
    "    miss = list(miss)\n",
    "    print(miss)\n",
    "    mix = list(mix)    \n",
    "    for i in range(len(uniqueDupl)):\n",
    "        mix[uniqueDupl[i]] = miss[i]\n",
    "    return ''.join(mix)   \n",
    "    \n",
    "def tournament_selection(parents, fitness, population):\n",
    "    popsize = len(population)\n",
    "    i1, i2 = np.random.choice(popsize,2)\n",
    "    if fitness[i1] <= fitness[i2]:\n",
    "        return population[i1,:]\n",
    "    else:\n",
    "        return population[i2,:]"
   ]
  },
  {
   "cell_type": "code",
   "execution_count": 7,
   "id": "089e3127",
   "metadata": {},
   "outputs": [],
   "source": [
    "def draw_elite(mpositions,nnames,ndict,elite):\n",
    "    plt.figure()\n",
    "    plt.scatter(mpositions[:,0],mpositions[:,1])\n",
    "    for i in range(len(nnames)):\n",
    "        plt.text(mpositions[i,0],mpositions[i,1],nnames[i])\n",
    "    for i in range(len(elite)-1):\n",
    "        n1, n2 = elite[i] , elite[i+1]\n",
    "        i1, i2 = ndict[n1], ndict[n2]\n",
    "        x1, y1 = mpositions[i1,0], mpositions[i1,1]\n",
    "        x2, y2 = mpositions[i2,0], mpositions[i2,1]\n",
    "        plt.plot( [x1,x2],[y1,y2] )\n",
    "    plt.show()"
   ]
  },
  {
   "cell_type": "code",
   "execution_count": 8,
   "id": "c5a832ad",
   "metadata": {},
   "outputs": [],
   "source": [
    "def initial_population(m, names):\n",
    "    population = np.zeros( (n,len(names)+1),'str')\n",
    "    population[:,0] = names[0]\n",
    "    population[:,-1] = names[0]\n",
    "    for i in range(n):\n",
    "        population[i,1:-1] = np.random.permutation( names[1:])\n",
    "    return population"
   ]
  },
  {
   "cell_type": "code",
   "execution_count": 9,
   "id": "098d6f3d",
   "metadata": {},
   "outputs": [],
   "source": [
    "def fitness_population(population,mdist,ndict):\n",
    "    N = len(population)\n",
    "    fitness = np.zeros((N))\n",
    "    for i in range(N):\n",
    "        fitness[i] = fitness_individual(population[i,:],mdist,ndict)\n",
    "    return fitness\n",
    "\n",
    "def fitness_individual(ind,mdist,ndict):\n",
    "    d = 0\n",
    "    for i in range(len(ind)-1):\n",
    "        n1 = ind[i]\n",
    "        n2 = ind[i+1]\n",
    "        d += mdist[ ndict[n1],ndict[n2] ]\n",
    "    return d"
   ]
  },
  {
   "cell_type": "code",
   "execution_count": 10,
   "id": "7305f46b",
   "metadata": {},
   "outputs": [],
   "source": [
    "def get_elite(population, fitness,elite=None,fitelite=None):\n",
    "    idx = np.argsort(fitness)\n",
    "    population = population[idx,:]\n",
    "    fitness = fitness[idx]\n",
    "    if elite is None:\n",
    "        elite = np.copy(population[0,:])\n",
    "        fitelite = fitness[0]\n",
    "        return elite,fitelite\n",
    "    if fitness[0] < fitelite:\n",
    "        elite = np.copy(population[0,:])\n",
    "        fitelite = fitness[0]\n",
    "        return elite,fitelite\n",
    "    return elite,fitelite"
   ]
  },
  {
   "cell_type": "code",
   "execution_count": 11,
   "id": "79cd5b34",
   "metadata": {},
   "outputs": [],
   "source": [
    "def crossover(parent1,parent2,nnames):\n",
    "    pc = np.random.randint(1,len(parent1)-2)\n",
    "    child = np.concatenate((parent1[:pc], parent2[pc:]))\n",
    "    snodes = set(nnames)\n",
    "    schild = set(child)\n",
    "    repeated = set(parent1[1:pc]).intersection( set(parent2[pc:-1]) )\n",
    "    missing = snodes.difference(schild)\n",
    "    if len(repeated)>0:\n",
    "        for i in range(len(child)):\n",
    "            if child[i] in repeated:\n",
    "                repeated.remove(child[i])\n",
    "                child[i] = missing.pop()          \n",
    "    return child  "
   ]
  },
  {
   "cell_type": "code",
   "execution_count": 12,
   "id": "130653fb",
   "metadata": {},
   "outputs": [],
   "source": [
    "def crossover_parents(population, pr, fitness, nnames): # pr = probability of reproduction\n",
    "    gen = np.zeros_like(population)\n",
    "    for i in range(len(population)):\n",
    "        if(random.uniform(0, 1) < pr):\n",
    "#             print(\"select two\")\n",
    "            first = tournament_selection(population, fitness, population)\n",
    "            second = tournament_selection(population, fitness, population)\n",
    "            child = crossover(first,second,nnames)#\n",
    "            gen[i,:] = np.copy(child)\n",
    "        else:\n",
    "#             print(\"clone\")\n",
    "            parent = tournament_selection(population, fitness, population)\n",
    "            gen[i,:] = np.copy(parent)\n",
    "    return gen"
   ]
  },
  {
   "cell_type": "code",
   "execution_count": 13,
   "id": "fa1715dd",
   "metadata": {},
   "outputs": [],
   "source": [
    "def mutation_population(Pm,population):\n",
    "    for i in range(len(population)):\n",
    "        if np.random.rand() <= Pm:\n",
    "            population[i,:] = mutation(population[i,:])\n",
    "    return population\n",
    "\n",
    "def mutation(individual):\n",
    "    while True:\n",
    "        pm1 = np.random.randint(1,len(individual)-1)\n",
    "        pm2 = np.random.randint(1,len(individual)-1)\n",
    "        if pm1 != pm2: break\n",
    "    individual[pm1], individual[pm2] = individual[pm2], individual[pm1]\n",
    "    return individual"
   ]
  },
  {
   "cell_type": "code",
   "execution_count": 56,
   "id": "8e3d988d",
   "metadata": {
    "scrolled": false
   },
   "outputs": [
    {
     "name": "stdout",
     "output_type": "stream",
     "text": [
      "First result: \n",
      "---------------------------------------------------------------------------------------\n",
      "Best:  ['A' 'F' 'H' 'G' 'C' 'J' 'D' 'E' 'B' 'I' 'A'] ( 419.1633396122747 )\n"
     ]
    },
    {
     "data": {
      "image/png": "[encoded data removed]",
      "text/plain": [
       "<Figure size 640x480 with 1 Axes>"
      ]
     },
     "metadata": {},
     "output_type": "display_data"
    }
   ],
   "source": [
    "def genetic_algorithm(n, g, pr, pm):\n",
    "    generate_nodes(n, 100) # returns nnames, mpositions, mdist, ndict\n",
    "    #create the initial population\n",
    "    population = initial_population(n, nnames)\n",
    "    #Calculate the population fitness & get the elite\n",
    "    fitness = fitness_population(population, mdist, ndict)\n",
    "    elite, fitelite = get_elite(population, fitness)\n",
    "    print(\"First result: \")\n",
    "    #draw_elite(mpositions,nnames,ndict,elite)\n",
    "    print(\"---------------------------------------------------------------------------------------\")\n",
    "    while g > 0: # While the number of generations is less than G or we haven’t found a good solution\n",
    "        if g%400 == 0: \n",
    "            print(\"Best: \", elite, \"(\",fitelite,\")\")\n",
    "            draw_elite(mpositions,nnames,ndict,elite)\n",
    "        population = crossover_parents(population, pr, fitness, nnames)\n",
    "        population = mutation_population(pm, population)\n",
    "        \n",
    "        fitness = fitness_population(population, mdist, ndict)\n",
    "        elite, fitelite = get_elite(population, fitness, elite, fitelite)\n",
    "        g-=1\n",
    "        \n",
    "n = 15 # n nodes\n",
    "g = 400 # max number of generations\n",
    "pr = 0.9 # reproduction's probability\n",
    "pm = 0.1 # mutation probability\n",
    "genetic_algorithm(n,g,pr,pm)"
   ]
  }
 ],
 "metadata": {
  "kernelspec": {
   "display_name": "Python 3.8.0 32-bit",
   "language": "python",
   "name": "python3"
  },
  "language_info": {
   "codemirror_mode": {
    "name": "ipython",
    "version": 3
   },
   "file_extension": ".py",
   "mimetype": "text/x-python",
   "name": "python",
   "nbconvert_exporter": "python",
   "pygments_lexer": "ipython3",
   "version": "3.8.0"
  },
  "vscode": {
   "interpreter": {
    "hash": "8c35cf7207c93cfde9b5fb6a4f51b6c547077b8fcbf36c11645415366e8e0936"
   }
  }
 },
 "nbformat": 4,
 "nbformat_minor": 5
}
