{
 "cells": [
  {
   "cell_type": "code",
   "execution_count": 1,
   "metadata": {},
   "outputs": [],
   "source": [
    "import numpy as np\n",
    "import matplotlib.pyplot as plt\n",
    "import cv2"
   ]
  },
  {
   "cell_type": "code",
   "execution_count": 2,
   "metadata": {},
   "outputs": [],
   "source": [
    "def ShF2(x_c1,x_c2,x_c3,y_c1,y_c2,y_c3,t_c1,t_c2,t_c3):\n",
    "    return 2.224e-8 * np.sqrt(\n",
    "    1.897e23 * t_c3 ** 2 * y_c3 ** 6 + 7.785e6 * t_c3 ** 2 * x_c3 * y_c3 ** 5 + 5.691e23 * t_c3 ** 2 * x_c3 ** 2 * y_c3 ** 4 + 1.557e7 * t_c3 ** 2 * x_c3 ** 3 * y_c3 ** 3 + 1.392e18 * t_c3 * y_c3 ** 3 + 2.742e23 * t_c2 * y_c2 ** 3 * t_c3 * y_c3 ** 3 - 1.314e22 * t_c2 * x_c2 * y_c2 ** 2 * t_c3 *\n",
    "    y_c3 ** 3 + 1.025e22 * t_c2 * y_c2 ** 2 * t_c3 * y_c3 ** 3 + 2.742e23 * t_c2 * x_c2 ** 2 * y_c2 * t_c3 * y_c3 ** 3 - 1.314e22 * t_c2 * x_c2 ** 3 * t_c3 * y_c3 ** 3 + 1.025e22 * t_c2 * x_c2 ** 2 * t_c3 * y_c3 ** 3 + 3.444e22 * t_c1 * y_c1 ** 3 * t_c3 * y_c3 ** 3 + 2.562e22 * t_c1 * x_c1 * y_c1 ** 2 * t_c3 * y_c3 ** 3 + 3.444e22 *\n",
    "    t_c1 * x_c1 ** 2 * y_c1 * t_c3 * y_c3 ** 3 + 2.562e22 * t_c1 * x_c1 ** 3 * t_c3 * y_c3 ** 3 + 5.691e23 * t_c3 ** 2 * x_c3 ** 4 * y_c3 ** 2 + 3.779e19 * t_c3 * x_c3 * y_c3 ** 2 + 1.314e22 * t_c2 * y_c2 ** 3 * t_c3 * x_c3 * y_c3 ** 2 + 2.742e23 * t_c2 * x_c2 * y_c2 ** 2 * t_c3 * x_c3 * y_c3 ** 2 + 1.377e22 * t_c2 * y_c2 ** 2 * t_c3 * x_c3 *\n",
    "    y_c3 ** 2 + 1.314e22 * t_c2 * x_c2 ** 2 * y_c2 * t_c3 * x_c3 * y_c3 ** 2 + 2.742e23 * t_c2 * x_c2 ** 3 * t_c3 * x_c3 * y_c3 ** 2 + 1.377e22 * t_c2 * x_c2 ** 2 * t_c3 * x_c3 * y_c3 ** 2 - 2.562e22 * t_c1 * y_c1 ** 3 * t_c3 * x_c3 * y_c3 ** 2 + 3.444e22 * t_c1 * x_c1 * y_c1 ** 2 * t_c3 * x_c3 * y_c3 ** 2 - 2.562e22 * t_c1 * x_c1 ** 2 *\n",
    "    y_c1 * t_c3 * x_c3 * y_c3 ** 2 + 3.444e22 * t_c1 * x_c1 ** 3 * t_c3 * x_c3 * y_c3 ** 2 + 7.785e6 * t_c3 ** 2 * x_c3 ** 5 * y_c3 + 1.392e18 * t_c3 * x_c3 ** 2 * y_c3 + 2.742e23 * t_c2 * y_c2 ** 3 * t_c3 * x_c3 ** 2 * y_c3 - 1.314e22 * t_c2 * x_c2 * y_c2 ** 2 * t_c3 * x_c3 ** 2 * y_c3 + 1.025e22 * t_c2 * y_c2 ** 2 * t_c3 * x_c3 ** 2 * y_c3\n",
    "    + 2.742e23 * t_c2 * x_c2 ** 2 * y_c2 * t_c3 * x_c3 ** 2 * y_c3 - 1.314e22 * t_c2 * x_c2 ** 3 * t_c3 * x_c3 ** 2 * y_c3 + 1.025e22 * t_c2 * x_c2 ** 2 * t_c3 * x_c3 ** 2 * y_c3 + 3.444e22 * t_c1 * y_c1 ** 3 * t_c3 * x_c3 ** 2 * y_c3 + 2.562e22 * t_c1 * x_c1 * y_c1 ** 2 * t_c3 * x_c3 ** 2 * y_c3 + 3.444e22 * t_c1 * x_c1 ** 2 * y_c1 *\n",
    "    t_c3 * x_c3 ** 2 * y_c3 + 2.562e22 * t_c1 * x_c1 ** 3 * t_c3 * x_c3 ** 2 * y_c3 + 1.897e23 * t_c3 ** 2 * x_c3 ** 6 + 3.779e19 * t_c3 * x_c3 ** 3 + 1.314e22 * t_c2 * y_c2 ** 3 * t_c3 * x_c3 ** 3 + 2.742e23 * t_c2 * x_c2 * y_c2 ** 2 * t_c3 * x_c3 ** 3 + 1.377e22 * t_c2 * y_c2 ** 2 * t_c3 * x_c3 ** 3 + 1.314e22 * t_c2 * x_c2 ** 2 *\n",
    "    y_c2 * t_c3 * x_c3 ** 3 + 2.742e23 * t_c2 * x_c2 ** 3 * t_c3 * x_c3 ** 3 + 1.377e22 * t_c2 * x_c2 ** 2 * t_c3 * x_c3 ** 3 - 2.562e22 * t_c1 * y_c1 ** 3 * t_c3 * x_c3 ** 3 + 3.444e22 * t_c1 * x_c1 * y_c1 ** 2 * t_c3 * x_c3 ** 3 - 2.562e22 * t_c1 * x_c1 ** 2 * y_c1 * t_c3 * x_c3 ** 3 + 3.444e22 * t_c1 * x_c1 ** 3 * t_c3 * x_c3 ** 3 +\n",
    "    1.115e23 * t_c2 ** 2 * y_c2 ** 6 - 8.982e6 * t_c2 ** 2 * x_c2 * y_c2 ** 5 + 7.882e21 * t_c2 ** 2 * y_c2 ** 5 + 3.346e23 * t_c2 ** 2 * x_c2 ** 2 * y_c2 ** 4 - 9.482e21 * t_c2 ** 2 * x_c2 * y_c2 ** 4 + 7.83e21 * t_c2 ** 2 * y_c2 ** 4 - 1.796e7 * t_c2 ** 2 * x_c2 ** 3 * y_c2 ** 3 + 1.576e22 * t_c2 ** 2 * x_c2 ** 2 * y_c2 ** 3 + 2.315e18 * t_c2 * y_c2 ** 3\n",
    "    - 2.371e22 * t_c1 * y_c1 ** 3 * t_c2 * y_c2 ** 3 + 1.97e22 * t_c1 * x_c1 * y_c1 ** 2 * t_c2 * y_c2 ** 3 - 2.371e22 * t_c1 * x_c1 ** 2 * y_c1 * t_c2 * y_c2 ** 3 + 1.97e22 * t_c1 * x_c1 ** 3 * t_c2 * y_c2 ** 3 + 3.346e23 * t_c2 ** 2 * x_c2 ** 4 * y_c2 ** 2 - 1.896e22 * t_c2 ** 2 * x_c2 ** 3 * y_c2 ** 2 + 1.566e22 * t_c2 ** 2 * x_c2 ** 2 * y_c2 ** 2 +\n",
    "    2.467e19 * t_c2 * x_c2 * y_c2 ** 2 - 1.97e22 * t_c1 * y_c1 ** 3 * t_c2 * x_c2 * y_c2 ** 2 - 2.371e22 * t_c1 * x_c1 * y_c1 ** 2 * t_c2 * x_c2 * y_c2 ** 2 - 1.97e22 * t_c1 * x_c1 ** 2 * y_c1 * t_c2 * x_c2 * y_c2 ** 2 - 2.371e22 * t_c1 * x_c1 ** 3 * t_c2 * x_c2 * y_c2 ** 2 + 3.432e18 * t_c2 * y_c2 ** 2 + 1.12e6 * t_c1 * y_c1 ** 3 *\n",
    "    t_c2 * y_c2 ** 2 + 3.915e22 * t_c1 * x_c1 * y_c1 ** 2 * t_c2 * y_c2 ** 2 + 1.12e6 * t_c1 * x_c1 ** 2 * y_c1 * t_c2 * y_c2 ** 2 + 3.915e22 * t_c1 * x_c1 ** 3 * t_c2 * y_c2 ** 2 - 8.982e6 * t_c2 ** 2 * x_c2 ** 5 * y_c2 + 7.882e21 * t_c2 ** 2 * x_c2 ** 4 * y_c2 + 2.315e18 * t_c2 * x_c2 ** 2 * y_c2 - 2.371e22 * t_c1 * y_c1 ** 3 * t_c2 *\n",
    "    x_c2 ** 2 * y_c2 + 1.97e22 * t_c1 * x_c1 * y_c1 ** 2 * t_c2 * x_c2 ** 2 * y_c2 - 2.371e22 * t_c1 * x_c1 ** 2 * y_c1 * t_c2 * x_c2 ** 2 * y_c2 + 1.97e22 * t_c1 * x_c1 ** 3 * t_c2 * x_c2 ** 2 * y_c2 + 1.115e23 * t_c2 ** 2 * x_c2 ** 6 - 9.482e21 * t_c2 ** 2 * x_c2 ** 5 + 7.83e21 * t_c2 ** 2 * x_c2 ** 4 + 2.467e19 * t_c2 * x_c2 ** 3 -\n",
    "    1.97e22 * t_c1 * y_c1 ** 3 * t_c2 * x_c2 ** 3 - 2.371e22 * t_c1 * x_c1 * y_c1 ** 2 * t_c2 * x_c2 ** 3 - 1.97e22 * t_c1 * x_c1 ** 2 * y_c1 * t_c2 * x_c2 ** 3 - 2.371e22 * t_c1 * x_c1 ** 3 * t_c2 * x_c2 ** 3 + 3.432e18 * t_c2 * x_c2 ** 2 + 1.12e6 * t_c1 * y_c1 ** 3 * t_c2 * x_c2 ** 2 + 3.915e22 * t_c1 * x_c1 * y_c1 ** 2 * t_c2 * x_c2 ** 2 +\n",
    "    1.12e6 * t_c1 * x_c1 ** 2 * y_c1 * t_c2 * x_c2 ** 2 + 3.915e22 * t_c1 * x_c1 ** 3 * t_c2 * x_c2 ** 2 + 4.894e22 * t_c1 ** 2 * y_c1 ** 6 + 7.438e6 * t_c1 ** 2 * x_c1 * y_c1 ** 5 + 1.468e23 * t_c1 ** 2 * x_c1 ** 2 * y_c1 ** 4 + 1.488e7 * t_c1 ** 2 * x_c1 ** 3 * y_c1 ** 3 - 2.425e18 * t_c1 * y_c1 ** 3 + 1.468e23 * t_c1 ** 2 * x_c1 ** 4 * y_c1 ** 2 +\n",
    "    8.581e18 * t_c1 * x_c1 * y_c1 ** 2 + 7.438e6 * t_c1 ** 2 * x_c1 ** 5 * y_c1 - 2.425e18 * t_c1 * x_c1 ** 2 * y_c1 + 4.894e22 * t_c1 ** 2 * x_c1 ** 6 + 8.581e18 * t_c1 * x_c1 ** 3 + 2.022e15)"
   ]
  },
  {
   "cell_type": "code",
   "execution_count": 3,
   "metadata": {},
   "outputs": [],
   "source": [
    "\n",
    "def ShM1(x_c1,x_c2,x_c3,y_c1,y_c2,y_c3,t_c1,t_c2,t_c3):\n",
    "    return 2.8e-53*np.sqrt(5.375e113*t_c3**2*y_c3**8-4.348e113*t_c3**2*y_c3**7+1.0e0*(2.15e114*t_c3**2*x_c3**2+2.099e113*t_c3**2*x_c3+9.452e112*t_c3**2)*y_c3**6+1.0e0*\n",
    "(-1.304e114*t_c3**2*x_c3**2-6.386e112*t_c3**2*x_c3)*y_c3**5+1.0e0*(3.225e114*t_c3**2*x_c3**4+6.297e113*t_c3**2*x_c3**3+2.48e113*t_c3**2*x_c3**2+1.0e0*(8.006e113*t_c2*y_c2**4-1.029e113*t_c2*y_c2**3+1.0e0*\n",
    "(1.601e114*t_c2*x_c2**2+7.592e112*t_c2*x_c2-3.816e102*t_c2)*y_c2**2-1.029e113*t_c2*x_c2**2*y_c2+8.006e113*t_c2*x_c2**4+7.592e112*t_c2*x_c2**3-3.816e102*t_c2*x_c2**2-3.578e103*t_c1*y_c1**4-\n",
    "7.156e103*t_c1*x_c1**2*y_c1**2-3.578e103*t_c1*x_c1**4+4.578e109)*t_c3)*y_c3**4+1.0e0*(-1.304e114*t_c3**2*x_c3**4-1.277e113*t_c3**2*x_c3**3+1.0e0*(-3.173e113*t_c2*y_c2**4+4.913e112*t_c2*y_c2**3+\n",
    "1.0e0*(-6.346e113*t_c2*x_c2**2-1.79e112*t_c2*x_c2+2.201e102*t_c2)*y_c2**2+4.913e112*t_c2*x_c2**2*y_c2-3.173e113*t_c2*x_c2**4-1.79e112*t_c2*x_c2**3+2.201e102*t_c2*x_c2**2+2.064e103*t_c1*\n",
    "y_c1**4+4.127e103*t_c1*x_c1**2*y_c1**2+2.064e103*t_c1*x_c1**4-1.66e109)*t_c3)*y_c3**3+1.0e0*(2.15e114*t_c3**2*x_c3**6+6.297e113*t_c3**2*x_c3**5+2.125e113*t_c3**2*x_c3**4+1.0e0*(1.601e114*t_c2*y_c2**4-\n",
    "2.057e113*t_c2*y_c2**3+1.0e0*(3.202e114*t_c2*x_c2**2+1.518e113*t_c2*x_c2-7.633e102*t_c2)*y_c2**2-2.057e113*t_c2*x_c2**2*y_c2+1.601e114*t_c2*x_c2**4+1.518e113*t_c2*x_c2**3-7.633e102*t_c2*\n",
    "x_c2**2-7.156e103*t_c1*y_c1**4-1.431e104*t_c1*x_c1**2*y_c1**2-7.156e103*t_c1*x_c1**4+9.155e109)*t_c3*x_c3**2+1.0e0*(2.031e113*t_c2*y_c2**4-3.055e112*t_c2*y_c2**3+1.0e0*\n",
    "(4.062e113*t_c2*x_c2**2+4.972e112*t_c2*x_c2-3.395e101*t_c2)*y_c2**2-3.055e112*t_c2*x_c2**2*y_c2+2.031e113*t_c2*x_c2**4+4.972e112*t_c2*x_c2**3-3.395e101*t_c2*x_c2**2-3.183e102*t_c1*y_c1**4-\n",
    "6.366e102*t_c1*x_c1**2*y_c1**2-3.183e102*t_c1*x_c1**4+1.569e109)*t_c3*x_c3)*y_c3**2+1.0e0*(-4.348e113*t_c3**2*x_c3**6-6.386e112*t_c3**2*x_c3**5+1.0e0*(-3.173e113*t_c2*y_c2**4+4.913e112*t_c2*y_c2**3+\n",
    "1.0e0*(-6.346e113*t_c2*x_c2**2-1.79e112*t_c2*x_c2+2.201e102*t_c2)*y_c2**2+4.913e112*t_c2*x_c2**2*y_c2-3.173e113*t_c2*x_c2**4-1.79e112*t_c2*x_c2**3+2.201e102*t_c2*x_c2**2+2.064e103*t_c1*\n",
    "y_c1**4+4.127e103*t_c1*x_c1**2*y_c1**2+2.064e103*t_c1*x_c1**4-1.66e109)*t_c3*x_c3**2)*y_c3+5.375e113*t_c3**2*x_c3**8+2.099e113*t_c3**2*x_c3**7+5.898e112*t_c3**2*x_c3**6+1.0e0*(8.006e113*t_c2*y_c2**4-\n",
    "1.029e113*t_c2*y_c2**3+1.0e0*(1.601e114*t_c2*x_c2**2+7.592e112*t_c2*x_c2-3.816e102*t_c2)*y_c2**2-1.029e113*t_c2*x_c2**2*y_c2+8.006e113*t_c2*x_c2**4+7.592e112*t_c2*x_c2**3-3.816e102*t_c2*\n",
    "x_c2**2-3.578e103*t_c1*y_c1**4-7.156e103*t_c1*x_c1**2*y_c1**2-3.578e103*t_c1*x_c1**4+4.578e109)*t_c3*x_c3**4+1.0e0*(2.031e113*t_c2*y_c2**4-3.055e112*t_c2*y_c2**3+1.0e0*\n",
    "(4.062e113*t_c2*x_c2**2+4.972e112*t_c2*x_c2-3.395e101*t_c2)*y_c2**2-3.055e112*t_c2*x_c2**2*y_c2+2.031e113*t_c2*x_c2**4+4.972e112*t_c2*x_c2**3-3.395e101*t_c2*x_c2**2-3.183e102*t_c1*y_c1**4-\n",
    "6.366e102*t_c1*x_c1**2*y_c1**2-3.183e102*t_c1*x_c1**4+1.569e109)*t_c3*x_c3**3+3.48e113*t_c2**2*y_c2**8-9.982e112*t_c2**2*y_c2**7+1.0e0*(1.392e114*t_c2**2*x_c2**2+4.06e112*t_c2**2*x_c2+1.84e112*t_c2**2)*y_c2**6\n",
    "+1.0e0*(-2.994e113*t_c2**2*x_c2**2-3.244e111*t_c2**2*x_c2+1.102e102*t_c2**2)*y_c2**5+1.0e0*(2.088e114*t_c2**2*x_c2**4+1.218e113*t_c2**2*x_c2**3+5.705e112*t_c2**2*x_c2**2+1.39e102*t_c2**2*x_c2+1.401e92*\n",
    "t_c2**2+1.0e0*(-5.095e103*t_c1*y_c1**4-1.019e104*t_c1*x_c1**2*y_c1**2-5.095e103*t_c1*x_c1**4+3.737e109)*t_c2)*y_c2**4+1.0e0*\n",
    "(-2.994e113*t_c2**2*x_c2**4-6.488e111*t_c2**2*x_c2**3+2.204e102*t_c2**2*x_c2**2+1.0e0*(1.033e103*t_c1*y_c1**4+2.066e103*t_c1*x_c1**2*y_c1**2+1.033e103*t_c1*x_c1**4-5.104e108)*t_c2)*y_c2**3+1.0e0*(\n",
    "1.392e114*t_c2**2*x_c2**6+1.218e113*t_c2**2*x_c2**5+5.89e112*t_c2**2*x_c2**4+2.781e102*t_c2**2*x_c2**3+1.0e0*\n",
    "(2.801e92*t_c2**2+1.0e0*(-1.019e104*t_c1*y_c1**4-2.038e104*t_c1*x_c1**2*y_c1**2-1.019e104*t_c1*x_c1**4+7.475e109)*t_c2)*x_c2**2+1.0e0*\n",
    "(1.303e103*t_c1*y_c1**4+2.607e103*t_c1*x_c1**2*y_c1**2+1.303e103*t_c1*x_c1**4+6.72e108)*t_c2*x_c2+1.0e0*(2.626e93*t_c1*y_c1**4+5.252e93*t_c1*x_c1**2*y_c1**2+2.626e93*t_c1*x_c1**4-9.434e97)*t_c2)*\n",
    "y_c2**2+1.0e0*(-9.982e112*t_c2**2*x_c2**6-3.244e111*t_c2**2*x_c2**5+1.102e102*t_c2**2*x_c2**4+1.0e0*(1.033e103*t_c1*y_c1**4+2.066e103*t_c1*x_c1**2*y_c1**2+1.033e103*t_c1*x_c1**4-5.104e108)*t_c2*x_c2**2)*\n",
    "y_c2+3.48e113*t_c2**2*x_c2**8+4.06e112*t_c2**2*x_c2**7+2.025e112*t_c2**2*x_c2**6+1.39e102*t_c2**2*x_c2**5+1.0e0*\n",
    "(1.401e92*t_c2**2+1.0e0*(-5.095e103*t_c1*y_c1**4-1.019e104*t_c1*x_c1**2*y_c1**2-5.095e103*t_c1*x_c1**4+3.737e109)*t_c2)*x_c2**4+1.0e0*\n",
    "(1.303e103*t_c1*y_c1**4+2.607e103*t_c1*x_c1**2*y_c1**2+1.303e103*t_c1*x_c1**4+6.72e108)*t_c2*x_c2**3+1.0e0*(2.626e93*t_c1*y_c1**4+5.252e93*t_c1*x_c1**2*y_c1**2+2.626e93*t_c1*x_c1**4-9.434e97)*t_c2*\n",
    "x_c2**2+1.231e94*t_c1**2*y_c1**8+4.924e94*t_c1**2*x_c1**2*y_c1**6+1.0e0*(7.386e94*t_c1**2*x_c1**4-8.845e98*t_c1)*y_c1**4+1.0e0*(4.924e94*t_c1**2*x_c1**6-1.769e99*t_c1*x_c1**2)*y_c1**2+1.231e94*t_c1**2*x_c1**8-\n",
    "8.845e98*t_c1*x_c1**4+1.275e105)"
   ]
  },
  {
   "cell_type": "code",
   "execution_count": 4,
   "metadata": {},
   "outputs": [],
   "source": [
    "def objective_function(sol, f1, f2):\n",
    "    n = sol.shape[0]\n",
    "    return np.sum(f1(*sol[0: n - 1])*sol[n - 1] + f2(*sol[0: n - 1])*(1 - sol[ n - 1]))"
   ]
  },
  {
   "cell_type": "code",
   "execution_count": 5,
   "metadata": {},
   "outputs": [],
   "source": [
    "bounds = [\n",
    "    [-0.4, 0.4], # xc\n",
    "    [-0.4, 0.4], # xc\n",
    "    [-0.4, 0.4], # xc\n",
    "    [-0.4, 0.4],  # yc\n",
    "    [-0.4, 0.4],  # yc\n",
    "    [-0.4, 0.4],  # yc\n",
    "    [0.005, 0.04], # t \n",
    "    [0.005, 0.04], # t \n",
    "    [0.005, 0.04], # t \n",
    "    [0,1] #alpha\n",
    "]"
   ]
  },
  {
   "cell_type": "markdown",
   "metadata": {},
   "source": [
    "# Evolutionary Programming"
   ]
  },
  {
   "cell_type": "code",
   "execution_count": 6,
   "metadata": {},
   "outputs": [],
   "source": [
    "from evolutionary_programming import evolutionary_programming\n"
   ]
  },
  {
   "cell_type": "code",
   "execution_count": 20,
   "metadata": {},
   "outputs": [],
   "source": [
    "it = 50\n",
    "sols = np.zeros((it,2))\n",
    "best = 10000000\n",
    "for i in range(it):\n",
    "    res = evolutionary_programming(objective_function, bounds, args = (ShF2, ShM1), popsize = 50, ngen = 100) \n",
    "    x = ShF2(*res['P'][0:res['P'].shape[0]-1])\n",
    "    y = ShM1(*res['P'][0:res['P'].shape[0]-1])\n",
    "    sols[i] = (x,y)\n",
    "    eu = np.sqrt(x**2 + y**2)\n",
    "    best = min(eu, best)"
   ]
  },
  {
   "cell_type": "code",
   "execution_count": 21,
   "metadata": {},
   "outputs": [
    {
     "name": "stdout",
     "output_type": "stream",
     "text": [
      "0.7775692195366684\n"
     ]
    },
    {
     "data": {
      "image/png": "[encoded data removed]",
      "text/plain": [
       "<Figure size 640x480 with 1 Axes>"
      ]
     },
     "metadata": {},
     "output_type": "display_data"
    }
   ],
   "source": [
    "plt.plot(sols[:,0], sols[:,1], 'o')\n",
    "print(best)"
   ]
  },
  {
   "cell_type": "code",
   "execution_count": null,
   "metadata": {},
   "outputs": [],
   "source": []
  }
 ],
 "metadata": {
  "kernelspec": {
   "display_name": "Python 3.8.0 32-bit",
   "language": "python",
   "name": "python3"
  },
  "language_info": {
   "codemirror_mode": {
    "name": "ipython",
    "version": 3
   },
   "file_extension": ".py",
   "mimetype": "text/x-python",
   "name": "python",
   "nbconvert_exporter": "python",
   "pygments_lexer": "ipython3",
   "version": "3.8.0"
  },
  "orig_nbformat": 4,
  "vscode": {
   "interpreter": {
    "hash": "8c35cf7207c93cfde9b5fb6a4f51b6c547077b8fcbf36c11645415366e8e0936"
   }
  }
 },
 "nbformat": 4,
 "nbformat_minor": 2
}
