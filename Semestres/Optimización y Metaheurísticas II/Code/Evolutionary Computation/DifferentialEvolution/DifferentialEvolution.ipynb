{
 "cells": [
  {
   "cell_type": "code",
   "execution_count": 16,
   "metadata": {},
   "outputs": [],
   "source": [
    "import numpy as np\n",
    "import pandas\n",
    "import matplotlib.pyplot as plt\n",
    "import cv2\n",
    "from sklearn.metrics import accuracy_score, f1_score"
   ]
  },
  {
   "cell_type": "code",
   "execution_count": 17,
   "metadata": {},
   "outputs": [
    {
     "data": {
      "image/png": "[encoded data removed]",
      "text/plain": [
       "<Figure size 640x480 with 1 Axes>"
      ]
     },
     "metadata": {},
     "output_type": "display_data"
    }
   ],
   "source": [
    "img = cv2.imread(\"../../data/mushroom.png\")\n",
    "plt.imshow(cv2.cvtColor(img, cv2.COLOR_BGR2RGB))\n",
    "plt.show()"
   ]
  },
  {
   "cell_type": "code",
   "execution_count": 18,
   "metadata": {},
   "outputs": [
    {
     "data": {
      "text/plain": [
       "40188"
      ]
     },
     "execution_count": 18,
     "metadata": {},
     "output_type": "execute_result"
    }
   ],
   "source": [
    "def objective_function(vec,out, img):\n",
    "    # blank mask for drawing the shapes\n",
    "    shapes = np.zeros_like(img, np.uint8)\n",
    "    # draw circle\n",
    "    cv2.circle(shapes, (int(vec[0]), int(vec[1])), int(vec[2]), (vec[3], vec[4], vec[5]), cv2.FILLED)\n",
    "    mask = shapes.astype(bool)\n",
    "    shapes[mask] = cv2.addWeighted(out, 1-vec[6], shapes, vec[6], 0)[mask]\n",
    "\n",
    "    # plt.imshow(cv2.cvtColor(shapes, cv2.COLOR_BGR2RGB))\n",
    "    # plt.show()\n",
    "\n",
    "    # bOut = out[: ,: ,0]\n",
    "    # gOut = out[: ,: ,1]\n",
    "    # rOut = out[: ,: ,2]\n",
    "\n",
    "    # bImg = img[:,:,0]\n",
    "    # gImg = img[:,:,1]\n",
    "    # rImg= img[:,:,2]\n",
    "\n",
    "    return np.sum(np.abs(np.subtract(img[mask],shapes[mask]))) \n",
    "\n",
    "    # b  = f1_score(bImg, bOut, average='micro')\n",
    "    # g =  f1_score(gImg, gOut, average='micro')\n",
    "    # r =  f1_score(rImg, rOut, average='micro')\n",
    "    # return np.average((r, g, b)) \n",
    "    \n",
    "out = np.zeros_like(img)\n",
    "objective_function([100,90, 8, 0,0,255,0.2], out, img) #X,Y,r,R,G,B,alpha"
   ]
  },
  {
   "cell_type": "code",
   "execution_count": 19,
   "metadata": {},
   "outputs": [],
   "source": [
    "def draw_circle(vec, out):\n",
    "    # shapes = np.zeros_like(out, np.uint8)\n",
    "\n",
    "    # cv2.circle(shapes, (int(vec[0]), int(vec[1])), int(vec[2]), (vec[3], vec[4], vec[5]), cv2.FILLED)\n",
    "    # mask = out.astype(bool)\n",
    "    # out[mask] = cv2.addWeighted(out, 1-vec[6], shapes, vec[6], 0)[mask]\n",
    "\n",
    "    plt.imshow(cv2.cvtColor(out, cv2.COLOR_BGR2RGB))\n",
    "    plt.show()"
   ]
  },
  {
   "cell_type": "markdown",
   "metadata": {},
   "source": [
    "# Scipy Differential Evolution"
   ]
  },
  {
   "cell_type": "code",
   "execution_count": 20,
   "metadata": {},
   "outputs": [],
   "source": [
    "from scipy.optimize import differential_evolution"
   ]
  },
  {
   "cell_type": "code",
   "execution_count": 21,
   "metadata": {},
   "outputs": [],
   "source": [
    "w,h,c = img.shape\n",
    "\n",
    "bounds = [\n",
    "    [0,w],# x\n",
    "    [0,h], # y\n",
    "    [3,(w+h)/4], # radius\n",
    "    [0,255], # R\n",
    "    [0,255], # G\n",
    "    [0,255], # B\n",
    "    [0.5,1], # alpha\n",
    "]"
   ]
  },
  {
   "cell_type": "code",
   "execution_count": 23,
   "metadata": {},
   "outputs": [
    {
     "name": "stdout",
     "output_type": "stream",
     "text": [
      "     fun: 0.0\n",
      " message: 'Optimization terminated successfully.'\n",
      "    nfev: 9248\n",
      "     nit: 87\n",
      " success: True\n",
      "       x: array([108.37939481,  82.61300019,   3.80690297, 252.10013026,\n",
      "       253.25931777, 254.92307133,   0.99812267])\n"
     ]
    },
    {
     "data": {
      "image/png": "[encoded data removed]",
      "text/plain": [
       "<Figure size 640x480 with 1 Axes>"
      ]
     },
     "metadata": {},
     "output_type": "display_data"
    }
   ],
   "source": [
    "nIter = 1\n",
    "for i in range(nIter):\n",
    "    res = differential_evolution(objective_function, bounds, args=(out,img))\n",
    "    print(res)\n",
    "    # plt.imshow(cv2.cvtColor(out, cv2.COLOR_BGR2RGB))\n",
    "    # plt.show()\n",
    "    res\n",
    "    draw_circle(res.x, out)\n",
    "    "
   ]
  },
  {
   "cell_type": "markdown",
   "metadata": {},
   "source": [
    "# Project\n",
    "\n",
    "## Recommendation\n",
    "\n",
    "Work along *scipy*. The idea is to make the project behave as scipy does.\n",
    "\n",
    "Start with something small and easy. With few details and an image of 200 x 200 approx.\n",
    "\n",
    "## Individual\n",
    "\n",
    "The individual is recommended to have:\n",
    "\n",
    "- **x** - x coordinate value of the circle.\n",
    "\n",
    "- **y** - y coordinate value of the circle.\n",
    "\n",
    "- **r** - Radius of the circle, recommended value is (3 or something like that to half the image size).\n",
    "\n",
    "- **Colors** - RGBA\n",
    "\n",
    "    - Alpha is optional.\n",
    "\n",
    "## How it works\n",
    "\n",
    "This algorithm has to execute itself as many times as circles the image has.\n",
    "\n",
    "Each execution will add a new circle that minimizes the difference between the image we're building and the target one."
   ]
  }
 ],
 "metadata": {
  "kernelspec": {
   "display_name": "Python 3.8.0 32-bit",
   "language": "python",
   "name": "python3"
  },
  "language_info": {
   "codemirror_mode": {
    "name": "ipython",
    "version": 3
   },
   "file_extension": ".py",
   "mimetype": "text/x-python",
   "name": "python",
   "nbconvert_exporter": "python",
   "pygments_lexer": "ipython3",
   "version": "3.8.0"
  },
  "orig_nbformat": 4,
  "vscode": {
   "interpreter": {
    "hash": "8c35cf7207c93cfde9b5fb6a4f51b6c547077b8fcbf36c11645415366e8e0936"
   }
  }
 },
 "nbformat": 4,
 "nbformat_minor": 2
}
