{
 "cells": [
  {
   "cell_type": "code",
   "execution_count": 211,
   "metadata": {},
   "outputs": [],
   "source": [
    "import numpy as np\n",
    "import pandas\n",
    "import matplotlib.pyplot as plt\n",
    "import cv2\n",
    "from sklearn.metrics import accuracy_score, f1_score"
   ]
  },
  {
   "cell_type": "code",
   "execution_count": 126,
   "metadata": {},
   "outputs": [
    {
     "data": {
      "image/png": "[encoded data removed]",
      "text/plain": [
       "<Figure size 640x480 with 1 Axes>"
      ]
     },
     "metadata": {},
     "output_type": "display_data"
    }
   ],
   "source": [
    "img = cv2.imread(\"../../data/mushroom.png\")\n",
    "plt.imshow(cv2.cvtColor(img, cv2.COLOR_BGR2RGB))\n",
    "plt.show()"
   ]
  },
  {
   "cell_type": "code",
   "execution_count": null,
   "metadata": {},
   "outputs": [],
   "source": [
    "def objective_function(img, ind):\n",
    "    ind = cv2.circle(img, (ind[0],ind[1]), ind[2], (ind[]), thickness)\n",
    "    return f1_score(img, ind, average='micro')\n",
    "\n",
    "objective_function(img, [100,100, 50, 255,0,0,0.5]) #X,Y,r,R,G,B,alpha"
   ]
  },
  {
   "cell_type": "markdown",
   "metadata": {},
   "source": [
    "# Scipy Differential Evolution"
   ]
  },
  {
   "cell_type": "code",
   "execution_count": 214,
   "metadata": {},
   "outputs": [],
   "source": [
    "from scipy.optimize import differential_evolution"
   ]
  },
  {
   "cell_type": "code",
   "execution_count": 222,
   "metadata": {},
   "outputs": [],
   "source": [
    "w,h,c = img.shape\n",
    "\n",
    "bounds = [\n",
    "    [0,w],# x\n",
    "    [0,h], # y\n",
    "    [3,(w+h)/4], # radius\n",
    "    [0,255], # R\n",
    "    [0,255], # G\n",
    "    [0,255], # B\n",
    "    [0,255], # alpha\n",
    "]"
   ]
  },
  {
   "cell_type": "code",
   "execution_count": 223,
   "metadata": {},
   "outputs": [
    {
     "ename": "RuntimeError",
     "evalue": "The map-like callable must be of the form f(func, iterable), returning a sequence of numbers the same length as 'iterable'",
     "output_type": "error",
     "traceback": [
      "\u001b[1;31m---------------------------------------------------------------------------\u001b[0m",
      "\u001b[1;31mTypeError\u001b[0m                                 Traceback (most recent call last)",
      "File \u001b[1;32mc:\\Users\\scago\\AppData\\Local\\Programs\\Python\\Python38-32\\lib\\site-packages\\scipy\\optimize\\_differentialevolution.py:1116\u001b[0m, in \u001b[0;36mDifferentialEvolutionSolver._calculate_population_energies\u001b[1;34m(self, population)\u001b[0m\n\u001b[0;32m   1115\u001b[0m \u001b[39mtry\u001b[39;00m:\n\u001b[1;32m-> 1116\u001b[0m     calc_energies \u001b[39m=\u001b[39m \u001b[39mlist\u001b[39;49m(\n\u001b[0;32m   1117\u001b[0m         \u001b[39mself\u001b[39;49m\u001b[39m.\u001b[39;49m_mapwrapper(\u001b[39mself\u001b[39;49m\u001b[39m.\u001b[39;49mfunc, parameters_pop[\u001b[39m0\u001b[39;49m:S])\n\u001b[0;32m   1118\u001b[0m     )\n\u001b[0;32m   1119\u001b[0m     calc_energies \u001b[39m=\u001b[39m np\u001b[39m.\u001b[39msqueeze(calc_energies)\n",
      "File \u001b[1;32mc:\\Users\\scago\\AppData\\Local\\Programs\\Python\\Python38-32\\lib\\site-packages\\scipy\\_lib\\_util.py:407\u001b[0m, in \u001b[0;36m_FunctionWrapper.__call__\u001b[1;34m(self, x)\u001b[0m\n\u001b[0;32m    406\u001b[0m \u001b[39mdef\u001b[39;00m \u001b[39m__call__\u001b[39m(\u001b[39mself\u001b[39m, x):\n\u001b[1;32m--> 407\u001b[0m     \u001b[39mreturn\u001b[39;00m \u001b[39mself\u001b[39;49m\u001b[39m.\u001b[39;49mf(x, \u001b[39m*\u001b[39;49m\u001b[39mself\u001b[39;49m\u001b[39m.\u001b[39;49margs)\n",
      "\u001b[1;31mTypeError\u001b[0m: objective_function() takes 2 positional arguments but 201 were given",
      "\nThe above exception was the direct cause of the following exception:\n",
      "\u001b[1;31mRuntimeError\u001b[0m                              Traceback (most recent call last)",
      "Cell \u001b[1;32mIn [223], line 1\u001b[0m\n\u001b[1;32m----> 1\u001b[0m res \u001b[38;5;241m=\u001b[39m \u001b[43mdifferential_evolution\u001b[49m\u001b[43m(\u001b[49m\u001b[43mobjective_function\u001b[49m\u001b[43m,\u001b[49m\u001b[43m \u001b[49m\u001b[43mbounds\u001b[49m\u001b[43m,\u001b[49m\u001b[43m \u001b[49m\u001b[43margs\u001b[49m\u001b[43m \u001b[49m\u001b[38;5;241;43m=\u001b[39;49m\u001b[43m \u001b[49m\u001b[43m(\u001b[49m\u001b[43mimg\u001b[49m\u001b[43m)\u001b[49m\u001b[43m)\u001b[49m\n\u001b[0;32m      2\u001b[0m res\n",
      "File \u001b[1;32mc:\\Users\\scago\\AppData\\Local\\Programs\\Python\\Python38-32\\lib\\site-packages\\scipy\\optimize\\_differentialevolution.py:392\u001b[0m, in \u001b[0;36mdifferential_evolution\u001b[1;34m(func, bounds, args, strategy, maxiter, popsize, tol, mutation, recombination, seed, callback, disp, polish, init, atol, updating, workers, constraints, x0, integrality, vectorized)\u001b[0m\n\u001b[0;32m    375\u001b[0m \u001b[39m# using a context manager means that any created Pool objects are\u001b[39;00m\n\u001b[0;32m    376\u001b[0m \u001b[39m# cleared up.\u001b[39;00m\n\u001b[0;32m    377\u001b[0m \u001b[39mwith\u001b[39;00m DifferentialEvolutionSolver(func, bounds, args\u001b[39m=\u001b[39margs,\n\u001b[0;32m    378\u001b[0m                                  strategy\u001b[39m=\u001b[39mstrategy,\n\u001b[0;32m    379\u001b[0m                                  maxiter\u001b[39m=\u001b[39mmaxiter,\n\u001b[1;32m   (...)\u001b[0m\n\u001b[0;32m    390\u001b[0m                                  integrality\u001b[39m=\u001b[39mintegrality,\n\u001b[0;32m    391\u001b[0m                                  vectorized\u001b[39m=\u001b[39mvectorized) \u001b[39mas\u001b[39;00m solver:\n\u001b[1;32m--> 392\u001b[0m     ret \u001b[39m=\u001b[39m solver\u001b[39m.\u001b[39;49msolve()\n\u001b[0;32m    394\u001b[0m \u001b[39mreturn\u001b[39;00m ret\n",
      "File \u001b[1;32mc:\\Users\\scago\\AppData\\Local\\Programs\\Python\\Python38-32\\lib\\site-packages\\scipy\\optimize\\_differentialevolution.py:984\u001b[0m, in \u001b[0;36mDifferentialEvolutionSolver.solve\u001b[1;34m(self)\u001b[0m\n\u001b[0;32m    979\u001b[0m     \u001b[39mself\u001b[39m\u001b[39m.\u001b[39mfeasible, \u001b[39mself\u001b[39m\u001b[39m.\u001b[39mconstraint_violation \u001b[39m=\u001b[39m (\n\u001b[0;32m    980\u001b[0m         \u001b[39mself\u001b[39m\u001b[39m.\u001b[39m_calculate_population_feasibilities(\u001b[39mself\u001b[39m\u001b[39m.\u001b[39mpopulation))\n\u001b[0;32m    982\u001b[0m     \u001b[39m# only work out population energies for feasible solutions\u001b[39;00m\n\u001b[0;32m    983\u001b[0m     \u001b[39mself\u001b[39m\u001b[39m.\u001b[39mpopulation_energies[\u001b[39mself\u001b[39m\u001b[39m.\u001b[39mfeasible] \u001b[39m=\u001b[39m (\n\u001b[1;32m--> 984\u001b[0m         \u001b[39mself\u001b[39;49m\u001b[39m.\u001b[39;49m_calculate_population_energies(\n\u001b[0;32m    985\u001b[0m             \u001b[39mself\u001b[39;49m\u001b[39m.\u001b[39;49mpopulation[\u001b[39mself\u001b[39;49m\u001b[39m.\u001b[39;49mfeasible]))\n\u001b[0;32m    987\u001b[0m     \u001b[39mself\u001b[39m\u001b[39m.\u001b[39m_promote_lowest_energy()\n\u001b[0;32m    989\u001b[0m \u001b[39m# do the optimization.\u001b[39;00m\n",
      "File \u001b[1;32mc:\\Users\\scago\\AppData\\Local\\Programs\\Python\\Python38-32\\lib\\site-packages\\scipy\\optimize\\_differentialevolution.py:1123\u001b[0m, in \u001b[0;36mDifferentialEvolutionSolver._calculate_population_energies\u001b[1;34m(self, population)\u001b[0m\n\u001b[0;32m   1119\u001b[0m     calc_energies \u001b[39m=\u001b[39m np\u001b[39m.\u001b[39msqueeze(calc_energies)\n\u001b[0;32m   1120\u001b[0m \u001b[39mexcept\u001b[39;00m (\u001b[39mTypeError\u001b[39;00m, \u001b[39mValueError\u001b[39;00m) \u001b[39mas\u001b[39;00m e:\n\u001b[0;32m   1121\u001b[0m     \u001b[39m# wrong number of arguments for _mapwrapper\u001b[39;00m\n\u001b[0;32m   1122\u001b[0m     \u001b[39m# or wrong length returned from the mapper\u001b[39;00m\n\u001b[1;32m-> 1123\u001b[0m     \u001b[39mraise\u001b[39;00m \u001b[39mRuntimeError\u001b[39;00m(\n\u001b[0;32m   1124\u001b[0m         \u001b[39m\"\u001b[39m\u001b[39mThe map-like callable must be of the form f(func, iterable), \u001b[39m\u001b[39m\"\u001b[39m\n\u001b[0;32m   1125\u001b[0m         \u001b[39m\"\u001b[39m\u001b[39mreturning a sequence of numbers the same length as \u001b[39m\u001b[39m'\u001b[39m\u001b[39miterable\u001b[39m\u001b[39m'\u001b[39m\u001b[39m\"\u001b[39m\n\u001b[0;32m   1126\u001b[0m     ) \u001b[39mfrom\u001b[39;00m \u001b[39me\u001b[39;00m\n\u001b[0;32m   1128\u001b[0m \u001b[39mif\u001b[39;00m calc_energies\u001b[39m.\u001b[39msize \u001b[39m!=\u001b[39m S:\n\u001b[0;32m   1129\u001b[0m     \u001b[39mif\u001b[39;00m \u001b[39mself\u001b[39m\u001b[39m.\u001b[39mvectorized:\n",
      "\u001b[1;31mRuntimeError\u001b[0m: The map-like callable must be of the form f(func, iterable), returning a sequence of numbers the same length as 'iterable'"
     ]
    }
   ],
   "source": [
    "res = differential_evolution(objective_function, bounds, args = (img))\n",
    "res"
   ]
  },
  {
   "cell_type": "code",
   "execution_count": null,
   "metadata": {},
   "outputs": [],
   "source": []
  },
  {
   "cell_type": "markdown",
   "metadata": {},
   "source": [
    "# Project\n",
    "\n",
    "## Recommendation\n",
    "\n",
    "Work along *scipy*. The idea is to make the project behave as scipy does.\n",
    "\n",
    "Start with something small and easy. With few details and an image of 200 x 200 approx.\n",
    "\n",
    "## Individual\n",
    "\n",
    "The individual is recommended to have:\n",
    "\n",
    "- **x** - x coordinate value of the circle.\n",
    "\n",
    "- **y** - y coordinate value of the circle.\n",
    "\n",
    "- **r** - Radius of the circle, recommended value is (3 or something like that to half the image size).\n",
    "\n",
    "- **Colors** - RGBA\n",
    "\n",
    "    - Alpha is optional.\n",
    "\n",
    "## How it works\n",
    "\n",
    "This algorithm has to execute itself as many times as circles the image has.\n",
    "\n",
    "Each execution will add a new circle that minimizes the difference between the image we're building and the target one."
   ]
  }
 ],
 "metadata": {
  "kernelspec": {
   "display_name": "Python 3.8.0 32-bit",
   "language": "python",
   "name": "python3"
  },
  "language_info": {
   "codemirror_mode": {
    "name": "ipython",
    "version": 3
   },
   "file_extension": ".py",
   "mimetype": "text/x-python",
   "name": "python",
   "nbconvert_exporter": "python",
   "pygments_lexer": "ipython3",
   "version": "3.8.0"
  },
  "orig_nbformat": 4,
  "vscode": {
   "interpreter": {
    "hash": "8c35cf7207c93cfde9b5fb6a4f51b6c547077b8fcbf36c11645415366e8e0936"
   }
  }
 },
 "nbformat": 4,
 "nbformat_minor": 2
}
