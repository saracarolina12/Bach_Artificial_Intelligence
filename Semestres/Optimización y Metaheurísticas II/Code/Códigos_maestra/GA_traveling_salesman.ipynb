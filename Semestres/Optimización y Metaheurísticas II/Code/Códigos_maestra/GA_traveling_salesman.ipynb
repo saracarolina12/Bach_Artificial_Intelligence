{
 "cells": [
  {
   "cell_type": "code",
   "execution_count": 1,
   "metadata": {},
   "outputs": [],
   "source": [
    "import numpy as np\n",
    "import matplotlib.pyplot as plt\n"
   ]
  },
  {
   "cell_type": "markdown",
   "metadata": {},
   "source": [
    "# Generación del problema"
   ]
  },
  {
   "cell_type": "code",
   "execution_count": 2,
   "metadata": {},
   "outputs": [],
   "source": [
    "def get_nodes(n,lim):\n",
    "    mpositions = np.random.uniform(0,lim,(n,2))\n",
    "    mdist = np.zeros((n,n))\n",
    "    for i in range(n):\n",
    "        for j in range(i+1,n):\n",
    "            x1,y1 = mpositions[i,0],mpositions[i,1]\n",
    "            x2,y2 = mpositions[j,0],mpositions[j,1]\n",
    "            mdist[i,j] = mdist[j,i] = np.sqrt( (x1-x2)**2 + (y1-y2)**2 )\n",
    "    nnames = [chr(x) for x in range(ord('A'),ord('Z')+1)]\n",
    "    nnames = nnames[:n]\n",
    "    ndict = {n:i for i,n in enumerate(nnames)}\n",
    "    return nnames, mpositions, mdist, ndict\n",
    "nnames, mpositions, mdist, ndict = get_nodes(5,100)"
   ]
  },
  {
   "cell_type": "markdown",
   "metadata": {},
   "source": [
    "# Algoritmo genético"
   ]
  },
  {
   "cell_type": "code",
   "execution_count": 3,
   "metadata": {},
   "outputs": [],
   "source": [
    "NNodes = 10\n",
    "lim = 100\n",
    "nnames, mpositions, mdist, ndict = get_nodes(NNodes,lim)"
   ]
  },
  {
   "cell_type": "code",
   "execution_count": 4,
   "metadata": {},
   "outputs": [],
   "source": [
    "def fitness_individual(ind,mdist,ndict):\n",
    "    d = 0\n",
    "    for i in range(len(ind)-1):\n",
    "        n1 = ind[i]\n",
    "        n2 = ind[i+1]\n",
    "        d += mdist[ ndict[n1],ndict[n2] ]\n",
    "    return d"
   ]
  },
  {
   "cell_type": "code",
   "execution_count": 5,
   "metadata": {},
   "outputs": [],
   "source": [
    "def fitness_population(population,mdist,ndict):\n",
    "    N = len(population)\n",
    "    fitness = np.zeros((N))\n",
    "    for i in range(N):\n",
    "        fitness[i] = fitness_individual(population[i,:],mdist,ndict)\n",
    "    return fitness"
   ]
  },
  {
   "cell_type": "code",
   "execution_count": 6,
   "metadata": {},
   "outputs": [],
   "source": [
    "def initial_population(N,nnames):\n",
    "    population = np.zeros( (N,len(nnames)+1),'str')\n",
    "    population[:,0] = nnames[0]\n",
    "    population[:,-1] = nnames[0]\n",
    "    for i in range(N):\n",
    "        population[i,1:-1] = np.random.permutation( nnames[1:])\n",
    "    return population"
   ]
  },
  {
   "cell_type": "code",
   "execution_count": 7,
   "metadata": {},
   "outputs": [],
   "source": [
    "def draw_elite(mpositions,nnames,ndict,elite):\n",
    "    plt.figure()\n",
    "    plt.scatter(mpositions[:,0],mpositions[:,1])\n",
    "    for i in range(len(nnames)):\n",
    "        plt.text(mpositions[i,0],mpositions[i,1],nnames[i])\n",
    "    for i in range(len(elite)-1):\n",
    "        n1, n2 = elite[i] , elite[i+1]\n",
    "        i1, i2 = ndict[n1], ndict[n2]\n",
    "        x1, y1 = mpositions[i1,0], mpositions[i1,1]\n",
    "        x2, y2 = mpositions[i2,0], mpositions[i2,1]\n",
    "        plt.plot( [x1,x2],[y1,y2] )\n",
    "    plt.show()"
   ]
  },
  {
   "cell_type": "code",
   "execution_count": 8,
   "metadata": {},
   "outputs": [],
   "source": [
    "def parent_selection_tournament(population,fitness):\n",
    "    popsize = len(population)\n",
    "    i1, i2 = np.random.choice(popsize,2)\n",
    "    if fitness[i1] <= fitness[i2]:\n",
    "        return population[i1,:]\n",
    "    else:\n",
    "        return population[i2,:]"
   ]
  },
  {
   "cell_type": "code",
   "execution_count": 9,
   "metadata": {},
   "outputs": [],
   "source": [
    "def crossover(parent1,parent2,nnames):\n",
    "    #print(parent1)\n",
    "    #print(parent2)\n",
    "    pc = np.random.randint(1,len(parent1)-2)\n",
    "    child = np.concatenate((parent1[:pc], parent2[pc:]))\n",
    "    #print(child)\n",
    "    snodes = set(nnames)\n",
    "    schild = set(child)\n",
    "    repeated = set(parent1[1:pc]).intersection( set(parent2[pc:-1]) )\n",
    "    missing = snodes.difference(schild)\n",
    "    #print( 'faltan',missing)\n",
    "    #print( 'repiten',repeated)\n",
    "    if len(repeated)>0:\n",
    "        for i in range(len(child)):\n",
    "            if child[i] in repeated:\n",
    "                repeated.remove(child[i])\n",
    "                child[i] = missing.pop()          \n",
    "    return child  "
   ]
  },
  {
   "cell_type": "code",
   "execution_count": 10,
   "metadata": {},
   "outputs": [],
   "source": [
    "def mutation(individual):\n",
    "    while True:\n",
    "        pm1 = np.random.randint(1,len(individual)-1)\n",
    "        pm2 = np.random.randint(1,len(individual)-1)\n",
    "        if pm1 != pm2: break\n",
    "    individual[pm1], individual[pm2] = individual[pm2], individual[pm1]\n",
    "    return individual"
   ]
  },
  {
   "cell_type": "code",
   "execution_count": 11,
   "metadata": {},
   "outputs": [],
   "source": [
    "def crossover_population(Pr,population,fitness,nnames):\n",
    "    newpopulation = np.zeros_like(population)\n",
    "    \n",
    "    for i in range(len(population)):\n",
    "        if np.random.rand() <= Pr:\n",
    "            parent1 = parent_selection_tournament(population,fitness)\n",
    "            parent2 = parent_selection_tournament(population,fitness)\n",
    "            child = crossover(parent1,parent2,nnames)\n",
    "            newpopulation[i,:] = np.copy(child)\n",
    "        else:\n",
    "            parent = parent_selection_tournament(population,fitness)\n",
    "            newpopulation[i,:] = np.copy(parent)\n",
    "    return newpopulation"
   ]
  },
  {
   "cell_type": "code",
   "execution_count": 12,
   "metadata": {},
   "outputs": [],
   "source": [
    "def mutation_population(Pm,population):\n",
    "    for i in range(len(population)):\n",
    "        if np.random.rand() <= Pm:\n",
    "            population[i,:] = mutation(population[i,:])\n",
    "    return population"
   ]
  },
  {
   "cell_type": "code",
   "execution_count": 13,
   "metadata": {},
   "outputs": [],
   "source": [
    "def get_elite(population,fitness,elite=None,fitelite=None):\n",
    "    idx = np.argsort(fitness)\n",
    "    population = population[idx,:]\n",
    "    fitness = fitness[idx]\n",
    "\n",
    "    if elite is None:\n",
    "        elite = np.copy(population[0,:])\n",
    "        fitelite = fitness[0]\n",
    "        return elite,fitelite\n",
    "    \n",
    "    if fitness[0] < fitelite:\n",
    "        elite = np.copy(population[0,:])\n",
    "        fitelite = fitness[0]\n",
    "        return elite,fitelite\n",
    "\n",
    "    return elite,fitelite"
   ]
  },
  {
   "cell_type": "code",
   "execution_count": 14,
   "metadata": {},
   "outputs": [
    {
     "data": {
      "image/png": "[encoded data removed]",
      "text/plain": [
       "<Figure size 432x288 with 1 Axes>"
      ]
     },
     "metadata": {
      "needs_background": "light"
     },
     "output_type": "display_data"
    },
    {
     "name": "stdout",
     "output_type": "stream",
     "text": [
      "Generación 0 fitness elite: 390.7075134436155\n"
     ]
    },
    {
     "data": {
      "image/png": "[encoded data removed]",
      "text/plain": [
       "<Figure size 432x288 with 1 Axes>"
      ]
     },
     "metadata": {
      "needs_background": "light"
     },
     "output_type": "display_data"
    },
    {
     "name": "stdout",
     "output_type": "stream",
     "text": [
      "Generación 1 fitness elite: 390.7075134436155\n",
      "Generación 2 fitness elite: 365.630852954789\n",
      "Generación 3 fitness elite: 354.474562855313\n",
      "Generación 4 fitness elite: 318.4926126708284\n",
      "Generación 5 fitness elite: 318.4926126708284\n",
      "Generación 6 fitness elite: 318.4926126708284\n",
      "Generación 7 fitness elite: 318.4926126708284\n",
      "Generación 8 fitness elite: 318.4926126708284\n",
      "Generación 9 fitness elite: 305.4780200380154\n",
      "Generación 10 fitness elite: 305.4780200380154\n",
      "Generación 11 fitness elite: 305.4780200380154\n",
      "Generación 12 fitness elite: 305.4780200380154\n",
      "Generación 13 fitness elite: 305.4780200380154\n",
      "Generación 14 fitness elite: 305.4780200380154\n",
      "Generación 15 fitness elite: 305.4780200380154\n",
      "Generación 16 fitness elite: 305.4780200380154\n",
      "Generación 17 fitness elite: 305.4780200380154\n",
      "Generación 18 fitness elite: 305.4780200380154\n",
      "Generación 19 fitness elite: 305.0006172153428\n",
      "Generación 20 fitness elite: 302.12135266969335\n",
      "Generación 21 fitness elite: 302.12135266969335\n",
      "Generación 22 fitness elite: 302.12135266969335\n",
      "Generación 23 fitness elite: 302.12135266969335\n",
      "Generación 24 fitness elite: 287.5637034393761\n",
      "Generación 25 fitness elite: 287.5637034393761\n",
      "Generación 26 fitness elite: 287.5637034393761\n",
      "Generación 27 fitness elite: 271.3749093580043\n",
      "Generación 28 fitness elite: 271.3749093580043\n",
      "Generación 29 fitness elite: 271.3749093580043\n",
      "Generación 30 fitness elite: 271.3749093580043\n",
      "Generación 31 fitness elite: 271.3749093580043\n",
      "Generación 32 fitness elite: 271.3749093580043\n",
      "Generación 33 fitness elite: 271.3749093580043\n",
      "Generación 34 fitness elite: 271.3749093580043\n",
      "Generación 35 fitness elite: 271.3749093580043\n",
      "Generación 36 fitness elite: 271.3749093580043\n",
      "Generación 37 fitness elite: 271.3749093580043\n",
      "Generación 38 fitness elite: 271.3749093580043\n",
      "Generación 39 fitness elite: 271.3749093580043\n",
      "Generación 40 fitness elite: 271.3749093580043\n",
      "Generación 41 fitness elite: 271.3749093580043\n",
      "Generación 42 fitness elite: 271.3749093580043\n",
      "Generación 43 fitness elite: 271.3749093580043\n",
      "Generación 44 fitness elite: 271.3749093580043\n",
      "Generación 45 fitness elite: 271.3749093580043\n",
      "Generación 46 fitness elite: 271.3749093580043\n",
      "Generación 47 fitness elite: 271.3749093580043\n",
      "Generación 48 fitness elite: 271.3749093580043\n",
      "Generación 49 fitness elite: 271.3749093580043\n",
      "Generación 50 fitness elite: 271.3749093580043\n",
      "Generación 51 fitness elite: 271.3749093580043\n",
      "Generación 52 fitness elite: 271.3749093580043\n",
      "Generación 53 fitness elite: 271.3749093580043\n",
      "Generación 54 fitness elite: 271.3749093580043\n",
      "Generación 55 fitness elite: 271.3749093580043\n",
      "Generación 56 fitness elite: 271.3749093580043\n",
      "Generación 57 fitness elite: 271.3749093580043\n",
      "Generación 58 fitness elite: 271.3749093580043\n",
      "Generación 59 fitness elite: 271.3749093580043\n",
      "Generación 60 fitness elite: 271.3749093580043\n",
      "Generación 61 fitness elite: 271.3749093580043\n",
      "Generación 62 fitness elite: 271.3749093580043\n",
      "Generación 63 fitness elite: 271.3749093580043\n",
      "Generación 64 fitness elite: 271.3749093580043\n",
      "Generación 65 fitness elite: 271.3749093580043\n",
      "Generación 66 fitness elite: 271.3749093580043\n",
      "Generación 67 fitness elite: 271.3749093580043\n",
      "Generación 68 fitness elite: 271.3749093580043\n",
      "Generación 69 fitness elite: 271.3749093580043\n",
      "Generación 70 fitness elite: 271.3749093580043\n",
      "Generación 71 fitness elite: 271.3749093580043\n",
      "Generación 72 fitness elite: 271.3749093580043\n",
      "Generación 73 fitness elite: 271.3749093580043\n",
      "Generación 74 fitness elite: 271.3749093580043\n",
      "Generación 75 fitness elite: 271.3749093580043\n",
      "Generación 76 fitness elite: 271.3749093580043\n",
      "Generación 77 fitness elite: 271.3749093580043\n",
      "Generación 78 fitness elite: 271.3749093580043\n",
      "Generación 79 fitness elite: 271.3749093580043\n",
      "Generación 80 fitness elite: 271.3749093580043\n",
      "Generación 81 fitness elite: 271.3749093580043\n",
      "Generación 82 fitness elite: 271.3749093580043\n",
      "Generación 83 fitness elite: 271.3749093580043\n",
      "Generación 84 fitness elite: 271.3749093580043\n",
      "Generación 85 fitness elite: 271.3749093580043\n",
      "Generación 86 fitness elite: 271.3749093580043\n",
      "Generación 87 fitness elite: 271.3749093580043\n",
      "Generación 88 fitness elite: 271.3749093580043\n",
      "Generación 89 fitness elite: 271.3749093580043\n",
      "Generación 90 fitness elite: 271.3749093580043\n",
      "Generación 91 fitness elite: 271.3749093580043\n",
      "Generación 92 fitness elite: 271.3749093580043\n",
      "Generación 93 fitness elite: 271.3749093580043\n",
      "Generación 94 fitness elite: 271.3749093580043\n",
      "Generación 95 fitness elite: 271.3749093580043\n",
      "Generación 96 fitness elite: 271.3749093580043\n",
      "Generación 97 fitness elite: 271.3749093580043\n",
      "Generación 98 fitness elite: 271.3749093580043\n",
      "Generación 99 fitness elite: 271.3749093580043\n",
      "Generación 100 fitness elite: 271.3749093580043\n"
     ]
    },
    {
     "data": {
      "image/png": "[encoded data removed]",
      "text/plain": [
       "<Figure size 432x288 with 1 Axes>"
      ]
     },
     "metadata": {
      "needs_background": "light"
     },
     "output_type": "display_data"
    },
    {
     "name": "stdout",
     "output_type": "stream",
     "text": [
      "Generación 101 fitness elite: 271.3749093580043\n",
      "Generación 102 fitness elite: 271.3749093580043\n",
      "Generación 103 fitness elite: 271.3749093580043\n",
      "Generación 104 fitness elite: 271.3749093580043\n",
      "Generación 105 fitness elite: 271.3749093580043\n",
      "Generación 106 fitness elite: 271.3749093580043\n",
      "Generación 107 fitness elite: 271.3749093580043\n",
      "Generación 108 fitness elite: 271.3749093580043\n",
      "Generación 109 fitness elite: 271.3749093580043\n",
      "Generación 110 fitness elite: 271.3749093580043\n",
      "Generación 111 fitness elite: 271.3749093580043\n",
      "Generación 112 fitness elite: 271.3749093580043\n",
      "Generación 113 fitness elite: 271.3749093580043\n",
      "Generación 114 fitness elite: 271.3749093580043\n",
      "Generación 115 fitness elite: 271.3749093580043\n",
      "Generación 116 fitness elite: 271.3749093580043\n",
      "Generación 117 fitness elite: 271.3749093580043\n",
      "Generación 118 fitness elite: 271.3749093580043\n",
      "Generación 119 fitness elite: 271.3749093580043\n",
      "Generación 120 fitness elite: 271.3749093580043\n",
      "Generación 121 fitness elite: 271.3749093580043\n",
      "Generación 122 fitness elite: 271.3749093580043\n",
      "Generación 123 fitness elite: 271.3749093580043\n",
      "Generación 124 fitness elite: 271.3749093580043\n",
      "Generación 125 fitness elite: 271.3749093580043\n",
      "Generación 126 fitness elite: 271.3749093580043\n",
      "Generación 127 fitness elite: 271.3749093580043\n",
      "Generación 128 fitness elite: 271.3749093580043\n",
      "Generación 129 fitness elite: 271.3749093580043\n",
      "Generación 130 fitness elite: 271.3749093580043\n",
      "Generación 131 fitness elite: 271.3749093580043\n",
      "Generación 132 fitness elite: 271.3749093580043\n",
      "Generación 133 fitness elite: 271.3749093580043\n",
      "Generación 134 fitness elite: 271.3749093580043\n",
      "Generación 135 fitness elite: 271.3749093580043\n",
      "Generación 136 fitness elite: 271.3749093580043\n",
      "Generación 137 fitness elite: 271.3749093580043\n",
      "Generación 138 fitness elite: 271.3749093580043\n",
      "Generación 139 fitness elite: 271.3749093580043\n",
      "Generación 140 fitness elite: 271.3749093580043\n",
      "Generación 141 fitness elite: 271.3749093580043\n",
      "Generación 142 fitness elite: 271.3749093580043\n",
      "Generación 143 fitness elite: 271.3749093580043\n",
      "Generación 144 fitness elite: 271.3749093580043\n",
      "Generación 145 fitness elite: 271.3749093580043\n",
      "Generación 146 fitness elite: 271.3749093580043\n",
      "Generación 147 fitness elite: 271.3749093580043\n",
      "Generación 148 fitness elite: 271.3749093580043\n",
      "Generación 149 fitness elite: 271.3749093580043\n",
      "Generación 150 fitness elite: 271.3749093580043\n",
      "Generación 151 fitness elite: 271.3749093580043\n",
      "Generación 152 fitness elite: 271.3749093580043\n",
      "Generación 153 fitness elite: 271.3749093580043\n",
      "Generación 154 fitness elite: 271.3749093580043\n",
      "Generación 155 fitness elite: 271.3749093580043\n",
      "Generación 156 fitness elite: 271.3749093580043\n",
      "Generación 157 fitness elite: 271.3749093580043\n",
      "Generación 158 fitness elite: 271.3749093580043\n",
      "Generación 159 fitness elite: 271.3749093580043\n",
      "Generación 160 fitness elite: 271.3749093580043\n",
      "Generación 161 fitness elite: 271.3749093580043\n",
      "Generación 162 fitness elite: 271.3749093580043\n",
      "Generación 163 fitness elite: 271.3749093580043\n",
      "Generación 164 fitness elite: 271.3749093580043\n",
      "Generación 165 fitness elite: 271.3749093580043\n",
      "Generación 166 fitness elite: 271.3749093580043\n",
      "Generación 167 fitness elite: 271.3749093580043\n",
      "Generación 168 fitness elite: 271.3749093580043\n",
      "Generación 169 fitness elite: 271.3749093580043\n",
      "Generación 170 fitness elite: 271.3749093580043\n",
      "Generación 171 fitness elite: 271.3749093580043\n",
      "Generación 172 fitness elite: 271.3749093580043\n",
      "Generación 173 fitness elite: 271.3749093580043\n",
      "Generación 174 fitness elite: 271.3749093580043\n",
      "Generación 175 fitness elite: 271.3749093580043\n",
      "Generación 176 fitness elite: 271.3749093580043\n",
      "Generación 177 fitness elite: 271.3749093580043\n",
      "Generación 178 fitness elite: 271.3749093580043\n",
      "Generación 179 fitness elite: 271.3749093580043\n",
      "Generación 180 fitness elite: 271.3749093580043\n",
      "Generación 181 fitness elite: 271.3749093580043\n",
      "Generación 182 fitness elite: 271.3749093580043\n",
      "Generación 183 fitness elite: 271.3749093580043\n",
      "Generación 184 fitness elite: 271.3749093580043\n",
      "Generación 185 fitness elite: 271.3749093580043\n",
      "Generación 186 fitness elite: 271.3749093580043\n",
      "Generación 187 fitness elite: 271.3749093580043\n",
      "Generación 188 fitness elite: 271.3749093580043\n",
      "Generación 189 fitness elite: 271.3749093580043\n",
      "Generación 190 fitness elite: 271.3749093580043\n",
      "Generación 191 fitness elite: 271.3749093580043\n",
      "Generación 192 fitness elite: 271.3749093580043\n",
      "Generación 193 fitness elite: 271.3749093580043\n",
      "Generación 194 fitness elite: 271.3749093580043\n",
      "Generación 195 fitness elite: 271.3749093580043\n",
      "Generación 196 fitness elite: 271.3749093580043\n",
      "Generación 197 fitness elite: 271.3749093580043\n",
      "Generación 198 fitness elite: 271.3749093580043\n",
      "Generación 199 fitness elite: 271.3749093580043\n"
     ]
    }
   ],
   "source": [
    "# Algoritmo genético\n",
    "\n",
    "N = 30\n",
    "G = 200\n",
    "Pr = 0.7\n",
    "Pm = 0.1\n",
    "\n",
    "population = initial_population(N,nnames)\n",
    "fitness = fitness_population(population,mdist,ndict)\n",
    "elite,fitelite = get_elite(population,fitness)\n",
    "draw_elite(mpositions,nnames,ndict,elite)\n",
    "\n",
    "for g in range(G):\n",
    "    print('Generación',g, 'fitness elite:',fitelite)\n",
    "    if g%100 == 0:\n",
    "        draw_elite(mpositions,nnames,ndict,elite)\n",
    "    \n",
    "    population = crossover_population(Pr,population,fitness,nnames)\n",
    "    population = mutation_population(Pm,population)\n",
    "    \n",
    "    fitness = fitness_population(population,mdist,ndict) \n",
    "    elite,fitelite = get_elite(population,fitness,elite,fitelite)\n",
    "    \n"
   ]
  },
  {
   "cell_type": "code",
   "execution_count": null,
   "metadata": {},
   "outputs": [],
   "source": []
  },
  {
   "cell_type": "code",
   "execution_count": null,
   "metadata": {},
   "outputs": [],
   "source": []
  }
 ],
 "metadata": {
  "kernelspec": {
   "display_name": "Python 3",
   "language": "python",
   "name": "python3"
  },
  "language_info": {
   "codemirror_mode": {
    "name": "ipython",
    "version": 3
   },
   "file_extension": ".py",
   "mimetype": "text/x-python",
   "name": "python",
   "nbconvert_exporter": "python",
   "pygments_lexer": "ipython3",
   "version": "3.7.6"
  }
 },
 "nbformat": 4,
 "nbformat_minor": 4
}
