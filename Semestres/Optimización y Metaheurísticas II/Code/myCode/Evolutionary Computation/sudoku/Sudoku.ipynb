{
 "cells": [
  {
   "cell_type": "code",
   "execution_count": 231,
   "metadata": {},
   "outputs": [],
   "source": [
    "import pandas as pd\n",
    "import numpy as np"
   ]
  },
  {
   "cell_type": "markdown",
   "metadata": {},
   "source": [
    "## Draw Sudoku"
   ]
  },
  {
   "cell_type": "code",
   "execution_count": 232,
   "metadata": {},
   "outputs": [],
   "source": [
    "def draw_sudoku(board):\n",
    "    print(\"+\" + \"---+\"*9)\n",
    "    for i, row in enumerate(board):\n",
    "        print((\"|\" + \" {}   {}   {} |\"*3).format(*[x if x != 0 else \"0\" for x in row]))\n",
    "        if i % 3 == 2:\n",
    "            print(\"+\" + \"---+\"*9)"
   ]
  },
  {
   "cell_type": "markdown",
   "metadata": {},
   "source": [
    "## Read CSV"
   ]
  },
  {
   "cell_type": "code",
   "execution_count": 233,
   "metadata": {},
   "outputs": [
    {
     "name": "stdout",
     "output_type": "stream",
     "text": [
      "+---+---+---+---+---+---+---+---+---+\n",
      "| 0   0   6 | 0   0   0 | 5   0   7 |\n",
      "| 0   9   0 | 0   6   8 | 0   0   0 |\n",
      "| 7   0   8 | 0   0   5 | 0   0   4 |\n",
      "+---+---+---+---+---+---+---+---+---+\n",
      "| 0   0   1 | 5   0   4 | 2   9   0 |\n",
      "| 0   7   0 | 0   3   0 | 0   0   0 |\n",
      "| 3   0   9 | 0   0   0 | 7   1   0 |\n",
      "+---+---+---+---+---+---+---+---+---+\n",
      "| 0   5   0 | 0   4   0 | 8   0   9 |\n",
      "| 0   8   2 | 6   0   0 | 0   0   0 |\n",
      "| 0   0   0 | 0   2   7 | 4   0   6 |\n",
      "+---+---+---+---+---+---+---+---+---+\n"
     ]
    }
   ],
   "source": [
    "df = pd.read_csv('example1.csv', header=None)\n",
    "matrix = df.to_numpy()\n",
    "d=[]\n",
    "x = 0\n",
    "for i in range(matrix.shape[0]):\n",
    "    for j in range(matrix.shape[1]):\n",
    "        if(matrix[i,j] > 0):\n",
    "            d.append( [[i,j],matrix[i,j]])\n",
    "            x+=1\n",
    "draw_sudoku(matrix)"
   ]
  },
  {
   "cell_type": "markdown",
   "metadata": {},
   "source": [
    "## Generate population"
   ]
  },
  {
   "cell_type": "code",
   "execution_count": 234,
   "metadata": {},
   "outputs": [],
   "source": [
    "def initial_population(arr, n):    # generate n random matrix with values from 1->9\n",
    "    x=y=val=-1\n",
    "    population = []\n",
    "    for i in range(n):\n",
    "        population.append(np.zeros((9,9)))\n",
    "    for j in range(n):\n",
    "        mat = np.random.randint(low=1,high=9, size=(9, 9))\n",
    "        for i in range(len(arr)):\n",
    "            x = arr[i][0][0]\n",
    "            y = arr[i][0][1]\n",
    "            val = arr[i][1]\n",
    "            mat[x,y] = val\n",
    "        population[j] = mat\n",
    "    return population"
   ]
  },
  {
   "cell_type": "markdown",
   "metadata": {},
   "source": [
    "## Calculate fitness"
   ]
  },
  {
   "cell_type": "code",
   "execution_count": null,
   "metadata": {},
   "outputs": [],
   "source": []
  },
  {
   "cell_type": "markdown",
   "metadata": {},
   "source": [
    "## Algorithm"
   ]
  },
  {
   "cell_type": "code",
   "execution_count": null,
   "metadata": {},
   "outputs": [],
   "source": []
  },
  {
   "cell_type": "markdown",
   "metadata": {},
   "source": [
    "## Crossover"
   ]
  },
  {
   "cell_type": "code",
   "execution_count": 290,
   "metadata": {},
   "outputs": [],
   "source": [
    "def tournament_selection(parents,fitness,population):\n",
    "    popsize = len(population)\n",
    "    i1, i2 = np.random.choice(popsize,2)\n",
    "    if fitness[i1] <= fitness[i2]:\n",
    "        return population[i1]\n",
    "    else:\n",
    "        return population[i2]"
   ]
  },
  {
   "cell_type": "code",
   "execution_count": 306,
   "metadata": {},
   "outputs": [],
   "source": [
    "def crossover(first, second):\n",
    "    print(\"crossover\")\n",
    "\n",
    "    return first #change this"
   ]
  },
  {
   "cell_type": "code",
   "execution_count": 307,
   "metadata": {},
   "outputs": [
    {
     "name": "stdout",
     "output_type": "stream",
     "text": [
      "crossover\n",
      "[[[4 3 6 1 4 4 5 3 7]\n",
      "  [8 9 5 3 6 8 1 2 1]\n",
      "  [7 3 8 2 2 5 8 3 4]\n",
      "  [5 5 1 5 1 4 2 9 2]\n",
      "  [3 7 6 6 3 6 7 2 2]\n",
      "  [3 6 9 4 4 1 7 1 4]\n",
      "  [1 5 2 6 4 5 8 4 9]\n",
      "  [3 8 2 6 6 2 4 2 1]\n",
      "  [2 3 7 2 2 7 4 1 6]]\n",
      "\n",
      " [[4 3 6 1 4 4 5 3 7]\n",
      "  [8 9 5 3 6 8 1 2 1]\n",
      "  [7 3 8 2 2 5 8 3 4]\n",
      "  [5 5 1 5 1 4 2 9 2]\n",
      "  [3 7 6 6 3 6 7 2 2]\n",
      "  [3 6 9 4 4 1 7 1 4]\n",
      "  [1 5 2 6 4 5 8 4 9]\n",
      "  [3 8 2 6 6 2 4 2 1]\n",
      "  [2 3 7 2 2 7 4 1 6]]\n",
      "\n",
      " [[7 1 6 1 6 3 5 8 7]\n",
      "  [3 9 7 3 6 8 5 8 8]\n",
      "  [7 1 8 2 6 5 6 1 4]\n",
      "  [5 3 1 5 4 4 2 9 3]\n",
      "  [5 7 3 6 3 5 8 7 8]\n",
      "  [3 7 9 3 2 5 7 1 2]\n",
      "  [3 5 1 8 4 5 8 6 9]\n",
      "  [2 8 2 6 2 3 7 2 6]\n",
      "  [2 8 4 3 2 7 4 3 6]]\n",
      "\n",
      " [[2 5 6 5 4 5 5 8 7]\n",
      "  [3 9 4 1 6 8 6 2 5]\n",
      "  [7 6 8 2 4 5 6 1 4]\n",
      "  [1 5 1 5 8 4 2 9 5]\n",
      "  [7 7 3 7 3 7 7 6 8]\n",
      "  [3 2 9 4 4 7 7 1 1]\n",
      "  [5 5 2 3 4 4 8 2 9]\n",
      "  [6 8 2 6 5 5 4 1 1]\n",
      "  [1 5 8 5 2 7 4 8 6]]\n",
      "\n",
      " [[4 3 6 1 4 4 5 3 7]\n",
      "  [8 9 5 3 6 8 1 2 1]\n",
      "  [7 3 8 2 2 5 8 3 4]\n",
      "  [5 5 1 5 1 4 2 9 2]\n",
      "  [3 7 6 6 3 6 7 2 2]\n",
      "  [3 6 9 4 4 1 7 1 4]\n",
      "  [1 5 2 6 4 5 8 4 9]\n",
      "  [3 8 2 6 6 2 4 2 1]\n",
      "  [2 3 7 2 2 7 4 1 6]]]\n"
     ]
    }
   ],
   "source": [
    "def crossover_parents(population, pr):\n",
    "    # n = np.random.randint(low=0,high=8)\n",
    "    gen = np.zeros_like(population)\n",
    "    fitness = [0,98,0,2,100]\n",
    "    for i in range(len(population)):\n",
    "        if(np.random.uniform(0, 1) < pr):\n",
    "            # print(\"select two\")\n",
    "            first = tournament_selection(population, fitness, population)\n",
    "            second = tournament_selection(population, fitness, population)\n",
    "            child = crossover(first,second)\n",
    "            gen[i,:] = np.copy(child)\n",
    "        else:\n",
    "            # print(\"clone\")\n",
    "            parent = tournament_selection(population, fitness, population)\n",
    "            gen[i,:] = np.copy(parent)\n",
    "    print(gen)\n",
    "crossover_parents(population, pr)"
   ]
  },
  {
   "cell_type": "code",
   "execution_count": null,
   "metadata": {},
   "outputs": [],
   "source": []
  },
  {
   "cell_type": "markdown",
   "metadata": {},
   "source": [
    "## Mutation"
   ]
  },
  {
   "cell_type": "markdown",
   "metadata": {},
   "source": [
    "# Main Code"
   ]
  },
  {
   "cell_type": "code",
   "execution_count": 281,
   "metadata": {},
   "outputs": [
    {
     "name": "stdout",
     "output_type": "stream",
     "text": [
      "**************** 1 SUDOKU ****************\n",
      "+---+---+---+---+---+---+---+---+---+\n",
      "| 7   5   6 | 5   7   3 | 5   8   7 |\n",
      "| 5   9   8 | 3   6   8 | 4   8   8 |\n",
      "| 7   6   8 | 3   8   5 | 7   1   4 |\n",
      "+---+---+---+---+---+---+---+---+---+\n",
      "| 2   3   1 | 5   4   4 | 2   9   3 |\n",
      "| 7   7   3 | 6   3   6 | 7   5   1 |\n",
      "| 3   1   9 | 2   4   4 | 7   1   4 |\n",
      "+---+---+---+---+---+---+---+---+---+\n",
      "| 1   5   4 | 1   4   6 | 8   7   9 |\n",
      "| 4   8   2 | 6   5   2 | 8   2   7 |\n",
      "| 1   8   7 | 2   2   7 | 4   7   6 |\n",
      "+---+---+---+---+---+---+---+---+---+\n",
      "**************** 2 SUDOKU ****************\n",
      "+---+---+---+---+---+---+---+---+---+\n",
      "| 7   1   6 | 1   6   3 | 5   8   7 |\n",
      "| 3   9   7 | 3   6   8 | 5   8   8 |\n",
      "| 7   1   8 | 2   6   5 | 6   1   4 |\n",
      "+---+---+---+---+---+---+---+---+---+\n",
      "| 5   3   1 | 5   4   4 | 2   9   3 |\n",
      "| 5   7   3 | 6   3   5 | 8   7   8 |\n",
      "| 3   7   9 | 3   2   5 | 7   1   2 |\n",
      "+---+---+---+---+---+---+---+---+---+\n",
      "| 3   5   1 | 8   4   5 | 8   6   9 |\n",
      "| 2   8   2 | 6   2   3 | 7   2   6 |\n",
      "| 2   8   4 | 3   2   7 | 4   3   6 |\n",
      "+---+---+---+---+---+---+---+---+---+\n",
      "**************** 3 SUDOKU ****************\n",
      "+---+---+---+---+---+---+---+---+---+\n",
      "| 4   3   6 | 1   4   4 | 5   3   7 |\n",
      "| 8   9   5 | 3   6   8 | 1   2   1 |\n",
      "| 7   3   8 | 2   2   5 | 8   3   4 |\n",
      "+---+---+---+---+---+---+---+---+---+\n",
      "| 5   5   1 | 5   1   4 | 2   9   2 |\n",
      "| 3   7   6 | 6   3   6 | 7   2   2 |\n",
      "| 3   6   9 | 4   4   1 | 7   1   4 |\n",
      "+---+---+---+---+---+---+---+---+---+\n",
      "| 1   5   2 | 6   4   5 | 8   4   9 |\n",
      "| 3   8   2 | 6   6   2 | 4   2   1 |\n",
      "| 2   3   7 | 2   2   7 | 4   1   6 |\n",
      "+---+---+---+---+---+---+---+---+---+\n",
      "**************** 4 SUDOKU ****************\n",
      "+---+---+---+---+---+---+---+---+---+\n",
      "| 2   5   6 | 5   4   5 | 5   8   7 |\n",
      "| 3   9   4 | 1   6   8 | 6   2   5 |\n",
      "| 7   6   8 | 2   4   5 | 6   1   4 |\n",
      "+---+---+---+---+---+---+---+---+---+\n",
      "| 1   5   1 | 5   8   4 | 2   9   5 |\n",
      "| 7   7   3 | 7   3   7 | 7   6   8 |\n",
      "| 3   2   9 | 4   4   7 | 7   1   1 |\n",
      "+---+---+---+---+---+---+---+---+---+\n",
      "| 5   5   2 | 3   4   4 | 8   2   9 |\n",
      "| 6   8   2 | 6   5   5 | 4   1   1 |\n",
      "| 1   5   8 | 5   2   7 | 4   8   6 |\n",
      "+---+---+---+---+---+---+---+---+---+\n",
      "**************** 5 SUDOKU ****************\n",
      "+---+---+---+---+---+---+---+---+---+\n",
      "| 3   1   6 | 3   6   3 | 5   8   7 |\n",
      "| 2   9   7 | 1   6   8 | 7   8   2 |\n",
      "| 7   3   8 | 3   7   5 | 5   5   4 |\n",
      "+---+---+---+---+---+---+---+---+---+\n",
      "| 7   1   1 | 5   3   4 | 2   9   5 |\n",
      "| 4   7   2 | 3   3   8 | 4   2   3 |\n",
      "| 3   5   9 | 3   1   5 | 7   1   4 |\n",
      "+---+---+---+---+---+---+---+---+---+\n",
      "| 8   5   7 | 7   4   2 | 8   1   9 |\n",
      "| 2   8   2 | 6   8   8 | 5   3   3 |\n",
      "| 5   7   8 | 8   2   7 | 4   3   6 |\n",
      "+---+---+---+---+---+---+---+---+---+\n"
     ]
    }
   ],
   "source": [
    "pr = 0.5\n",
    "n = 5 # n matrixes solutions\n",
    "\n",
    "population = initial_population(d,n)\n",
    "\n",
    "# show initial population\n",
    "x=1\n",
    "for i in population:\n",
    "    print(\"**************** \"+ str(x)+ \" SUDOKU \" +\"****************\")\n",
    "    x+=1\n",
    "    draw_sudoku(i)\n",
    "\n",
    "# crossover_parents(population, pr)"
   ]
  }
 ],
 "metadata": {
  "kernelspec": {
   "display_name": "Python 3.8.0 32-bit",
   "language": "python",
   "name": "python3"
  },
  "language_info": {
   "codemirror_mode": {
    "name": "ipython",
    "version": 3
   },
   "file_extension": ".py",
   "mimetype": "text/x-python",
   "name": "python",
   "nbconvert_exporter": "python",
   "pygments_lexer": "ipython3",
   "version": "3.8.0"
  },
  "orig_nbformat": 4,
  "vscode": {
   "interpreter": {
    "hash": "8c35cf7207c93cfde9b5fb6a4f51b6c547077b8fcbf36c11645415366e8e0936"
   }
  }
 },
 "nbformat": 4,
 "nbformat_minor": 2
}
