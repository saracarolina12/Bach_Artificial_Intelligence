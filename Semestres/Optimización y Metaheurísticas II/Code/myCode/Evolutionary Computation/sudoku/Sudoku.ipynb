{
 "cells": [
  {
   "cell_type": "code",
   "execution_count": 43,
   "metadata": {},
   "outputs": [],
   "source": [
    "import pandas as pd\n",
    "import numpy as np"
   ]
  },
  {
   "cell_type": "markdown",
   "metadata": {},
   "source": [
    "## 1. Read CSV"
   ]
  },
  {
   "cell_type": "code",
   "execution_count": 77,
   "metadata": {},
   "outputs": [
    {
     "name": "stdout",
     "output_type": "stream",
     "text": [
      "[[0 0 6 0 0 0 5 0 7]\n",
      " [0 9 0 0 6 8 0 0 0]\n",
      " [7 0 8 0 0 5 0 0 4]\n",
      " [0 0 1 5 0 4 2 9 0]\n",
      " [0 7 0 0 3 0 0 0 0]\n",
      " [3 0 9 0 0 0 7 1 0]\n",
      " [0 5 0 0 4 0 8 0 9]\n",
      " [0 8 2 6 0 0 0 0 0]\n",
      " [0 0 0 0 2 7 4 0 6]]\n"
     ]
    }
   ],
   "source": [
    "df = pd.read_csv('example1.csv', header=None)\n",
    "matrix = df.to_numpy()\n",
    "d=[]\n",
    "x = 0\n",
    "for i in range(matrix.shape[0]):\n",
    "    for j in range(matrix.shape[1]):\n",
    "        if(matrix[i,j] > 0):\n",
    "            d.append( [[i,j],matrix[i,j]])\n",
    "            x+=1\n",
    "print(matrix)"
   ]
  },
  {
   "cell_type": "markdown",
   "metadata": {},
   "source": [
    "## 2. Generate population"
   ]
  },
  {
   "cell_type": "code",
   "execution_count": 84,
   "metadata": {},
   "outputs": [
    {
     "data": {
      "text/plain": [
       "array([[5, 1, 6, 5, 6, 4, 5, 1, 7],\n",
       "       [5, 9, 6, 7, 6, 8, 7, 7, 3],\n",
       "       [7, 5, 8, 2, 8, 5, 3, 7, 4],\n",
       "       [2, 2, 1, 5, 2, 4, 2, 9, 4],\n",
       "       [7, 7, 8, 1, 3, 1, 7, 1, 8],\n",
       "       [3, 8, 9, 1, 4, 8, 7, 1, 3],\n",
       "       [1, 5, 2, 3, 4, 2, 8, 1, 9],\n",
       "       [3, 8, 2, 6, 3, 5, 5, 3, 3],\n",
       "       [2, 1, 2, 8, 2, 7, 4, 1, 6]])"
      ]
     },
     "execution_count": 84,
     "metadata": {},
     "output_type": "execute_result"
    }
   ],
   "source": [
    "def initial_population(arr):\n",
    "    # generate random matrix with values from 1->9\n",
    "    x=-1\n",
    "    y=-1\n",
    "    val = -1\n",
    "    population = np.random.randint(low=1,high=9, size=(9, 9))\n",
    "    for i in range(len(arr)):\n",
    "        x = arr[i][0][0]\n",
    "        y = arr[i][0][1]\n",
    "        val = arr[i][1]\n",
    "        population[x,y] = val\n",
    "        # for j in range(population.shape[1]):\n",
    "            \n",
    "    return population\n",
    "initial_population(d)"
   ]
  },
  {
   "cell_type": "markdown",
   "metadata": {},
   "source": [
    "## 3. Calculate fitness"
   ]
  },
  {
   "cell_type": "code",
   "execution_count": null,
   "metadata": {},
   "outputs": [],
   "source": []
  },
  {
   "cell_type": "markdown",
   "metadata": {},
   "source": [
    "## 4. Algorithm"
   ]
  },
  {
   "cell_type": "code",
   "execution_count": null,
   "metadata": {},
   "outputs": [],
   "source": []
  },
  {
   "cell_type": "markdown",
   "metadata": {},
   "source": [
    "## 5. Crossover"
   ]
  },
  {
   "cell_type": "code",
   "execution_count": null,
   "metadata": {},
   "outputs": [],
   "source": []
  },
  {
   "cell_type": "markdown",
   "metadata": {},
   "source": [
    "## 6. Mutation"
   ]
  },
  {
   "cell_type": "code",
   "execution_count": null,
   "metadata": {},
   "outputs": [],
   "source": []
  }
 ],
 "metadata": {
  "kernelspec": {
   "display_name": "Python 3.8.0 32-bit",
   "language": "python",
   "name": "python3"
  },
  "language_info": {
   "codemirror_mode": {
    "name": "ipython",
    "version": 3
   },
   "file_extension": ".py",
   "mimetype": "text/x-python",
   "name": "python",
   "nbconvert_exporter": "python",
   "pygments_lexer": "ipython3",
   "version": "3.8.0"
  },
  "orig_nbformat": 4,
  "vscode": {
   "interpreter": {
    "hash": "8c35cf7207c93cfde9b5fb6a4f51b6c547077b8fcbf36c11645415366e8e0936"
   }
  }
 },
 "nbformat": 4,
 "nbformat_minor": 2
}
