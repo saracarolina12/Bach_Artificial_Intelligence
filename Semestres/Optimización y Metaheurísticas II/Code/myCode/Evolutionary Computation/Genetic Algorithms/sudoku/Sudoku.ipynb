{
 "cells": [
  {
   "cell_type": "code",
   "execution_count": null,
   "metadata": {},
   "outputs": [],
   "source": [
    "import pandas as pd\n",
    "import numpy as np"
   ]
  },
  {
   "cell_type": "markdown",
   "metadata": {},
   "source": [
    "## Draw Sudoku"
   ]
  },
  {
   "cell_type": "code",
   "execution_count": null,
   "metadata": {},
   "outputs": [],
   "source": [
    "def draw_sudoku(board):\n",
    "    print(\"+\" + \"---+\"*9)\n",
    "    for i, row in enumerate(board):\n",
    "        print((\"|\" + \" {}   {}   {} |\"*3).format(*[x if x != 0 else \"0\" for x in row]))\n",
    "        if i % 3 == 2:\n",
    "            print(\"+\" + \"---+\"*9)"
   ]
  },
  {
   "cell_type": "markdown",
   "metadata": {},
   "source": [
    "## Read CSV"
   ]
  },
  {
   "cell_type": "code",
   "execution_count": null,
   "metadata": {},
   "outputs": [],
   "source": [
    "df = pd.read_csv('example1.csv', header=None)\n",
    "matrix = df.to_numpy()\n",
    "d=[]\n",
    "x = 0\n",
    "for i in range(matrix.shape[0]):\n",
    "    for j in range(matrix.shape[1]):\n",
    "        if(matrix[i,j] > 0):\n",
    "            d.append( [[i,j],matrix[i,j]])\n",
    "            x+=1\n",
    "draw_sudoku(matrix)"
   ]
  },
  {
   "cell_type": "markdown",
   "metadata": {},
   "source": [
    "# Main Code"
   ]
  },
  {
   "cell_type": "code",
   "execution_count": null,
   "metadata": {},
   "outputs": [],
   "source": [
    "pr = 0.5\n",
    "n = 5 # n matrixes solutions\n",
    "\n",
    "population = initial_population(d,n)\n",
    "\n",
    "# show initial population\n",
    "x=1\n",
    "for i in population:\n",
    "    print(\"**************** \"+ str(x)+ \" SUDOKU \" +\"****************\")\n",
    "    x+=1\n",
    "    draw_sudoku(i)\n",
    "\n",
    "# crossover_parents(population, pr)"
   ]
  },
  {
   "cell_type": "markdown",
   "metadata": {},
   "source": [
    "## Generate population"
   ]
  },
  {
   "cell_type": "code",
   "execution_count": null,
   "metadata": {},
   "outputs": [],
   "source": [
    "def initial_population(arr, n):    # generate n random matrix with values from 1->9\n",
    "    x=y=val=-1\n",
    "    population = []\n",
    "    for i in range(n):\n",
    "        population.append(np.zeros((9,9)))\n",
    "    for j in range(n):\n",
    "        mat = np.random.randint(low=1,high=10, size=(9, 9))\n",
    "        print(mat)\n",
    "        for i in range(len(arr)):\n",
    "            x = arr[i][0][0]\n",
    "            y = arr[i][0][1]\n",
    "            val = arr[i][1]\n",
    "            mat[x,y] = val\n",
    "        population[j] = mat\n",
    "    return population"
   ]
  },
  {
   "cell_type": "markdown",
   "metadata": {},
   "source": [
    "## Calculate fitness"
   ]
  },
  {
   "cell_type": "code",
   "execution_count": null,
   "metadata": {},
   "outputs": [],
   "source": []
  },
  {
   "cell_type": "markdown",
   "metadata": {},
   "source": [
    "## Algorithm"
   ]
  },
  {
   "cell_type": "code",
   "execution_count": null,
   "metadata": {},
   "outputs": [],
   "source": []
  },
  {
   "cell_type": "markdown",
   "metadata": {},
   "source": [
    "## Crossover"
   ]
  },
  {
   "cell_type": "code",
   "execution_count": null,
   "metadata": {},
   "outputs": [],
   "source": [
    "def tournament_selection(parents,fitness,population):\n",
    "    popsize = len(population)\n",
    "    i1, i2 = np.random.choice(popsize,2)\n",
    "    if fitness[i1] <= fitness[i2]:\n",
    "        return population[i1]\n",
    "    else:\n",
    "        return population[i2]"
   ]
  },
  {
   "cell_type": "code",
   "execution_count": 293,
   "metadata": {},
   "outputs": [
    {
     "name": "stdout",
     "output_type": "stream",
     "text": [
      "[[7 8 6 5 7 7 5 4 7]\n",
      " [8 9 4 1 6 8 3 7 2]\n",
      " [7 8 8 3 7 5 8 8 4]\n",
      " [3 4 1 5 2 4 2 9 7]\n",
      " [7 7 2 1 3 7 6 7 5]\n",
      " [3 8 9 6 5 1 7 1 7]\n",
      " [3 5 6 4 4 5 8 2 9]\n",
      " [1 8 2 6 2 4 4 3 5]\n",
      " [6 1 2 6 2 7 4 1 6]]\n",
      "[4, 0] [2, 4, 5, 9]\n",
      "[3, 0] [4, 5, 9]\n",
      "[6, 0] [5, 9]\n",
      "\n",
      "\n",
      "\n",
      "[2, 1] [2, 3, 6]\n",
      "[5, 1] [3, 6]\n",
      "\n",
      "\n",
      "\n",
      "[4, 2] [3, 5, 7]\n",
      "[8, 2] [5, 7]\n",
      "\n",
      "\n",
      "\n",
      "[1, 3] [2, 7, 8, 9]\n",
      "[4, 3] [7, 8, 9]\n",
      "[5, 3] [8, 9]\n",
      "[8, 3] [9]\n",
      "\n",
      "\n",
      "\n",
      "[2, 4] [1, 8, 9]\n",
      "[3, 4] [8, 9]\n",
      "[7, 4] [9]\n",
      "\n",
      "\n",
      "\n",
      "[4, 5] [2, 3, 6, 9]\n",
      "[6, 5] [3, 6, 9]\n",
      "[7, 5] [6, 9]\n",
      "\n",
      "\n",
      "\n",
      "[7, 6] [1, 9]\n",
      "\n",
      "\n",
      "\n",
      "[4, 7] [5, 6]\n",
      "[8, 7] [6]\n",
      "\n",
      "\n",
      "\n",
      "[5, 8] [1, 3, 8]\n",
      "[4, 8] [3, 8]\n",
      "[7, 8] [8]\n",
      "\n",
      "\n",
      "\n"
     ]
    },
    {
     "name": "stderr",
     "output_type": "stream",
     "text": [
      "C:\\Users\\scago\\AppData\\Local\\Temp\\ipykernel_21936\\1676155420.py:26: VisibleDeprecationWarning: Creating an ndarray from ragged nested sequences (which is a list-or-tuple of lists-or-tuples-or ndarrays with different lengths or shapes) is deprecated. If you meant to do this, you must specify 'dtype=object' when creating the ndarray.\n",
      "  rep = np.where(coords == coords[j][0])\n"
     ]
    },
    {
     "data": {
      "text/plain": [
       "array([[7, 8, 6, 5, 7, 7, 5, 4, 7],\n",
       "       [8, 9, 4, 2, 6, 8, 3, 7, 2],\n",
       "       [7, 2, 8, 3, 1, 5, 8, 8, 4],\n",
       "       [4, 4, 1, 5, 8, 4, 2, 9, 7],\n",
       "       [2, 7, 3, 7, 3, 2, 6, 5, 3],\n",
       "       [3, 3, 9, 8, 5, 1, 7, 1, 1],\n",
       "       [5, 5, 6, 4, 4, 3, 8, 2, 9],\n",
       "       [1, 8, 2, 6, 9, 6, 1, 3, 8],\n",
       "       [6, 1, 5, 9, 2, 7, 4, 6, 6]])"
      ]
     },
     "execution_count": 293,
     "metadata": {},
     "output_type": "execute_result"
    }
   ],
   "source": [
    "def crossover(first, second):\n",
    "    x = np.random.randint(low=0,high=9)\n",
    "    offspring = np.zeros((9,9))\n",
    "    offspring = offspring.astype(int)\n",
    "\n",
    "    x=4 \n",
    "    # merge matrixes\n",
    "    for i in range(x+1):\n",
    "        for j in range(offspring.shape[0]):\n",
    "                offspring[i][j] = first[i][j]\n",
    "    for i in range(x+1, offspring.shape[0]):\n",
    "        for j in range(offspring.shape[1]):\n",
    "                offspring[i][j] = second[i][j]\n",
    "    print(offspring)\n",
    "\n",
    "    # missing-duplicated\n",
    "    blocked = []\n",
    "    for i in range(offspring.shape[0]):\n",
    "        coords = []\n",
    "        dupl = {}\n",
    "        miss = [1,2,3,4,5,6,7,8,9]\n",
    "        \n",
    "        for j in range(offspring.shape[1]):\n",
    "            coords.append([offspring[j,i], [i,j]])\n",
    "        for j in range(len(coords)):\n",
    "            rep = np.where(coords == coords[j][0])\n",
    "            if(rep[0].shape[0] != 1):\n",
    "                dupl[coords[j][0]] = rep[0]\n",
    "        for j in range(len(coords)):\n",
    "            if(coords[j][0] in miss):\n",
    "                miss.remove(coords[j][0])\n",
    "        for j in d:\n",
    "            blocked.append(j[0])\n",
    "        # print(dupl)\n",
    "        # print(miss)\n",
    "        # print(dupl)\n",
    "        for key, value in dupl.items():\n",
    "            for z in value:\n",
    "                if([z,i] in blocked): # si no está en la lista de bloqueados\n",
    "                    dupl[key] = np.delete(dupl[key],np.where(dupl[key] == z))\n",
    "        r=1\n",
    "        for key, value in dupl.items():\n",
    "                if(r==1):\n",
    "                    dupl[key] = np.delete(dupl[key],0)\n",
    "                    r+=1\n",
    "        for key, value in dupl.items():\n",
    "            for z in value:\n",
    "                print([z,i], miss)\n",
    "                if(len(miss)):\n",
    "                    offspring[z,i] = miss[0]\n",
    "                    miss.pop(0)\n",
    "        print(\"\\n\\n\")\n",
    "        # break\n",
    "    return offspring\n",
    "\n",
    "mat1 =[[7, 8, 6, 5, 7, 7, 5, 4, 7],\n",
    "        [8, 9, 4 ,1, 6, 8, 3, 7, 2],\n",
    "        [7 ,8, 8, 3, 7, 5, 8, 8, 4],\n",
    "        [3, 4, 1, 5, 2, 4, 2, 9, 7],\n",
    "        [7, 7, 2, 1, 3, 7, 6, 7, 5],\n",
    "        [3, 7,9, 5, 2, 1, 7, 1, 3],\n",
    "        [6, 5, 2, 7, 4, 8, 8, 4, 9],\n",
    "        [7, 8, 2, 6, 1, 8, 6, 4, 2],\n",
    "        [8, 3 ,4 ,3 ,2 ,7 ,4 ,7, 6]]\n",
    "\n",
    "mat2 = [[7, 2, 6, 6, 7, 2 ,5, 5, 7],\n",
    "        [2, 9, 3, 1, 6, 8, 7, 6, 2],\n",
    "        [7, 8, 8, 1, 1, 5, 7, 8, 4],\n",
    "        [3, 3, 1, 5, 6 ,4 ,2, 9, 6],\n",
    "        [7, 7, 4, 2, 3, 7, 8, 1, 4],\n",
    "        [3, 8, 9, 6, 5, 1, 7, 1, 7],\n",
    "        [3, 5, 6, 4, 4, 5 ,8 ,2 ,9],\n",
    "        [1, 8, 2, 6, 2, 4 ,4 ,3 ,5],\n",
    "        [6, 1, 2, 6, 2, 7, 4, 1, 6]]\n",
    "crossover(mat1, mat2)"
   ]
  },
  {
   "cell_type": "code",
   "execution_count": null,
   "metadata": {},
   "outputs": [],
   "source": [
    "def crossover_parents(population, pr):\n",
    "    # n = np.random.randint(low=0,high=8)\n",
    "    gen = np.zeros_like(population)\n",
    "    fitness = [0,98,0,2,100]\n",
    "    for i in range(len(population)):\n",
    "        if(np.random.uniform(0, 1) < pr):\n",
    "            # print(\"select two\")\n",
    "            first = tournament_selection(population, fitness, population)\n",
    "            second = tournament_selection(population, fitness, population)\n",
    "            child = crossover(first,second)\n",
    "            gen[i,:] = np.copy(child)\n",
    "        else:\n",
    "            # print(\"clone\")\n",
    "            parent = tournament_selection(population, fitness, population)\n",
    "            gen[i,:] = np.copy(parent)\n",
    "    # print(gen)\n",
    "crossover_parents(population, pr)"
   ]
  },
  {
   "cell_type": "code",
   "execution_count": null,
   "metadata": {},
   "outputs": [],
   "source": []
  },
  {
   "cell_type": "markdown",
   "metadata": {},
   "source": [
    "## Mutation"
   ]
  }
 ],
 "metadata": {
  "kernelspec": {
   "display_name": "Python 3.8.0 32-bit",
   "language": "python",
   "name": "python3"
  },
  "language_info": {
   "codemirror_mode": {
    "name": "ipython",
    "version": 3
   },
   "file_extension": ".py",
   "mimetype": "text/x-python",
   "name": "python",
   "nbconvert_exporter": "python",
   "pygments_lexer": "ipython3",
   "version": "3.8.0"
  },
  "orig_nbformat": 4,
  "vscode": {
   "interpreter": {
    "hash": "8c35cf7207c93cfde9b5fb6a4f51b6c547077b8fcbf36c11645415366e8e0936"
   }
  }
 },
 "nbformat": 4,
 "nbformat_minor": 2
}
