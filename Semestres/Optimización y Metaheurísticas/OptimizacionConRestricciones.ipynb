{
  "nbformat": 4,
  "nbformat_minor": 0,
  "metadata": {
    "colab": {
      "name": "OptimizacionConRestricciones.ipynb",
      "provenance": []
    },
    "kernelspec": {
      "name": "python3",
      "display_name": "Python 3"
    },
    "language_info": {
      "name": "python"
    }
  },
  "cells": [
    {
      "cell_type": "markdown",
      "metadata": {
        "id": "AKDxBjB5piAI"
      },
      "source": [
        "Este código está un poco complicado, si tienen dudas de la implementación, me pueden contactar por WhatsApp (si no se vuelve a morir) o en 0226154@up.edu.mx"
      ]
    },
    {
      "cell_type": "code",
      "metadata": {
        "id": "K30tPWSsoYW-"
      },
      "source": [
        "from sympy import Symbol, diff, lambdify\n",
        "import matplotlib.pyplot as plt\n",
        "import numpy as np\n",
        "import pandas as pd\n",
        "x1 = Symbol('x1')\n",
        "x2 = Symbol('x2')"
      ],
      "execution_count": 8,
      "outputs": []
    },
    {
      "cell_type": "markdown",
      "metadata": {
        "id": "UugdUTl0o25Y"
      },
      "source": [
        "Utilidades"
      ]
    },
    {
      "cell_type": "code",
      "metadata": {
        "id": "zXm53O2cohT-"
      },
      "source": [
        "def partial(expr, element, elements=(x1, x2), val=None):\n",
        "  assert element in elements\n",
        "  p = diff(expr, element)\n",
        "  if val is None:\n",
        "    return p\n",
        "  else:\n",
        "    lp = lambdify([elements], p, 'numpy')\n",
        "    return lp(val)"
      ],
      "execution_count": 2,
      "outputs": []
    },
    {
      "cell_type": "code",
      "metadata": {
        "id": "VXw2ABw6oi8S"
      },
      "source": [
        "def gradient(expr, elements=(x1, x2), val=None):\n",
        "  return np.matrix(\n",
        "    [\n",
        "      [partial(expr, element, elements, val)] \n",
        "      for element in elements\n",
        "    ]\n",
        "  )\n"
      ],
      "execution_count": 3,
      "outputs": []
    },
    {
      "cell_type": "code",
      "metadata": {
        "id": "iQJdrTFzokP5"
      },
      "source": [
        "def hessian(expr, elements, val=None):\n",
        "  return np.matrix(\n",
        "    [\n",
        "      [\n",
        "        partial(\n",
        "            partial(expr, element_row, elements, None), \n",
        "            element_column, \n",
        "            elements, \n",
        "            val\n",
        "        )\n",
        "        for element_column in elements\n",
        "      ]\n",
        "      for element_row in elements\n",
        "    ]\n",
        ")"
      ],
      "execution_count": 4,
      "outputs": []
    },
    {
      "cell_type": "markdown",
      "metadata": {
        "id": "7fYylIVKo5e4"
      },
      "source": [
        "Newton Raphson"
      ]
    },
    {
      "cell_type": "code",
      "metadata": {
        "id": "bKMzLCZvol9v"
      },
      "source": [
        "def n_newton_raphson(expr, p, elements=(x1, x2), e1=1e-4, e2=1e-4):\n",
        "  '''Version para n dimensiones'''\n",
        "  f = lambdify([elements], expr, 'numpy')\n",
        "  while True:\n",
        "    fp = f(p)\n",
        "    gradf = gradient(expr, elements, p)\n",
        "    hessf = hessian(expr, elements, p)\n",
        "    Sm = -np.linalg.inv(hessf) * gradf\n",
        "    S = np.squeeze(np.asarray(Sm))\n",
        "    if f(p + S) - fp < e1 and np.linalg.norm(gradf) < e2:\n",
        "      break\n",
        "    p += S\n",
        "  \n",
        "  return p, f(p)"
      ],
      "execution_count": 5,
      "outputs": []
    },
    {
      "cell_type": "markdown",
      "metadata": {
        "id": "jqtJtkCco7-b"
      },
      "source": [
        "Con restricciones"
      ]
    },
    {
      "cell_type": "code",
      "metadata": {
        "id": "fnn2dfghonqy"
      },
      "source": [
        "def nr_newton(expr, restrictions, p, rs, elements=(x1, x2), e1=1e-8, e2=1e-8):\n",
        "  '''Version para n dimensiones con restricciones'''\n",
        "  f = lambdify(elements, expr, 'numpy')\n",
        "  for restriction, r in zip(restrictions, rs):\n",
        "    expr += restriction * r\n",
        "  \n",
        "  ans, _ = n_newton_raphson(expr, p, elements, e1, e2)\n",
        "  return ans, f(ans[0], ans[1])"
      ],
      "execution_count": 6,
      "outputs": []
    },
    {
      "cell_type": "markdown",
      "metadata": {
        "id": "B9V7uxlppAMQ"
      },
      "source": [
        "Uso (ejemplo en el que se buscan los valores óptimos para las restricciones)"
      ]
    },
    {
      "cell_type": "code",
      "metadata": {
        "id": "88Co6zV-orfV"
      },
      "source": [
        "r1 = -x1**2 + x2 - 4\n",
        "r2 = -(x1 - 2)**2 + x2 -3\n",
        "r1l = lambdify((x1, x2), r1, 'numpy')\n",
        "r2l = lambdify((x1, x2), r2, 'numpy')\n",
        "\n",
        "arr = []\n",
        "for i in range(1, 200):\n",
        "  rv1, rv2 = np.random.uniform(0., 1., 2)\n",
        "  try:\n",
        "    varr, fp = nr_newton((x1 - 1)**2 + (x2 - 5)**2, [r1, r2], (8, 0), [rv1, rv2])\n",
        "    if r1l(varr[0], varr[1]) <= 0 and r2l(varr[0], varr[1]) <= 0:\n",
        "      arr.append([varr[0], varr[1], fp, rv1, rv2, r1l(varr[0], varr[1]), r2l(varr[0], varr[1])])\n",
        "  except Exception as e:\n",
        "    print(e)\n",
        "\n",
        "df = pd.DataFrame(data=arr, columns=['x1', 'x2', 'f', 'rv1', 'rv2', 'r1(x1,x2)', 'r2(x1,x2)' ])"
      ],
      "execution_count": 9,
      "outputs": []
    },
    {
      "cell_type": "code",
      "metadata": {
        "id": "em1EIBOlpKws"
      },
      "source": [
        "df.sort_values(by=['f'])"
      ],
      "execution_count": null,
      "outputs": []
    }
  ]
}