{
 "cells": [
  {
   "cell_type": "code",
   "execution_count": null,
   "metadata": {},
   "outputs": [],
   "source": [
    "##IMC\n",
    "inp = input(\"-Ingresa nombre, apellido, edad, estatura(m) y peso(kg): \") #input\n",
    "lista = inp.split() #guardar el input en una lista\n",
    "print(\"\\t*Nombre completo: \",lista[0] + \" \", lista[1]) # imprime el nombre completo (nombre+apellido)\n",
    "imc = float(lista[4])/pow(float(lista[3]), 2) #calcular IMC\n",
    "print(\"\\n\\t*El IMC es: \", imc)\n",
    "if imc < 18.5:  #si es menor a 18.5\n",
    "    print(\"\\t¡Peso inferior al normal!\")\n",
    "elif imc >= 18.50 and imc <= 24.99: #si es mayor o igual a 18.5 y menor a 24.99\n",
    "    print(\"\\t¡Peso normal!\")\n",
    "elif imc >= 25.0 and imc<=29.99: #si es mayor o igual a 25 y menor a 29.99\n",
    "    print(\"\\t¡Peso superior al normal!\")\n",
    "elif imc >= 30.0: #si es mayor o igual a 30\n",
    "    print(\"\\t¡Obesidad!\")"
   ]
  },
  {
   "cell_type": "code",
   "execution_count": 17,
   "metadata": {},
   "outputs": [
    {
     "name": "stdout",
     "output_type": "stream",
     "text": [
      "El monto será de  239.8\n"
     ]
    }
   ],
   "source": [
    "monto_bruto = 220\n",
    "tasa_interes = 14\n",
    "monto_interes = (monto_bruto * tasa_interes)/100\n",
    "tasa_bonificacion = 5\n",
    "importe_bonificacion = (monto_bruto * tasa_bonificacion)/100\n",
    "monto_neto = (monto_bruto - importe_bonificacion) + monto_interes\n",
    "print(\"El monto será de \",monto_neto)"
   ]
  },
  {
   "cell_type": "code",
   "execution_count": null,
   "metadata": {},
   "outputs": [],
   "source": []
  }
 ],
 "metadata": {
  "kernelspec": {
   "display_name": "Python 3",
   "language": "python",
   "name": "python3"
  },
  "language_info": {
   "codemirror_mode": {
    "name": "ipython",
    "version": 3
   },
   "file_extension": ".py",
   "mimetype": "text/x-python",
   "name": "python",
   "nbconvert_exporter": "python",
   "pygments_lexer": "ipython3",
   "version": "3.7.4"
  }
 },
 "nbformat": 4,
 "nbformat_minor": 2
}
